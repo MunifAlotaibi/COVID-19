{
  "nbformat": 4,
  "nbformat_minor": 0,
  "metadata": {
    "colab": {
      "name": "Copy of EfficientNet_OneClass.ipynb",
      "provenance": [],
      "collapsed_sections": [],
      "machine_shape": "hm",
      "include_colab_link": true
    },
    "kernelspec": {
      "name": "python3",
      "display_name": "Python 3"
    },
    "accelerator": "TPU"
  },
  "cells": [
    {
      "cell_type": "markdown",
      "metadata": {
        "id": "view-in-github",
        "colab_type": "text"
      },
      "source": [
        "<a href=\"https://colab.research.google.com/github/MunifAlotaibi/COVID-19/blob/master/Copy_of_EfficientNet_OneClass.ipynb\" target=\"_parent\"><img src=\"https://colab.research.google.com/assets/colab-badge.svg\" alt=\"Open In Colab\"/></a>"
      ]
    },
    {
      "cell_type": "code",
      "metadata": {
        "id": "wCEUD39bd2Ch",
        "colab_type": "code",
        "colab": {}
      },
      "source": [
        "#By Munif Alotaibi, and Bandar Alotaibi\n",
        "\n",
        "# "
      ],
      "execution_count": null,
      "outputs": []
    },
    {
      "cell_type": "code",
      "metadata": {
        "id": "B0vLWow7A98D",
        "colab_type": "code",
        "colab": {
          "base_uri": "https://localhost:8080/",
          "height": 121
        },
        "outputId": "e3455eca-4ee6-48a3-8e40-f295afa4b50c"
      },
      "source": [
        "from google.colab import drive\n",
        "drive.mount('/content/drive')\n"
      ],
      "execution_count": null,
      "outputs": [
        {
          "output_type": "stream",
          "text": [
            "Go to this URL in a browser: https://accounts.google.com/o/oauth2/auth?client_id=947318989803-6bn6qk8qdgf4n4g3pfee6491hc0brc4i.apps.googleusercontent.com&redirect_uri=urn%3aietf%3awg%3aoauth%3a2.0%3aoob&response_type=code&scope=email%20https%3a%2f%2fwww.googleapis.com%2fauth%2fdocs.test%20https%3a%2f%2fwww.googleapis.com%2fauth%2fdrive%20https%3a%2f%2fwww.googleapis.com%2fauth%2fdrive.photos.readonly%20https%3a%2f%2fwww.googleapis.com%2fauth%2fpeopleapi.readonly\n",
            "\n",
            "Enter your authorization code:\n",
            "··········\n",
            "Mounted at /content/drive\n"
          ],
          "name": "stdout"
        }
      ]
    },
    {
      "cell_type": "code",
      "metadata": {
        "id": "7Hc3ZpMReXtW",
        "colab_type": "code",
        "colab": {
          "base_uri": "https://localhost:8080/",
          "height": 34
        },
        "outputId": "0532a945-0bb5-427b-8b6d-b848deb14ed3"
      },
      "source": [
        ""
      ],
      "execution_count": null,
      "outputs": [
        {
          "output_type": "stream",
          "text": [
            "/content\n"
          ],
          "name": "stdout"
        }
      ]
    },
    {
      "cell_type": "code",
      "metadata": {
        "id": "D0I5S3W9CqZP",
        "colab_type": "code",
        "colab": {
          "base_uri": "https://localhost:8080/",
          "height": 34
        },
        "outputId": "1042bf39-5b8f-476f-e74b-01c428fd5a61"
      },
      "source": [
        "cd 'drive/My Drive'"
      ],
      "execution_count": null,
      "outputs": [
        {
          "output_type": "stream",
          "text": [
            "/content/drive/My Drive\n"
          ],
          "name": "stdout"
        }
      ]
    },
    {
      "cell_type": "code",
      "metadata": {
        "id": "7Qg465VkB1sb",
        "colab_type": "code",
        "colab": {}
      },
      "source": [
        "import glob\n",
        "import numpy as np\n",
        "import cv2\n",
        "import cv2\n",
        "import os\n",
        "\n",
        "\n",
        "import numpy as np\n",
        "\n",
        "MEAN_RGB = [0.485 * 255, 0.456 * 255, 0.406 * 255]\n",
        "STDDEV_RGB = [0.229 * 255, 0.224 * 255, 0.225 * 255]\n",
        "\n",
        "\n",
        "def preprocess_input(x):\n",
        "    assert x.ndim in (3, 4)\n",
        "    assert x.shape[-1] == 3\n",
        "\n",
        "    x = x - np.array(MEAN_RGB)\n",
        "    x = x / np.array(STDDEV_RGB)\n",
        "\n",
        "    return x\n",
        "\n",
        "#===========\n",
        "image_list = []\n",
        "labels = []\n",
        "dim = (250,250)\n",
        "#dim = (120,120)\n",
        "\n",
        "\n",
        "for filename in os.listdir('X-RayImageDataSet/Covid-19'):\n",
        "    im = cv2.imread(os.path.join('X-RayImageDataSet/Covid-19',filename))\n",
        "    im = cv2.resize(im, dim)\n",
        "    #im = center_crop_and_resize(im, dim)\n",
        "    im  = np.asarray(im)\n",
        "    im = preprocess_input(im)\n",
        "    image_list.append(im)\n",
        "    labels.append(0)\n",
        "\n",
        "    \n",
        "for filename in os.listdir('X-RayImageDataSet/Nofindings'):\n",
        "    im = cv2.imread(os.path.join('X-RayImageDataSet/Nofindings',filename))\n",
        "    im = cv2.resize(im, dim)\n",
        "    #im = center_crop_and_resize(im, dim)\n",
        "    im  = np.asarray(im)\n",
        "    im = preprocess_input(im)\n",
        "    image_list.append(im)\n",
        "    labels.append(1)\n",
        "    "
      ],
      "execution_count": null,
      "outputs": []
    },
    {
      "cell_type": "code",
      "metadata": {
        "id": "tARCPntqV7v6",
        "colab_type": "code",
        "colab": {
          "base_uri": "https://localhost:8080/",
          "height": 34
        },
        "outputId": "af4714df-6b16-4fd0-d668-7dbf52c226a9"
      },
      "source": [
        "import tensorflow as tf\n",
        "import tensorflow as tf\n",
        "from tensorflow import keras\n",
        "from tensorflow.keras import layers\n",
        "tf.__version__\n",
        "\n",
        "\n"
      ],
      "execution_count": null,
      "outputs": [
        {
          "output_type": "execute_result",
          "data": {
            "text/plain": [
              "'2.2.0'"
            ]
          },
          "metadata": {
            "tags": []
          },
          "execution_count": 4
        }
      ]
    },
    {
      "cell_type": "code",
      "metadata": {
        "id": "9mglP3BQb_Mc",
        "colab_type": "code",
        "colab": {
          "base_uri": "https://localhost:8080/",
          "height": 229
        },
        "outputId": "c1ddd848-59de-467d-c5f4-3a128445703b"
      },
      "source": [
        ""
      ],
      "execution_count": null,
      "outputs": [
        {
          "output_type": "error",
          "ename": "AttributeError",
          "evalue": "ignored",
          "traceback": [
            "\u001b[0;31m---------------------------------------------------------------------------\u001b[0m",
            "\u001b[0;31mAttributeError\u001b[0m                            Traceback (most recent call last)",
            "\u001b[0;32m<ipython-input-72-a1158d210d23>\u001b[0m in \u001b[0;36m<module>\u001b[0;34m()\u001b[0m\n\u001b[1;32m      4\u001b[0m \u001b[0mbatch_size\u001b[0m \u001b[0;34m=\u001b[0m \u001b[0;36m32\u001b[0m\u001b[0;34m\u001b[0m\u001b[0;34m\u001b[0m\u001b[0m\n\u001b[1;32m      5\u001b[0m \u001b[0;34m\u001b[0m\u001b[0m\n\u001b[0;32m----> 6\u001b[0;31m train_ds = tf.keras.preprocessing.image_dataset_from_directory(\n\u001b[0m\u001b[1;32m      7\u001b[0m     \u001b[0;34m'PetImages'\u001b[0m\u001b[0;34m,\u001b[0m \u001b[0mvalidation_split\u001b[0m\u001b[0;34m=\u001b[0m\u001b[0;36m0.2\u001b[0m\u001b[0;34m,\u001b[0m \u001b[0msubset\u001b[0m\u001b[0;34m=\u001b[0m\u001b[0;34m'training'\u001b[0m\u001b[0;34m,\u001b[0m \u001b[0mseed\u001b[0m\u001b[0;34m=\u001b[0m\u001b[0;36m1337\u001b[0m\u001b[0;34m,\u001b[0m\u001b[0;34m\u001b[0m\u001b[0;34m\u001b[0m\u001b[0m\n\u001b[1;32m      8\u001b[0m     image_size=image_size, batch_size=batch_size)\n",
            "\u001b[0;31mAttributeError\u001b[0m: module 'tensorflow.keras.preprocessing' has no attribute 'image_dataset_from_directory'"
          ]
        }
      ]
    },
    {
      "cell_type": "code",
      "metadata": {
        "id": "sOmITJIhemk_",
        "colab_type": "code",
        "colab": {}
      },
      "source": [
        ""
      ],
      "execution_count": null,
      "outputs": []
    },
    {
      "cell_type": "code",
      "metadata": {
        "id": "vT3aDJwmWcgN",
        "colab_type": "code",
        "colab": {}
      },
      "source": [
        ""
      ],
      "execution_count": null,
      "outputs": []
    },
    {
      "cell_type": "code",
      "metadata": {
        "id": "9ETHwvjf1UNu",
        "colab_type": "code",
        "colab": {}
      },
      "source": [
        ""
      ],
      "execution_count": null,
      "outputs": []
    },
    {
      "cell_type": "code",
      "metadata": {
        "id": "H34dYem3DDdU",
        "colab_type": "code",
        "colab": {}
      },
      "source": [
        ""
      ],
      "execution_count": null,
      "outputs": []
    },
    {
      "cell_type": "code",
      "metadata": {
        "id": "mhUeFKVJDEqC",
        "colab_type": "code",
        "colab": {}
      },
      "source": [
        ""
      ],
      "execution_count": null,
      "outputs": []
    },
    {
      "cell_type": "code",
      "metadata": {
        "id": "x4iQJsZaDKR0",
        "colab_type": "code",
        "colab": {
          "base_uri": "https://localhost:8080/",
          "height": 34
        },
        "outputId": "513d1eac-41ae-4ade-c324-f83ea45593af"
      },
      "source": [
        "!git clone https://github.com/Tony607/efficientnet_keras_transfer_learning\n"
      ],
      "execution_count": null,
      "outputs": [
        {
          "output_type": "stream",
          "text": [
            "fatal: destination path 'efficientnet_keras_transfer_learning' already exists and is not an empty directory.\n"
          ],
          "name": "stdout"
        }
      ]
    },
    {
      "cell_type": "code",
      "metadata": {
        "id": "AftRmFfzDPoG",
        "colab_type": "code",
        "colab": {
          "base_uri": "https://localhost:8080/",
          "height": 34
        },
        "outputId": "20a8b299-ef1f-4908-829b-fefa703a1f67"
      },
      "source": [
        "%cd efficientnet_keras_transfer_learning/\n"
      ],
      "execution_count": null,
      "outputs": [
        {
          "output_type": "stream",
          "text": [
            "/content/drive/My Drive/efficientnet_keras_transfer_learning\n"
          ],
          "name": "stdout"
        }
      ]
    },
    {
      "cell_type": "code",
      "metadata": {
        "id": "-PyZXbsIYBXT",
        "colab_type": "code",
        "colab": {
          "base_uri": "https://localhost:8080/",
          "height": 34
        },
        "outputId": "47532bf8-fbf7-4c7a-b578-f674f4a55077"
      },
      "source": [
        "\n",
        "\n",
        "from keras.layers import Conv1D, Input, AveragePooling1D\n",
        "from keras.models import Model\n",
        "\n",
        "import keras\n",
        "#from keras.datasets import mnist\n",
        "from keras.models import Sequential\n",
        "from keras.layers import Dense, Dropout, Flatten\n",
        "#from keras import backend as K\n",
        "from keras.layers import Conv1D, MaxPooling1D"
      ],
      "execution_count": null,
      "outputs": [
        {
          "output_type": "stream",
          "text": [
            "Using TensorFlow backend.\n"
          ],
          "name": "stderr"
        }
      ]
    },
    {
      "cell_type": "code",
      "metadata": {
        "id": "cGD3uA6PDoDp",
        "colab_type": "code",
        "colab": {}
      },
      "source": [
        "input_shape = (250, 250 ,3)\n",
        "\n",
        "classes = 2\n",
        "num_epochs = 2\n",
        "\n",
        "    # create input tensor\n",
        "x_input = Input(input_shape)"
      ],
      "execution_count": null,
      "outputs": []
    },
    {
      "cell_type": "code",
      "metadata": {
        "id": "p3c0NWp6DVQE",
        "colab_type": "code",
        "colab": {
          "base_uri": "https://localhost:8080/",
          "height": 50
        },
        "outputId": "1aa0ad9f-5084-4286-b9df-86c2ca50c742"
      },
      "source": [
        "from efficientnet import EfficientNetB3 as EfficientNetB2\n",
        "from efficientnet import center_crop_and_resize, preprocess_input\n",
        "\n",
        "conv_base = EfficientNetB2(include_top=False, input_shape=input_shape, weights=\"imagenet\")\n"
      ],
      "execution_count": null,
      "outputs": [
        {
          "output_type": "stream",
          "text": [
            "Downloading data from https://github.com/qubvel/efficientnet/releases/download/v0.0.1/efficientnet-b3_imagenet_1000_notop.h5\n",
            "43974656/43966704 [==============================] - 1s 0us/step\n"
          ],
          "name": "stdout"
        }
      ]
    },
    {
      "cell_type": "code",
      "metadata": {
        "id": "kiCzQZYW4so8",
        "colab_type": "code",
        "colab": {}
      },
      "source": [
        ""
      ],
      "execution_count": null,
      "outputs": []
    },
    {
      "cell_type": "code",
      "metadata": {
        "id": "gMUnNR8SCwbx",
        "colab_type": "code",
        "colab": {
          "base_uri": "https://localhost:8080/",
          "height": 195
        },
        "outputId": "20e0014b-ca6c-4c4b-9948-b0b388bb2a2f"
      },
      "source": [
        "from keras.backend import sigmoid\n",
        "from keras.layers import Activation\n"
      ],
      "execution_count": null,
      "outputs": [
        {
          "output_type": "error",
          "ename": "NameError",
          "evalue": "ignored",
          "traceback": [
            "\u001b[0;31m---------------------------------------------------------------------------\u001b[0m",
            "\u001b[0;31mNameError\u001b[0m                                 Traceback (most recent call last)",
            "\u001b[0;32m<ipython-input-10-caf532d1d94f>\u001b[0m in \u001b[0;36m<module>\u001b[0;34m()\u001b[0m\n\u001b[1;32m     12\u001b[0m \u001b[0;34m\u001b[0m\u001b[0m\n\u001b[1;32m     13\u001b[0m \u001b[0;32mfrom\u001b[0m \u001b[0mkeras\u001b[0m\u001b[0;34m.\u001b[0m\u001b[0mutils\u001b[0m\u001b[0;34m.\u001b[0m\u001b[0mgeneric_utils\u001b[0m \u001b[0;32mimport\u001b[0m \u001b[0mget_custom_objects\u001b[0m\u001b[0;34m\u001b[0m\u001b[0;34m\u001b[0m\u001b[0m\n\u001b[0;32m---> 14\u001b[0;31m \u001b[0mget_custom_objects\u001b[0m\u001b[0;34m(\u001b[0m\u001b[0;34m)\u001b[0m\u001b[0;34m.\u001b[0m\u001b[0mupdate\u001b[0m\u001b[0;34m(\u001b[0m\u001b[0;34m{\u001b[0m\u001b[0;34m'swish_act'\u001b[0m\u001b[0;34m:\u001b[0m \u001b[0mSwishActivation\u001b[0m\u001b[0;34m(\u001b[0m\u001b[0mswish_act\u001b[0m\u001b[0;34m)\u001b[0m\u001b[0;34m}\u001b[0m\u001b[0;34m)\u001b[0m\u001b[0;34m\u001b[0m\u001b[0;34m\u001b[0m\u001b[0m\n\u001b[0m",
            "\u001b[0;31mNameError\u001b[0m: name 'swish_act' is not defined"
          ]
        }
      ]
    },
    {
      "cell_type": "code",
      "metadata": {
        "id": "IcLJq-_0IHtK",
        "colab_type": "code",
        "colab": {}
      },
      "source": [
        ""
      ],
      "execution_count": null,
      "outputs": []
    },
    {
      "cell_type": "code",
      "metadata": {
        "id": "zbyHjB9neZWx",
        "colab_type": "code",
        "colab": {
          "base_uri": "https://localhost:8080/",
          "height": 319
        },
        "outputId": "d2e159fd-d0c9-4439-f1d1-a39b2e6e094c"
      },
      "source": [
        ""
      ],
      "execution_count": null,
      "outputs": [
        {
          "output_type": "stream",
          "text": [
            "Model: \"sequential\"\n",
            "_________________________________________________________________\n",
            "Layer (type)                 Output Shape              Param #   \n",
            "=================================================================\n",
            "efficientnet-b3 (Model)      (None, 5, 5, 1536)        10783528  \n",
            "_________________________________________________________________\n",
            "gap (GlobalMaxPooling2D)     (None, 1536)              0         \n",
            "_________________________________________________________________\n",
            "dropout_out (Dropout)        (None, 1536)              0         \n",
            "_________________________________________________________________\n",
            "fc1 (Dense)                  (None, 200)               307400    \n",
            "_________________________________________________________________\n",
            "fc_out (Dense)               (None, 3)                 603       \n",
            "=================================================================\n",
            "Total params: 11,091,531\n",
            "Trainable params: 11,004,235\n",
            "Non-trainable params: 87,296\n",
            "_________________________________________________________________\n"
          ],
          "name": "stdout"
        }
      ]
    },
    {
      "cell_type": "code",
      "metadata": {
        "id": "t5nSv-gZNNQk",
        "colab_type": "code",
        "colab": {}
      },
      "source": [
        "conv_base.trainable = True\n",
        "\n",
        "set_trainable = False\n",
        "for layer in conv_base.layers:\n",
        "    if layer.name == 'multiply_16':\n",
        "        set_trainable = True\n",
        "    if set_trainable:\n",
        "        layer.trainable = True\n",
        "    else:\n",
        "        layer.trainable = True\n"
      ],
      "execution_count": null,
      "outputs": []
    },
    {
      "cell_type": "code",
      "metadata": {
        "id": "hV9ujRPwe1NY",
        "colab_type": "code",
        "colab": {
          "base_uri": "https://localhost:8080/",
          "height": 303
        },
        "outputId": "7ea24383-bed8-4c16-c06d-f63cd615d00c"
      },
      "source": [
        "history = model.fit( train_generator, epochs = 20,batch_size = 60)"
      ],
      "execution_count": null,
      "outputs": [
        {
          "output_type": "error",
          "ename": "FileNotFoundError",
          "evalue": "ignored",
          "traceback": [
            "\u001b[0;31m---------------------------------------------------------------------------\u001b[0m",
            "\u001b[0;31mFileNotFoundError\u001b[0m                         Traceback (most recent call last)",
            "\u001b[0;32m<ipython-input-63-a5dc1806ee63>\u001b[0m in \u001b[0;36m<module>\u001b[0;34m()\u001b[0m\n\u001b[0;32m----> 1\u001b[0;31m \u001b[0mhistory\u001b[0m \u001b[0;34m=\u001b[0m \u001b[0mmodel\u001b[0m\u001b[0;34m.\u001b[0m\u001b[0mfit\u001b[0m\u001b[0;34m(\u001b[0m \u001b[0mtrain_generator\u001b[0m\u001b[0;34m,\u001b[0m \u001b[0mepochs\u001b[0m \u001b[0;34m=\u001b[0m \u001b[0;36m20\u001b[0m\u001b[0;34m,\u001b[0m\u001b[0mbatch_size\u001b[0m \u001b[0;34m=\u001b[0m \u001b[0;36m60\u001b[0m\u001b[0;34m)\u001b[0m\u001b[0;34m\u001b[0m\u001b[0;34m\u001b[0m\u001b[0m\n\u001b[0m",
            "\u001b[0;32m/usr/local/lib/python3.6/dist-packages/tensorflow/python/keras/engine/training.py\u001b[0m in \u001b[0;36m_method_wrapper\u001b[0;34m(self, *args, **kwargs)\u001b[0m\n\u001b[1;32m     64\u001b[0m   \u001b[0;32mdef\u001b[0m \u001b[0m_method_wrapper\u001b[0m\u001b[0;34m(\u001b[0m\u001b[0mself\u001b[0m\u001b[0;34m,\u001b[0m \u001b[0;34m*\u001b[0m\u001b[0margs\u001b[0m\u001b[0;34m,\u001b[0m \u001b[0;34m**\u001b[0m\u001b[0mkwargs\u001b[0m\u001b[0;34m)\u001b[0m\u001b[0;34m:\u001b[0m\u001b[0;34m\u001b[0m\u001b[0;34m\u001b[0m\u001b[0m\n\u001b[1;32m     65\u001b[0m     \u001b[0;32mif\u001b[0m \u001b[0;32mnot\u001b[0m \u001b[0mself\u001b[0m\u001b[0;34m.\u001b[0m\u001b[0m_in_multi_worker_mode\u001b[0m\u001b[0;34m(\u001b[0m\u001b[0;34m)\u001b[0m\u001b[0;34m:\u001b[0m  \u001b[0;31m# pylint: disable=protected-access\u001b[0m\u001b[0;34m\u001b[0m\u001b[0;34m\u001b[0m\u001b[0m\n\u001b[0;32m---> 66\u001b[0;31m       \u001b[0;32mreturn\u001b[0m \u001b[0mmethod\u001b[0m\u001b[0;34m(\u001b[0m\u001b[0mself\u001b[0m\u001b[0;34m,\u001b[0m \u001b[0;34m*\u001b[0m\u001b[0margs\u001b[0m\u001b[0;34m,\u001b[0m \u001b[0;34m**\u001b[0m\u001b[0mkwargs\u001b[0m\u001b[0;34m)\u001b[0m\u001b[0;34m\u001b[0m\u001b[0;34m\u001b[0m\u001b[0m\n\u001b[0m\u001b[1;32m     67\u001b[0m \u001b[0;34m\u001b[0m\u001b[0m\n\u001b[1;32m     68\u001b[0m     \u001b[0;31m# Running inside `run_distribute_coordinator` already.\u001b[0m\u001b[0;34m\u001b[0m\u001b[0;34m\u001b[0m\u001b[0;34m\u001b[0m\u001b[0m\n",
            "\u001b[0;32m/usr/local/lib/python3.6/dist-packages/tensorflow/python/keras/engine/training.py\u001b[0m in \u001b[0;36mfit\u001b[0;34m(self, x, y, batch_size, epochs, verbose, callbacks, validation_split, validation_data, shuffle, class_weight, sample_weight, initial_epoch, steps_per_epoch, validation_steps, validation_batch_size, validation_freq, max_queue_size, workers, use_multiprocessing)\u001b[0m\n\u001b[1;32m    813\u001b[0m           \u001b[0mworkers\u001b[0m\u001b[0;34m=\u001b[0m\u001b[0mworkers\u001b[0m\u001b[0;34m,\u001b[0m\u001b[0;34m\u001b[0m\u001b[0;34m\u001b[0m\u001b[0m\n\u001b[1;32m    814\u001b[0m           \u001b[0muse_multiprocessing\u001b[0m\u001b[0;34m=\u001b[0m\u001b[0muse_multiprocessing\u001b[0m\u001b[0;34m,\u001b[0m\u001b[0;34m\u001b[0m\u001b[0;34m\u001b[0m\u001b[0m\n\u001b[0;32m--> 815\u001b[0;31m           model=self)\n\u001b[0m\u001b[1;32m    816\u001b[0m \u001b[0;34m\u001b[0m\u001b[0m\n\u001b[1;32m    817\u001b[0m       \u001b[0;31m# Container that configures and calls `tf.keras.Callback`s.\u001b[0m\u001b[0;34m\u001b[0m\u001b[0;34m\u001b[0m\u001b[0;34m\u001b[0m\u001b[0m\n",
            "\u001b[0;32m/usr/local/lib/python3.6/dist-packages/tensorflow/python/keras/engine/data_adapter.py\u001b[0m in \u001b[0;36m__init__\u001b[0;34m(self, x, y, sample_weight, batch_size, steps_per_epoch, initial_epoch, epochs, shuffle, class_weight, max_queue_size, workers, use_multiprocessing, model)\u001b[0m\n\u001b[1;32m   1110\u001b[0m         \u001b[0muse_multiprocessing\u001b[0m\u001b[0;34m=\u001b[0m\u001b[0muse_multiprocessing\u001b[0m\u001b[0;34m,\u001b[0m\u001b[0;34m\u001b[0m\u001b[0;34m\u001b[0m\u001b[0m\n\u001b[1;32m   1111\u001b[0m         \u001b[0mdistribution_strategy\u001b[0m\u001b[0;34m=\u001b[0m\u001b[0mds_context\u001b[0m\u001b[0;34m.\u001b[0m\u001b[0mget_strategy\u001b[0m\u001b[0;34m(\u001b[0m\u001b[0;34m)\u001b[0m\u001b[0;34m,\u001b[0m\u001b[0;34m\u001b[0m\u001b[0;34m\u001b[0m\u001b[0m\n\u001b[0;32m-> 1112\u001b[0;31m         model=model)\n\u001b[0m\u001b[1;32m   1113\u001b[0m \u001b[0;34m\u001b[0m\u001b[0m\n\u001b[1;32m   1114\u001b[0m     \u001b[0mstrategy\u001b[0m \u001b[0;34m=\u001b[0m \u001b[0mds_context\u001b[0m\u001b[0;34m.\u001b[0m\u001b[0mget_strategy\u001b[0m\u001b[0;34m(\u001b[0m\u001b[0;34m)\u001b[0m\u001b[0;34m\u001b[0m\u001b[0;34m\u001b[0m\u001b[0m\n",
            "\u001b[0;32m/usr/local/lib/python3.6/dist-packages/tensorflow/python/keras/engine/data_adapter.py\u001b[0m in \u001b[0;36m__init__\u001b[0;34m(self, x, y, sample_weights, shuffle, workers, use_multiprocessing, max_queue_size, model, **kwargs)\u001b[0m\n\u001b[1;32m    906\u001b[0m         \u001b[0mmax_queue_size\u001b[0m\u001b[0;34m=\u001b[0m\u001b[0mmax_queue_size\u001b[0m\u001b[0;34m,\u001b[0m\u001b[0;34m\u001b[0m\u001b[0;34m\u001b[0m\u001b[0m\n\u001b[1;32m    907\u001b[0m         \u001b[0mmodel\u001b[0m\u001b[0;34m=\u001b[0m\u001b[0mmodel\u001b[0m\u001b[0;34m,\u001b[0m\u001b[0;34m\u001b[0m\u001b[0;34m\u001b[0m\u001b[0m\n\u001b[0;32m--> 908\u001b[0;31m         **kwargs)\n\u001b[0m\u001b[1;32m    909\u001b[0m \u001b[0;34m\u001b[0m\u001b[0m\n\u001b[1;32m    910\u001b[0m   \u001b[0;34m@\u001b[0m\u001b[0mstaticmethod\u001b[0m\u001b[0;34m\u001b[0m\u001b[0;34m\u001b[0m\u001b[0m\n",
            "\u001b[0;32m/usr/local/lib/python3.6/dist-packages/tensorflow/python/keras/engine/data_adapter.py\u001b[0m in \u001b[0;36m__init__\u001b[0;34m(self, x, y, sample_weights, workers, use_multiprocessing, max_queue_size, model, **kwargs)\u001b[0m\n\u001b[1;32m    770\u001b[0m     \u001b[0;31m# Since we have to know the dtype of the python generator when we build the\u001b[0m\u001b[0;34m\u001b[0m\u001b[0;34m\u001b[0m\u001b[0;34m\u001b[0m\u001b[0m\n\u001b[1;32m    771\u001b[0m     \u001b[0;31m# dataset, we have to look at a batch to infer the structure.\u001b[0m\u001b[0;34m\u001b[0m\u001b[0;34m\u001b[0m\u001b[0;34m\u001b[0m\u001b[0m\n\u001b[0;32m--> 772\u001b[0;31m     \u001b[0mpeek\u001b[0m\u001b[0;34m,\u001b[0m \u001b[0mx\u001b[0m \u001b[0;34m=\u001b[0m \u001b[0mself\u001b[0m\u001b[0;34m.\u001b[0m\u001b[0m_peek_and_restore\u001b[0m\u001b[0;34m(\u001b[0m\u001b[0mx\u001b[0m\u001b[0;34m)\u001b[0m\u001b[0;34m\u001b[0m\u001b[0;34m\u001b[0m\u001b[0m\n\u001b[0m\u001b[1;32m    773\u001b[0m     \u001b[0massert_not_namedtuple\u001b[0m\u001b[0;34m(\u001b[0m\u001b[0mpeek\u001b[0m\u001b[0;34m)\u001b[0m\u001b[0;34m\u001b[0m\u001b[0;34m\u001b[0m\u001b[0m\n\u001b[1;32m    774\u001b[0m     \u001b[0mpeek\u001b[0m \u001b[0;34m=\u001b[0m \u001b[0mself\u001b[0m\u001b[0;34m.\u001b[0m\u001b[0m_standardize_batch\u001b[0m\u001b[0;34m(\u001b[0m\u001b[0mpeek\u001b[0m\u001b[0;34m)\u001b[0m\u001b[0;34m\u001b[0m\u001b[0;34m\u001b[0m\u001b[0m\n",
            "\u001b[0;32m/usr/local/lib/python3.6/dist-packages/tensorflow/python/keras/engine/data_adapter.py\u001b[0m in \u001b[0;36m_peek_and_restore\u001b[0;34m(x)\u001b[0m\n\u001b[1;32m    910\u001b[0m   \u001b[0;34m@\u001b[0m\u001b[0mstaticmethod\u001b[0m\u001b[0;34m\u001b[0m\u001b[0;34m\u001b[0m\u001b[0m\n\u001b[1;32m    911\u001b[0m   \u001b[0;32mdef\u001b[0m \u001b[0m_peek_and_restore\u001b[0m\u001b[0;34m(\u001b[0m\u001b[0mx\u001b[0m\u001b[0;34m)\u001b[0m\u001b[0;34m:\u001b[0m\u001b[0;34m\u001b[0m\u001b[0;34m\u001b[0m\u001b[0m\n\u001b[0;32m--> 912\u001b[0;31m     \u001b[0;32mreturn\u001b[0m \u001b[0mx\u001b[0m\u001b[0;34m[\u001b[0m\u001b[0;36m0\u001b[0m\u001b[0;34m]\u001b[0m\u001b[0;34m,\u001b[0m \u001b[0mx\u001b[0m\u001b[0;34m\u001b[0m\u001b[0;34m\u001b[0m\u001b[0m\n\u001b[0m\u001b[1;32m    913\u001b[0m \u001b[0;34m\u001b[0m\u001b[0m\n\u001b[1;32m    914\u001b[0m   def _handle_multiprocessing(self, x, workers, use_multiprocessing,\n",
            "\u001b[0;32m/usr/local/lib/python3.6/dist-packages/keras_preprocessing/image/iterator.py\u001b[0m in \u001b[0;36m__getitem__\u001b[0;34m(self, idx)\u001b[0m\n\u001b[1;32m     63\u001b[0m         index_array = self.index_array[self.batch_size * idx:\n\u001b[1;32m     64\u001b[0m                                        self.batch_size * (idx + 1)]\n\u001b[0;32m---> 65\u001b[0;31m         \u001b[0;32mreturn\u001b[0m \u001b[0mself\u001b[0m\u001b[0;34m.\u001b[0m\u001b[0m_get_batches_of_transformed_samples\u001b[0m\u001b[0;34m(\u001b[0m\u001b[0mindex_array\u001b[0m\u001b[0;34m)\u001b[0m\u001b[0;34m\u001b[0m\u001b[0;34m\u001b[0m\u001b[0m\n\u001b[0m\u001b[1;32m     66\u001b[0m \u001b[0;34m\u001b[0m\u001b[0m\n\u001b[1;32m     67\u001b[0m     \u001b[0;32mdef\u001b[0m \u001b[0m__len__\u001b[0m\u001b[0;34m(\u001b[0m\u001b[0mself\u001b[0m\u001b[0;34m)\u001b[0m\u001b[0;34m:\u001b[0m\u001b[0;34m\u001b[0m\u001b[0;34m\u001b[0m\u001b[0m\n",
            "\u001b[0;32m/usr/local/lib/python3.6/dist-packages/keras_preprocessing/image/iterator.py\u001b[0m in \u001b[0;36m_get_batches_of_transformed_samples\u001b[0;34m(self, index_array)\u001b[0m\n\u001b[1;32m    228\u001b[0m                            \u001b[0mcolor_mode\u001b[0m\u001b[0;34m=\u001b[0m\u001b[0mself\u001b[0m\u001b[0;34m.\u001b[0m\u001b[0mcolor_mode\u001b[0m\u001b[0;34m,\u001b[0m\u001b[0;34m\u001b[0m\u001b[0;34m\u001b[0m\u001b[0m\n\u001b[1;32m    229\u001b[0m                            \u001b[0mtarget_size\u001b[0m\u001b[0;34m=\u001b[0m\u001b[0mself\u001b[0m\u001b[0;34m.\u001b[0m\u001b[0mtarget_size\u001b[0m\u001b[0;34m,\u001b[0m\u001b[0;34m\u001b[0m\u001b[0;34m\u001b[0m\u001b[0m\n\u001b[0;32m--> 230\u001b[0;31m                            interpolation=self.interpolation)\n\u001b[0m\u001b[1;32m    231\u001b[0m             \u001b[0mx\u001b[0m \u001b[0;34m=\u001b[0m \u001b[0mimg_to_array\u001b[0m\u001b[0;34m(\u001b[0m\u001b[0mimg\u001b[0m\u001b[0;34m,\u001b[0m \u001b[0mdata_format\u001b[0m\u001b[0;34m=\u001b[0m\u001b[0mself\u001b[0m\u001b[0;34m.\u001b[0m\u001b[0mdata_format\u001b[0m\u001b[0;34m)\u001b[0m\u001b[0;34m\u001b[0m\u001b[0;34m\u001b[0m\u001b[0m\n\u001b[1;32m    232\u001b[0m             \u001b[0;31m# Pillow images should be closed after `load_img`,\u001b[0m\u001b[0;34m\u001b[0m\u001b[0;34m\u001b[0m\u001b[0;34m\u001b[0m\u001b[0m\n",
            "\u001b[0;32m/usr/local/lib/python3.6/dist-packages/keras_preprocessing/image/utils.py\u001b[0m in \u001b[0;36mload_img\u001b[0;34m(path, grayscale, color_mode, target_size, interpolation)\u001b[0m\n\u001b[1;32m    111\u001b[0m         raise ImportError('Could not import PIL.Image. '\n\u001b[1;32m    112\u001b[0m                           'The use of `load_img` requires PIL.')\n\u001b[0;32m--> 113\u001b[0;31m     \u001b[0;32mwith\u001b[0m \u001b[0mopen\u001b[0m\u001b[0;34m(\u001b[0m\u001b[0mpath\u001b[0m\u001b[0;34m,\u001b[0m \u001b[0;34m'rb'\u001b[0m\u001b[0;34m)\u001b[0m \u001b[0;32mas\u001b[0m \u001b[0mf\u001b[0m\u001b[0;34m:\u001b[0m\u001b[0;34m\u001b[0m\u001b[0;34m\u001b[0m\u001b[0m\n\u001b[0m\u001b[1;32m    114\u001b[0m         \u001b[0mimg\u001b[0m \u001b[0;34m=\u001b[0m \u001b[0mpil_image\u001b[0m\u001b[0;34m.\u001b[0m\u001b[0mopen\u001b[0m\u001b[0;34m(\u001b[0m\u001b[0mio\u001b[0m\u001b[0;34m.\u001b[0m\u001b[0mBytesIO\u001b[0m\u001b[0;34m(\u001b[0m\u001b[0mf\u001b[0m\u001b[0;34m.\u001b[0m\u001b[0mread\u001b[0m\u001b[0;34m(\u001b[0m\u001b[0;34m)\u001b[0m\u001b[0;34m)\u001b[0m\u001b[0;34m)\u001b[0m\u001b[0;34m\u001b[0m\u001b[0;34m\u001b[0m\u001b[0m\n\u001b[1;32m    115\u001b[0m         \u001b[0;32mif\u001b[0m \u001b[0mcolor_mode\u001b[0m \u001b[0;34m==\u001b[0m \u001b[0;34m'grayscale'\u001b[0m\u001b[0;34m:\u001b[0m\u001b[0;34m\u001b[0m\u001b[0;34m\u001b[0m\u001b[0m\n",
            "\u001b[0;31mFileNotFoundError\u001b[0m: [Errno 2] No such file or directory: 'X-RayImageDataSet/Pneumonia/00010773_017.png'"
          ]
        }
      ]
    },
    {
      "cell_type": "code",
      "metadata": {
        "id": "Ve1UJWmz_2XG",
        "colab_type": "code",
        "colab": {
          "base_uri": "https://localhost:8080/",
          "height": 67
        },
        "outputId": "42c536de-f24e-475c-e6cf-b927d8da7c17"
      },
      "source": [
        ""
      ],
      "execution_count": null,
      "outputs": [
        {
          "output_type": "stream",
          "text": [
            "Evaluate on test data\n",
            "8/8 [==============================] - 2s 200ms/step - loss: 0.8513 - accuracy: 0.7022\n",
            "test loss, test acc: [0.8512520790100098, 0.7022222280502319]\n"
          ],
          "name": "stdout"
        }
      ]
    },
    {
      "cell_type": "code",
      "metadata": {
        "id": "kEoOOh89L5MV",
        "colab_type": "code",
        "colab": {
          "base_uri": "https://localhost:8080/",
          "height": 101
        },
        "outputId": "3884f36d-b0dd-4620-dca6-d7262beb4cbf"
      },
      "source": [
        "\n",
        "#  residual_block\n",
        "\n",
        "\n",
        "from keras.layers import Conv1D, Input, AveragePooling1D\n",
        "from keras.models import Model\n",
        "\n",
        "import keras\n",
        "#from keras.datasets import mnist\n",
        "from keras.models import Sequential\n",
        "from keras.layers import Dense, Dropout, Flatten\n",
        "#from keras import backend as K\n",
        "from keras.layers import Conv1D, MaxPooling1D\n",
        "from efficientnet import EfficientNetB3 as EfficientNetB3\n",
        "from efficientnet import center_crop_and_resize, preprocess_input\n",
        "from sklearn.model_selection import train_test_split\n",
        "import numpy\n",
        "# fix random seed for reproducibility\n",
        "seed = 7\n",
        "numpy.random.seed(seed)\n",
        "\n",
        "\n",
        "X_train  =  np.array(image_list)\n",
        "y_train  =  np.array(labels)\n",
        "\n",
        "\n",
        "print('x_train shape:', X_train.shape)\n",
        "print(X_train.shape[0], 'train samples')\n",
        "\n",
        "\n",
        "print(X_train.shape)\n",
        "print(y_train.shape)\n",
        "\n",
        "\n",
        "print(\"==============================\")\n",
        "\n",
        "num_classes = 2\n",
        "\n",
        "x_train = X_train.astype('float32')\n",
        "\n",
        "#x_train /= 255\n",
        "\n",
        "X =x_train.reshape(X_train.shape + (1,))\n",
        "\n",
        "# convert class vectors to binary class matrices\n",
        "Y = y_train #keras.utils.to_categorical(y_train, num_classes)\n",
        "\n",
        "from sklearn.model_selection import StratifiedKFold\n",
        "\n",
        "# MLP for Pima Indians Dataset with 10-fold cross validation\n",
        "from keras.models import Sequential\n",
        "from keras.layers import Dense\n",
        "from sklearn.model_selection import StratifiedKFold\n"
      ],
      "execution_count": null,
      "outputs": [
        {
          "output_type": "stream",
          "text": [
            "x_train shape: (625, 250, 250, 3)\n",
            "625 train samples\n",
            "(625, 250, 250, 3)\n",
            "(625,)\n",
            "==============================\n"
          ],
          "name": "stdout"
        }
      ]
    },
    {
      "cell_type": "code",
      "metadata": {
        "id": "x3hkUhQsXVZ5",
        "colab_type": "code",
        "colab": {
          "base_uri": "https://localhost:8080/",
          "height": 1000
        },
        "outputId": "632e9c9e-5dd5-449e-e04b-6e734eb3812b"
      },
      "source": [
        "from tensorflow.keras import models\n",
        "from tensorflow.keras import layers\n",
        "from sklearn.metrics import confusion_matrix\n",
        "from sklearn.model_selection import StratifiedKFold\n",
        "from efficientnet import EfficientNetB3 as EfficientNetB2\n",
        "from keras.models import model_from_json\n",
        "import numpy\n",
        "import os\n",
        "from sklearn.metrics import classification_report\n",
        "from sklearn.metrics import multilabel_confusion_matrix\n",
        "\n",
        "\n",
        "kfold = StratifiedKFold(n_splits=5, shuffle=True, random_state=seed)\n",
        "A = 11 \n",
        "\n",
        "cvscores = []\n",
        "for train, test in kfold.split(X, Y):\n",
        "  # create model\n",
        "  conv_base = EfficientNetB2(include_top=False, input_shape=input_shape, weights=\"imagenet\")\n",
        "  model = models.Sequential()\n",
        "  model.add(conv_base)\n",
        "  model.add(layers.GlobalMaxPooling2D(name=\"gap\"))\n",
        "  #model.add(layers.Flatten(name=\"flatten\"))\n",
        "  dropout_rate =0.2\n",
        "  model.add(layers.Dropout(dropout_rate, name=\"dropout_out\"))\n",
        "  #model.add(layers.Dense(200, activation='relu', name=\"fc1\"))\n",
        "  model.add(layers.Dense(2, activation=\"softmax\", name=\"fc_out\"))\n",
        "\t# Compile model\n",
        "  model.compile(loss='categorical_crossentropy', optimizer='RMSprop', metrics=['accuracy'])\n",
        "\t# Fit the model\n",
        "  YYtrain = keras.utils.to_categorical(Y[train], num_classes)\n",
        "  model.fit(X[train], YYtrain, epochs=40, batch_size=20, verbose=1)\n",
        "  print(X[train].shape)\n",
        "  print(YYtrain.shape)\n",
        "\t# evaluate the model\n",
        "  YYtest = keras.utils.to_categorical(Y[test], num_classes)\n",
        "  scores = model.evaluate(X[test], YYtest  , verbose=1)\n",
        "  print(\"%s: %.2f%%\" % (model.metrics_names[1], scores[1]*100))\n",
        "  print(X[test].shape)\n",
        "  print(YYtest.shape)\n",
        "  cvscores.append(scores[1] * 100)\n",
        "  test_pred = model.predict(X[test])\n",
        "  print(confusion_matrix(np.argmax(YYtest, axis=1),np.argmax(test_pred, axis=1)))\n",
        "  model_json = model.to_json()\n",
        "  with open(\"model.json\", \"w\") as json_file:\n",
        "    json_file.write(model_json)\n",
        "  # serialize weights to HDF5\n",
        "  model.save_weights(\"model\" + str(A) +\".h5\")\n",
        "  print(\"Saved model to disk\")\n",
        "  A = A+1\n",
        "  print(classification_report(np.argmax(YYtest, axis=1), np.argmax(test_pred, axis=1)))\n",
        "\n",
        "\n",
        "\n",
        "print(\"%.2f%% (+/- %.2f%%)\" % (numpy.mean(cvscores), numpy.std(cvscores)))\n"
      ],
      "execution_count": null,
      "outputs": [
        {
          "output_type": "stream",
          "text": [
            "Epoch 1/40\n",
            "25/25 [==============================] - 51s 2s/step - loss: 1.0587 - accuracy: 0.8920\n",
            "Epoch 2/40\n",
            "25/25 [==============================] - 50s 2s/step - loss: 0.2801 - accuracy: 0.9580\n",
            "Epoch 3/40\n",
            "25/25 [==============================] - 51s 2s/step - loss: 0.0196 - accuracy: 0.9940\n",
            "Epoch 4/40\n",
            "25/25 [==============================] - 48s 2s/step - loss: 0.1958 - accuracy: 0.9660\n",
            "Epoch 5/40\n",
            "25/25 [==============================] - 49s 2s/step - loss: 0.0312 - accuracy: 0.9840\n",
            "Epoch 6/40\n",
            "25/25 [==============================] - 48s 2s/step - loss: 0.1131 - accuracy: 0.9740\n",
            "Epoch 7/40\n",
            "25/25 [==============================] - 49s 2s/step - loss: 0.0232 - accuracy: 0.9940\n",
            "Epoch 8/40\n",
            "25/25 [==============================] - 49s 2s/step - loss: 0.0518 - accuracy: 0.9920\n",
            "Epoch 9/40\n",
            "25/25 [==============================] - 51s 2s/step - loss: 0.0654 - accuracy: 0.9820\n",
            "Epoch 10/40\n",
            "25/25 [==============================] - 49s 2s/step - loss: 0.0560 - accuracy: 0.9920\n",
            "Epoch 11/40\n",
            "25/25 [==============================] - 49s 2s/step - loss: 0.0019 - accuracy: 1.0000\n",
            "Epoch 12/40\n",
            "25/25 [==============================] - 50s 2s/step - loss: 3.7336e-05 - accuracy: 1.0000\n",
            "Epoch 13/40\n",
            "25/25 [==============================] - 50s 2s/step - loss: 0.2124 - accuracy: 0.9820\n",
            "Epoch 14/40\n",
            "25/25 [==============================] - 50s 2s/step - loss: 0.0282 - accuracy: 0.9880\n",
            "Epoch 15/40\n",
            "25/25 [==============================] - 52s 2s/step - loss: 0.0877 - accuracy: 0.9880\n",
            "Epoch 16/40\n",
            "25/25 [==============================] - 49s 2s/step - loss: 0.0581 - accuracy: 0.9980\n",
            "Epoch 17/40\n",
            "25/25 [==============================] - 50s 2s/step - loss: 0.0429 - accuracy: 0.9940\n",
            "Epoch 18/40\n",
            "25/25 [==============================] - 49s 2s/step - loss: 0.0184 - accuracy: 0.9960\n",
            "Epoch 19/40\n",
            "25/25 [==============================] - 48s 2s/step - loss: 0.0183 - accuracy: 0.9960\n",
            "Epoch 20/40\n",
            "25/25 [==============================] - 49s 2s/step - loss: 0.0436 - accuracy: 0.9880\n",
            "Epoch 21/40\n",
            "25/25 [==============================] - 51s 2s/step - loss: 0.0097 - accuracy: 0.9980\n",
            "Epoch 22/40\n",
            "25/25 [==============================] - 50s 2s/step - loss: 0.1058 - accuracy: 0.9840\n",
            "Epoch 23/40\n",
            "25/25 [==============================] - 49s 2s/step - loss: 0.0255 - accuracy: 0.9980\n",
            "Epoch 24/40\n",
            "25/25 [==============================] - 49s 2s/step - loss: 0.0158 - accuracy: 0.9960\n",
            "Epoch 25/40\n",
            "25/25 [==============================] - 50s 2s/step - loss: 0.0027 - accuracy: 0.9980\n",
            "Epoch 26/40\n",
            "25/25 [==============================] - 49s 2s/step - loss: 0.0064 - accuracy: 0.9980\n",
            "Epoch 27/40\n",
            "25/25 [==============================] - 51s 2s/step - loss: 0.0188 - accuracy: 0.9960\n",
            "Epoch 28/40\n",
            "25/25 [==============================] - 49s 2s/step - loss: 0.0286 - accuracy: 0.9960\n",
            "Epoch 29/40\n",
            "25/25 [==============================] - 49s 2s/step - loss: 0.0247 - accuracy: 0.9940\n",
            "Epoch 30/40\n",
            "25/25 [==============================] - 49s 2s/step - loss: 0.2354 - accuracy: 0.9880\n",
            "Epoch 31/40\n",
            "25/25 [==============================] - 49s 2s/step - loss: 0.0268 - accuracy: 0.9980\n",
            "Epoch 32/40\n",
            "25/25 [==============================] - 49s 2s/step - loss: 9.0397e-05 - accuracy: 1.0000\n",
            "Epoch 33/40\n",
            "25/25 [==============================] - 51s 2s/step - loss: 5.3144e-05 - accuracy: 1.0000\n",
            "Epoch 34/40\n",
            "25/25 [==============================] - 49s 2s/step - loss: 0.0026 - accuracy: 1.0000\n",
            "Epoch 35/40\n",
            "25/25 [==============================] - 51s 2s/step - loss: 1.0538e-05 - accuracy: 1.0000\n",
            "Epoch 36/40\n",
            "25/25 [==============================] - 51s 2s/step - loss: 8.9655e-06 - accuracy: 1.0000\n",
            "Epoch 37/40\n",
            "25/25 [==============================] - 51s 2s/step - loss: 1.1258e-05 - accuracy: 1.0000\n",
            "Epoch 38/40\n",
            "25/25 [==============================] - 49s 2s/step - loss: 0.0311 - accuracy: 0.9940\n",
            "Epoch 39/40\n",
            "25/25 [==============================] - 51s 2s/step - loss: 5.3934e-05 - accuracy: 1.0000\n",
            "Epoch 40/40\n",
            "25/25 [==============================] - 49s 2s/step - loss: 0.0169 - accuracy: 0.9980\n",
            "(500, 250, 250, 3, 1)\n",
            "(500, 2)\n",
            "4/4 [==============================] - 1s 370ms/step - loss: 8.5376e-04 - accuracy: 1.0000\n",
            "accuracy: 100.00%\n",
            "(125, 250, 250, 3, 1)\n",
            "(125, 2)\n",
            "[[ 25   0]\n",
            " [  0 100]]\n",
            "Saved model to disk\n",
            "              precision    recall  f1-score   support\n",
            "\n",
            "           0       1.00      1.00      1.00        25\n",
            "           1       1.00      1.00      1.00       100\n",
            "\n",
            "    accuracy                           1.00       125\n",
            "   macro avg       1.00      1.00      1.00       125\n",
            "weighted avg       1.00      1.00      1.00       125\n",
            "\n",
            "Epoch 1/40\n",
            "25/25 [==============================] - 50s 2s/step - loss: 0.8868 - accuracy: 0.8940\n",
            "Epoch 2/40\n",
            "25/25 [==============================] - 49s 2s/step - loss: 0.1869 - accuracy: 0.9720\n",
            "Epoch 3/40\n",
            "25/25 [==============================] - 50s 2s/step - loss: 0.5476 - accuracy: 0.9660\n",
            "Epoch 4/40\n",
            "25/25 [==============================] - 53s 2s/step - loss: 0.0502 - accuracy: 0.9860\n",
            "Epoch 5/40\n",
            "25/25 [==============================] - 49s 2s/step - loss: 0.0669 - accuracy: 0.9820\n",
            "Epoch 6/40\n",
            "25/25 [==============================] - 49s 2s/step - loss: 0.2013 - accuracy: 0.9860\n",
            "Epoch 7/40\n",
            "25/25 [==============================] - 49s 2s/step - loss: 0.0821 - accuracy: 0.9760\n",
            "Epoch 8/40\n",
            "25/25 [==============================] - 51s 2s/step - loss: 0.0095 - accuracy: 0.9960\n",
            "Epoch 9/40\n",
            "25/25 [==============================] - 51s 2s/step - loss: 0.1080 - accuracy: 0.9880\n",
            "Epoch 10/40\n",
            "25/25 [==============================] - 52s 2s/step - loss: 0.0170 - accuracy: 0.9960\n",
            "Epoch 11/40\n",
            "25/25 [==============================] - 50s 2s/step - loss: 0.1169 - accuracy: 0.9800\n",
            "Epoch 12/40\n",
            "25/25 [==============================] - 51s 2s/step - loss: 0.0157 - accuracy: 0.9960\n",
            "Epoch 13/40\n",
            "25/25 [==============================] - 50s 2s/step - loss: 0.0437 - accuracy: 0.9900\n",
            "Epoch 14/40\n",
            "25/25 [==============================] - 49s 2s/step - loss: 0.0059 - accuracy: 0.9980\n",
            "Epoch 15/40\n",
            "25/25 [==============================] - 48s 2s/step - loss: 0.0203 - accuracy: 0.9960\n",
            "Epoch 16/40\n",
            "25/25 [==============================] - 52s 2s/step - loss: 0.1611 - accuracy: 0.9880\n",
            "Epoch 17/40\n",
            "25/25 [==============================] - 50s 2s/step - loss: 0.0519 - accuracy: 0.9940\n",
            "Epoch 18/40\n",
            "25/25 [==============================] - 49s 2s/step - loss: 7.7442e-04 - accuracy: 1.0000\n",
            "Epoch 19/40\n",
            "25/25 [==============================] - 51s 2s/step - loss: 0.0487 - accuracy: 0.9880\n",
            "Epoch 20/40\n",
            "25/25 [==============================] - 51s 2s/step - loss: 2.1839e-04 - accuracy: 1.0000\n",
            "Epoch 21/40\n",
            "25/25 [==============================] - 51s 2s/step - loss: 0.0193 - accuracy: 0.9980\n",
            "Epoch 22/40\n",
            "25/25 [==============================] - 53s 2s/step - loss: 0.0332 - accuracy: 0.9940\n",
            "Epoch 23/40\n",
            "25/25 [==============================] - 51s 2s/step - loss: 0.0273 - accuracy: 0.9960\n",
            "Epoch 24/40\n",
            "25/25 [==============================] - 51s 2s/step - loss: 0.1517 - accuracy: 0.9920\n",
            "Epoch 25/40\n",
            "25/25 [==============================] - 51s 2s/step - loss: 0.0405 - accuracy: 0.9980\n",
            "Epoch 26/40\n",
            "25/25 [==============================] - 55s 2s/step - loss: 0.0509 - accuracy: 0.9980\n",
            "Epoch 27/40\n",
            "25/25 [==============================] - 61s 2s/step - loss: 0.0313 - accuracy: 0.9920\n",
            "Epoch 28/40\n",
            "25/25 [==============================] - 64s 3s/step - loss: 0.0518 - accuracy: 0.9940\n",
            "Epoch 29/40\n",
            "25/25 [==============================] - 62s 2s/step - loss: 0.0574 - accuracy: 0.9860\n",
            "Epoch 30/40\n",
            "25/25 [==============================] - 62s 2s/step - loss: 0.0015 - accuracy: 1.0000\n",
            "Epoch 31/40\n",
            "25/25 [==============================] - 61s 2s/step - loss: 0.0245 - accuracy: 0.9960\n",
            "Epoch 32/40\n",
            "25/25 [==============================] - 62s 2s/step - loss: 0.0012 - accuracy: 1.0000\n",
            "Epoch 33/40\n",
            "25/25 [==============================] - 60s 2s/step - loss: 0.0903 - accuracy: 0.9920\n",
            "Epoch 34/40\n",
            "25/25 [==============================] - 60s 2s/step - loss: 0.0548 - accuracy: 0.9860\n",
            "Epoch 35/40\n",
            "25/25 [==============================] - 59s 2s/step - loss: 0.0230 - accuracy: 0.9940\n",
            "Epoch 36/40\n",
            "25/25 [==============================] - 59s 2s/step - loss: 0.0207 - accuracy: 0.9980\n",
            "Epoch 37/40\n",
            "25/25 [==============================] - 61s 2s/step - loss: 6.7587e-04 - accuracy: 1.0000\n",
            "Epoch 38/40\n",
            "25/25 [==============================] - 59s 2s/step - loss: 0.0188 - accuracy: 0.9940\n",
            "Epoch 39/40\n",
            "25/25 [==============================] - 61s 2s/step - loss: 0.0045 - accuracy: 0.9980\n",
            "Epoch 40/40\n",
            "25/25 [==============================] - 61s 2s/step - loss: 0.0313 - accuracy: 0.9960\n",
            "(500, 250, 250, 3, 1)\n",
            "(500, 2)\n",
            "4/4 [==============================] - 2s 462ms/step - loss: 0.1116 - accuracy: 0.9760\n",
            "accuracy: 97.60%\n",
            "(125, 250, 250, 3, 1)\n",
            "(125, 2)\n",
            "[[25  0]\n",
            " [ 3 97]]\n",
            "Saved model to disk\n",
            "              precision    recall  f1-score   support\n",
            "\n",
            "           0       0.89      1.00      0.94        25\n",
            "           1       1.00      0.97      0.98       100\n",
            "\n",
            "    accuracy                           0.98       125\n",
            "   macro avg       0.95      0.98      0.96       125\n",
            "weighted avg       0.98      0.98      0.98       125\n",
            "\n",
            "Epoch 1/40\n",
            "25/25 [==============================] - 61s 2s/step - loss: 1.0732 - accuracy: 0.9120\n",
            "Epoch 2/40\n",
            "25/25 [==============================] - 62s 2s/step - loss: 0.2369 - accuracy: 0.9480\n",
            "Epoch 3/40\n",
            "25/25 [==============================] - 60s 2s/step - loss: 0.1731 - accuracy: 0.9680\n",
            "Epoch 4/40\n",
            "25/25 [==============================] - 59s 2s/step - loss: 0.0252 - accuracy: 0.9900\n",
            "Epoch 5/40\n",
            "25/25 [==============================] - 59s 2s/step - loss: 0.0549 - accuracy: 0.9880\n",
            "Epoch 6/40\n",
            "25/25 [==============================] - 60s 2s/step - loss: 0.1071 - accuracy: 0.9740\n",
            "Epoch 7/40\n",
            "25/25 [==============================] - 55s 2s/step - loss: 0.0277 - accuracy: 0.9980\n",
            "Epoch 8/40\n",
            "25/25 [==============================] - 48s 2s/step - loss: 0.0179 - accuracy: 0.9960\n",
            "Epoch 9/40\n",
            "25/25 [==============================] - 47s 2s/step - loss: 0.0924 - accuracy: 0.9860\n",
            "Epoch 10/40\n",
            "25/25 [==============================] - 47s 2s/step - loss: 0.0423 - accuracy: 0.9860\n",
            "Epoch 11/40\n",
            "25/25 [==============================] - 47s 2s/step - loss: 0.0599 - accuracy: 0.9900\n",
            "Epoch 12/40\n",
            "25/25 [==============================] - 49s 2s/step - loss: 0.0433 - accuracy: 0.9940\n",
            "Epoch 13/40\n",
            "25/25 [==============================] - 49s 2s/step - loss: 0.0011 - accuracy: 1.0000\n",
            "Epoch 14/40\n",
            "25/25 [==============================] - 47s 2s/step - loss: 0.1177 - accuracy: 0.9880\n",
            "Epoch 15/40\n",
            "25/25 [==============================] - 47s 2s/step - loss: 6.2185e-04 - accuracy: 1.0000\n",
            "Epoch 16/40\n",
            "25/25 [==============================] - 47s 2s/step - loss: 0.0658 - accuracy: 0.9860\n",
            "Epoch 17/40\n",
            "25/25 [==============================] - 47s 2s/step - loss: 0.0458 - accuracy: 0.9960\n",
            "Epoch 18/40\n",
            "25/25 [==============================] - 48s 2s/step - loss: 0.0340 - accuracy: 0.9920\n",
            "Epoch 19/40\n",
            "25/25 [==============================] - 49s 2s/step - loss: 0.0028 - accuracy: 0.9980\n",
            "Epoch 20/40\n",
            "25/25 [==============================] - 47s 2s/step - loss: 8.1007e-05 - accuracy: 1.0000\n",
            "Epoch 21/40\n",
            "25/25 [==============================] - 47s 2s/step - loss: 0.0302 - accuracy: 0.9960\n",
            "Epoch 22/40\n",
            "25/25 [==============================] - 47s 2s/step - loss: 0.0251 - accuracy: 0.9920\n",
            "Epoch 23/40\n",
            "25/25 [==============================] - 48s 2s/step - loss: 0.0704 - accuracy: 0.9900\n",
            "Epoch 24/40\n",
            "25/25 [==============================] - 48s 2s/step - loss: 0.0381 - accuracy: 0.9940\n",
            "Epoch 25/40\n",
            "25/25 [==============================] - 48s 2s/step - loss: 2.4732e-04 - accuracy: 1.0000\n",
            "Epoch 26/40\n",
            "25/25 [==============================] - 47s 2s/step - loss: 1.1712e-04 - accuracy: 1.0000\n",
            "Epoch 27/40\n",
            "25/25 [==============================] - 47s 2s/step - loss: 3.0478e-05 - accuracy: 1.0000\n",
            "Epoch 28/40\n",
            "25/25 [==============================] - 47s 2s/step - loss: 4.1776e-06 - accuracy: 1.0000\n",
            "Epoch 29/40\n",
            "25/25 [==============================] - 47s 2s/step - loss: 0.0172 - accuracy: 0.9980\n",
            "Epoch 30/40\n",
            "25/25 [==============================] - 48s 2s/step - loss: 0.0310 - accuracy: 0.9960\n",
            "Epoch 31/40\n",
            "25/25 [==============================] - 47s 2s/step - loss: 0.0015 - accuracy: 1.0000\n",
            "Epoch 32/40\n",
            "25/25 [==============================] - 49s 2s/step - loss: 9.9958e-06 - accuracy: 1.0000\n",
            "Epoch 33/40\n",
            "25/25 [==============================] - 47s 2s/step - loss: 0.0077 - accuracy: 0.9980\n",
            "Epoch 34/40\n",
            "25/25 [==============================] - 47s 2s/step - loss: 0.0372 - accuracy: 0.9920\n",
            "Epoch 35/40\n",
            "25/25 [==============================] - 48s 2s/step - loss: 0.0028 - accuracy: 0.9980\n",
            "Epoch 36/40\n",
            "25/25 [==============================] - 48s 2s/step - loss: 0.0284 - accuracy: 0.9940\n",
            "Epoch 37/40\n",
            "25/25 [==============================] - 48s 2s/step - loss: 0.0188 - accuracy: 0.9960\n",
            "Epoch 38/40\n",
            "25/25 [==============================] - 49s 2s/step - loss: 3.3629e-05 - accuracy: 1.0000\n",
            "Epoch 39/40\n",
            "25/25 [==============================] - 48s 2s/step - loss: 0.1138 - accuracy: 0.9820\n",
            "Epoch 40/40\n",
            "25/25 [==============================] - 49s 2s/step - loss: 0.0064 - accuracy: 0.9960\n",
            "(500, 250, 250, 3, 1)\n",
            "(500, 2)\n",
            "4/4 [==============================] - 1s 348ms/step - loss: 7.6955e-05 - accuracy: 1.0000\n",
            "accuracy: 100.00%\n",
            "(125, 250, 250, 3, 1)\n",
            "(125, 2)\n",
            "[[ 25   0]\n",
            " [  0 100]]\n",
            "Saved model to disk\n",
            "              precision    recall  f1-score   support\n",
            "\n",
            "           0       1.00      1.00      1.00        25\n",
            "           1       1.00      1.00      1.00       100\n",
            "\n",
            "    accuracy                           1.00       125\n",
            "   macro avg       1.00      1.00      1.00       125\n",
            "weighted avg       1.00      1.00      1.00       125\n",
            "\n",
            "Epoch 1/40\n",
            "25/25 [==============================] - 47s 2s/step - loss: 0.9492 - accuracy: 0.9200\n",
            "Epoch 2/40\n",
            "25/25 [==============================] - 50s 2s/step - loss: 0.3851 - accuracy: 0.9500\n",
            "Epoch 3/40\n",
            "25/25 [==============================] - 50s 2s/step - loss: 0.2039 - accuracy: 0.9620\n",
            "Epoch 4/40\n",
            "25/25 [==============================] - 47s 2s/step - loss: 0.0733 - accuracy: 0.9820\n",
            "Epoch 5/40\n",
            "25/25 [==============================] - 48s 2s/step - loss: 0.1717 - accuracy: 0.9700\n",
            "Epoch 6/40\n",
            "25/25 [==============================] - 48s 2s/step - loss: 0.0875 - accuracy: 0.9900\n",
            "Epoch 7/40\n",
            "25/25 [==============================] - 49s 2s/step - loss: 0.0293 - accuracy: 0.9920\n",
            "Epoch 8/40\n",
            "25/25 [==============================] - 49s 2s/step - loss: 0.0599 - accuracy: 0.9880\n",
            "Epoch 9/40\n",
            "25/25 [==============================] - 50s 2s/step - loss: 0.0321 - accuracy: 0.9900\n",
            "Epoch 10/40\n",
            "25/25 [==============================] - 50s 2s/step - loss: 6.4544e-04 - accuracy: 1.0000\n",
            "Epoch 11/40\n",
            "25/25 [==============================] - 49s 2s/step - loss: 5.3653e-05 - accuracy: 1.0000\n",
            "Epoch 12/40\n",
            "25/25 [==============================] - 48s 2s/step - loss: 0.0960 - accuracy: 0.9880\n",
            "Epoch 13/40\n",
            "25/25 [==============================] - 48s 2s/step - loss: 0.0499 - accuracy: 0.9880\n",
            "Epoch 14/40\n",
            "25/25 [==============================] - 49s 2s/step - loss: 0.0815 - accuracy: 0.9900\n",
            "Epoch 15/40\n",
            "25/25 [==============================] - 49s 2s/step - loss: 0.0013 - accuracy: 1.0000\n",
            "Epoch 16/40\n",
            "25/25 [==============================] - 50s 2s/step - loss: 0.0269 - accuracy: 0.9900\n",
            "Epoch 17/40\n",
            "25/25 [==============================] - 49s 2s/step - loss: 0.0326 - accuracy: 0.9900\n",
            "Epoch 18/40\n",
            "25/25 [==============================] - 49s 2s/step - loss: 0.0256 - accuracy: 0.9960\n",
            "Epoch 19/40\n",
            "25/25 [==============================] - 51s 2s/step - loss: 0.0532 - accuracy: 0.9920\n",
            "Epoch 20/40\n",
            "25/25 [==============================] - 52s 2s/step - loss: 0.0106 - accuracy: 0.9960\n",
            "Epoch 21/40\n",
            "25/25 [==============================] - 51s 2s/step - loss: 0.0489 - accuracy: 0.9920\n",
            "Epoch 22/40\n",
            "25/25 [==============================] - 51s 2s/step - loss: 0.1166 - accuracy: 0.9960\n",
            "Epoch 23/40\n",
            "25/25 [==============================] - 50s 2s/step - loss: 0.0162 - accuracy: 0.9980\n",
            "Epoch 24/40\n",
            "25/25 [==============================] - 50s 2s/step - loss: 0.0940 - accuracy: 0.9920\n",
            "Epoch 25/40\n",
            "25/25 [==============================] - 51s 2s/step - loss: 0.0221 - accuracy: 0.9960\n",
            "Epoch 26/40\n",
            "25/25 [==============================] - 51s 2s/step - loss: 0.0665 - accuracy: 0.9860\n",
            "Epoch 27/40\n",
            "25/25 [==============================] - 50s 2s/step - loss: 0.0040 - accuracy: 0.9980\n",
            "Epoch 28/40\n",
            "25/25 [==============================] - 48s 2s/step - loss: 0.0039 - accuracy: 0.9960\n",
            "Epoch 29/40\n",
            "25/25 [==============================] - 48s 2s/step - loss: 0.0094 - accuracy: 0.9980\n",
            "Epoch 30/40\n",
            "25/25 [==============================] - 48s 2s/step - loss: 1.5400e-04 - accuracy: 1.0000\n",
            "Epoch 31/40\n",
            "25/25 [==============================] - 50s 2s/step - loss: 2.1649e-05 - accuracy: 1.0000\n",
            "Epoch 32/40\n",
            "25/25 [==============================] - 53s 2s/step - loss: 3.3146e-06 - accuracy: 1.0000\n",
            "Epoch 33/40\n",
            "25/25 [==============================] - 49s 2s/step - loss: 0.0374 - accuracy: 0.9960\n",
            "Epoch 34/40\n",
            "25/25 [==============================] - 50s 2s/step - loss: 3.7983e-04 - accuracy: 1.0000\n",
            "Epoch 35/40\n",
            "25/25 [==============================] - 48s 2s/step - loss: 2.5748e-05 - accuracy: 1.0000\n",
            "Epoch 36/40\n",
            "25/25 [==============================] - 48s 2s/step - loss: 0.0020 - accuracy: 1.0000\n",
            "Epoch 37/40\n",
            "25/25 [==============================] - 50s 2s/step - loss: 1.6486e-06 - accuracy: 1.0000\n",
            "Epoch 38/40\n",
            "25/25 [==============================] - 48s 2s/step - loss: 4.7186e-05 - accuracy: 1.0000\n",
            "Epoch 39/40\n",
            "25/25 [==============================] - 48s 2s/step - loss: 6.0965e-06 - accuracy: 1.0000\n",
            "Epoch 40/40\n",
            "25/25 [==============================] - 52s 2s/step - loss: 0.0182 - accuracy: 0.9960\n",
            "(500, 250, 250, 3, 1)\n",
            "(500, 2)\n",
            "4/4 [==============================] - 1s 363ms/step - loss: 0.6837 - accuracy: 0.9760\n",
            "accuracy: 97.60%\n",
            "(125, 250, 250, 3, 1)\n",
            "(125, 2)\n",
            "[[24  1]\n",
            " [ 2 98]]\n",
            "Saved model to disk\n",
            "              precision    recall  f1-score   support\n",
            "\n",
            "           0       0.92      0.96      0.94        25\n",
            "           1       0.99      0.98      0.98       100\n",
            "\n",
            "    accuracy                           0.98       125\n",
            "   macro avg       0.96      0.97      0.96       125\n",
            "weighted avg       0.98      0.98      0.98       125\n",
            "\n",
            "Epoch 1/40\n",
            "25/25 [==============================] - 51s 2s/step - loss: 1.3731 - accuracy: 0.9220\n",
            "Epoch 2/40\n",
            "25/25 [==============================] - 51s 2s/step - loss: 0.0947 - accuracy: 0.9740\n",
            "Epoch 3/40\n",
            "25/25 [==============================] - 49s 2s/step - loss: 0.1879 - accuracy: 0.9680\n",
            "Epoch 4/40\n",
            "25/25 [==============================] - 51s 2s/step - loss: 0.1215 - accuracy: 0.9740\n",
            "Epoch 5/40\n",
            "25/25 [==============================] - 53s 2s/step - loss: 0.1102 - accuracy: 0.9640\n",
            "Epoch 6/40\n",
            "25/25 [==============================] - 51s 2s/step - loss: 0.0243 - accuracy: 0.9920\n",
            "Epoch 7/40\n",
            "25/25 [==============================] - 50s 2s/step - loss: 0.1523 - accuracy: 0.9760\n",
            "Epoch 8/40\n",
            "25/25 [==============================] - 50s 2s/step - loss: 0.0394 - accuracy: 0.9840\n",
            "Epoch 9/40\n",
            "25/25 [==============================] - 50s 2s/step - loss: 0.0283 - accuracy: 0.9940\n",
            "Epoch 10/40\n",
            "25/25 [==============================] - 50s 2s/step - loss: 0.1515 - accuracy: 0.9800\n",
            "Epoch 11/40\n",
            "25/25 [==============================] - 52s 2s/step - loss: 0.0181 - accuracy: 0.9900\n",
            "Epoch 12/40\n",
            "25/25 [==============================] - 51s 2s/step - loss: 0.0181 - accuracy: 0.9960\n",
            "Epoch 13/40\n",
            "25/25 [==============================] - 50s 2s/step - loss: 0.0867 - accuracy: 0.9900\n",
            "Epoch 14/40\n",
            "25/25 [==============================] - 50s 2s/step - loss: 0.0393 - accuracy: 0.9920\n",
            "Epoch 15/40\n",
            "25/25 [==============================] - 49s 2s/step - loss: 0.0024 - accuracy: 1.0000\n",
            "Epoch 16/40\n",
            "25/25 [==============================] - 48s 2s/step - loss: 0.0342 - accuracy: 0.9900\n",
            "Epoch 17/40\n",
            "25/25 [==============================] - 49s 2s/step - loss: 0.0061 - accuracy: 0.9960\n",
            "Epoch 18/40\n",
            "25/25 [==============================] - 48s 2s/step - loss: 4.8857e-05 - accuracy: 1.0000\n",
            "Epoch 19/40\n",
            "25/25 [==============================] - 48s 2s/step - loss: 0.0064 - accuracy: 0.9980\n",
            "Epoch 20/40\n",
            "25/25 [==============================] - 50s 2s/step - loss: 0.1132 - accuracy: 0.9940\n",
            "Epoch 21/40\n",
            "25/25 [==============================] - 49s 2s/step - loss: 0.0336 - accuracy: 0.9960\n",
            "Epoch 22/40\n",
            "25/25 [==============================] - 49s 2s/step - loss: 0.0670 - accuracy: 0.9920\n",
            "Epoch 23/40\n",
            "25/25 [==============================] - 49s 2s/step - loss: 0.0243 - accuracy: 0.9980\n",
            "Epoch 24/40\n",
            "25/25 [==============================] - 48s 2s/step - loss: 5.7245e-05 - accuracy: 1.0000\n",
            "Epoch 25/40\n",
            "25/25 [==============================] - 49s 2s/step - loss: 2.4540e-05 - accuracy: 1.0000\n",
            "Epoch 26/40\n",
            "25/25 [==============================] - 50s 2s/step - loss: 5.8641e-06 - accuracy: 1.0000\n",
            "Epoch 27/40\n",
            "25/25 [==============================] - 49s 2s/step - loss: 0.0406 - accuracy: 0.9920\n",
            "Epoch 28/40\n",
            "25/25 [==============================] - 49s 2s/step - loss: 0.0755 - accuracy: 0.9900\n",
            "Epoch 29/40\n",
            "25/25 [==============================] - 49s 2s/step - loss: 0.0016 - accuracy: 1.0000\n",
            "Epoch 30/40\n",
            "25/25 [==============================] - 48s 2s/step - loss: 0.0500 - accuracy: 0.9960\n",
            "Epoch 31/40\n",
            "25/25 [==============================] - 47s 2s/step - loss: 0.0452 - accuracy: 0.9940\n",
            "Epoch 32/40\n",
            "25/25 [==============================] - 50s 2s/step - loss: 0.0117 - accuracy: 0.9980\n",
            "Epoch 33/40\n",
            "25/25 [==============================] - 48s 2s/step - loss: 0.0138 - accuracy: 0.9960\n",
            "Epoch 34/40\n",
            "25/25 [==============================] - 48s 2s/step - loss: 0.0411 - accuracy: 0.9940\n",
            "Epoch 35/40\n",
            "25/25 [==============================] - 52s 2s/step - loss: 0.0110 - accuracy: 0.9940\n",
            "Epoch 36/40\n",
            "25/25 [==============================] - 49s 2s/step - loss: 0.0082 - accuracy: 0.9960\n",
            "Epoch 37/40\n",
            "25/25 [==============================] - 50s 2s/step - loss: 8.8378e-05 - accuracy: 1.0000\n",
            "Epoch 38/40\n",
            "25/25 [==============================] - 52s 2s/step - loss: 4.6483e-05 - accuracy: 1.0000\n",
            "Epoch 39/40\n",
            "25/25 [==============================] - 52s 2s/step - loss: 1.1231e-05 - accuracy: 1.0000\n",
            "Epoch 40/40\n",
            "25/25 [==============================] - 52s 2s/step - loss: 1.0967e-06 - accuracy: 1.0000\n",
            "(500, 250, 250, 3, 1)\n",
            "(500, 2)\n",
            "4/4 [==============================] - 1s 365ms/step - loss: 2.5089e-06 - accuracy: 1.0000\n",
            "accuracy: 100.00%\n",
            "(125, 250, 250, 3, 1)\n",
            "(125, 2)\n",
            "[[ 25   0]\n",
            " [  0 100]]\n",
            "Saved model to disk\n",
            "              precision    recall  f1-score   support\n",
            "\n",
            "           0       1.00      1.00      1.00        25\n",
            "           1       1.00      1.00      1.00       100\n",
            "\n",
            "    accuracy                           1.00       125\n",
            "   macro avg       1.00      1.00      1.00       125\n",
            "weighted avg       1.00      1.00      1.00       125\n",
            "\n",
            "99.04% (+/- 1.18%)\n"
          ],
          "name": "stdout"
        }
      ]
    },
    {
      "cell_type": "code",
      "metadata": {
        "id": "nK5yG8hOh3P-",
        "colab_type": "code",
        "colab": {}
      },
      "source": [
        ""
      ],
      "execution_count": null,
      "outputs": []
    },
    {
      "cell_type": "code",
      "metadata": {
        "id": "bTmyk0-JhZ6s",
        "colab_type": "code",
        "colab": {
          "base_uri": "https://localhost:8080/",
          "height": 212
        },
        "outputId": "cb98a72f-21ed-4c26-dab6-c570d216d376"
      },
      "source": [
        "from tensorflow.keras.utils import plot_model\n",
        "plot_model(conv_base, to_file='conv_base.png', show_shapes=True)\n",
        "from IPython.display import Image\n",
        "Image(filename='conv_base.png') \n"
      ],
      "execution_count": null,
      "outputs": [
        {
          "output_type": "error",
          "ename": "NameError",
          "evalue": "ignored",
          "traceback": [
            "\u001b[0;31m---------------------------------------------------------------------------\u001b[0m",
            "\u001b[0;31mNameError\u001b[0m                                 Traceback (most recent call last)",
            "\u001b[0;32m<ipython-input-1-dd8a1e15d22d>\u001b[0m in \u001b[0;36m<module>\u001b[0;34m()\u001b[0m\n\u001b[1;32m      1\u001b[0m \u001b[0;32mfrom\u001b[0m \u001b[0mtensorflow\u001b[0m\u001b[0;34m.\u001b[0m\u001b[0mkeras\u001b[0m\u001b[0;34m.\u001b[0m\u001b[0mutils\u001b[0m \u001b[0;32mimport\u001b[0m \u001b[0mplot_model\u001b[0m\u001b[0;34m\u001b[0m\u001b[0;34m\u001b[0m\u001b[0m\n\u001b[0;32m----> 2\u001b[0;31m \u001b[0mplot_model\u001b[0m\u001b[0;34m(\u001b[0m\u001b[0mconv_base\u001b[0m\u001b[0;34m,\u001b[0m \u001b[0mto_file\u001b[0m\u001b[0;34m=\u001b[0m\u001b[0;34m'conv_base.png'\u001b[0m\u001b[0;34m,\u001b[0m \u001b[0mshow_shapes\u001b[0m\u001b[0;34m=\u001b[0m\u001b[0;32mTrue\u001b[0m\u001b[0;34m)\u001b[0m\u001b[0;34m\u001b[0m\u001b[0;34m\u001b[0m\u001b[0m\n\u001b[0m\u001b[1;32m      3\u001b[0m \u001b[0;32mfrom\u001b[0m \u001b[0mIPython\u001b[0m\u001b[0;34m.\u001b[0m\u001b[0mdisplay\u001b[0m \u001b[0;32mimport\u001b[0m \u001b[0mImage\u001b[0m\u001b[0;34m\u001b[0m\u001b[0;34m\u001b[0m\u001b[0m\n\u001b[1;32m      4\u001b[0m \u001b[0mImage\u001b[0m\u001b[0;34m(\u001b[0m\u001b[0mfilename\u001b[0m\u001b[0;34m=\u001b[0m\u001b[0;34m'conv_base.png'\u001b[0m\u001b[0;34m)\u001b[0m\u001b[0;34m\u001b[0m\u001b[0;34m\u001b[0m\u001b[0m\n",
            "\u001b[0;31mNameError\u001b[0m: name 'conv_base' is not defined"
          ]
        }
      ]
    },
    {
      "cell_type": "code",
      "metadata": {
        "id": "-6m72gKamWNY",
        "colab_type": "code",
        "colab": {}
      },
      "source": [
        ""
      ],
      "execution_count": null,
      "outputs": []
    },
    {
      "cell_type": "code",
      "metadata": {
        "id": "yyZgv4Nm2gg6",
        "colab_type": "code",
        "colab": {}
      },
      "source": [
        ""
      ],
      "execution_count": null,
      "outputs": []
    },
    {
      "cell_type": "code",
      "metadata": {
        "id": "50eymI_11wcl",
        "colab_type": "code",
        "colab": {}
      },
      "source": [
        ""
      ],
      "execution_count": null,
      "outputs": []
    },
    {
      "cell_type": "code",
      "metadata": {
        "id": "rHUMfSt1ysNm",
        "colab_type": "code",
        "colab": {}
      },
      "source": [
        ""
      ],
      "execution_count": null,
      "outputs": []
    }
  ]
}