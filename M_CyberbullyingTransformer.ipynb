{
  "nbformat": 4,
  "nbformat_minor": 0,
  "metadata": {
    "accelerator": "TPU",
    "colab": {
      "name": "M-CyberbullyingTransformer.ipynb",
      "provenance": [],
      "machine_shape": "hm",
      "mount_file_id": "1dMjTnl5-ZUl62hwFXvdHmAdhufjCAXC2",
      "authorship_tag": "ABX9TyNKyaJEuvljz+ycw+Z6RbUZ"
    },
    "kernelspec": {
      "display_name": "Python 3",
      "name": "python3"
    }
  },
  "cells": [
    {
      "cell_type": "code",
      "metadata": {
        "id": "NICArE1RMtG4",
        "colab": {
          "base_uri": "https://localhost:8080/"
        },
        "outputId": "bef10c4b-1a35-43d7-e826-3ca1137eea39"
      },
      "source": [
        "import numpy as np \n",
        "import pandas as pd \n",
        "import matplotlib.pyplot as plt\n",
        "import seaborn as sns\n",
        "from sklearn.model_selection import train_test_split, GridSearchCV\n",
        "from sklearn.feature_extraction.text import CountVectorizer\n",
        "from sklearn.metrics import f1_score, accuracy_score, precision_score, recall_score, make_scorer\n",
        "from time import time\n",
        "from sklearn.naive_bayes import MultinomialNB\n",
        "from sklearn.tree import DecisionTreeClassifier\n",
        "from sklearn.svm import LinearSVC\n",
        "from sklearn.ensemble import AdaBoostClassifier, RandomForestClassifier, BaggingClassifier\n",
        "from sklearn.linear_model import LogisticRegression, SGDClassifier\n",
        "from sklearn.neighbors import KNeighborsClassifier\n",
        "from sklearn import linear_model\n",
        "from sklearn.naive_bayes import GaussianNB\n",
        "from sklearn.neural_network import MLPClassifier\n",
        "from sklearn.ensemble import ExtraTreesClassifier\n",
        "from sklearn.ensemble import GradientBoostingClassifier\n",
        "from sklearn.externals import joblib\n",
        "from keras.preprocessing.text import Tokenizer\n",
        "from keras.preprocessing.text import text_to_word_sequence\n",
        "from keras.preprocessing.sequence import pad_sequences\n",
        "\n",
        "from keras.models import Model\n",
        "from keras.models import Sequential\n",
        "\n",
        "from keras.layers import Input, Dense, Embedding, Conv1D, Conv2D, MaxPooling1D, MaxPool2D\n",
        "from keras.layers import Reshape, Flatten, Dropout, Concatenate\n",
        "from keras.layers import SpatialDropout1D, concatenate\n",
        "from keras.layers import GRU, Bidirectional, GlobalAveragePooling1D, GlobalMaxPooling1D, LSTM\n",
        "\n",
        "from keras.callbacks import Callback\n",
        "from keras.optimizers import Adam\n",
        "\n",
        "from keras.callbacks import ModelCheckpoint, EarlyStopping\n",
        "from keras.models import load_model\n",
        "from keras.utils.vis_utils import plot_model\n"
      ],
      "execution_count": 1,
      "outputs": [
        {
          "output_type": "stream",
          "text": [
            "/usr/local/lib/python3.6/dist-packages/sklearn/externals/joblib/__init__.py:15: FutureWarning: sklearn.externals.joblib is deprecated in 0.21 and will be removed in 0.23. Please import this functionality directly from joblib, which can be installed with: pip install joblib. If this warning is raised when loading pickled models, you may need to re-serialize those models with scikit-learn 0.21+.\n",
            "  warnings.warn(msg, category=FutureWarning)\n"
          ],
          "name": "stderr"
        }
      ]
    },
    {
      "cell_type": "code",
      "metadata": {
        "colab": {
          "base_uri": "https://localhost:8080/",
          "height": 609
        },
        "id": "-nMWFeieCZbz",
        "outputId": "a775e040-245e-4e49-9c0d-c830782f82c8"
      },
      "source": [
        "from pandas.io.json import json_normalize\n",
        "import pandas as pd\n",
        "import numpy as np\n",
        "# Dataset for Detection of Cyber-Trolls.json\n",
        "data3 = pd.read_json('Cyber-Trolls.json', lines= True,orient='columns')\n",
        "#fd = pd.read_json('/data1.json')\n",
        "\n",
        "for i in range(0,len(data3)):\n",
        "    if data3.annotation[i]['label'][0] == '1':\n",
        "        data3.annotation[i] = 1\n",
        "    else:\n",
        "        data3.annotation[i] = 0\n",
        "\n",
        "data3"
      ],
      "execution_count": 15,
      "outputs": [
        {
          "output_type": "stream",
          "text": [
            "/usr/local/lib/python3.6/dist-packages/ipykernel_launcher.py:10: SettingWithCopyWarning: \n",
            "A value is trying to be set on a copy of a slice from a DataFrame\n",
            "\n",
            "See the caveats in the documentation: https://pandas.pydata.org/pandas-docs/stable/user_guide/indexing.html#returning-a-view-versus-a-copy\n",
            "  # Remove the CWD from sys.path while we load stuff.\n",
            "/usr/local/lib/python3.6/dist-packages/ipykernel_launcher.py:12: SettingWithCopyWarning: \n",
            "A value is trying to be set on a copy of a slice from a DataFrame\n",
            "\n",
            "See the caveats in the documentation: https://pandas.pydata.org/pandas-docs/stable/user_guide/indexing.html#returning-a-view-versus-a-copy\n",
            "  if sys.path[0] == '':\n"
          ],
          "name": "stderr"
        },
        {
          "output_type": "execute_result",
          "data": {
            "text/html": [
              "<div>\n",
              "<style scoped>\n",
              "    .dataframe tbody tr th:only-of-type {\n",
              "        vertical-align: middle;\n",
              "    }\n",
              "\n",
              "    .dataframe tbody tr th {\n",
              "        vertical-align: top;\n",
              "    }\n",
              "\n",
              "    .dataframe thead th {\n",
              "        text-align: right;\n",
              "    }\n",
              "</style>\n",
              "<table border=\"1\" class=\"dataframe\">\n",
              "  <thead>\n",
              "    <tr style=\"text-align: right;\">\n",
              "      <th></th>\n",
              "      <th>content</th>\n",
              "      <th>annotation</th>\n",
              "      <th>extras</th>\n",
              "    </tr>\n",
              "  </thead>\n",
              "  <tbody>\n",
              "    <tr>\n",
              "      <th>0</th>\n",
              "      <td>Get fucking real dude.</td>\n",
              "      <td>1</td>\n",
              "      <td>NaN</td>\n",
              "    </tr>\n",
              "    <tr>\n",
              "      <th>1</th>\n",
              "      <td>She is as dirty as they come  and that crook ...</td>\n",
              "      <td>1</td>\n",
              "      <td>NaN</td>\n",
              "    </tr>\n",
              "    <tr>\n",
              "      <th>2</th>\n",
              "      <td>why did you fuck it up. I could do it all day...</td>\n",
              "      <td>1</td>\n",
              "      <td>NaN</td>\n",
              "    </tr>\n",
              "    <tr>\n",
              "      <th>3</th>\n",
              "      <td>Dude they dont finish enclosing the fucking s...</td>\n",
              "      <td>1</td>\n",
              "      <td>NaN</td>\n",
              "    </tr>\n",
              "    <tr>\n",
              "      <th>4</th>\n",
              "      <td>WTF are you talking about Men? No men thats n...</td>\n",
              "      <td>1</td>\n",
              "      <td>NaN</td>\n",
              "    </tr>\n",
              "    <tr>\n",
              "      <th>...</th>\n",
              "      <td>...</td>\n",
              "      <td>...</td>\n",
              "      <td>...</td>\n",
              "    </tr>\n",
              "    <tr>\n",
              "      <th>19996</th>\n",
              "      <td>I dont. But what is complaining about it goi...</td>\n",
              "      <td>0</td>\n",
              "      <td>NaN</td>\n",
              "    </tr>\n",
              "    <tr>\n",
              "      <th>19997</th>\n",
              "      <td>Bahah  yeah i&amp;;m totally just gonna&amp;; get pis...</td>\n",
              "      <td>0</td>\n",
              "      <td>NaN</td>\n",
              "    </tr>\n",
              "    <tr>\n",
              "      <th>19998</th>\n",
              "      <td>hahahahaha &gt;:) im evil mwahahahahahahahahaha</td>\n",
              "      <td>0</td>\n",
              "      <td>NaN</td>\n",
              "    </tr>\n",
              "    <tr>\n",
              "      <th>19999</th>\n",
              "      <td>What&amp;;s something unique about Ohio? :)</td>\n",
              "      <td>0</td>\n",
              "      <td>NaN</td>\n",
              "    </tr>\n",
              "    <tr>\n",
              "      <th>20000</th>\n",
              "      <td>Who is the biggest gossiper you know?</td>\n",
              "      <td>0</td>\n",
              "      <td>NaN</td>\n",
              "    </tr>\n",
              "  </tbody>\n",
              "</table>\n",
              "<p>20001 rows × 3 columns</p>\n",
              "</div>"
            ],
            "text/plain": [
              "                                                 content annotation  extras\n",
              "0                                 Get fucking real dude.          1     NaN\n",
              "1       She is as dirty as they come  and that crook ...          1     NaN\n",
              "2       why did you fuck it up. I could do it all day...          1     NaN\n",
              "3       Dude they dont finish enclosing the fucking s...          1     NaN\n",
              "4       WTF are you talking about Men? No men thats n...          1     NaN\n",
              "...                                                  ...        ...     ...\n",
              "19996    I dont. But what is complaining about it goi...          0     NaN\n",
              "19997   Bahah  yeah i&;m totally just gonna&; get pis...          0     NaN\n",
              "19998       hahahahaha >:) im evil mwahahahahahahahahaha          0     NaN\n",
              "19999            What&;s something unique about Ohio? :)          0     NaN\n",
              "20000              Who is the biggest gossiper you know?          0     NaN\n",
              "\n",
              "[20001 rows x 3 columns]"
            ]
          },
          "metadata": {
            "tags": []
          },
          "execution_count": 15
        }
      ]
    },
    {
      "cell_type": "code",
      "metadata": {
        "colab": {
          "base_uri": "https://localhost:8080/",
          "height": 402
        },
        "id": "3JdGPBApUsQp",
        "outputId": "37aaff02-3501-4671-f1e7-693eb2cbc447"
      },
      "source": [
        "data3"
      ],
      "execution_count": null,
      "outputs": [
        {
          "output_type": "execute_result",
          "data": {
            "text/html": [
              "<div>\n",
              "<style scoped>\n",
              "    .dataframe tbody tr th:only-of-type {\n",
              "        vertical-align: middle;\n",
              "    }\n",
              "\n",
              "    .dataframe tbody tr th {\n",
              "        vertical-align: top;\n",
              "    }\n",
              "\n",
              "    .dataframe thead th {\n",
              "        text-align: right;\n",
              "    }\n",
              "</style>\n",
              "<table border=\"1\" class=\"dataframe\">\n",
              "  <thead>\n",
              "    <tr style=\"text-align: right;\">\n",
              "      <th></th>\n",
              "      <th>content</th>\n",
              "      <th>annotation</th>\n",
              "      <th>extras</th>\n",
              "    </tr>\n",
              "  </thead>\n",
              "  <tbody>\n",
              "    <tr>\n",
              "      <th>0</th>\n",
              "      <td>Get fucking real dude.</td>\n",
              "      <td>1</td>\n",
              "      <td>NaN</td>\n",
              "    </tr>\n",
              "    <tr>\n",
              "      <th>1</th>\n",
              "      <td>She is as dirty as they come  and that crook ...</td>\n",
              "      <td>1</td>\n",
              "      <td>NaN</td>\n",
              "    </tr>\n",
              "    <tr>\n",
              "      <th>2</th>\n",
              "      <td>why did you fuck it up. I could do it all day...</td>\n",
              "      <td>1</td>\n",
              "      <td>NaN</td>\n",
              "    </tr>\n",
              "    <tr>\n",
              "      <th>3</th>\n",
              "      <td>Dude they dont finish enclosing the fucking s...</td>\n",
              "      <td>1</td>\n",
              "      <td>NaN</td>\n",
              "    </tr>\n",
              "    <tr>\n",
              "      <th>4</th>\n",
              "      <td>WTF are you talking about Men? No men thats n...</td>\n",
              "      <td>1</td>\n",
              "      <td>NaN</td>\n",
              "    </tr>\n",
              "    <tr>\n",
              "      <th>...</th>\n",
              "      <td>...</td>\n",
              "      <td>...</td>\n",
              "      <td>...</td>\n",
              "    </tr>\n",
              "    <tr>\n",
              "      <th>19996</th>\n",
              "      <td>I dont. But what is complaining about it goi...</td>\n",
              "      <td>0</td>\n",
              "      <td>NaN</td>\n",
              "    </tr>\n",
              "    <tr>\n",
              "      <th>19997</th>\n",
              "      <td>Bahah  yeah i&amp;;m totally just gonna&amp;; get pis...</td>\n",
              "      <td>0</td>\n",
              "      <td>NaN</td>\n",
              "    </tr>\n",
              "    <tr>\n",
              "      <th>19998</th>\n",
              "      <td>hahahahaha &gt;:) im evil mwahahahahahahahahaha</td>\n",
              "      <td>0</td>\n",
              "      <td>NaN</td>\n",
              "    </tr>\n",
              "    <tr>\n",
              "      <th>19999</th>\n",
              "      <td>What&amp;;s something unique about Ohio? :)</td>\n",
              "      <td>0</td>\n",
              "      <td>NaN</td>\n",
              "    </tr>\n",
              "    <tr>\n",
              "      <th>20000</th>\n",
              "      <td>Who is the biggest gossiper you know?</td>\n",
              "      <td>0</td>\n",
              "      <td>NaN</td>\n",
              "    </tr>\n",
              "  </tbody>\n",
              "</table>\n",
              "<p>20001 rows × 3 columns</p>\n",
              "</div>"
            ],
            "text/plain": [
              "                                                 content annotation  extras\n",
              "0                                 Get fucking real dude.          1     NaN\n",
              "1       She is as dirty as they come  and that crook ...          1     NaN\n",
              "2       why did you fuck it up. I could do it all day...          1     NaN\n",
              "3       Dude they dont finish enclosing the fucking s...          1     NaN\n",
              "4       WTF are you talking about Men? No men thats n...          1     NaN\n",
              "...                                                  ...        ...     ...\n",
              "19996    I dont. But what is complaining about it goi...          0     NaN\n",
              "19997   Bahah  yeah i&;m totally just gonna&; get pis...          0     NaN\n",
              "19998       hahahahaha >:) im evil mwahahahahahahahahaha          0     NaN\n",
              "19999            What&;s something unique about Ohio? :)          0     NaN\n",
              "20000              Who is the biggest gossiper you know?          0     NaN\n",
              "\n",
              "[20001 rows x 3 columns]"
            ]
          },
          "metadata": {
            "tags": []
          },
          "execution_count": 3
        }
      ]
    },
    {
      "cell_type": "code",
      "metadata": {
        "id": "Ft3V3FB6Mt39"
      },
      "source": [
        "data1 = pd.read_csv('labeled_tweets.csv')\n",
        "data2 = pd.read_csv('public_data_labeled.csv')"
      ],
      "execution_count": 16,
      "outputs": []
    },
    {
      "cell_type": "code",
      "metadata": {
        "id": "yqtChQ_-MzIu"
      },
      "source": [
        "data1.drop_duplicates(inplace = True)\n",
        "data1.drop('id', axis = 'columns', inplace = True)\n",
        "data2.drop_duplicates(inplace = True)\n",
        "data3.drop('extras', axis = 'columns', inplace = True)\n",
        "#data3.drop_duplicates(inplace = True)"
      ],
      "execution_count": 17,
      "outputs": []
    },
    {
      "cell_type": "code",
      "metadata": {
        "colab": {
          "base_uri": "https://localhost:8080/"
        },
        "id": "wmk-ilzryGbo",
        "outputId": "53667fe2-645e-4d7a-a328-f8b8e7f6c616"
      },
      "source": [
        "#import preprocessor as p\n",
        "!pip install tweet-preprocessor\n",
        "\n"
      ],
      "execution_count": null,
      "outputs": [
        {
          "output_type": "stream",
          "text": [
            "Collecting tweet-preprocessor\n",
            "  Downloading https://files.pythonhosted.org/packages/17/9d/71bd016a9edcef8860c607e531f30bd09b13103c7951ae73dd2bf174163c/tweet_preprocessor-0.6.0-py3-none-any.whl\n",
            "Installing collected packages: tweet-preprocessor\n",
            "Successfully installed tweet-preprocessor-0.6.0\n"
          ],
          "name": "stdout"
        }
      ]
    },
    {
      "cell_type": "code",
      "metadata": {
        "colab": {
          "base_uri": "https://localhost:8080/",
          "height": 363
        },
        "id": "4YG0uYxXy4pk",
        "outputId": "1d6b7f81-8f5b-403c-f048-79baaa845c8e"
      },
      "source": [
        "import preprocessor as p\n",
        "\n",
        "\n",
        "def preprocess_tweet(row):\n",
        "    full_text = row['full_text']\n",
        "    full_text = p.clean(full_text)\n",
        "    return full_text\n",
        "\n",
        "data1['full_text'] = data1.apply(preprocess_tweet, axis=1)\n",
        "data2['full_text'] = data2.apply(preprocess_tweet, axis=1)\n",
        "\n",
        "\n",
        "def preprocess_tweet3(row):\n",
        "    content = row['content']\n",
        "    content = p.clean(content)\n",
        "    return content\n",
        "\n",
        "data3['content'] = data3.apply(preprocess_tweet3, axis=1)\n",
        "\n"
      ],
      "execution_count": null,
      "outputs": [
        {
          "output_type": "error",
          "ename": "ModuleNotFoundError",
          "evalue": "ignored",
          "traceback": [
            "\u001b[0;31m---------------------------------------------------------------------------\u001b[0m",
            "\u001b[0;31mModuleNotFoundError\u001b[0m                       Traceback (most recent call last)",
            "\u001b[0;32m<ipython-input-7-0af9f81395e6>\u001b[0m in \u001b[0;36m<module>\u001b[0;34m()\u001b[0m\n\u001b[0;32m----> 1\u001b[0;31m \u001b[0;32mimport\u001b[0m \u001b[0mpreprocessor\u001b[0m \u001b[0;32mas\u001b[0m \u001b[0mp\u001b[0m\u001b[0;34m\u001b[0m\u001b[0;34m\u001b[0m\u001b[0m\n\u001b[0m\u001b[1;32m      2\u001b[0m \u001b[0;34m\u001b[0m\u001b[0m\n\u001b[1;32m      3\u001b[0m \u001b[0;34m\u001b[0m\u001b[0m\n\u001b[1;32m      4\u001b[0m \u001b[0;32mdef\u001b[0m \u001b[0mpreprocess_tweet\u001b[0m\u001b[0;34m(\u001b[0m\u001b[0mrow\u001b[0m\u001b[0;34m)\u001b[0m\u001b[0;34m:\u001b[0m\u001b[0;34m\u001b[0m\u001b[0;34m\u001b[0m\u001b[0m\n\u001b[1;32m      5\u001b[0m     \u001b[0mfull_text\u001b[0m \u001b[0;34m=\u001b[0m \u001b[0mrow\u001b[0m\u001b[0;34m[\u001b[0m\u001b[0;34m'full_text'\u001b[0m\u001b[0;34m]\u001b[0m\u001b[0;34m\u001b[0m\u001b[0;34m\u001b[0m\u001b[0m\n",
            "\u001b[0;31mModuleNotFoundError\u001b[0m: No module named 'preprocessor'",
            "",
            "\u001b[0;31m---------------------------------------------------------------------------\u001b[0;32m\nNOTE: If your import is failing due to a missing package, you can\nmanually install dependencies using either !pip or !apt.\n\nTo view examples of installing some common dependencies, click the\n\"Open Examples\" button below.\n\u001b[0;31m---------------------------------------------------------------------------\u001b[0m\n"
          ]
        }
      ]
    },
    {
      "cell_type": "code",
      "metadata": {
        "id": "yjwVh-vw1G4w"
      },
      "source": [
        "from gensim.parsing.preprocessing import remove_stopwords\n",
        "def stopword_removal(row):\n",
        "    full_text = row['full_text']\n",
        "    full_text = remove_stopwords(full_text)\n",
        "    return full_text\n",
        "\n",
        "data1['full_text'] = data1.apply(stopword_removal, axis=1)\n",
        "data2['full_text'] = data2.apply(stopword_removal, axis=1)\n",
        "\n",
        "data1['full_text'] = data1['full_text'].str.lower().str.replace('[^\\w\\s]',' ').str.replace('\\s\\s+', ' ')\n",
        "data2['full_text'] = data2['full_text'].str.lower().str.replace('[^\\w\\s]',' ').str.replace('\\s\\s+', ' ')\n",
        "\n",
        "def stopword_removal3(row):\n",
        "    content = row['content']\n",
        "    content = remove_stopwords(content)\n",
        "    return content\n",
        "\n",
        "data3['content'] = data3.apply(stopword_removal3, axis=1)\n",
        "data3['content'] = data3['content'].str.lower().str.replace('[^\\w\\s]',' ').str.replace('\\s\\s+', ' ')\n"
      ],
      "execution_count": null,
      "outputs": []
    },
    {
      "cell_type": "code",
      "metadata": {
        "colab": {
          "base_uri": "https://localhost:8080/",
          "height": 402
        },
        "id": "TuakqhRAzCH_",
        "outputId": "f525693d-be09-4505-c35a-b42fb6875795"
      },
      "source": [
        "data1.head(100)"
      ],
      "execution_count": null,
      "outputs": [
        {
          "output_type": "execute_result",
          "data": {
            "text/html": [
              "<div>\n",
              "<style scoped>\n",
              "    .dataframe tbody tr th:only-of-type {\n",
              "        vertical-align: middle;\n",
              "    }\n",
              "\n",
              "    .dataframe tbody tr th {\n",
              "        vertical-align: top;\n",
              "    }\n",
              "\n",
              "    .dataframe thead th {\n",
              "        text-align: right;\n",
              "    }\n",
              "</style>\n",
              "<table border=\"1\" class=\"dataframe\">\n",
              "  <thead>\n",
              "    <tr style=\"text-align: right;\">\n",
              "      <th></th>\n",
              "      <th>label</th>\n",
              "      <th>full_text</th>\n",
              "    </tr>\n",
              "  </thead>\n",
              "  <tbody>\n",
              "    <tr>\n",
              "      <th>0</th>\n",
              "      <td>Offensive</td>\n",
              "      <td>So Drasko just said he was impressed the girls...</td>\n",
              "    </tr>\n",
              "    <tr>\n",
              "      <th>2</th>\n",
              "      <td>Offensive</td>\n",
              "      <td>Drasko they didn't cook half a bird you idiot ...</td>\n",
              "    </tr>\n",
              "    <tr>\n",
              "      <th>4</th>\n",
              "      <td>Offensive</td>\n",
              "      <td>Hopefully someone cooks Drasko in the next ep ...</td>\n",
              "    </tr>\n",
              "    <tr>\n",
              "      <th>6</th>\n",
              "      <td>Offensive</td>\n",
              "      <td>of course you were born in serbia...you're as ...</td>\n",
              "    </tr>\n",
              "    <tr>\n",
              "      <th>7</th>\n",
              "      <td>Offensive</td>\n",
              "      <td>These girls are the equivalent of the irritati...</td>\n",
              "    </tr>\n",
              "    <tr>\n",
              "      <th>...</th>\n",
              "      <td>...</td>\n",
              "      <td>...</td>\n",
              "    </tr>\n",
              "    <tr>\n",
              "      <th>124</th>\n",
              "      <td>Offensive</td>\n",
              "      <td>Oh yeah Colin! Smash those girls! :D #MKR</td>\n",
              "    </tr>\n",
              "    <tr>\n",
              "      <th>125</th>\n",
              "      <td>Offensive</td>\n",
              "      <td>Kel the butcher has never heard of these silly...</td>\n",
              "    </tr>\n",
              "    <tr>\n",
              "      <th>126</th>\n",
              "      <td>Offensive</td>\n",
              "      <td>@mykitchenrules Did Stevie Wonder choose these...</td>\n",
              "    </tr>\n",
              "    <tr>\n",
              "      <th>127</th>\n",
              "      <td>Offensive</td>\n",
              "      <td>#MKR2015 #MKR why do they keep saying that the...</td>\n",
              "    </tr>\n",
              "    <tr>\n",
              "      <th>129</th>\n",
              "      <td>Offensive</td>\n",
              "      <td>Is #mkr sexist then? Four of the six teams in ...</td>\n",
              "    </tr>\n",
              "  </tbody>\n",
              "</table>\n",
              "<p>100 rows × 2 columns</p>\n",
              "</div>"
            ],
            "text/plain": [
              "         label                                          full_text\n",
              "0    Offensive  So Drasko just said he was impressed the girls...\n",
              "2    Offensive  Drasko they didn't cook half a bird you idiot ...\n",
              "4    Offensive  Hopefully someone cooks Drasko in the next ep ...\n",
              "6    Offensive  of course you were born in serbia...you're as ...\n",
              "7    Offensive  These girls are the equivalent of the irritati...\n",
              "..         ...                                                ...\n",
              "124  Offensive          Oh yeah Colin! Smash those girls! :D #MKR\n",
              "125  Offensive  Kel the butcher has never heard of these silly...\n",
              "126  Offensive  @mykitchenrules Did Stevie Wonder choose these...\n",
              "127  Offensive  #MKR2015 #MKR why do they keep saying that the...\n",
              "129  Offensive  Is #mkr sexist then? Four of the six teams in ...\n",
              "\n",
              "[100 rows x 2 columns]"
            ]
          },
          "metadata": {
            "tags": []
          },
          "execution_count": 8
        }
      ]
    },
    {
      "cell_type": "code",
      "metadata": {
        "id": "45kplwUrM1Yh"
      },
      "source": [
        "data = pd.concat([data1, data2])"
      ],
      "execution_count": 18,
      "outputs": []
    },
    {
      "cell_type": "code",
      "metadata": {
        "colab": {
          "base_uri": "https://localhost:8080/",
          "height": 429
        },
        "id": "dKmwoAUqM56O",
        "outputId": "8255885a-35b1-4ca6-c3cd-c6c714a7a40f"
      },
      "source": [
        "flatui = [\"#9b59b6\", \"#3498db\", \"#95a5a6\", \"#e74c3c\", \"#34495e\", \"#2ecc71\"]\n",
        "\n",
        "plt.figure(figsize = (7,7))\n",
        "sorted_counts = data['label'].value_counts()\n",
        "plt.pie(sorted_counts, labels = sorted_counts.index, startangle = 180, counterclock = False, wedgeprops = {'width' : 0.4},\n",
        "       autopct='%1.1f%%', pctdistance = 0.8, textprops = {'color': 'black', 'fontsize' : 13}, shadow = True,\n",
        "        colors = sns.color_palette(flatui))\n",
        "plt.text(x = -0.35, y = 0, s = 'Total Tweets: {}'.format(data.shape[0]))\n",
        "plt.title('Category of Tweets in the Dataset', fontsize = 16);\n",
        "dpi = 150\n",
        "#plt.savefig('tweetsfig.eps', dpi=dpi) # 3.8M!"
      ],
      "execution_count": 10,
      "outputs": [
        {
          "output_type": "display_data",
          "data": {
            "image/png": "[encoded data removed]",
            "text/plain": [
              "<Figure size 504x504 with 1 Axes>"
            ]
          },
          "metadata": {
            "tags": []
          }
        }
      ]
    },
    {
      "cell_type": "code",
      "metadata": {
        "colab": {
          "base_uri": "https://localhost:8080/",
          "height": 429
        },
        "id": "wV1LqmFVm4b_",
        "outputId": "81ad5be6-2cc9-4a7d-c1f9-9f08b6e069e1"
      },
      "source": [
        "flatui = [\"#9b59b6\", \"#3498db\", \"#95a5a6\", \"#e74c3c\", \"#34495e\", \"#2ecc71\"]\n",
        "\n",
        "plt.figure(figsize = (7,7))\n",
        "sorted_counts = data3['annotation'].value_counts()\n",
        "plt.pie(sorted_counts, labels = sorted_counts.index, startangle = 180, counterclock = False, wedgeprops = {'width' : 0.4},\n",
        "       autopct='%1.1f%%', pctdistance = 0.8, textprops = {'color': 'black', 'fontsize' : 13}, shadow = True,\n",
        "        colors = sns.color_palette(flatui))\n",
        "plt.text(x = -0.35, y = 0, s = 'Total Tweets: {}'.format(data3.shape[0]))\n",
        "plt.title('Category of Tweets in the Dataset', fontsize = 16);\n",
        "dpi = 150\n",
        "#plt.savefig('tweetsfig.eps', dpi=dpi) # 3.8M!"
      ],
      "execution_count": null,
      "outputs": [
        {
          "output_type": "display_data",
          "data": {
            "image/png": "[encoded data removed]",
            "text/plain": [
              "<Figure size 504x504 with 1 Axes>"
            ]
          },
          "metadata": {
            "tags": []
          }
        }
      ]
    },
    {
      "cell_type": "code",
      "metadata": {
        "id": "sCkQd9rnM8HZ"
      },
      "source": [
        "data['label'] = data.label.map({'Offensive': 1, 'Non-offensive': 0})"
      ],
      "execution_count": 19,
      "outputs": []
    },
    {
      "cell_type": "markdown",
      "metadata": {
        "id": "26yILsYYHOCp"
      },
      "source": [
        ""
      ]
    },
    {
      "cell_type": "code",
      "metadata": {
        "colab": {
          "base_uri": "https://localhost:8080/",
          "height": 415
        },
        "id": "QTZ4QbD1NBFH",
        "outputId": "aa2d748a-52a0-4be6-e173-19fbb63dc2e0"
      },
      "source": [
        "data3.columns = ['full_text', 'label']\r\n",
        "\r\n",
        "data3"
      ],
      "execution_count": 20,
      "outputs": [
        {
          "output_type": "execute_result",
          "data": {
            "text/html": [
              "<div>\n",
              "<style scoped>\n",
              "    .dataframe tbody tr th:only-of-type {\n",
              "        vertical-align: middle;\n",
              "    }\n",
              "\n",
              "    .dataframe tbody tr th {\n",
              "        vertical-align: top;\n",
              "    }\n",
              "\n",
              "    .dataframe thead th {\n",
              "        text-align: right;\n",
              "    }\n",
              "</style>\n",
              "<table border=\"1\" class=\"dataframe\">\n",
              "  <thead>\n",
              "    <tr style=\"text-align: right;\">\n",
              "      <th></th>\n",
              "      <th>full_text</th>\n",
              "      <th>label</th>\n",
              "    </tr>\n",
              "  </thead>\n",
              "  <tbody>\n",
              "    <tr>\n",
              "      <th>0</th>\n",
              "      <td>Get fucking real dude.</td>\n",
              "      <td>1</td>\n",
              "    </tr>\n",
              "    <tr>\n",
              "      <th>1</th>\n",
              "      <td>She is as dirty as they come  and that crook ...</td>\n",
              "      <td>1</td>\n",
              "    </tr>\n",
              "    <tr>\n",
              "      <th>2</th>\n",
              "      <td>why did you fuck it up. I could do it all day...</td>\n",
              "      <td>1</td>\n",
              "    </tr>\n",
              "    <tr>\n",
              "      <th>3</th>\n",
              "      <td>Dude they dont finish enclosing the fucking s...</td>\n",
              "      <td>1</td>\n",
              "    </tr>\n",
              "    <tr>\n",
              "      <th>4</th>\n",
              "      <td>WTF are you talking about Men? No men thats n...</td>\n",
              "      <td>1</td>\n",
              "    </tr>\n",
              "    <tr>\n",
              "      <th>...</th>\n",
              "      <td>...</td>\n",
              "      <td>...</td>\n",
              "    </tr>\n",
              "    <tr>\n",
              "      <th>19996</th>\n",
              "      <td>I dont. But what is complaining about it goi...</td>\n",
              "      <td>0</td>\n",
              "    </tr>\n",
              "    <tr>\n",
              "      <th>19997</th>\n",
              "      <td>Bahah  yeah i&amp;;m totally just gonna&amp;; get pis...</td>\n",
              "      <td>0</td>\n",
              "    </tr>\n",
              "    <tr>\n",
              "      <th>19998</th>\n",
              "      <td>hahahahaha &gt;:) im evil mwahahahahahahahahaha</td>\n",
              "      <td>0</td>\n",
              "    </tr>\n",
              "    <tr>\n",
              "      <th>19999</th>\n",
              "      <td>What&amp;;s something unique about Ohio? :)</td>\n",
              "      <td>0</td>\n",
              "    </tr>\n",
              "    <tr>\n",
              "      <th>20000</th>\n",
              "      <td>Who is the biggest gossiper you know?</td>\n",
              "      <td>0</td>\n",
              "    </tr>\n",
              "  </tbody>\n",
              "</table>\n",
              "<p>20001 rows × 2 columns</p>\n",
              "</div>"
            ],
            "text/plain": [
              "                                               full_text label\n",
              "0                                 Get fucking real dude.     1\n",
              "1       She is as dirty as they come  and that crook ...     1\n",
              "2       why did you fuck it up. I could do it all day...     1\n",
              "3       Dude they dont finish enclosing the fucking s...     1\n",
              "4       WTF are you talking about Men? No men thats n...     1\n",
              "...                                                  ...   ...\n",
              "19996    I dont. But what is complaining about it goi...     0\n",
              "19997   Bahah  yeah i&;m totally just gonna&; get pis...     0\n",
              "19998       hahahahaha >:) im evil mwahahahahahahahahaha     0\n",
              "19999            What&;s something unique about Ohio? :)     0\n",
              "20000              Who is the biggest gossiper you know?     0\n",
              "\n",
              "[20001 rows x 2 columns]"
            ]
          },
          "metadata": {
            "tags": []
          },
          "execution_count": 20
        }
      ]
    },
    {
      "cell_type": "code",
      "metadata": {
        "id": "MVp86roGxwL1"
      },
      "source": [
        "data = pd.concat([data, data3])"
      ],
      "execution_count": 21,
      "outputs": []
    },
    {
      "cell_type": "code",
      "metadata": {
        "colab": {
          "base_uri": "https://localhost:8080/"
        },
        "id": "4nV0zHf7KCOR",
        "outputId": "b05cd654-8837-4762-d183-8c37119d2b3b"
      },
      "source": [
        "sorted_counts = data['label'].value_counts()\r\n",
        "sorted_counts"
      ],
      "execution_count": 22,
      "outputs": [
        {
          "output_type": "execute_result",
          "data": {
            "text/plain": [
              "1    31353\n",
              "0    24435\n",
              "Name: label, dtype: int64"
            ]
          },
          "metadata": {
            "tags": []
          },
          "execution_count": 22
        }
      ]
    },
    {
      "cell_type": "code",
      "metadata": {
        "colab": {
          "base_uri": "https://localhost:8080/"
        },
        "id": "WRkDEAqhBpi5",
        "outputId": "3b747a13-cdf6-488c-e18d-d620dc1ced94"
      },
      "source": [
        "sorted_counts"
      ],
      "execution_count": 23,
      "outputs": [
        {
          "output_type": "execute_result",
          "data": {
            "text/plain": [
              "1    31353\n",
              "0    24435\n",
              "Name: label, dtype: int64"
            ]
          },
          "metadata": {
            "tags": []
          },
          "execution_count": 23
        }
      ]
    },
    {
      "cell_type": "code",
      "metadata": {
        "colab": {
          "base_uri": "https://localhost:8080/"
        },
        "id": "QikIOe74MplW",
        "outputId": "4e9e86a6-2349-4531-fc55-64c68d7b98f7"
      },
      "source": [
        "! pip install transformers\n"
      ],
      "execution_count": null,
      "outputs": [
        {
          "output_type": "stream",
          "text": [
            "Collecting transformers\n",
            "\u001b[?25l  Downloading https://files.pythonhosted.org/packages/88/b1/41130a228dd656a1a31ba281598a968320283f48d42782845f6ba567f00b/transformers-4.2.2-py3-none-any.whl (1.8MB)\n",
            "\u001b[K     |████████████████████████████████| 1.8MB 6.4MB/s \n",
            "\u001b[?25hRequirement already satisfied: numpy in /usr/local/lib/python3.6/dist-packages (from transformers) (1.19.5)\n",
            "Requirement already satisfied: regex!=2019.12.17 in /usr/local/lib/python3.6/dist-packages (from transformers) (2019.12.20)\n",
            "Requirement already satisfied: importlib-metadata; python_version < \"3.8\" in /usr/local/lib/python3.6/dist-packages (from transformers) (3.4.0)\n",
            "Requirement already satisfied: requests in /usr/local/lib/python3.6/dist-packages (from transformers) (2.23.0)\n",
            "Collecting tokenizers==0.9.4\n",
            "\u001b[?25l  Downloading https://files.pythonhosted.org/packages/0f/1c/e789a8b12e28be5bc1ce2156cf87cb522b379be9cadc7ad8091a4cc107c4/tokenizers-0.9.4-cp36-cp36m-manylinux2010_x86_64.whl (2.9MB)\n",
            "\u001b[K     |████████████████████████████████| 2.9MB 23.6MB/s \n",
            "\u001b[?25hRequirement already satisfied: filelock in /usr/local/lib/python3.6/dist-packages (from transformers) (3.0.12)\n",
            "Requirement already satisfied: dataclasses; python_version < \"3.7\" in /usr/local/lib/python3.6/dist-packages (from transformers) (0.8)\n",
            "Requirement already satisfied: tqdm>=4.27 in /usr/local/lib/python3.6/dist-packages (from transformers) (4.41.1)\n",
            "Requirement already satisfied: packaging in /usr/local/lib/python3.6/dist-packages (from transformers) (20.9)\n",
            "Collecting sacremoses\n",
            "\u001b[?25l  Downloading https://files.pythonhosted.org/packages/7d/34/09d19aff26edcc8eb2a01bed8e98f13a1537005d31e95233fd48216eed10/sacremoses-0.0.43.tar.gz (883kB)\n",
            "\u001b[K     |████████████████████████████████| 890kB 56.2MB/s \n",
            "\u001b[?25hRequirement already satisfied: typing-extensions>=3.6.4; python_version < \"3.8\" in /usr/local/lib/python3.6/dist-packages (from importlib-metadata; python_version < \"3.8\"->transformers) (3.7.4.3)\n",
            "Requirement already satisfied: zipp>=0.5 in /usr/local/lib/python3.6/dist-packages (from importlib-metadata; python_version < \"3.8\"->transformers) (3.4.0)\n",
            "Requirement already satisfied: urllib3!=1.25.0,!=1.25.1,<1.26,>=1.21.1 in /usr/local/lib/python3.6/dist-packages (from requests->transformers) (1.24.3)\n",
            "Requirement already satisfied: chardet<4,>=3.0.2 in /usr/local/lib/python3.6/dist-packages (from requests->transformers) (3.0.4)\n",
            "Requirement already satisfied: idna<3,>=2.5 in /usr/local/lib/python3.6/dist-packages (from requests->transformers) (2.10)\n",
            "Requirement already satisfied: certifi>=2017.4.17 in /usr/local/lib/python3.6/dist-packages (from requests->transformers) (2020.12.5)\n",
            "Requirement already satisfied: pyparsing>=2.0.2 in /usr/local/lib/python3.6/dist-packages (from packaging->transformers) (2.4.7)\n",
            "Requirement already satisfied: six in /usr/local/lib/python3.6/dist-packages (from sacremoses->transformers) (1.15.0)\n",
            "Requirement already satisfied: click in /usr/local/lib/python3.6/dist-packages (from sacremoses->transformers) (7.1.2)\n",
            "Requirement already satisfied: joblib in /usr/local/lib/python3.6/dist-packages (from sacremoses->transformers) (1.0.0)\n",
            "Building wheels for collected packages: sacremoses\n",
            "  Building wheel for sacremoses (setup.py) ... \u001b[?25l\u001b[?25hdone\n",
            "  Created wheel for sacremoses: filename=sacremoses-0.0.43-cp36-none-any.whl size=893261 sha256=6b8e78e90d470d877c98821ca1540875f59c7b6c7a778e43a51f03a5f0c703e8\n",
            "  Stored in directory: /root/.cache/pip/wheels/29/3c/fd/7ce5c3f0666dab31a50123635e6fb5e19ceb42ce38d4e58f45\n",
            "Successfully built sacremoses\n",
            "Installing collected packages: tokenizers, sacremoses, transformers\n",
            "Successfully installed sacremoses-0.0.43 tokenizers-0.9.4 transformers-4.2.2\n"
          ],
          "name": "stdout"
        }
      ]
    },
    {
      "cell_type": "code",
      "metadata": {
        "id": "QG4qeWVaMKQB"
      },
      "source": [
        "import os\n",
        "import re\n",
        "import json\n",
        "import string\n",
        "import numpy as np\n",
        "import tensorflow as tf\n",
        "from tensorflow import keras\n",
        "from tensorflow.keras import layers\n",
        "from keras.preprocessing.text import Tokenizer\n",
        "\n",
        "class MultiHeadSelfAttention(layers.Layer):\n",
        "    def __init__(self, embed_dim, num_heads=8):\n",
        "        super(MultiHeadSelfAttention, self).__init__()\n",
        "        self.embed_dim = embed_dim\n",
        "        self.num_heads = num_heads\n",
        "        if embed_dim % num_heads != 0:\n",
        "            raise ValueError(\n",
        "                f\"embedding dimension = {embed_dim} should be divisible by number of heads = {num_heads}\"\n",
        "            )\n",
        "        self.projection_dim = embed_dim // num_heads\n",
        "        self.query_dense = layers.Dense(embed_dim)\n",
        "        self.key_dense = layers.Dense(embed_dim)\n",
        "        self.value_dense = layers.Dense(embed_dim)\n",
        "        self.combine_heads = layers.Dense(embed_dim)\n",
        "\n",
        "    def attention(self, query, key, value):\n",
        "        score = tf.matmul(query, key, transpose_b=True)\n",
        "        dim_key = tf.cast(tf.shape(key)[-1], tf.float32)\n",
        "        scaled_score = score / tf.math.sqrt(dim_key)\n",
        "        weights = tf.nn.softmax(scaled_score, axis=-1)\n",
        "        output = tf.matmul(weights, value)\n",
        "        return output, weights\n",
        "\n",
        "    def separate_heads(self, x, batch_size):\n",
        "        x = tf.reshape(x, (batch_size, -1, self.num_heads, self.projection_dim))\n",
        "        return tf.transpose(x, perm=[0, 2, 1, 3])\n",
        "\n",
        "    def call(self, inputs):\n",
        "        # x.shape = [batch_size, seq_len, embedding_dim]\n",
        "        batch_size = tf.shape(inputs)[0]\n",
        "        query = self.query_dense(inputs)  # (batch_size, seq_len, embed_dim)\n",
        "        key = self.key_dense(inputs)  # (batch_size, seq_len, embed_dim)\n",
        "        value = self.value_dense(inputs)  # (batch_size, seq_len, embed_dim)\n",
        "        query = self.separate_heads(\n",
        "            query, batch_size\n",
        "        )  # (batch_size, num_heads, seq_len, projection_dim)\n",
        "        key = self.separate_heads(\n",
        "            key, batch_size\n",
        "        )  # (batch_size, num_heads, seq_len, projection_dim)\n",
        "        value = self.separate_heads(\n",
        "            value, batch_size\n",
        "        )  # (batch_size, num_heads, seq_len, projection_dim)\n",
        "        attention, weights = self.attention(query, key, value)\n",
        "        attention = tf.transpose(\n",
        "            attention, perm=[0, 2, 1, 3]\n",
        "        )  # (batch_size, seq_len, num_heads, projection_dim)\n",
        "        concat_attention = tf.reshape(\n",
        "            attention, (batch_size, -1, self.embed_dim)\n",
        "        )  # (batch_size, seq_len, embed_dim)\n",
        "        output = self.combine_heads(\n",
        "            concat_attention\n",
        "        )  # (batch_size, seq_len, embed_dim)\n",
        "        return output\n",
        "\n",
        "\n",
        "class TransformerBlock(layers.Layer):\n",
        "    def __init__(self, embed_dim, num_heads, ff_dim, rate=0.1):\n",
        "        super(TransformerBlock, self).__init__()\n",
        "        self.att = MultiHeadSelfAttention(embed_dim, num_heads)\n",
        "        self.ffn = keras.Sequential(\n",
        "            [layers.Dense(ff_dim, activation=\"relu\"), layers.Dense(embed_dim),]\n",
        "        )\n",
        "        self.layernorm1 = layers.LayerNormalization(epsilon=1e-6)\n",
        "        self.layernorm2 = layers.LayerNormalization(epsilon=1e-6)\n",
        "        self.dropout1 = layers.Dropout(rate)\n",
        "        self.dropout2 = layers.Dropout(rate)\n",
        "\n",
        "    def call(self, inputs, training):\n",
        "        attn_output = self.att(inputs)\n",
        "        attn_output = self.dropout1(attn_output, training=training)\n",
        "        out1 = self.layernorm1(inputs + attn_output)\n",
        "        ffn_output = self.ffn(out1)\n",
        "        ffn_output = self.dropout2(ffn_output, training=training)\n",
        "        return self.layernorm2(out1 + ffn_output)\n",
        "class TokenAndPositionEmbedding(layers.Layer):\n",
        "    def __init__(self, maxlen, vocab_size, embed_dim):\n",
        "        super(TokenAndPositionEmbedding, self).__init__()\n",
        "        self.token_emb = layers.Embedding(input_dim=vocab_size, output_dim=embed_dim)\n",
        "        self.pos_emb = layers.Embedding(input_dim=maxlen, output_dim=embed_dim)\n",
        "\n",
        "    def call(self, x):\n",
        "        maxlen = tf.shape(x)[-1]\n",
        "        positions = tf.range(start=0, limit=maxlen, delta=1)\n",
        "        positions = self.pos_emb(positions)\n",
        "        x = self.token_emb(x)\n",
        "        return x + positions\n"
      ],
      "execution_count": 24,
      "outputs": []
    },
    {
      "cell_type": "code",
      "metadata": {
        "id": "7F7ksqxLO7O1"
      },
      "source": [
        "\n",
        "# fit model on dataset\n",
        "def fit_model(padded_train_sequences, Y_train):\n",
        "\t# define model\n",
        "  embed_dim = 32  # Embedding size for each token\n",
        "  num_heads = 2  # Number of attention heads\n",
        "  ff_dim = 32  # Hidden layer size in feed forward network inside transformer\n",
        "  maxlen = 150\n",
        "  vocab_size = 80000\n",
        "  inputs = layers.Input(shape=(maxlen,))\n",
        "  embedding_layer = TokenAndPositionEmbedding(maxlen, vocab_size, embed_dim)\n",
        "  x = embedding_layer(inputs)\n",
        "  transformer_block = TransformerBlock(embed_dim, num_heads, ff_dim)\n",
        "  x = transformer_block(x)\n",
        "  x = layers.GlobalAveragePooling1D()(x)\n",
        "  x = layers.Dropout(0.1)(x)\n",
        "  x = layers.Dense(200, activation=\"relu\")(x)\n",
        "  x = layers.Dropout(0.1)(x)\n",
        "  outputs = layers.Dense(2, activation=\"softmax\")(x)\n",
        "  model = keras.Model(inputs=inputs, outputs=outputs)\n",
        "\n",
        "  # fit model\n",
        "\n",
        "  model.compile(optimizer='adam', loss='categorical_crossentropy', metrics=[\"accuracy\"])\n",
        "  history = model.fit(x=padded_train_sequences, y=Y_train, \n",
        "                    #validation_data=(padded_test_sequences, Y_test), \n",
        "                    batch_size=batch_size, \n",
        "                    #callbacks=[checkpoint], \n",
        "                    epochs=8, \n",
        "                    verbose=1)\n",
        "  #accuracyscore = modelv.evaluate(padded_test_sequences, Y_test)\n",
        "  #print(accuracyscore * 100)\n",
        "  #print(\"Test loss:\", accuracyscore[0])\n",
        "  #print(\"Test accuracy:\", accuracyscore[1] * 100)\n",
        "  return model\n",
        "\n"
      ],
      "execution_count": null,
      "outputs": []
    },
    {
      "cell_type": "code",
      "metadata": {
        "id": "RvA8T3Bz1brG"
      },
      "source": [
        ""
      ],
      "execution_count": null,
      "outputs": []
    },
    {
      "cell_type": "code",
      "metadata": {
        "id": "_6TAWj3d3a7w",
        "colab": {
          "base_uri": "https://localhost:8080/"
        },
        "outputId": "db5b172e-33bc-469a-ef33-add27a93fa6d"
      },
      "source": [
        "from keras.layers import GRU, Bidirectional, GlobalAveragePooling1D, GlobalMaxPooling1D\n",
        "\n",
        "#y_binary = to_categorical(y_int)\n",
        "def Bidirectionalfunction(padded_train_sequences, Y_train):\n",
        "    embedding_dim = 150\n",
        "    embedding_matrix = np.random.random((MAX_NB_WORDS, embedding_dim))\n",
        "    \n",
        "    inp = Input(shape=(MAX_LENGTH, ))\n",
        "    x = Embedding(input_dim=MAX_NB_WORDS, output_dim=embedding_dim, input_length=MAX_LENGTH, \n",
        "                  weights=[embedding_matrix], trainable=True)(inp)\n",
        "    x = SpatialDropout1D(0.1)(x)\n",
        "    x = Bidirectional(GRU(10, return_sequences=True))(x)\n",
        "    avg_pool = GlobalAveragePooling1D()(x)\n",
        "    max_pool = GlobalMaxPooling1D()(x)\n",
        "    conc = concatenate([avg_pool, max_pool])\n",
        "    outp = Dense(2, activation=\"sigmoid\")(conc)\n",
        "    \n",
        "    model = Model(inputs=inp, outputs=outp)\n",
        "    model.compile(loss='binary_crossentropy',\n",
        "                  optimizer='adam',\n",
        "                  metrics=['accuracy'])\n",
        "    history = model.fit(x=padded_train_sequences, y=Y_train, \n",
        "                    #validation_data=(padded_test_sequences, Y_test), \n",
        "                    batch_size=batch_size, \n",
        "                    #callbacks=[checkpoint], \n",
        "                    epochs=30, \n",
        "                    verbose=1)\n",
        "\n",
        "    return model\n",
        "\n",
        "\n",
        "model = Bidirectionalfunction(padded_train_sequences, Y_train)\n",
        "\n",
        "accuracyscore = model.evaluate( padded_test_sequences, Y_test)\n",
        "\n",
        "print(model.summary())\n",
        "\n",
        "\n",
        "print(accuracyscore * 100)\n",
        "print(\"Test loss:\", accuracyscore[0])\n",
        "print(\"Test accuracy:\", accuracyscore[1] * 100)\n",
        "\n",
        "y_pred = model.predict([padded_test_sequences])\n",
        "\n",
        "from sklearn.metrics import classification_report\n",
        "from sklearn.metrics import confusion_matrix\n",
        "print(confusion_matrix(y_test, np.argmax(y_pred, axis = 1)))\n",
        "print(classification_report(y_test, np.argmax(y_pred, axis = 1)))\n"
      ],
      "execution_count": null,
      "outputs": [
        {
          "output_type": "stream",
          "text": [
            "Epoch 1/30\n",
            "1308/1308 [==============================] - 237s 179ms/step - loss: 0.5312 - accuracy: 0.7083\n",
            "Epoch 2/30\n",
            "1308/1308 [==============================] - 245s 188ms/step - loss: 0.3088 - accuracy: 0.8625\n",
            "Epoch 3/30\n",
            "1308/1308 [==============================] - 236s 181ms/step - loss: 0.2307 - accuracy: 0.9070\n",
            "Epoch 4/30\n",
            "1308/1308 [==============================] - 231s 176ms/step - loss: 0.1659 - accuracy: 0.9380\n",
            "Epoch 5/30\n",
            "1308/1308 [==============================] - 235s 180ms/step - loss: 0.1208 - accuracy: 0.9568\n",
            "Epoch 6/30\n",
            "1308/1308 [==============================] - 241s 184ms/step - loss: 0.0908 - accuracy: 0.9686\n",
            "Epoch 7/30\n",
            "1308/1308 [==============================] - 241s 184ms/step - loss: 0.0736 - accuracy: 0.9763\n",
            "Epoch 8/30\n",
            "1308/1308 [==============================] - 243s 186ms/step - loss: 0.0586 - accuracy: 0.9811\n",
            "Epoch 9/30\n",
            "1308/1308 [==============================] - 242s 185ms/step - loss: 0.0493 - accuracy: 0.9848\n",
            "Epoch 10/30\n",
            "1308/1308 [==============================] - 233s 178ms/step - loss: 0.0432 - accuracy: 0.9858\n",
            "Epoch 11/30\n",
            "1308/1308 [==============================] - 235s 179ms/step - loss: 0.0335 - accuracy: 0.9894\n",
            "Epoch 12/30\n",
            "1308/1308 [==============================] - 232s 177ms/step - loss: 0.0330 - accuracy: 0.9893\n",
            "Epoch 13/30\n",
            "1308/1308 [==============================] - 234s 179ms/step - loss: 0.0272 - accuracy: 0.9921\n",
            "Epoch 14/30\n",
            "1308/1308 [==============================] - 237s 181ms/step - loss: 0.0227 - accuracy: 0.9928\n",
            "Epoch 15/30\n",
            "1308/1308 [==============================] - 239s 183ms/step - loss: 0.0230 - accuracy: 0.9927\n",
            "Epoch 16/30\n",
            "1308/1308 [==============================] - 228s 174ms/step - loss: 0.0188 - accuracy: 0.9938\n",
            "Epoch 17/30\n",
            "1308/1308 [==============================] - 227s 174ms/step - loss: 0.0174 - accuracy: 0.9938\n",
            "Epoch 18/30\n",
            "1308/1308 [==============================] - 224s 171ms/step - loss: 0.0180 - accuracy: 0.9939\n",
            "Epoch 19/30\n",
            "1308/1308 [==============================] - 231s 176ms/step - loss: 0.0167 - accuracy: 0.9942\n",
            "Epoch 20/30\n",
            "1308/1308 [==============================] - 227s 174ms/step - loss: 0.0145 - accuracy: 0.9950\n",
            "Epoch 21/30\n",
            "1308/1308 [==============================] - 233s 178ms/step - loss: 0.0135 - accuracy: 0.9952\n",
            "Epoch 22/30\n",
            "1308/1308 [==============================] - 231s 176ms/step - loss: 0.0139 - accuracy: 0.9950\n",
            "Epoch 23/30\n",
            "1308/1308 [==============================] - 235s 179ms/step - loss: 0.0135 - accuracy: 0.9955\n",
            "Epoch 24/30\n",
            "1308/1308 [==============================] - 244s 186ms/step - loss: 0.0139 - accuracy: 0.9952\n",
            "Epoch 25/30\n",
            "1308/1308 [==============================] - 240s 184ms/step - loss: 0.0124 - accuracy: 0.9954\n",
            "Epoch 26/30\n",
            "1308/1308 [==============================] - 236s 180ms/step - loss: 0.0126 - accuracy: 0.9957\n",
            "Epoch 27/30\n",
            "1308/1308 [==============================] - 231s 177ms/step - loss: 0.0117 - accuracy: 0.9957\n",
            "Epoch 28/30\n",
            "1308/1308 [==============================] - 231s 177ms/step - loss: 0.0112 - accuracy: 0.9958\n",
            "Epoch 29/30\n",
            "1308/1308 [==============================] - 233s 178ms/step - loss: 0.0114 - accuracy: 0.9963\n",
            "Epoch 30/30\n",
            "1308/1308 [==============================] - 230s 176ms/step - loss: 0.0115 - accuracy: 0.9955\n",
            "436/436 [==============================] - 11s 24ms/step - loss: 0.6359 - accuracy: 0.8744\n",
            "Model: \"model\"\n",
            "__________________________________________________________________________________________________\n",
            "Layer (type)                    Output Shape         Param #     Connected to                     \n",
            "==================================================================================================\n",
            "input_1 (InputLayer)            [(None, 343)]        0                                            \n",
            "__________________________________________________________________________________________________\n",
            "embedding (Embedding)           (None, 343, 150)     12000000    input_1[0][0]                    \n",
            "__________________________________________________________________________________________________\n",
            "spatial_dropout1d (SpatialDropo (None, 343, 150)     0           embedding[0][0]                  \n",
            "__________________________________________________________________________________________________\n",
            "bidirectional (Bidirectional)   (None, 343, 20)      9720        spatial_dropout1d[0][0]          \n",
            "__________________________________________________________________________________________________\n",
            "global_average_pooling1d (Globa (None, 20)           0           bidirectional[0][0]              \n",
            "__________________________________________________________________________________________________\n",
            "global_max_pooling1d (GlobalMax (None, 20)           0           bidirectional[0][0]              \n",
            "__________________________________________________________________________________________________\n",
            "concatenate (Concatenate)       (None, 40)           0           global_average_pooling1d[0][0]   \n",
            "                                                                 global_max_pooling1d[0][0]       \n",
            "__________________________________________________________________________________________________\n",
            "dense (Dense)                   (None, 2)            82          concatenate[0][0]                \n",
            "==================================================================================================\n",
            "Total params: 12,009,802\n",
            "Trainable params: 12,009,802\n",
            "Non-trainable params: 0\n",
            "__________________________________________________________________________________________________\n",
            "None\n",
            "[0.6358780264854431, 0.8743816018104553, 0.6358780264854431, 0.8743816018104553, 0.6358780264854431, 0.8743816018104553, 0.6358780264854431, 0.8743816018104553, 0.6358780264854431, 0.8743816018104553, 0.6358780264854431, 0.8743816018104553, 0.6358780264854431, 0.8743816018104553, 0.6358780264854431, 0.8743816018104553, 0.6358780264854431, 0.8743816018104553, 0.6358780264854431, 0.8743816018104553, 0.6358780264854431, 0.8743816018104553, 0.6358780264854431, 0.8743816018104553, 0.6358780264854431, 0.8743816018104553, 0.6358780264854431, 0.8743816018104553, 0.6358780264854431, 0.8743816018104553, 0.6358780264854431, 0.8743816018104553, 0.6358780264854431, 0.8743816018104553, 0.6358780264854431, 0.8743816018104553, 0.6358780264854431, 0.8743816018104553, 0.6358780264854431, 0.8743816018104553, 0.6358780264854431, 0.8743816018104553, 0.6358780264854431, 0.8743816018104553, 0.6358780264854431, 0.8743816018104553, 0.6358780264854431, 0.8743816018104553, 0.6358780264854431, 0.8743816018104553, 0.6358780264854431, 0.8743816018104553, 0.6358780264854431, 0.8743816018104553, 0.6358780264854431, 0.8743816018104553, 0.6358780264854431, 0.8743816018104553, 0.6358780264854431, 0.8743816018104553, 0.6358780264854431, 0.8743816018104553, 0.6358780264854431, 0.8743816018104553, 0.6358780264854431, 0.8743816018104553, 0.6358780264854431, 0.8743816018104553, 0.6358780264854431, 0.8743816018104553, 0.6358780264854431, 0.8743816018104553, 0.6358780264854431, 0.8743816018104553, 0.6358780264854431, 0.8743816018104553, 0.6358780264854431, 0.8743816018104553, 0.6358780264854431, 0.8743816018104553, 0.6358780264854431, 0.8743816018104553, 0.6358780264854431, 0.8743816018104553, 0.6358780264854431, 0.8743816018104553, 0.6358780264854431, 0.8743816018104553, 0.6358780264854431, 0.8743816018104553, 0.6358780264854431, 0.8743816018104553, 0.6358780264854431, 0.8743816018104553, 0.6358780264854431, 0.8743816018104553, 0.6358780264854431, 0.8743816018104553, 0.6358780264854431, 0.8743816018104553, 0.6358780264854431, 0.8743816018104553, 0.6358780264854431, 0.8743816018104553, 0.6358780264854431, 0.8743816018104553, 0.6358780264854431, 0.8743816018104553, 0.6358780264854431, 0.8743816018104553, 0.6358780264854431, 0.8743816018104553, 0.6358780264854431, 0.8743816018104553, 0.6358780264854431, 0.8743816018104553, 0.6358780264854431, 0.8743816018104553, 0.6358780264854431, 0.8743816018104553, 0.6358780264854431, 0.8743816018104553, 0.6358780264854431, 0.8743816018104553, 0.6358780264854431, 0.8743816018104553, 0.6358780264854431, 0.8743816018104553, 0.6358780264854431, 0.8743816018104553, 0.6358780264854431, 0.8743816018104553, 0.6358780264854431, 0.8743816018104553, 0.6358780264854431, 0.8743816018104553, 0.6358780264854431, 0.8743816018104553, 0.6358780264854431, 0.8743816018104553, 0.6358780264854431, 0.8743816018104553, 0.6358780264854431, 0.8743816018104553, 0.6358780264854431, 0.8743816018104553, 0.6358780264854431, 0.8743816018104553, 0.6358780264854431, 0.8743816018104553, 0.6358780264854431, 0.8743816018104553, 0.6358780264854431, 0.8743816018104553, 0.6358780264854431, 0.8743816018104553, 0.6358780264854431, 0.8743816018104553, 0.6358780264854431, 0.8743816018104553, 0.6358780264854431, 0.8743816018104553, 0.6358780264854431, 0.8743816018104553, 0.6358780264854431, 0.8743816018104553, 0.6358780264854431, 0.8743816018104553, 0.6358780264854431, 0.8743816018104553, 0.6358780264854431, 0.8743816018104553, 0.6358780264854431, 0.8743816018104553, 0.6358780264854431, 0.8743816018104553, 0.6358780264854431, 0.8743816018104553, 0.6358780264854431, 0.8743816018104553, 0.6358780264854431, 0.8743816018104553, 0.6358780264854431, 0.8743816018104553, 0.6358780264854431, 0.8743816018104553, 0.6358780264854431, 0.8743816018104553, 0.6358780264854431, 0.8743816018104553, 0.6358780264854431, 0.8743816018104553, 0.6358780264854431, 0.8743816018104553, 0.6358780264854431, 0.8743816018104553, 0.6358780264854431, 0.8743816018104553, 0.6358780264854431, 0.8743816018104553]\n",
            "Test loss: 0.6358780264854431\n",
            "Test accuracy: 87.43816018104553\n",
            "[[4947 1153]\n",
            " [ 599 7248]]\n",
            "              precision    recall  f1-score   support\n",
            "\n",
            "           0       0.89      0.81      0.85      6100\n",
            "           1       0.86      0.92      0.89      7847\n",
            "\n",
            "    accuracy                           0.87     13947\n",
            "   macro avg       0.88      0.87      0.87     13947\n",
            "weighted avg       0.88      0.87      0.87     13947\n",
            "\n"
          ],
          "name": "stdout"
        }
      ]
    },
    {
      "cell_type": "code",
      "metadata": {
        "id": "mRF7RyLfAbBz"
      },
      "source": [
        "# define the model\n",
        "def define_model3(padded_train_sequences, Y_train):\n",
        "\t# channel 1\n",
        "\tembedding_dim = 150\n",
        "\tinputs1 = Input(shape=(MAX_LENGTH,))\n",
        "\tembedding1 = Embedding(input_dim=MAX_NB_WORDS, output_dim=embedding_dim, input_length=MAX_LENGTH)(inputs1)\n",
        "\tconv1 = Conv1D(filters=32, kernel_size=4, activation='relu')(embedding1)\n",
        "\tdrop1 = Dropout(0.5)(conv1)\n",
        "\tpool1 = MaxPooling1D(pool_size=2)(drop1)\n",
        "\tflat1 = Flatten()(pool1)\n",
        "\t# channel 2\n",
        "\tinputs2 = Input(shape=(MAX_LENGTH,))\n",
        "\tembedding2 = Embedding(input_dim=MAX_NB_WORDS, output_dim=embedding_dim, input_length=MAX_LENGTH)(inputs2)\n",
        "\tconv2 = Conv1D(filters=32, kernel_size=6, activation='relu')(embedding2)\n",
        "\tdrop2 = Dropout(0.5)(conv2)\n",
        "\tpool2 = MaxPooling1D(pool_size=2)(drop2)\n",
        "\tflat2 = Flatten()(pool2)\n",
        "\t# channel 3\n",
        "\tinputs3 = Input(shape=(MAX_LENGTH,))\n",
        "\tembedding3 = Embedding(input_dim=MAX_NB_WORDS, output_dim=embedding_dim, input_length=MAX_LENGTH)(inputs3)\n",
        "\tconv3 = Conv1D(filters=32, kernel_size=8, activation='relu')(embedding3)\n",
        "\tdrop3 = Dropout(0.5)(conv3)\n",
        "\tpool3 = MaxPooling1D(pool_size=2)(drop3)\n",
        "\tflat3 = Flatten()(pool3)\n",
        "\t# merge\n",
        "\tmerged = concatenate([flat1, flat2, flat3])\n",
        "\t# interpretation\n",
        "\tdense1 = Dense(10, activation='relu')(merged)\n",
        "\toutputs = Dense(2, activation='sigmoid')(dense1)\n",
        "\tmodel = Model(inputs=[inputs1, inputs2, inputs3], outputs=outputs)\n",
        "\t# compile\n",
        "\tmodel.compile(loss='binary_crossentropy', optimizer='adam', metrics=['accuracy'])\n",
        "\tmodel.fit([padded_train_sequences,padded_train_sequences,padded_train_sequences], y_train, epochs=3, batch_size=16)\n",
        "\n",
        "\t#print(model.summary())\n",
        "\treturn model\n",
        "\n"
      ],
      "execution_count": null,
      "outputs": []
    },
    {
      "cell_type": "code",
      "metadata": {
        "id": "riLwwCieNCXf"
      },
      "source": [
        "from sklearn.preprocessing import LabelEncoder\n",
        "from keras.preprocessing.text import Tokenizer\n",
        "from keras.preprocessing.sequence import pad_sequences\n",
        "import keras\n",
        "\n",
        "\n",
        "batch_size = 32\n",
        "Y = data.label\n",
        "lebEnc = LabelEncoder()\n",
        "Y = lebEnc.fit_transform(Y)\n",
        "Y = Y.reshape(-1,1)\n",
        "\n",
        "\n",
        "X = data.full_text\n",
        "\n",
        "X_train,X_test,y_train,y_test = train_test_split(X,Y,test_size=0.25)\n",
        "\n",
        "MAX_NB_WORDS = 80000\n",
        "MAX_SEQUENCE_LENGTH = max([len(s.split()) for s in X_train]) \n",
        "tokenizer = Tokenizer(num_words=MAX_NB_WORDS)\n",
        "tokenizer.fit_on_texts(X_train)\n",
        "\n",
        "\n",
        "train_sequences = tokenizer.texts_to_sequences(X_train)\n",
        "test_sequences = tokenizer.texts_to_sequences(X_test)\n",
        "\n",
        "\n",
        "\n",
        "MAX_LENGTH = max([len(s.split()) for s in X_train])\n",
        "padded_train_sequences = pad_sequences(train_sequences, maxlen=MAX_LENGTH)\n",
        "padded_test_sequences = pad_sequences(test_sequences, maxlen=MAX_LENGTH)\n",
        "\n",
        "\n",
        "Y_test = keras.utils.to_categorical(np.asarray(y_test))\n",
        "Y_train = keras.utils.to_categorical(np.asarray(y_train))\n",
        "\n"
      ],
      "execution_count": 25,
      "outputs": []
    },
    {
      "cell_type": "code",
      "metadata": {
        "colab": {
          "base_uri": "https://localhost:8080/"
        },
        "id": "gm_s7RGsLQ6Y",
        "outputId": "b27aa9e8-5ead-4242-f112-ee20f66ed441"
      },
      "source": [
        ""
      ],
      "execution_count": null,
      "outputs": [
        {
          "output_type": "execute_result",
          "data": {
            "text/plain": [
              "(13947, 2)"
            ]
          },
          "metadata": {
            "tags": []
          },
          "execution_count": 15
        }
      ]
    },
    {
      "cell_type": "code",
      "metadata": {
        "colab": {
          "base_uri": "https://localhost:8080/",
          "height": 346
        },
        "id": "rNXnPDUNJcrR",
        "outputId": "5e55dc47-7830-4730-fb2d-42945d538471"
      },
      "source": [
        "from sklearn.preprocessing import LabelEncoder\n",
        "from keras.preprocessing.text import Tokenizer\n",
        "from keras.preprocessing.sequence import pad_sequences\n",
        "import keras\n",
        "\n",
        "\n",
        "\n",
        "batch_size = 32 \n",
        "Y = data3.annotation\n",
        "lebEnc = LabelEncoder()\n",
        "Y = lebEnc.fit_transform(Y)\n",
        "Y = Y.reshape(-1,1)\n",
        "\n",
        "\n",
        "X = data3.content\n",
        "\n",
        "X_train,X_test,y_train,y_test = train_test_split(X,Y,test_size=0.90)\n",
        "\n",
        "MAX_NB_WORDS = 80000\n",
        "MAX_SEQUENCE_LENGTH = max([len(s.split()) for s in X_train]) \n",
        "tokenizer = Tokenizer(nb_words=MAX_NB_WORDS)\n",
        "tokenizer.fit_on_texts(X_train)\n",
        "\n",
        "\n",
        "train_sequences = tokenizer.texts_to_sequences(X_train)\n",
        "test_sequences = tokenizer.texts_to_sequences(X_test)\n",
        "\n",
        "\n",
        "\n",
        "MAX_LENGTH = max([len(s.split()) for s in X_train])\n",
        "padded_train_sequences = pad_sequences(train_sequences, maxlen=MAX_LENGTH)\n",
        "padded_test_sequences = pad_sequences(test_sequences, maxlen=MAX_LENGTH)\n",
        "\n",
        "\n",
        "Y_test = keras.utils.to_categorical(np.asarray(y_test))\n",
        "Y_train = keras.utils.to_categorical(np.asarray(y_train))\n",
        "\n"
      ],
      "execution_count": null,
      "outputs": [
        {
          "output_type": "error",
          "ename": "AttributeError",
          "evalue": "ignored",
          "traceback": [
            "\u001b[0;31m---------------------------------------------------------------------------\u001b[0m",
            "\u001b[0;31mAttributeError\u001b[0m                            Traceback (most recent call last)",
            "\u001b[0;32m<ipython-input-32-f50f2fbcf7a7>\u001b[0m in \u001b[0;36m<module>\u001b[0;34m()\u001b[0m\n\u001b[1;32m      7\u001b[0m \u001b[0;34m\u001b[0m\u001b[0m\n\u001b[1;32m      8\u001b[0m \u001b[0mbatch_size\u001b[0m \u001b[0;34m=\u001b[0m \u001b[0;36m32\u001b[0m\u001b[0;34m\u001b[0m\u001b[0;34m\u001b[0m\u001b[0m\n\u001b[0;32m----> 9\u001b[0;31m \u001b[0mY\u001b[0m \u001b[0;34m=\u001b[0m \u001b[0mdata3\u001b[0m\u001b[0;34m.\u001b[0m\u001b[0mannotation\u001b[0m\u001b[0;34m\u001b[0m\u001b[0;34m\u001b[0m\u001b[0m\n\u001b[0m\u001b[1;32m     10\u001b[0m \u001b[0mlebEnc\u001b[0m \u001b[0;34m=\u001b[0m \u001b[0mLabelEncoder\u001b[0m\u001b[0;34m(\u001b[0m\u001b[0;34m)\u001b[0m\u001b[0;34m\u001b[0m\u001b[0;34m\u001b[0m\u001b[0m\n\u001b[1;32m     11\u001b[0m \u001b[0mY\u001b[0m \u001b[0;34m=\u001b[0m \u001b[0mlebEnc\u001b[0m\u001b[0;34m.\u001b[0m\u001b[0mfit_transform\u001b[0m\u001b[0;34m(\u001b[0m\u001b[0mY\u001b[0m\u001b[0;34m)\u001b[0m\u001b[0;34m\u001b[0m\u001b[0;34m\u001b[0m\u001b[0m\n",
            "\u001b[0;32m/usr/local/lib/python3.6/dist-packages/pandas/core/generic.py\u001b[0m in \u001b[0;36m__getattr__\u001b[0;34m(self, name)\u001b[0m\n\u001b[1;32m   5139\u001b[0m             \u001b[0;32mif\u001b[0m \u001b[0mself\u001b[0m\u001b[0;34m.\u001b[0m\u001b[0m_info_axis\u001b[0m\u001b[0;34m.\u001b[0m\u001b[0m_can_hold_identifiers_and_holds_name\u001b[0m\u001b[0;34m(\u001b[0m\u001b[0mname\u001b[0m\u001b[0;34m)\u001b[0m\u001b[0;34m:\u001b[0m\u001b[0;34m\u001b[0m\u001b[0;34m\u001b[0m\u001b[0m\n\u001b[1;32m   5140\u001b[0m                 \u001b[0;32mreturn\u001b[0m \u001b[0mself\u001b[0m\u001b[0;34m[\u001b[0m\u001b[0mname\u001b[0m\u001b[0;34m]\u001b[0m\u001b[0;34m\u001b[0m\u001b[0;34m\u001b[0m\u001b[0m\n\u001b[0;32m-> 5141\u001b[0;31m             \u001b[0;32mreturn\u001b[0m \u001b[0mobject\u001b[0m\u001b[0;34m.\u001b[0m\u001b[0m__getattribute__\u001b[0m\u001b[0;34m(\u001b[0m\u001b[0mself\u001b[0m\u001b[0;34m,\u001b[0m \u001b[0mname\u001b[0m\u001b[0;34m)\u001b[0m\u001b[0;34m\u001b[0m\u001b[0;34m\u001b[0m\u001b[0m\n\u001b[0m\u001b[1;32m   5142\u001b[0m \u001b[0;34m\u001b[0m\u001b[0m\n\u001b[1;32m   5143\u001b[0m     \u001b[0;32mdef\u001b[0m \u001b[0m__setattr__\u001b[0m\u001b[0;34m(\u001b[0m\u001b[0mself\u001b[0m\u001b[0;34m,\u001b[0m \u001b[0mname\u001b[0m\u001b[0;34m:\u001b[0m \u001b[0mstr\u001b[0m\u001b[0;34m,\u001b[0m \u001b[0mvalue\u001b[0m\u001b[0;34m)\u001b[0m \u001b[0;34m->\u001b[0m \u001b[0;32mNone\u001b[0m\u001b[0;34m:\u001b[0m\u001b[0;34m\u001b[0m\u001b[0;34m\u001b[0m\u001b[0m\n",
            "\u001b[0;31mAttributeError\u001b[0m: 'DataFrame' object has no attribute 'annotation'"
          ]
        }
      ]
    },
    {
      "cell_type": "code",
      "metadata": {
        "colab": {
          "base_uri": "https://localhost:8080/",
          "height": 346
        },
        "id": "1ldPbps39v7q",
        "outputId": "9f149b50-bc8a-4383-d968-604c6d8cdc38"
      },
      "source": [
        "from sklearn.preprocessing import LabelEncoder\r\n",
        "from keras.preprocessing.text import Tokenizer\r\n",
        "from keras.preprocessing.sequence import pad_sequences\r\n",
        "import keras\r\n",
        "\r\n",
        "\r\n",
        "\r\n",
        "batch_size = 32\r\n",
        "Y = data.label\r\n",
        "lebEnc = LabelEncoder()\r\n",
        "Y = lebEnc.fit_transform(Y)\r\n",
        "Y = Y.reshape(-1,1)\r\n",
        "\r\n",
        "\r\n",
        "X = data.full_text\r\n",
        "\r\n",
        "X_train,X_test,y_train,y_test = train_test_split(X,Y,test_size=0.25)\r\n",
        "\r\n",
        "MAX_NB_WORDS = 80000\r\n",
        "MAX_SEQUENCE_LENGTH = max([len(s.split()) for s in X_train]) \r\n",
        "\r\n",
        "\r\n",
        "# Instantiate the CountVectorizer method\r\n",
        "count_vector = CountVectorizer(stop_words = 'english', lowercase = True)\r\n",
        "\r\n",
        "# Fit the training data and then return the matrix\r\n",
        "padded_train_sequences = count_vector.fit_transform(X_train)\r\n",
        "\r\n",
        "# Transform testing data and return the matrix. Note we are not fitting the testing data into the CountVectorizer()\r\n",
        "padded_test_sequences = count_vector.transform(X_test)\r\n",
        "\r\n",
        "\r\n",
        "\r\n",
        "#tokenizer = Tokenizer(num_words=MAX_NB_WORDS)\r\n",
        "#tokenizer.fit_on_texts(X_train)\r\n",
        "\r\n",
        "\r\n",
        "#train_sequences = tokenizer.texts_to_sequences(X_train)\r\n",
        "#test_sequences = tokenizer.texts_to_sequences(X_test)\r\n",
        "\r\n",
        "\r\n",
        "\r\n",
        "#MAX_LENGTH = max([len(s.split()) for s in X_train])\r\n",
        "#padded_train_sequences = pad_sequences(train_sequences, maxlen=MAX_LENGTH)\r\n",
        "#padded_test_sequences = pad_sequences(test_sequences, maxlen=MAX_LENGTH)\r\n",
        "\r\n",
        "\r\n",
        "Y_test = keras.utils.to_categorical(np.asarray(y_test))\r\n",
        "Y_train = keras.utils.to_categorical(np.asarray(y_train))\r\n",
        "\r\n"
      ],
      "execution_count": null,
      "outputs": [
        {
          "output_type": "error",
          "ename": "AttributeError",
          "evalue": "ignored",
          "traceback": [
            "\u001b[0;31m---------------------------------------------------------------------------\u001b[0m",
            "\u001b[0;31mAttributeError\u001b[0m                            Traceback (most recent call last)",
            "\u001b[0;32m<ipython-input-16-a956cd6e50c2>\u001b[0m in \u001b[0;36m<module>\u001b[0;34m()\u001b[0m\n\u001b[1;32m     18\u001b[0m \u001b[0;34m\u001b[0m\u001b[0m\n\u001b[1;32m     19\u001b[0m \u001b[0mMAX_NB_WORDS\u001b[0m \u001b[0;34m=\u001b[0m \u001b[0;36m80000\u001b[0m\u001b[0;34m\u001b[0m\u001b[0;34m\u001b[0m\u001b[0m\n\u001b[0;32m---> 20\u001b[0;31m \u001b[0mMAX_SEQUENCE_LENGTH\u001b[0m \u001b[0;34m=\u001b[0m \u001b[0mmax\u001b[0m\u001b[0;34m(\u001b[0m\u001b[0;34m[\u001b[0m\u001b[0mlen\u001b[0m\u001b[0;34m(\u001b[0m\u001b[0ms\u001b[0m\u001b[0;34m.\u001b[0m\u001b[0msplit\u001b[0m\u001b[0;34m(\u001b[0m\u001b[0;34m)\u001b[0m\u001b[0;34m)\u001b[0m \u001b[0;32mfor\u001b[0m \u001b[0ms\u001b[0m \u001b[0;32min\u001b[0m \u001b[0mX_train\u001b[0m\u001b[0;34m]\u001b[0m\u001b[0;34m)\u001b[0m\u001b[0;34m\u001b[0m\u001b[0;34m\u001b[0m\u001b[0m\n\u001b[0m\u001b[1;32m     21\u001b[0m \u001b[0;34m\u001b[0m\u001b[0m\n\u001b[1;32m     22\u001b[0m \u001b[0;34m\u001b[0m\u001b[0m\n",
            "\u001b[0;32m<ipython-input-16-a956cd6e50c2>\u001b[0m in \u001b[0;36m<listcomp>\u001b[0;34m(.0)\u001b[0m\n\u001b[1;32m     18\u001b[0m \u001b[0;34m\u001b[0m\u001b[0m\n\u001b[1;32m     19\u001b[0m \u001b[0mMAX_NB_WORDS\u001b[0m \u001b[0;34m=\u001b[0m \u001b[0;36m80000\u001b[0m\u001b[0;34m\u001b[0m\u001b[0;34m\u001b[0m\u001b[0m\n\u001b[0;32m---> 20\u001b[0;31m \u001b[0mMAX_SEQUENCE_LENGTH\u001b[0m \u001b[0;34m=\u001b[0m \u001b[0mmax\u001b[0m\u001b[0;34m(\u001b[0m\u001b[0;34m[\u001b[0m\u001b[0mlen\u001b[0m\u001b[0;34m(\u001b[0m\u001b[0ms\u001b[0m\u001b[0;34m.\u001b[0m\u001b[0msplit\u001b[0m\u001b[0;34m(\u001b[0m\u001b[0;34m)\u001b[0m\u001b[0;34m)\u001b[0m \u001b[0;32mfor\u001b[0m \u001b[0ms\u001b[0m \u001b[0;32min\u001b[0m \u001b[0mX_train\u001b[0m\u001b[0;34m]\u001b[0m\u001b[0;34m)\u001b[0m\u001b[0;34m\u001b[0m\u001b[0;34m\u001b[0m\u001b[0m\n\u001b[0m\u001b[1;32m     21\u001b[0m \u001b[0;34m\u001b[0m\u001b[0m\n\u001b[1;32m     22\u001b[0m \u001b[0;34m\u001b[0m\u001b[0m\n",
            "\u001b[0;31mAttributeError\u001b[0m: 'float' object has no attribute 'split'"
          ]
        }
      ]
    },
    {
      "cell_type": "code",
      "metadata": {
        "colab": {
          "base_uri": "https://localhost:8080/"
        },
        "id": "pheZYd-lgpz-",
        "outputId": "6f29b51f-7200-44fb-d315-8b9111eef3e7"
      },
      "source": [
        "print(Y_train.shape) \n",
        "print(Y_test.shape)\n",
        "print(Y_train.shape[0] + Y_test.shape[0])\n",
        "print(MAX_LENGTH)\n",
        "\n",
        "\n",
        "print('-------------------------')\n",
        "\n",
        "print(55788 * 0.25)\n",
        "print(55788 * 0.75)\n"
      ],
      "execution_count": null,
      "outputs": [
        {
          "output_type": "stream",
          "text": [
            "(41841, 2)\n",
            "(13947, 2)\n",
            "55788\n",
            "343\n",
            "-------------------------\n",
            "13947.0\n",
            "41841.0\n"
          ],
          "name": "stdout"
        }
      ]
    },
    {
      "cell_type": "code",
      "metadata": {
        "colab": {
          "base_uri": "https://localhost:8080/",
          "height": 107
        },
        "id": "tKWQptmkXwVq",
        "outputId": "62da96e5-1748-4b93-d71a-7d717ffba8ad"
      },
      "source": [
        "modelv = tf.keras.models.load_model('content/saved_model/model_1')\n",
        "\n",
        "accuracyscore = modelv.evaluate(padded_test_sequences, Y_test)\n",
        "\n",
        "print(accuracyscore * 100)\n",
        "print(\"Test loss:\", accuracyscore[0])\n",
        "print(\"Test accuracy:\", accuracyscore[1] * 100)"
      ],
      "execution_count": null,
      "outputs": [
        {
          "output_type": "stream",
          "text": [
            "224/224 [==============================] - 2s 10ms/step - loss: 0.6124 - accuracy: 0.9063\n",
            "[0.6124063730239868, 0.9062587022781372, 0.6124063730239868, 0.9062587022781372, 0.6124063730239868, 0.9062587022781372, 0.6124063730239868, 0.9062587022781372, 0.6124063730239868, 0.9062587022781372, 0.6124063730239868, 0.9062587022781372, 0.6124063730239868, 0.9062587022781372, 0.6124063730239868, 0.9062587022781372, 0.6124063730239868, 0.9062587022781372, 0.6124063730239868, 0.9062587022781372, 0.6124063730239868, 0.9062587022781372, 0.6124063730239868, 0.9062587022781372, 0.6124063730239868, 0.9062587022781372, 0.6124063730239868, 0.9062587022781372, 0.6124063730239868, 0.9062587022781372, 0.6124063730239868, 0.9062587022781372, 0.6124063730239868, 0.9062587022781372, 0.6124063730239868, 0.9062587022781372, 0.6124063730239868, 0.9062587022781372, 0.6124063730239868, 0.9062587022781372, 0.6124063730239868, 0.9062587022781372, 0.6124063730239868, 0.9062587022781372, 0.6124063730239868, 0.9062587022781372, 0.6124063730239868, 0.9062587022781372, 0.6124063730239868, 0.9062587022781372, 0.6124063730239868, 0.9062587022781372, 0.6124063730239868, 0.9062587022781372, 0.6124063730239868, 0.9062587022781372, 0.6124063730239868, 0.9062587022781372, 0.6124063730239868, 0.9062587022781372, 0.6124063730239868, 0.9062587022781372, 0.6124063730239868, 0.9062587022781372, 0.6124063730239868, 0.9062587022781372, 0.6124063730239868, 0.9062587022781372, 0.6124063730239868, 0.9062587022781372, 0.6124063730239868, 0.9062587022781372, 0.6124063730239868, 0.9062587022781372, 0.6124063730239868, 0.9062587022781372, 0.6124063730239868, 0.9062587022781372, 0.6124063730239868, 0.9062587022781372, 0.6124063730239868, 0.9062587022781372, 0.6124063730239868, 0.9062587022781372, 0.6124063730239868, 0.9062587022781372, 0.6124063730239868, 0.9062587022781372, 0.6124063730239868, 0.9062587022781372, 0.6124063730239868, 0.9062587022781372, 0.6124063730239868, 0.9062587022781372, 0.6124063730239868, 0.9062587022781372, 0.6124063730239868, 0.9062587022781372, 0.6124063730239868, 0.9062587022781372, 0.6124063730239868, 0.9062587022781372, 0.6124063730239868, 0.9062587022781372, 0.6124063730239868, 0.9062587022781372, 0.6124063730239868, 0.9062587022781372, 0.6124063730239868, 0.9062587022781372, 0.6124063730239868, 0.9062587022781372, 0.6124063730239868, 0.9062587022781372, 0.6124063730239868, 0.9062587022781372, 0.6124063730239868, 0.9062587022781372, 0.6124063730239868, 0.9062587022781372, 0.6124063730239868, 0.9062587022781372, 0.6124063730239868, 0.9062587022781372, 0.6124063730239868, 0.9062587022781372, 0.6124063730239868, 0.9062587022781372, 0.6124063730239868, 0.9062587022781372, 0.6124063730239868, 0.9062587022781372, 0.6124063730239868, 0.9062587022781372, 0.6124063730239868, 0.9062587022781372, 0.6124063730239868, 0.9062587022781372, 0.6124063730239868, 0.9062587022781372, 0.6124063730239868, 0.9062587022781372, 0.6124063730239868, 0.9062587022781372, 0.6124063730239868, 0.9062587022781372, 0.6124063730239868, 0.9062587022781372, 0.6124063730239868, 0.9062587022781372, 0.6124063730239868, 0.9062587022781372, 0.6124063730239868, 0.9062587022781372, 0.6124063730239868, 0.9062587022781372, 0.6124063730239868, 0.9062587022781372, 0.6124063730239868, 0.9062587022781372, 0.6124063730239868, 0.9062587022781372, 0.6124063730239868, 0.9062587022781372, 0.6124063730239868, 0.9062587022781372, 0.6124063730239868, 0.9062587022781372, 0.6124063730239868, 0.9062587022781372, 0.6124063730239868, 0.9062587022781372, 0.6124063730239868, 0.9062587022781372, 0.6124063730239868, 0.9062587022781372, 0.6124063730239868, 0.9062587022781372, 0.6124063730239868, 0.9062587022781372, 0.6124063730239868, 0.9062587022781372, 0.6124063730239868, 0.9062587022781372, 0.6124063730239868, 0.9062587022781372, 0.6124063730239868, 0.9062587022781372, 0.6124063730239868, 0.9062587022781372, 0.6124063730239868, 0.9062587022781372, 0.6124063730239868, 0.9062587022781372, 0.6124063730239868, 0.9062587022781372, 0.6124063730239868, 0.9062587022781372, 0.6124063730239868, 0.9062587022781372]\n",
            "Test loss: 0.6124063730239868\n",
            "Test accuracy: 90.62587022781372\n"
          ],
          "name": "stdout"
        }
      ]
    },
    {
      "cell_type": "code",
      "metadata": {
        "id": "p60vXzyIdRf5"
      },
      "source": [
        ""
      ],
      "execution_count": null,
      "outputs": []
    },
    {
      "cell_type": "code",
      "metadata": {
        "colab": {
          "base_uri": "https://localhost:8080/",
          "height": 1000
        },
        "id": "9tkkdSEs2vzH",
        "outputId": "61a93bf3-4f91-42cd-fd95-316748072e88"
      },
      "source": [
        "#from google.colab import drive\n",
        "#drive.mount('/content/gdrive')\n",
        "#model_save_name = 'classifier.pt'\n",
        "#path = F\"/content/gdrive/My Drive/{filename}\" \n",
        "\n",
        "!mkdir -p saved_model\n",
        "n_members = 1\n",
        "for i in range(n_members):\n",
        "\t# fit model\n",
        "\tmodel = fit_model(padded_train_sequences, Y_train)\n",
        "\t# save model\n",
        "\tpath = 'content/saved_model/model_' + str(i + 1) + ''\n",
        "\tmodel.save(path)\n",
        "\tprint('>Saved %s' % path)\n",
        " \n",
        " \n",
        "\n",
        "\n",
        "model = define_model3(padded_train_sequences, y_train)\n",
        "\n",
        "model.save('content/saved_model/model_2')\n",
        "print('>Saved as model_2')\n",
        "\n",
        "\n",
        "model = Bidirectionalfunction(padded_train_sequences, Y_train)\n",
        "\n",
        "model.save('content/saved_model/model_3')\n",
        "print('>Saved as model_3')\n"
      ],
      "execution_count": null,
      "outputs": [
        {
          "output_type": "stream",
          "text": [
            "Epoch 1/8\n",
            "1432/1432 [==============================] - 44s 31ms/step - loss: 0.2954 - accuracy: 0.8650\n",
            "Epoch 2/8\n",
            "1432/1432 [==============================] - 46s 32ms/step - loss: 0.1376 - accuracy: 0.9488\n",
            "Epoch 3/8\n",
            "1432/1432 [==============================] - 45s 32ms/step - loss: 0.0739 - accuracy: 0.9738\n",
            "Epoch 4/8\n",
            "1432/1432 [==============================] - 45s 32ms/step - loss: 0.0443 - accuracy: 0.9846\n",
            "Epoch 5/8\n",
            "1432/1432 [==============================] - 45s 32ms/step - loss: 0.0284 - accuracy: 0.9906\n",
            "Epoch 6/8\n",
            "1432/1432 [==============================] - 46s 32ms/step - loss: 0.0209 - accuracy: 0.9931\n",
            "Epoch 7/8\n",
            "1432/1432 [==============================] - 45s 32ms/step - loss: 0.0164 - accuracy: 0.9941\n",
            "Epoch 8/8\n",
            "1432/1432 [==============================] - 46s 32ms/step - loss: 0.0124 - accuracy: 0.9952\n",
            "WARNING:tensorflow:From /usr/local/lib/python3.6/dist-packages/tensorflow/python/training/tracking/tracking.py:111: Model.state_updates (from tensorflow.python.keras.engine.training) is deprecated and will be removed in a future version.\n",
            "Instructions for updating:\n",
            "This property should not be used in TensorFlow 2.0, as updates are applied automatically.\n",
            "WARNING:tensorflow:From /usr/local/lib/python3.6/dist-packages/tensorflow/python/training/tracking/tracking.py:111: Layer.updates (from tensorflow.python.keras.engine.base_layer) is deprecated and will be removed in a future version.\n",
            "Instructions for updating:\n",
            "This property should not be used in TensorFlow 2.0, as updates are applied automatically.\n",
            "INFO:tensorflow:Assets written to: content/saved_model/model_1/assets\n",
            ">Saved content/saved_model/model_1\n",
            "Epoch 1/10\n",
            "1790/1790 [==============================] - 227s 127ms/step - loss: 0.3683 - accuracy: 0.8389\n",
            "Epoch 2/10\n",
            "1790/1790 [==============================] - 227s 127ms/step - loss: 0.2130 - accuracy: 0.9194\n",
            "Epoch 3/10\n",
            "1790/1790 [==============================] - 228s 127ms/step - loss: 0.1119 - accuracy: 0.9612\n",
            "Epoch 4/10\n",
            "1790/1790 [==============================] - 228s 127ms/step - loss: 0.0484 - accuracy: 0.9833\n",
            "Epoch 5/10\n",
            "1790/1790 [==============================] - 228s 127ms/step - loss: 0.0246 - accuracy: 0.9919\n",
            "Epoch 6/10\n",
            "1790/1790 [==============================] - 228s 127ms/step - loss: 0.0159 - accuracy: 0.9946\n",
            "Epoch 7/10\n",
            "1790/1790 [==============================] - 228s 128ms/step - loss: 0.0121 - accuracy: 0.9955\n",
            "Epoch 8/10\n",
            "1790/1790 [==============================] - 228s 128ms/step - loss: 0.0122 - accuracy: 0.9958\n",
            "Epoch 9/10\n",
            "1790/1790 [==============================] - 228s 127ms/step - loss: 0.0100 - accuracy: 0.9963\n",
            "Epoch 10/10\n",
            "1790/1790 [==============================] - 228s 127ms/step - loss: 0.0083 - accuracy: 0.9965\n",
            "INFO:tensorflow:Assets written to: content/saved_model/model_2/assets\n",
            ">Saved as model_2\n",
            "Epoch 1/8\n",
            "1432/1432 [==============================] - 268s 187ms/step - loss: 0.3263 - accuracy: 0.8551\n",
            "Epoch 2/8\n",
            "1432/1432 [==============================] - 274s 192ms/step - loss: 0.1838 - accuracy: 0.9277\n",
            "Epoch 3/8\n",
            "1432/1432 [==============================] - 273s 191ms/step - loss: 0.1323 - accuracy: 0.9477\n",
            "Epoch 4/8\n",
            "1432/1432 [==============================] - 268s 187ms/step - loss: 0.0849 - accuracy: 0.9697\n",
            "Epoch 5/8\n",
            "1432/1432 [==============================] - 273s 191ms/step - loss: 0.0571 - accuracy: 0.9802\n",
            "Epoch 6/8\n",
            "1432/1432 [==============================] - 265s 185ms/step - loss: 0.0390 - accuracy: 0.9867\n",
            "Epoch 7/8\n",
            "1432/1432 [==============================] - 261s 182ms/step - loss: 0.0292 - accuracy: 0.9904\n",
            "Epoch 8/8\n",
            "1432/1432 [==============================] - 264s 184ms/step - loss: 0.0214 - accuracy: 0.9929\n",
            "INFO:tensorflow:Assets written to: content/saved_model/model_3/assets\n",
            ">Saved as model_3\n"
          ],
          "name": "stdout"
        }
      ]
    },
    {
      "cell_type": "code",
      "metadata": {
        "id": "3eoAvYMXqI8P"
      },
      "source": [
        "model = tf.keras.models.load_model(path)"
      ],
      "execution_count": null,
      "outputs": []
    },
    {
      "cell_type": "code",
      "metadata": {
        "colab": {
          "base_uri": "https://localhost:8080/",
          "height": 1000
        },
        "id": "VOPV7IJtcqq3",
        "outputId": "27fda6dc-0462-47e1-fbea-7aa85caa1d44"
      },
      "source": [
        "# stacked generalization with linear meta model on blobs dataset\n",
        "from sklearn.datasets import make_blobs\n",
        "from sklearn.metrics import accuracy_score\n",
        "from sklearn.linear_model import LogisticRegression, SGDClassifier\n",
        "from keras.models import load_model\n",
        "from keras.utils import to_categorical\n",
        "from numpy import dstack\n",
        "\n",
        "# load models from file\n",
        "def load_all_models(n_models):\n",
        "\tall_models = list()\n",
        "\tfor i in range(n_models):\n",
        "\t\t# define filename for this ensemble\n",
        "\t\tfilename = 'content/saved_model/model_' + str(i + 1) + ''\n",
        "\t\t# load model from file\n",
        "\t\tmodel = tf.keras.models.load_model(filename)\n",
        "\t\t# add to list of members\n",
        "\t\tall_models.append(model)\n",
        "\t\tprint('>loaded %s' % filename)\n",
        "\treturn all_models\n",
        "\n",
        "# create stacked model input dataset as outputs from the ensemble\n",
        "def stacked_dataset(members, inputX):\n",
        "\tstackX = None\n",
        "\tfor model in members:\n",
        "\t\t# make prediction\n",
        "\t\tyhat = model.predict(inputX, verbose=0)\n",
        "\t\t# stack predictions into [rows, members, probabilities]\n",
        "\t\tif stackX is None:\n",
        "\t\t\tstackX = yhat\n",
        "\t\telse:\n",
        "\t\t\tstackX = dstack((stackX, yhat))\n",
        "\t# flatten predictions to [rows, members x probabilities]\n",
        "\tstackX = stackX.reshape((stackX.shape[0], stackX.shape[1]*stackX.shape[2]))\n",
        "\treturn stackX\n",
        "\n",
        "# fit a model based on the outputs from the ensemble members\n",
        "def fit_stacked_model(members, inputX, inputy):\n",
        "\t# create dataset using ensemble\n",
        "\tstackedX = stacked_dataset(members, inputX)\n",
        "\t# fit standalone model\n",
        "\tmodel = SGDClassifier()\n",
        "\tmodel.fit(stackedX, inputy)\n",
        "\treturn model\n",
        "\n",
        "# make a prediction with the stacked model\n",
        "def stacked_prediction(members, model, inputX):\n",
        "\t# create dataset using ensemble\n",
        "\tstackedX = stacked_dataset(members, inputX)\n",
        "\t# make a prediction\n",
        "\tyhat = model.predict(stackedX)\n",
        "\treturn yhat\n",
        "\n",
        "# generate 2d classification dataset\n",
        "X, y = make_blobs(n_samples=1100, centers=3, n_features=2, cluster_std=2, random_state=2)\n",
        "# split into train and test\n",
        "#n_train = 100\n",
        "#trainX, testX = X[:n_train, :], X[n_train:, :]\n",
        "#trainy, testy = y[:n_train], y[n_train:]\n",
        "print(padded_train_sequences.shape, padded_test_sequences.shape)\n",
        "# load all models\n",
        "n_members = 3\n",
        "members = load_all_models(n_members)\n",
        "print('Loaded %d models' % len(members))\n",
        "# evaluate standalone models on test dataset\n",
        "for model in members:\n",
        "\t#testy_enc = to_categorical(testy)\n",
        "\tprint(model.name)\n",
        "\tif model.name == \"functional_2\":\n",
        "\t\t_, acc = model.evaluate(padded_test_sequences, y_test, verbose=1)\n",
        "\tif model.name == \"functional_1\":\n",
        "\t\t_, acc = model.evaluate(padded_test_sequences, Y_test, verbose=1)\n",
        "\tif model.name == \"functional_5\":\n",
        "\t\t_, acc = model.evaluate(padded_test_sequences, Y_test, verbose=1)\n",
        "\tprint('Model Accuracy: %.3f' % acc)\n",
        "# fit stacked model using the ensemble\n",
        "model = fit_stacked_model(members, padded_test_sequences, y_test)\n",
        "# evaluate model on test set\n",
        "yhat = stacked_prediction(members, model, padded_test_sequences)\n",
        "acc = accuracy_score(y_test, yhat)\n",
        "print('Stacked Test Accuracy: %.3f' % acc)\n"
      ],
      "execution_count": null,
      "outputs": [
        {
          "output_type": "stream",
          "text": [
            "(28629, 150) (7158, 150)\n",
            ">loaded content/saved_model/model_1\n",
            ">loaded content/saved_model/model_2\n",
            ">loaded content/saved_model/model_3\n",
            "Loaded 3 models\n",
            "functional_1\n",
            "224/224 [==============================] - 3s 12ms/step - loss: 0.6167 - accuracy: 0.9012\n",
            "Model Accuracy: 0.901\n",
            "functional_3\n",
            "Model Accuracy: 0.901\n",
            "functional_5\n",
            "224/224 [==============================] - 4s 16ms/step - loss: 0.2894 - accuracy: 0.9142\n",
            "Model Accuracy: 0.914\n"
          ],
          "name": "stdout"
        },
        {
          "output_type": "error",
          "ename": "AssertionError",
          "evalue": "ignored",
          "traceback": [
            "\u001b[0;31m---------------------------------------------------------------------------\u001b[0m",
            "\u001b[0;31mAssertionError\u001b[0m                            Traceback (most recent call last)",
            "\u001b[0;32m<ipython-input-40-1be32752ae5b>\u001b[0m in \u001b[0;36m<module>\u001b[0;34m()\u001b[0m\n\u001b[1;32m     75\u001b[0m         \u001b[0mprint\u001b[0m\u001b[0;34m(\u001b[0m\u001b[0;34m'Model Accuracy: %.3f'\u001b[0m \u001b[0;34m%\u001b[0m \u001b[0macc\u001b[0m\u001b[0;34m)\u001b[0m\u001b[0;34m\u001b[0m\u001b[0;34m\u001b[0m\u001b[0m\n\u001b[1;32m     76\u001b[0m \u001b[0;31m# fit stacked model using the ensemble\u001b[0m\u001b[0;34m\u001b[0m\u001b[0;34m\u001b[0m\u001b[0;34m\u001b[0m\u001b[0m\n\u001b[0;32m---> 77\u001b[0;31m \u001b[0mmodel\u001b[0m \u001b[0;34m=\u001b[0m \u001b[0mfit_stacked_model\u001b[0m\u001b[0;34m(\u001b[0m\u001b[0mmembers\u001b[0m\u001b[0;34m,\u001b[0m \u001b[0mpadded_test_sequences\u001b[0m\u001b[0;34m,\u001b[0m \u001b[0my_test\u001b[0m\u001b[0;34m)\u001b[0m\u001b[0;34m\u001b[0m\u001b[0;34m\u001b[0m\u001b[0m\n\u001b[0m\u001b[1;32m     78\u001b[0m \u001b[0;31m# evaluate model on test set\u001b[0m\u001b[0;34m\u001b[0m\u001b[0;34m\u001b[0m\u001b[0;34m\u001b[0m\u001b[0m\n\u001b[1;32m     79\u001b[0m \u001b[0myhat\u001b[0m \u001b[0;34m=\u001b[0m \u001b[0mstacked_prediction\u001b[0m\u001b[0;34m(\u001b[0m\u001b[0mmembers\u001b[0m\u001b[0;34m,\u001b[0m \u001b[0mmodel\u001b[0m\u001b[0;34m,\u001b[0m \u001b[0mpadded_test_sequences\u001b[0m\u001b[0;34m)\u001b[0m\u001b[0;34m\u001b[0m\u001b[0;34m\u001b[0m\u001b[0m\n",
            "\u001b[0;32m<ipython-input-40-1be32752ae5b>\u001b[0m in \u001b[0;36mfit_stacked_model\u001b[0;34m(members, inputX, inputy)\u001b[0m\n\u001b[1;32m     38\u001b[0m \u001b[0;32mdef\u001b[0m \u001b[0mfit_stacked_model\u001b[0m\u001b[0;34m(\u001b[0m\u001b[0mmembers\u001b[0m\u001b[0;34m,\u001b[0m \u001b[0minputX\u001b[0m\u001b[0;34m,\u001b[0m \u001b[0minputy\u001b[0m\u001b[0;34m)\u001b[0m\u001b[0;34m:\u001b[0m\u001b[0;34m\u001b[0m\u001b[0;34m\u001b[0m\u001b[0m\n\u001b[1;32m     39\u001b[0m         \u001b[0;31m# create dataset using ensemble\u001b[0m\u001b[0;34m\u001b[0m\u001b[0;34m\u001b[0m\u001b[0;34m\u001b[0m\u001b[0m\n\u001b[0;32m---> 40\u001b[0;31m         \u001b[0mstackedX\u001b[0m \u001b[0;34m=\u001b[0m \u001b[0mstacked_dataset\u001b[0m\u001b[0;34m(\u001b[0m\u001b[0mmembers\u001b[0m\u001b[0;34m,\u001b[0m \u001b[0minputX\u001b[0m\u001b[0;34m)\u001b[0m\u001b[0;34m\u001b[0m\u001b[0;34m\u001b[0m\u001b[0m\n\u001b[0m\u001b[1;32m     41\u001b[0m         \u001b[0;31m# fit standalone model\u001b[0m\u001b[0;34m\u001b[0m\u001b[0;34m\u001b[0m\u001b[0;34m\u001b[0m\u001b[0m\n\u001b[1;32m     42\u001b[0m         \u001b[0mmodel\u001b[0m \u001b[0;34m=\u001b[0m \u001b[0mSGDClassifier\u001b[0m\u001b[0;34m(\u001b[0m\u001b[0;34m)\u001b[0m\u001b[0;34m\u001b[0m\u001b[0;34m\u001b[0m\u001b[0m\n",
            "\u001b[0;32m<ipython-input-40-1be32752ae5b>\u001b[0m in \u001b[0;36mstacked_dataset\u001b[0;34m(members, inputX)\u001b[0m\n\u001b[1;32m     25\u001b[0m         \u001b[0;32mfor\u001b[0m \u001b[0mmodel\u001b[0m \u001b[0;32min\u001b[0m \u001b[0mmembers\u001b[0m\u001b[0;34m:\u001b[0m\u001b[0;34m\u001b[0m\u001b[0;34m\u001b[0m\u001b[0m\n\u001b[1;32m     26\u001b[0m                 \u001b[0;31m# make prediction\u001b[0m\u001b[0;34m\u001b[0m\u001b[0;34m\u001b[0m\u001b[0;34m\u001b[0m\u001b[0m\n\u001b[0;32m---> 27\u001b[0;31m                 \u001b[0myhat\u001b[0m \u001b[0;34m=\u001b[0m \u001b[0mmodel\u001b[0m\u001b[0;34m.\u001b[0m\u001b[0mpredict\u001b[0m\u001b[0;34m(\u001b[0m\u001b[0minputX\u001b[0m\u001b[0;34m,\u001b[0m \u001b[0mverbose\u001b[0m\u001b[0;34m=\u001b[0m\u001b[0;36m0\u001b[0m\u001b[0;34m)\u001b[0m\u001b[0;34m\u001b[0m\u001b[0;34m\u001b[0m\u001b[0m\n\u001b[0m\u001b[1;32m     28\u001b[0m                 \u001b[0;31m# stack predictions into [rows, members, probabilities]\u001b[0m\u001b[0;34m\u001b[0m\u001b[0;34m\u001b[0m\u001b[0;34m\u001b[0m\u001b[0m\n\u001b[1;32m     29\u001b[0m                 \u001b[0;32mif\u001b[0m \u001b[0mstackX\u001b[0m \u001b[0;32mis\u001b[0m \u001b[0;32mNone\u001b[0m\u001b[0;34m:\u001b[0m\u001b[0;34m\u001b[0m\u001b[0;34m\u001b[0m\u001b[0m\n",
            "\u001b[0;32m/usr/local/lib/python3.6/dist-packages/tensorflow/python/keras/engine/training.py\u001b[0m in \u001b[0;36m_method_wrapper\u001b[0;34m(self, *args, **kwargs)\u001b[0m\n\u001b[1;32m    128\u001b[0m       raise ValueError('{} is not supported in multi-worker mode.'.format(\n\u001b[1;32m    129\u001b[0m           method.__name__))\n\u001b[0;32m--> 130\u001b[0;31m     \u001b[0;32mreturn\u001b[0m \u001b[0mmethod\u001b[0m\u001b[0;34m(\u001b[0m\u001b[0mself\u001b[0m\u001b[0;34m,\u001b[0m \u001b[0;34m*\u001b[0m\u001b[0margs\u001b[0m\u001b[0;34m,\u001b[0m \u001b[0;34m**\u001b[0m\u001b[0mkwargs\u001b[0m\u001b[0;34m)\u001b[0m\u001b[0;34m\u001b[0m\u001b[0;34m\u001b[0m\u001b[0m\n\u001b[0m\u001b[1;32m    131\u001b[0m \u001b[0;34m\u001b[0m\u001b[0m\n\u001b[1;32m    132\u001b[0m   return tf_decorator.make_decorator(\n",
            "\u001b[0;32m/usr/local/lib/python3.6/dist-packages/tensorflow/python/keras/engine/training.py\u001b[0m in \u001b[0;36mpredict\u001b[0;34m(self, x, batch_size, verbose, steps, callbacks, max_queue_size, workers, use_multiprocessing)\u001b[0m\n\u001b[1;32m   1597\u001b[0m           \u001b[0;32mfor\u001b[0m \u001b[0mstep\u001b[0m \u001b[0;32min\u001b[0m \u001b[0mdata_handler\u001b[0m\u001b[0;34m.\u001b[0m\u001b[0msteps\u001b[0m\u001b[0;34m(\u001b[0m\u001b[0;34m)\u001b[0m\u001b[0;34m:\u001b[0m\u001b[0;34m\u001b[0m\u001b[0;34m\u001b[0m\u001b[0m\n\u001b[1;32m   1598\u001b[0m             \u001b[0mcallbacks\u001b[0m\u001b[0;34m.\u001b[0m\u001b[0mon_predict_batch_begin\u001b[0m\u001b[0;34m(\u001b[0m\u001b[0mstep\u001b[0m\u001b[0;34m)\u001b[0m\u001b[0;34m\u001b[0m\u001b[0;34m\u001b[0m\u001b[0m\n\u001b[0;32m-> 1599\u001b[0;31m             \u001b[0mtmp_batch_outputs\u001b[0m \u001b[0;34m=\u001b[0m \u001b[0mpredict_function\u001b[0m\u001b[0;34m(\u001b[0m\u001b[0miterator\u001b[0m\u001b[0;34m)\u001b[0m\u001b[0;34m\u001b[0m\u001b[0;34m\u001b[0m\u001b[0m\n\u001b[0m\u001b[1;32m   1600\u001b[0m             \u001b[0;32mif\u001b[0m \u001b[0mdata_handler\u001b[0m\u001b[0;34m.\u001b[0m\u001b[0mshould_sync\u001b[0m\u001b[0;34m:\u001b[0m\u001b[0;34m\u001b[0m\u001b[0;34m\u001b[0m\u001b[0m\n\u001b[1;32m   1601\u001b[0m               \u001b[0mcontext\u001b[0m\u001b[0;34m.\u001b[0m\u001b[0masync_wait\u001b[0m\u001b[0;34m(\u001b[0m\u001b[0;34m)\u001b[0m\u001b[0;34m\u001b[0m\u001b[0;34m\u001b[0m\u001b[0m\n",
            "\u001b[0;32m/usr/local/lib/python3.6/dist-packages/tensorflow/python/eager/def_function.py\u001b[0m in \u001b[0;36m__call__\u001b[0;34m(self, *args, **kwds)\u001b[0m\n\u001b[1;32m    778\u001b[0m       \u001b[0;32melse\u001b[0m\u001b[0;34m:\u001b[0m\u001b[0;34m\u001b[0m\u001b[0;34m\u001b[0m\u001b[0m\n\u001b[1;32m    779\u001b[0m         \u001b[0mcompiler\u001b[0m \u001b[0;34m=\u001b[0m \u001b[0;34m\"nonXla\"\u001b[0m\u001b[0;34m\u001b[0m\u001b[0;34m\u001b[0m\u001b[0m\n\u001b[0;32m--> 780\u001b[0;31m         \u001b[0mresult\u001b[0m \u001b[0;34m=\u001b[0m \u001b[0mself\u001b[0m\u001b[0;34m.\u001b[0m\u001b[0m_call\u001b[0m\u001b[0;34m(\u001b[0m\u001b[0;34m*\u001b[0m\u001b[0margs\u001b[0m\u001b[0;34m,\u001b[0m \u001b[0;34m**\u001b[0m\u001b[0mkwds\u001b[0m\u001b[0;34m)\u001b[0m\u001b[0;34m\u001b[0m\u001b[0;34m\u001b[0m\u001b[0m\n\u001b[0m\u001b[1;32m    781\u001b[0m \u001b[0;34m\u001b[0m\u001b[0m\n\u001b[1;32m    782\u001b[0m       \u001b[0mnew_tracing_count\u001b[0m \u001b[0;34m=\u001b[0m \u001b[0mself\u001b[0m\u001b[0;34m.\u001b[0m\u001b[0m_get_tracing_count\u001b[0m\u001b[0;34m(\u001b[0m\u001b[0;34m)\u001b[0m\u001b[0;34m\u001b[0m\u001b[0;34m\u001b[0m\u001b[0m\n",
            "\u001b[0;32m/usr/local/lib/python3.6/dist-packages/tensorflow/python/eager/def_function.py\u001b[0m in \u001b[0;36m_call\u001b[0;34m(self, *args, **kwds)\u001b[0m\n\u001b[1;32m    821\u001b[0m       \u001b[0;31m# This is the first call of __call__, so we have to initialize.\u001b[0m\u001b[0;34m\u001b[0m\u001b[0;34m\u001b[0m\u001b[0;34m\u001b[0m\u001b[0m\n\u001b[1;32m    822\u001b[0m       \u001b[0minitializers\u001b[0m \u001b[0;34m=\u001b[0m \u001b[0;34m[\u001b[0m\u001b[0;34m]\u001b[0m\u001b[0;34m\u001b[0m\u001b[0;34m\u001b[0m\u001b[0m\n\u001b[0;32m--> 823\u001b[0;31m       \u001b[0mself\u001b[0m\u001b[0;34m.\u001b[0m\u001b[0m_initialize\u001b[0m\u001b[0;34m(\u001b[0m\u001b[0margs\u001b[0m\u001b[0;34m,\u001b[0m \u001b[0mkwds\u001b[0m\u001b[0;34m,\u001b[0m \u001b[0madd_initializers_to\u001b[0m\u001b[0;34m=\u001b[0m\u001b[0minitializers\u001b[0m\u001b[0;34m)\u001b[0m\u001b[0;34m\u001b[0m\u001b[0;34m\u001b[0m\u001b[0m\n\u001b[0m\u001b[1;32m    824\u001b[0m     \u001b[0;32mfinally\u001b[0m\u001b[0;34m:\u001b[0m\u001b[0;34m\u001b[0m\u001b[0;34m\u001b[0m\u001b[0m\n\u001b[1;32m    825\u001b[0m       \u001b[0;31m# At this point we know that the initialization is complete (or less\u001b[0m\u001b[0;34m\u001b[0m\u001b[0;34m\u001b[0m\u001b[0;34m\u001b[0m\u001b[0m\n",
            "\u001b[0;32m/usr/local/lib/python3.6/dist-packages/tensorflow/python/eager/def_function.py\u001b[0m in \u001b[0;36m_initialize\u001b[0;34m(self, args, kwds, add_initializers_to)\u001b[0m\n\u001b[1;32m    695\u001b[0m     self._concrete_stateful_fn = (\n\u001b[1;32m    696\u001b[0m         self._stateful_fn._get_concrete_function_internal_garbage_collected(  # pylint: disable=protected-access\n\u001b[0;32m--> 697\u001b[0;31m             *args, **kwds))\n\u001b[0m\u001b[1;32m    698\u001b[0m \u001b[0;34m\u001b[0m\u001b[0m\n\u001b[1;32m    699\u001b[0m     \u001b[0;32mdef\u001b[0m \u001b[0minvalid_creator_scope\u001b[0m\u001b[0;34m(\u001b[0m\u001b[0;34m*\u001b[0m\u001b[0munused_args\u001b[0m\u001b[0;34m,\u001b[0m \u001b[0;34m**\u001b[0m\u001b[0munused_kwds\u001b[0m\u001b[0;34m)\u001b[0m\u001b[0;34m:\u001b[0m\u001b[0;34m\u001b[0m\u001b[0;34m\u001b[0m\u001b[0m\n",
            "\u001b[0;32m/usr/local/lib/python3.6/dist-packages/tensorflow/python/eager/function.py\u001b[0m in \u001b[0;36m_get_concrete_function_internal_garbage_collected\u001b[0;34m(self, *args, **kwargs)\u001b[0m\n\u001b[1;32m   2853\u001b[0m       \u001b[0margs\u001b[0m\u001b[0;34m,\u001b[0m \u001b[0mkwargs\u001b[0m \u001b[0;34m=\u001b[0m \u001b[0;32mNone\u001b[0m\u001b[0;34m,\u001b[0m \u001b[0;32mNone\u001b[0m\u001b[0;34m\u001b[0m\u001b[0;34m\u001b[0m\u001b[0m\n\u001b[1;32m   2854\u001b[0m     \u001b[0;32mwith\u001b[0m \u001b[0mself\u001b[0m\u001b[0;34m.\u001b[0m\u001b[0m_lock\u001b[0m\u001b[0;34m:\u001b[0m\u001b[0;34m\u001b[0m\u001b[0;34m\u001b[0m\u001b[0m\n\u001b[0;32m-> 2855\u001b[0;31m       \u001b[0mgraph_function\u001b[0m\u001b[0;34m,\u001b[0m \u001b[0m_\u001b[0m\u001b[0;34m,\u001b[0m \u001b[0m_\u001b[0m \u001b[0;34m=\u001b[0m \u001b[0mself\u001b[0m\u001b[0;34m.\u001b[0m\u001b[0m_maybe_define_function\u001b[0m\u001b[0;34m(\u001b[0m\u001b[0margs\u001b[0m\u001b[0;34m,\u001b[0m \u001b[0mkwargs\u001b[0m\u001b[0;34m)\u001b[0m\u001b[0;34m\u001b[0m\u001b[0;34m\u001b[0m\u001b[0m\n\u001b[0m\u001b[1;32m   2856\u001b[0m     \u001b[0;32mreturn\u001b[0m \u001b[0mgraph_function\u001b[0m\u001b[0;34m\u001b[0m\u001b[0;34m\u001b[0m\u001b[0m\n\u001b[1;32m   2857\u001b[0m \u001b[0;34m\u001b[0m\u001b[0m\n",
            "\u001b[0;32m/usr/local/lib/python3.6/dist-packages/tensorflow/python/eager/function.py\u001b[0m in \u001b[0;36m_maybe_define_function\u001b[0;34m(self, args, kwargs)\u001b[0m\n\u001b[1;32m   3211\u001b[0m \u001b[0;34m\u001b[0m\u001b[0m\n\u001b[1;32m   3212\u001b[0m       \u001b[0mself\u001b[0m\u001b[0;34m.\u001b[0m\u001b[0m_function_cache\u001b[0m\u001b[0;34m.\u001b[0m\u001b[0mmissed\u001b[0m\u001b[0;34m.\u001b[0m\u001b[0madd\u001b[0m\u001b[0;34m(\u001b[0m\u001b[0mcall_context_key\u001b[0m\u001b[0;34m)\u001b[0m\u001b[0;34m\u001b[0m\u001b[0;34m\u001b[0m\u001b[0m\n\u001b[0;32m-> 3213\u001b[0;31m       \u001b[0mgraph_function\u001b[0m \u001b[0;34m=\u001b[0m \u001b[0mself\u001b[0m\u001b[0;34m.\u001b[0m\u001b[0m_create_graph_function\u001b[0m\u001b[0;34m(\u001b[0m\u001b[0margs\u001b[0m\u001b[0;34m,\u001b[0m \u001b[0mkwargs\u001b[0m\u001b[0;34m)\u001b[0m\u001b[0;34m\u001b[0m\u001b[0;34m\u001b[0m\u001b[0m\n\u001b[0m\u001b[1;32m   3214\u001b[0m       \u001b[0mself\u001b[0m\u001b[0;34m.\u001b[0m\u001b[0m_function_cache\u001b[0m\u001b[0;34m.\u001b[0m\u001b[0mprimary\u001b[0m\u001b[0;34m[\u001b[0m\u001b[0mcache_key\u001b[0m\u001b[0;34m]\u001b[0m \u001b[0;34m=\u001b[0m \u001b[0mgraph_function\u001b[0m\u001b[0;34m\u001b[0m\u001b[0;34m\u001b[0m\u001b[0m\n\u001b[1;32m   3215\u001b[0m       \u001b[0;32mreturn\u001b[0m \u001b[0mgraph_function\u001b[0m\u001b[0;34m,\u001b[0m \u001b[0margs\u001b[0m\u001b[0;34m,\u001b[0m \u001b[0mkwargs\u001b[0m\u001b[0;34m\u001b[0m\u001b[0;34m\u001b[0m\u001b[0m\n",
            "\u001b[0;32m/usr/local/lib/python3.6/dist-packages/tensorflow/python/eager/function.py\u001b[0m in \u001b[0;36m_create_graph_function\u001b[0;34m(self, args, kwargs, override_flat_arg_shapes)\u001b[0m\n\u001b[1;32m   3073\u001b[0m             \u001b[0marg_names\u001b[0m\u001b[0;34m=\u001b[0m\u001b[0marg_names\u001b[0m\u001b[0;34m,\u001b[0m\u001b[0;34m\u001b[0m\u001b[0;34m\u001b[0m\u001b[0m\n\u001b[1;32m   3074\u001b[0m             \u001b[0moverride_flat_arg_shapes\u001b[0m\u001b[0;34m=\u001b[0m\u001b[0moverride_flat_arg_shapes\u001b[0m\u001b[0;34m,\u001b[0m\u001b[0;34m\u001b[0m\u001b[0;34m\u001b[0m\u001b[0m\n\u001b[0;32m-> 3075\u001b[0;31m             capture_by_value=self._capture_by_value),\n\u001b[0m\u001b[1;32m   3076\u001b[0m         \u001b[0mself\u001b[0m\u001b[0;34m.\u001b[0m\u001b[0m_function_attributes\u001b[0m\u001b[0;34m,\u001b[0m\u001b[0;34m\u001b[0m\u001b[0;34m\u001b[0m\u001b[0m\n\u001b[1;32m   3077\u001b[0m         \u001b[0mfunction_spec\u001b[0m\u001b[0;34m=\u001b[0m\u001b[0mself\u001b[0m\u001b[0;34m.\u001b[0m\u001b[0mfunction_spec\u001b[0m\u001b[0;34m,\u001b[0m\u001b[0;34m\u001b[0m\u001b[0;34m\u001b[0m\u001b[0m\n",
            "\u001b[0;32m/usr/local/lib/python3.6/dist-packages/tensorflow/python/framework/func_graph.py\u001b[0m in \u001b[0;36mfunc_graph_from_py_func\u001b[0;34m(name, python_func, args, kwargs, signature, func_graph, autograph, autograph_options, add_control_dependencies, arg_names, op_return_value, collections, capture_by_value, override_flat_arg_shapes)\u001b[0m\n\u001b[1;32m    984\u001b[0m         \u001b[0m_\u001b[0m\u001b[0;34m,\u001b[0m \u001b[0moriginal_func\u001b[0m \u001b[0;34m=\u001b[0m \u001b[0mtf_decorator\u001b[0m\u001b[0;34m.\u001b[0m\u001b[0munwrap\u001b[0m\u001b[0;34m(\u001b[0m\u001b[0mpython_func\u001b[0m\u001b[0;34m)\u001b[0m\u001b[0;34m\u001b[0m\u001b[0;34m\u001b[0m\u001b[0m\n\u001b[1;32m    985\u001b[0m \u001b[0;34m\u001b[0m\u001b[0m\n\u001b[0;32m--> 986\u001b[0;31m       \u001b[0mfunc_outputs\u001b[0m \u001b[0;34m=\u001b[0m \u001b[0mpython_func\u001b[0m\u001b[0;34m(\u001b[0m\u001b[0;34m*\u001b[0m\u001b[0mfunc_args\u001b[0m\u001b[0;34m,\u001b[0m \u001b[0;34m**\u001b[0m\u001b[0mfunc_kwargs\u001b[0m\u001b[0;34m)\u001b[0m\u001b[0;34m\u001b[0m\u001b[0;34m\u001b[0m\u001b[0m\n\u001b[0m\u001b[1;32m    987\u001b[0m \u001b[0;34m\u001b[0m\u001b[0m\n\u001b[1;32m    988\u001b[0m       \u001b[0;31m# invariant: `func_outputs` contains only Tensors, CompositeTensors,\u001b[0m\u001b[0;34m\u001b[0m\u001b[0;34m\u001b[0m\u001b[0;34m\u001b[0m\u001b[0m\n",
            "\u001b[0;32m/usr/local/lib/python3.6/dist-packages/tensorflow/python/eager/def_function.py\u001b[0m in \u001b[0;36mwrapped_fn\u001b[0;34m(*args, **kwds)\u001b[0m\n\u001b[1;32m    598\u001b[0m         \u001b[0;31m# __wrapped__ allows AutoGraph to swap in a converted function. We give\u001b[0m\u001b[0;34m\u001b[0m\u001b[0;34m\u001b[0m\u001b[0;34m\u001b[0m\u001b[0m\n\u001b[1;32m    599\u001b[0m         \u001b[0;31m# the function a weak reference to itself to avoid a reference cycle.\u001b[0m\u001b[0;34m\u001b[0m\u001b[0;34m\u001b[0m\u001b[0;34m\u001b[0m\u001b[0m\n\u001b[0;32m--> 600\u001b[0;31m         \u001b[0;32mreturn\u001b[0m \u001b[0mweak_wrapped_fn\u001b[0m\u001b[0;34m(\u001b[0m\u001b[0;34m)\u001b[0m\u001b[0;34m.\u001b[0m\u001b[0m__wrapped__\u001b[0m\u001b[0;34m(\u001b[0m\u001b[0;34m*\u001b[0m\u001b[0margs\u001b[0m\u001b[0;34m,\u001b[0m \u001b[0;34m**\u001b[0m\u001b[0mkwds\u001b[0m\u001b[0;34m)\u001b[0m\u001b[0;34m\u001b[0m\u001b[0;34m\u001b[0m\u001b[0m\n\u001b[0m\u001b[1;32m    601\u001b[0m     \u001b[0mweak_wrapped_fn\u001b[0m \u001b[0;34m=\u001b[0m \u001b[0mweakref\u001b[0m\u001b[0;34m.\u001b[0m\u001b[0mref\u001b[0m\u001b[0;34m(\u001b[0m\u001b[0mwrapped_fn\u001b[0m\u001b[0;34m)\u001b[0m\u001b[0;34m\u001b[0m\u001b[0;34m\u001b[0m\u001b[0m\n\u001b[1;32m    602\u001b[0m \u001b[0;34m\u001b[0m\u001b[0m\n",
            "\u001b[0;32m/usr/local/lib/python3.6/dist-packages/tensorflow/python/framework/func_graph.py\u001b[0m in \u001b[0;36mwrapper\u001b[0;34m(*args, **kwargs)\u001b[0m\n\u001b[1;32m    971\u001b[0m           \u001b[0;32mexcept\u001b[0m \u001b[0mException\u001b[0m \u001b[0;32mas\u001b[0m \u001b[0me\u001b[0m\u001b[0;34m:\u001b[0m  \u001b[0;31m# pylint:disable=broad-except\u001b[0m\u001b[0;34m\u001b[0m\u001b[0;34m\u001b[0m\u001b[0m\n\u001b[1;32m    972\u001b[0m             \u001b[0;32mif\u001b[0m \u001b[0mhasattr\u001b[0m\u001b[0;34m(\u001b[0m\u001b[0me\u001b[0m\u001b[0;34m,\u001b[0m \u001b[0;34m\"ag_error_metadata\"\u001b[0m\u001b[0;34m)\u001b[0m\u001b[0;34m:\u001b[0m\u001b[0;34m\u001b[0m\u001b[0;34m\u001b[0m\u001b[0m\n\u001b[0;32m--> 973\u001b[0;31m               \u001b[0;32mraise\u001b[0m \u001b[0me\u001b[0m\u001b[0;34m.\u001b[0m\u001b[0mag_error_metadata\u001b[0m\u001b[0;34m.\u001b[0m\u001b[0mto_exception\u001b[0m\u001b[0;34m(\u001b[0m\u001b[0me\u001b[0m\u001b[0;34m)\u001b[0m\u001b[0;34m\u001b[0m\u001b[0;34m\u001b[0m\u001b[0m\n\u001b[0m\u001b[1;32m    974\u001b[0m             \u001b[0;32melse\u001b[0m\u001b[0;34m:\u001b[0m\u001b[0;34m\u001b[0m\u001b[0;34m\u001b[0m\u001b[0m\n\u001b[1;32m    975\u001b[0m               \u001b[0;32mraise\u001b[0m\u001b[0;34m\u001b[0m\u001b[0;34m\u001b[0m\u001b[0m\n",
            "\u001b[0;31mAssertionError\u001b[0m: in user code:\n\n    /usr/local/lib/python3.6/dist-packages/tensorflow/python/keras/engine/training.py:1462 predict_function  *\n        return step_function(self, iterator)\n    /usr/local/lib/python3.6/dist-packages/tensorflow/python/keras/engine/training.py:1452 step_function  **\n        outputs = model.distribute_strategy.run(run_step, args=(data,))\n    /usr/local/lib/python3.6/dist-packages/tensorflow/python/distribute/distribute_lib.py:1211 run\n        return self._extended.call_for_each_replica(fn, args=args, kwargs=kwargs)\n    /usr/local/lib/python3.6/dist-packages/tensorflow/python/distribute/distribute_lib.py:2585 call_for_each_replica\n        return self._call_for_each_replica(fn, args, kwargs)\n    /usr/local/lib/python3.6/dist-packages/tensorflow/python/distribute/distribute_lib.py:2945 _call_for_each_replica\n        return fn(*args, **kwargs)\n    /usr/local/lib/python3.6/dist-packages/tensorflow/python/keras/engine/training.py:1445 run_step  **\n        outputs = model.predict_step(data)\n    /usr/local/lib/python3.6/dist-packages/tensorflow/python/keras/engine/training.py:1418 predict_step\n        return self(x, training=False)\n    /usr/local/lib/python3.6/dist-packages/tensorflow/python/keras/engine/base_layer.py:985 __call__\n        outputs = call_fn(inputs, *args, **kwargs)\n    /usr/local/lib/python3.6/dist-packages/tensorflow/python/keras/engine/functional.py:386 call\n        inputs, training=training, mask=mask)\n    /usr/local/lib/python3.6/dist-packages/tensorflow/python/keras/engine/functional.py:517 _run_internal_graph\n        assert x_id in tensor_dict, 'Could not compute output ' + str(x)\n\n    AssertionError: Could not compute output Tensor(\"dense_9/Sigmoid_13:0\", shape=(None, 1), dtype=float32)\n"
          ]
        }
      ]
    },
    {
      "cell_type": "code",
      "metadata": {
        "colab": {
          "base_uri": "https://localhost:8080/",
          "height": 35
        },
        "id": "nKDWS9jZ4oP5",
        "outputId": "b7a55cc8-1ca4-4e71-8b79-7f0be8b08ffa"
      },
      "source": [
        "model"
      ],
      "execution_count": null,
      "outputs": [
        {
          "output_type": "execute_result",
          "data": {
            "text/plain": [
              "<tensorflow.python.keras.engine.functional.Functional at 0x7ff6a62a8828>"
            ]
          },
          "metadata": {
            "tags": []
          },
          "execution_count": 38
        }
      ]
    },
    {
      "cell_type": "code",
      "metadata": {
        "id": "qZV1afjsHLX-"
      },
      "source": [
        "# define the model\n",
        "def define_Ch3model(padded_train_sequences, y_train):\n",
        "\t# channel 1\n",
        "  embed_dim = 40  # Embedding size for each token\n",
        "  num_heads = 4  # Number of attention heads\n",
        "  ff_dim = 32  # Hidden layer size in feed forward network inside transformer\n",
        "  maxlen = MAX_SEQUENCE_LENGTH\n",
        "  vocab_size = vocab_size = len(tokenizer.word_index) + 1 #80000\n",
        "  print(vocab_size)\n",
        "  inputs1 = layers.Input(shape=(maxlen,))\n",
        "  embedding_layer = TokenAndPositionEmbedding(maxlen, vocab_size, embed_dim)\n",
        "  x1 = embedding_layer(inputs1)\n",
        "  transformer_block = TransformerBlock(embed_dim, 2, ff_dim)\n",
        "  x1 = transformer_block(x1)\n",
        "  x1= layers.MaxPooling1D()(x1)\n",
        " # x1 = layers.Dropout(0.1)(x1)\n",
        "  x1 = layers.Dense(30, activation=\"relu\")(x1)\n",
        "  x1 = layers.Dropout(0.1)(x1)\n",
        "  x1 = Flatten()(x1)\n",
        "\t# channel 2\n",
        "  inputs2 = Input(shape=(MAX_LENGTH,))\n",
        "  embedding_layer = TokenAndPositionEmbedding(maxlen, vocab_size, embed_dim)\n",
        "  x2 = embedding_layer(inputs2)\n",
        "  transformer_block = TransformerBlock(embed_dim, 10, ff_dim)\n",
        "  x2 = transformer_block(x2)\n",
        "  x2= layers.MaxPooling1D()(x2)\n",
        "  #x2 = layers.Conv1D(filters=32, kernel_size=4, activation='relu')(x2)\n",
        "  #x2 = layers.Dropout(0.1)(x2)\n",
        "  x2 = layers.Dense(30, activation=\"relu\")(x2)\n",
        "  x2 = layers.Dropout(0.1)(x2)\n",
        "  x2 = Flatten()(x2)\n",
        "\t# channel 3\n",
        "  inputs3 = Input(shape=(MAX_LENGTH,))\n",
        "  embedding_layer = TokenAndPositionEmbedding(maxlen, vocab_size, embed_dim)\n",
        "  x3 = embedding_layer(inputs3)\n",
        "  transformer_block = TransformerBlock(embed_dim, 8, ff_dim)\n",
        "  x3 = transformer_block(x3)\n",
        "  #x3 = transformer_block(x3)\n",
        "  #x3 = transformer_block(x3)\n",
        "  x3= layers.MaxPooling1D()(x3)\n",
        "  #x3 = layers.Dropout(0.1)(x3)\n",
        "  x3 = layers.Dense(30, activation=\"relu\")(x3)\n",
        "  x3 = layers.Dropout(0.1)(x3)\n",
        "  x3 = Flatten()(x3)\n",
        "\t# merge\n",
        "  merged = concatenate([x1, x2, x3])\n",
        "  #merged1 = Flatten()(merged1)\n",
        "\t# interpretation\n",
        "\n",
        "  #merged = Conv1D(filters=(3), kernel_size=(20), activation='relu')(merged1)\n",
        "  dense1 = Dense(60, activation='relu')(merged)\n",
        "  dense2 = Dense(30, activation='relu')(dense1)\n",
        "  outputs = Dense(2, activation='softmax')(dense2)\n",
        "  model = Model(inputs=[inputs1, inputs2, inputs3], outputs=outputs)\n",
        "  \n",
        "\t# compile\n",
        "  model.compile(loss='binary_crossentropy', optimizer='adam', metrics=['accuracy'])\n",
        "  #model.fit([padded_train_sequences,padded_train_sequences,padded_train_sequences], y_train, epochs=3, batch_size=16)\n",
        "  history = model.fit(x=[padded_train_sequences,padded_train_sequences, padded_train_sequences], y=Y_train, \n",
        "                    #validation_data=(padded_test_sequences, Y_test), \n",
        "                    batch_size=200, \n",
        "                    #callbacks=[checkpoint], \n",
        "                    epochs=40, \n",
        "                    verbose=1)\n",
        "  print(model.summary())\n",
        "  return model\n",
        "\n"
      ],
      "execution_count": null,
      "outputs": []
    },
    {
      "cell_type": "markdown",
      "metadata": {
        "id": "3orfRKjY5r9O"
      },
      "source": [
        "RUN"
      ]
    },
    {
      "cell_type": "code",
      "metadata": {
        "colab": {
          "base_uri": "https://localhost:8080/",
          "height": 975
        },
        "id": "djRUxJVhJYuo",
        "outputId": "023fc229-a944-4650-cf2c-a186cb2b747e"
      },
      "source": [
        "#model = define_Ch3model(padded_train_sequences, Y_train)\r\n",
        "model = define_model3(padded_train_sequences, Y_train)\r\n",
        "#define_model3\r\n",
        "\r\n",
        "accuracyscore = model.evaluate([padded_test_sequences,padded_test_sequences, padded_test_sequences], Y_test)\r\n",
        "#accuracyscore = model.evaluate( padded_test_sequences, Y_test)\r\n",
        "\r\n",
        "print(accuracyscore * 100)\r\n",
        "print(\"Test loss:\", accuracyscore[0])\r\n",
        "print(\"Test accuracy:\", accuracyscore[1] * 100)\r\n",
        "\r\n"
      ],
      "execution_count": null,
      "outputs": [
        {
          "output_type": "stream",
          "text": [
            "Epoch 1/3\n"
          ],
          "name": "stdout"
        },
        {
          "output_type": "error",
          "ename": "ValueError",
          "evalue": "ignored",
          "traceback": [
            "\u001b[0;31m---------------------------------------------------------------------------\u001b[0m",
            "\u001b[0;31mValueError\u001b[0m                                Traceback (most recent call last)",
            "\u001b[0;32m<ipython-input-21-1544c4d96e73>\u001b[0m in \u001b[0;36m<module>\u001b[0;34m()\u001b[0m\n\u001b[1;32m      1\u001b[0m \u001b[0;31m#model = define_Ch3model(padded_train_sequences, Y_train)\u001b[0m\u001b[0;34m\u001b[0m\u001b[0;34m\u001b[0m\u001b[0;34m\u001b[0m\u001b[0m\n\u001b[0;32m----> 2\u001b[0;31m \u001b[0mmodel\u001b[0m \u001b[0;34m=\u001b[0m \u001b[0mdefine_model3\u001b[0m\u001b[0;34m(\u001b[0m\u001b[0mpadded_train_sequences\u001b[0m\u001b[0;34m,\u001b[0m \u001b[0mY_train\u001b[0m\u001b[0;34m)\u001b[0m\u001b[0;34m\u001b[0m\u001b[0;34m\u001b[0m\u001b[0m\n\u001b[0m\u001b[1;32m      3\u001b[0m \u001b[0;31m#define_model3\u001b[0m\u001b[0;34m\u001b[0m\u001b[0;34m\u001b[0m\u001b[0;34m\u001b[0m\u001b[0m\n\u001b[1;32m      4\u001b[0m \u001b[0;34m\u001b[0m\u001b[0m\n\u001b[1;32m      5\u001b[0m \u001b[0maccuracyscore\u001b[0m \u001b[0;34m=\u001b[0m \u001b[0mmodel\u001b[0m\u001b[0;34m.\u001b[0m\u001b[0mevaluate\u001b[0m\u001b[0;34m(\u001b[0m\u001b[0;34m[\u001b[0m\u001b[0mpadded_test_sequences\u001b[0m\u001b[0;34m,\u001b[0m\u001b[0mpadded_test_sequences\u001b[0m\u001b[0;34m,\u001b[0m \u001b[0mpadded_test_sequences\u001b[0m\u001b[0;34m]\u001b[0m\u001b[0;34m,\u001b[0m \u001b[0mY_test\u001b[0m\u001b[0;34m)\u001b[0m\u001b[0;34m\u001b[0m\u001b[0;34m\u001b[0m\u001b[0m\n",
            "\u001b[0;32m<ipython-input-16-cd292e1cf000>\u001b[0m in \u001b[0;36mdefine_model3\u001b[0;34m(padded_train_sequences, Y_train)\u001b[0m\n\u001b[1;32m     31\u001b[0m         \u001b[0;31m# compile\u001b[0m\u001b[0;34m\u001b[0m\u001b[0;34m\u001b[0m\u001b[0;34m\u001b[0m\u001b[0m\n\u001b[1;32m     32\u001b[0m         \u001b[0mmodel\u001b[0m\u001b[0;34m.\u001b[0m\u001b[0mcompile\u001b[0m\u001b[0;34m(\u001b[0m\u001b[0mloss\u001b[0m\u001b[0;34m=\u001b[0m\u001b[0;34m'binary_crossentropy'\u001b[0m\u001b[0;34m,\u001b[0m \u001b[0moptimizer\u001b[0m\u001b[0;34m=\u001b[0m\u001b[0;34m'adam'\u001b[0m\u001b[0;34m,\u001b[0m \u001b[0mmetrics\u001b[0m\u001b[0;34m=\u001b[0m\u001b[0;34m[\u001b[0m\u001b[0;34m'accuracy'\u001b[0m\u001b[0;34m]\u001b[0m\u001b[0;34m)\u001b[0m\u001b[0;34m\u001b[0m\u001b[0;34m\u001b[0m\u001b[0m\n\u001b[0;32m---> 33\u001b[0;31m         \u001b[0mmodel\u001b[0m\u001b[0;34m.\u001b[0m\u001b[0mfit\u001b[0m\u001b[0;34m(\u001b[0m\u001b[0;34m[\u001b[0m\u001b[0mpadded_train_sequences\u001b[0m\u001b[0;34m,\u001b[0m\u001b[0mpadded_train_sequences\u001b[0m\u001b[0;34m,\u001b[0m\u001b[0mpadded_train_sequences\u001b[0m\u001b[0;34m]\u001b[0m\u001b[0;34m,\u001b[0m \u001b[0my_train\u001b[0m\u001b[0;34m,\u001b[0m \u001b[0mepochs\u001b[0m\u001b[0;34m=\u001b[0m\u001b[0;36m3\u001b[0m\u001b[0;34m,\u001b[0m \u001b[0mbatch_size\u001b[0m\u001b[0;34m=\u001b[0m\u001b[0;36m16\u001b[0m\u001b[0;34m)\u001b[0m\u001b[0;34m\u001b[0m\u001b[0;34m\u001b[0m\u001b[0m\n\u001b[0m\u001b[1;32m     34\u001b[0m \u001b[0;34m\u001b[0m\u001b[0m\n\u001b[1;32m     35\u001b[0m         \u001b[0;31m#print(model.summary())\u001b[0m\u001b[0;34m\u001b[0m\u001b[0;34m\u001b[0m\u001b[0;34m\u001b[0m\u001b[0m\n",
            "\u001b[0;32m/usr/local/lib/python3.6/dist-packages/tensorflow/python/keras/engine/training.py\u001b[0m in \u001b[0;36mfit\u001b[0;34m(self, x, y, batch_size, epochs, verbose, callbacks, validation_split, validation_data, shuffle, class_weight, sample_weight, initial_epoch, steps_per_epoch, validation_steps, validation_batch_size, validation_freq, max_queue_size, workers, use_multiprocessing)\u001b[0m\n\u001b[1;32m   1098\u001b[0m                 _r=1):\n\u001b[1;32m   1099\u001b[0m               \u001b[0mcallbacks\u001b[0m\u001b[0;34m.\u001b[0m\u001b[0mon_train_batch_begin\u001b[0m\u001b[0;34m(\u001b[0m\u001b[0mstep\u001b[0m\u001b[0;34m)\u001b[0m\u001b[0;34m\u001b[0m\u001b[0;34m\u001b[0m\u001b[0m\n\u001b[0;32m-> 1100\u001b[0;31m               \u001b[0mtmp_logs\u001b[0m \u001b[0;34m=\u001b[0m \u001b[0mself\u001b[0m\u001b[0;34m.\u001b[0m\u001b[0mtrain_function\u001b[0m\u001b[0;34m(\u001b[0m\u001b[0miterator\u001b[0m\u001b[0;34m)\u001b[0m\u001b[0;34m\u001b[0m\u001b[0;34m\u001b[0m\u001b[0m\n\u001b[0m\u001b[1;32m   1101\u001b[0m               \u001b[0;32mif\u001b[0m \u001b[0mdata_handler\u001b[0m\u001b[0;34m.\u001b[0m\u001b[0mshould_sync\u001b[0m\u001b[0;34m:\u001b[0m\u001b[0;34m\u001b[0m\u001b[0;34m\u001b[0m\u001b[0m\n\u001b[1;32m   1102\u001b[0m                 \u001b[0mcontext\u001b[0m\u001b[0;34m.\u001b[0m\u001b[0masync_wait\u001b[0m\u001b[0;34m(\u001b[0m\u001b[0;34m)\u001b[0m\u001b[0;34m\u001b[0m\u001b[0;34m\u001b[0m\u001b[0m\n",
            "\u001b[0;32m/usr/local/lib/python3.6/dist-packages/tensorflow/python/eager/def_function.py\u001b[0m in \u001b[0;36m__call__\u001b[0;34m(self, *args, **kwds)\u001b[0m\n\u001b[1;32m    826\u001b[0m     \u001b[0mtracing_count\u001b[0m \u001b[0;34m=\u001b[0m \u001b[0mself\u001b[0m\u001b[0;34m.\u001b[0m\u001b[0mexperimental_get_tracing_count\u001b[0m\u001b[0;34m(\u001b[0m\u001b[0;34m)\u001b[0m\u001b[0;34m\u001b[0m\u001b[0;34m\u001b[0m\u001b[0m\n\u001b[1;32m    827\u001b[0m     \u001b[0;32mwith\u001b[0m \u001b[0mtrace\u001b[0m\u001b[0;34m.\u001b[0m\u001b[0mTrace\u001b[0m\u001b[0;34m(\u001b[0m\u001b[0mself\u001b[0m\u001b[0;34m.\u001b[0m\u001b[0m_name\u001b[0m\u001b[0;34m)\u001b[0m \u001b[0;32mas\u001b[0m \u001b[0mtm\u001b[0m\u001b[0;34m:\u001b[0m\u001b[0;34m\u001b[0m\u001b[0;34m\u001b[0m\u001b[0m\n\u001b[0;32m--> 828\u001b[0;31m       \u001b[0mresult\u001b[0m \u001b[0;34m=\u001b[0m \u001b[0mself\u001b[0m\u001b[0;34m.\u001b[0m\u001b[0m_call\u001b[0m\u001b[0;34m(\u001b[0m\u001b[0;34m*\u001b[0m\u001b[0margs\u001b[0m\u001b[0;34m,\u001b[0m \u001b[0;34m**\u001b[0m\u001b[0mkwds\u001b[0m\u001b[0;34m)\u001b[0m\u001b[0;34m\u001b[0m\u001b[0;34m\u001b[0m\u001b[0m\n\u001b[0m\u001b[1;32m    829\u001b[0m       \u001b[0mcompiler\u001b[0m \u001b[0;34m=\u001b[0m \u001b[0;34m\"xla\"\u001b[0m \u001b[0;32mif\u001b[0m \u001b[0mself\u001b[0m\u001b[0;34m.\u001b[0m\u001b[0m_experimental_compile\u001b[0m \u001b[0;32melse\u001b[0m \u001b[0;34m\"nonXla\"\u001b[0m\u001b[0;34m\u001b[0m\u001b[0;34m\u001b[0m\u001b[0m\n\u001b[1;32m    830\u001b[0m       \u001b[0mnew_tracing_count\u001b[0m \u001b[0;34m=\u001b[0m \u001b[0mself\u001b[0m\u001b[0;34m.\u001b[0m\u001b[0mexperimental_get_tracing_count\u001b[0m\u001b[0;34m(\u001b[0m\u001b[0;34m)\u001b[0m\u001b[0;34m\u001b[0m\u001b[0;34m\u001b[0m\u001b[0m\n",
            "\u001b[0;32m/usr/local/lib/python3.6/dist-packages/tensorflow/python/eager/def_function.py\u001b[0m in \u001b[0;36m_call\u001b[0;34m(self, *args, **kwds)\u001b[0m\n\u001b[1;32m    869\u001b[0m       \u001b[0;31m# This is the first call of __call__, so we have to initialize.\u001b[0m\u001b[0;34m\u001b[0m\u001b[0;34m\u001b[0m\u001b[0;34m\u001b[0m\u001b[0m\n\u001b[1;32m    870\u001b[0m       \u001b[0minitializers\u001b[0m \u001b[0;34m=\u001b[0m \u001b[0;34m[\u001b[0m\u001b[0;34m]\u001b[0m\u001b[0;34m\u001b[0m\u001b[0;34m\u001b[0m\u001b[0m\n\u001b[0;32m--> 871\u001b[0;31m       \u001b[0mself\u001b[0m\u001b[0;34m.\u001b[0m\u001b[0m_initialize\u001b[0m\u001b[0;34m(\u001b[0m\u001b[0margs\u001b[0m\u001b[0;34m,\u001b[0m \u001b[0mkwds\u001b[0m\u001b[0;34m,\u001b[0m \u001b[0madd_initializers_to\u001b[0m\u001b[0;34m=\u001b[0m\u001b[0minitializers\u001b[0m\u001b[0;34m)\u001b[0m\u001b[0;34m\u001b[0m\u001b[0;34m\u001b[0m\u001b[0m\n\u001b[0m\u001b[1;32m    872\u001b[0m     \u001b[0;32mfinally\u001b[0m\u001b[0;34m:\u001b[0m\u001b[0;34m\u001b[0m\u001b[0;34m\u001b[0m\u001b[0m\n\u001b[1;32m    873\u001b[0m       \u001b[0;31m# At this point we know that the initialization is complete (or less\u001b[0m\u001b[0;34m\u001b[0m\u001b[0;34m\u001b[0m\u001b[0;34m\u001b[0m\u001b[0m\n",
            "\u001b[0;32m/usr/local/lib/python3.6/dist-packages/tensorflow/python/eager/def_function.py\u001b[0m in \u001b[0;36m_initialize\u001b[0;34m(self, args, kwds, add_initializers_to)\u001b[0m\n\u001b[1;32m    724\u001b[0m     self._concrete_stateful_fn = (\n\u001b[1;32m    725\u001b[0m         self._stateful_fn._get_concrete_function_internal_garbage_collected(  # pylint: disable=protected-access\n\u001b[0;32m--> 726\u001b[0;31m             *args, **kwds))\n\u001b[0m\u001b[1;32m    727\u001b[0m \u001b[0;34m\u001b[0m\u001b[0m\n\u001b[1;32m    728\u001b[0m     \u001b[0;32mdef\u001b[0m \u001b[0minvalid_creator_scope\u001b[0m\u001b[0;34m(\u001b[0m\u001b[0;34m*\u001b[0m\u001b[0munused_args\u001b[0m\u001b[0;34m,\u001b[0m \u001b[0;34m**\u001b[0m\u001b[0munused_kwds\u001b[0m\u001b[0;34m)\u001b[0m\u001b[0;34m:\u001b[0m\u001b[0;34m\u001b[0m\u001b[0;34m\u001b[0m\u001b[0m\n",
            "\u001b[0;32m/usr/local/lib/python3.6/dist-packages/tensorflow/python/eager/function.py\u001b[0m in \u001b[0;36m_get_concrete_function_internal_garbage_collected\u001b[0;34m(self, *args, **kwargs)\u001b[0m\n\u001b[1;32m   2967\u001b[0m       \u001b[0margs\u001b[0m\u001b[0;34m,\u001b[0m \u001b[0mkwargs\u001b[0m \u001b[0;34m=\u001b[0m \u001b[0;32mNone\u001b[0m\u001b[0;34m,\u001b[0m \u001b[0;32mNone\u001b[0m\u001b[0;34m\u001b[0m\u001b[0;34m\u001b[0m\u001b[0m\n\u001b[1;32m   2968\u001b[0m     \u001b[0;32mwith\u001b[0m \u001b[0mself\u001b[0m\u001b[0;34m.\u001b[0m\u001b[0m_lock\u001b[0m\u001b[0;34m:\u001b[0m\u001b[0;34m\u001b[0m\u001b[0;34m\u001b[0m\u001b[0m\n\u001b[0;32m-> 2969\u001b[0;31m       \u001b[0mgraph_function\u001b[0m\u001b[0;34m,\u001b[0m \u001b[0m_\u001b[0m \u001b[0;34m=\u001b[0m \u001b[0mself\u001b[0m\u001b[0;34m.\u001b[0m\u001b[0m_maybe_define_function\u001b[0m\u001b[0;34m(\u001b[0m\u001b[0margs\u001b[0m\u001b[0;34m,\u001b[0m \u001b[0mkwargs\u001b[0m\u001b[0;34m)\u001b[0m\u001b[0;34m\u001b[0m\u001b[0;34m\u001b[0m\u001b[0m\n\u001b[0m\u001b[1;32m   2970\u001b[0m     \u001b[0;32mreturn\u001b[0m \u001b[0mgraph_function\u001b[0m\u001b[0;34m\u001b[0m\u001b[0;34m\u001b[0m\u001b[0m\n\u001b[1;32m   2971\u001b[0m \u001b[0;34m\u001b[0m\u001b[0m\n",
            "\u001b[0;32m/usr/local/lib/python3.6/dist-packages/tensorflow/python/eager/function.py\u001b[0m in \u001b[0;36m_maybe_define_function\u001b[0;34m(self, args, kwargs)\u001b[0m\n\u001b[1;32m   3359\u001b[0m \u001b[0;34m\u001b[0m\u001b[0m\n\u001b[1;32m   3360\u001b[0m           \u001b[0mself\u001b[0m\u001b[0;34m.\u001b[0m\u001b[0m_function_cache\u001b[0m\u001b[0;34m.\u001b[0m\u001b[0mmissed\u001b[0m\u001b[0;34m.\u001b[0m\u001b[0madd\u001b[0m\u001b[0;34m(\u001b[0m\u001b[0mcall_context_key\u001b[0m\u001b[0;34m)\u001b[0m\u001b[0;34m\u001b[0m\u001b[0;34m\u001b[0m\u001b[0m\n\u001b[0;32m-> 3361\u001b[0;31m           \u001b[0mgraph_function\u001b[0m \u001b[0;34m=\u001b[0m \u001b[0mself\u001b[0m\u001b[0;34m.\u001b[0m\u001b[0m_create_graph_function\u001b[0m\u001b[0;34m(\u001b[0m\u001b[0margs\u001b[0m\u001b[0;34m,\u001b[0m \u001b[0mkwargs\u001b[0m\u001b[0;34m)\u001b[0m\u001b[0;34m\u001b[0m\u001b[0;34m\u001b[0m\u001b[0m\n\u001b[0m\u001b[1;32m   3362\u001b[0m           \u001b[0mself\u001b[0m\u001b[0;34m.\u001b[0m\u001b[0m_function_cache\u001b[0m\u001b[0;34m.\u001b[0m\u001b[0mprimary\u001b[0m\u001b[0;34m[\u001b[0m\u001b[0mcache_key\u001b[0m\u001b[0;34m]\u001b[0m \u001b[0;34m=\u001b[0m \u001b[0mgraph_function\u001b[0m\u001b[0;34m\u001b[0m\u001b[0;34m\u001b[0m\u001b[0m\n\u001b[1;32m   3363\u001b[0m \u001b[0;34m\u001b[0m\u001b[0m\n",
            "\u001b[0;32m/usr/local/lib/python3.6/dist-packages/tensorflow/python/eager/function.py\u001b[0m in \u001b[0;36m_create_graph_function\u001b[0;34m(self, args, kwargs, override_flat_arg_shapes)\u001b[0m\n\u001b[1;32m   3204\u001b[0m             \u001b[0marg_names\u001b[0m\u001b[0;34m=\u001b[0m\u001b[0marg_names\u001b[0m\u001b[0;34m,\u001b[0m\u001b[0;34m\u001b[0m\u001b[0;34m\u001b[0m\u001b[0m\n\u001b[1;32m   3205\u001b[0m             \u001b[0moverride_flat_arg_shapes\u001b[0m\u001b[0;34m=\u001b[0m\u001b[0moverride_flat_arg_shapes\u001b[0m\u001b[0;34m,\u001b[0m\u001b[0;34m\u001b[0m\u001b[0;34m\u001b[0m\u001b[0m\n\u001b[0;32m-> 3206\u001b[0;31m             capture_by_value=self._capture_by_value),\n\u001b[0m\u001b[1;32m   3207\u001b[0m         \u001b[0mself\u001b[0m\u001b[0;34m.\u001b[0m\u001b[0m_function_attributes\u001b[0m\u001b[0;34m,\u001b[0m\u001b[0;34m\u001b[0m\u001b[0;34m\u001b[0m\u001b[0m\n\u001b[1;32m   3208\u001b[0m         \u001b[0mfunction_spec\u001b[0m\u001b[0;34m=\u001b[0m\u001b[0mself\u001b[0m\u001b[0;34m.\u001b[0m\u001b[0mfunction_spec\u001b[0m\u001b[0;34m,\u001b[0m\u001b[0;34m\u001b[0m\u001b[0;34m\u001b[0m\u001b[0m\n",
            "\u001b[0;32m/usr/local/lib/python3.6/dist-packages/tensorflow/python/framework/func_graph.py\u001b[0m in \u001b[0;36mfunc_graph_from_py_func\u001b[0;34m(name, python_func, args, kwargs, signature, func_graph, autograph, autograph_options, add_control_dependencies, arg_names, op_return_value, collections, capture_by_value, override_flat_arg_shapes)\u001b[0m\n\u001b[1;32m    988\u001b[0m         \u001b[0m_\u001b[0m\u001b[0;34m,\u001b[0m \u001b[0moriginal_func\u001b[0m \u001b[0;34m=\u001b[0m \u001b[0mtf_decorator\u001b[0m\u001b[0;34m.\u001b[0m\u001b[0munwrap\u001b[0m\u001b[0;34m(\u001b[0m\u001b[0mpython_func\u001b[0m\u001b[0;34m)\u001b[0m\u001b[0;34m\u001b[0m\u001b[0;34m\u001b[0m\u001b[0m\n\u001b[1;32m    989\u001b[0m \u001b[0;34m\u001b[0m\u001b[0m\n\u001b[0;32m--> 990\u001b[0;31m       \u001b[0mfunc_outputs\u001b[0m \u001b[0;34m=\u001b[0m \u001b[0mpython_func\u001b[0m\u001b[0;34m(\u001b[0m\u001b[0;34m*\u001b[0m\u001b[0mfunc_args\u001b[0m\u001b[0;34m,\u001b[0m \u001b[0;34m**\u001b[0m\u001b[0mfunc_kwargs\u001b[0m\u001b[0;34m)\u001b[0m\u001b[0;34m\u001b[0m\u001b[0;34m\u001b[0m\u001b[0m\n\u001b[0m\u001b[1;32m    991\u001b[0m \u001b[0;34m\u001b[0m\u001b[0m\n\u001b[1;32m    992\u001b[0m       \u001b[0;31m# invariant: `func_outputs` contains only Tensors, CompositeTensors,\u001b[0m\u001b[0;34m\u001b[0m\u001b[0;34m\u001b[0m\u001b[0;34m\u001b[0m\u001b[0m\n",
            "\u001b[0;32m/usr/local/lib/python3.6/dist-packages/tensorflow/python/eager/def_function.py\u001b[0m in \u001b[0;36mwrapped_fn\u001b[0;34m(*args, **kwds)\u001b[0m\n\u001b[1;32m    632\u001b[0m             \u001b[0mxla_context\u001b[0m\u001b[0;34m.\u001b[0m\u001b[0mExit\u001b[0m\u001b[0;34m(\u001b[0m\u001b[0;34m)\u001b[0m\u001b[0;34m\u001b[0m\u001b[0;34m\u001b[0m\u001b[0m\n\u001b[1;32m    633\u001b[0m         \u001b[0;32melse\u001b[0m\u001b[0;34m:\u001b[0m\u001b[0;34m\u001b[0m\u001b[0;34m\u001b[0m\u001b[0m\n\u001b[0;32m--> 634\u001b[0;31m           \u001b[0mout\u001b[0m \u001b[0;34m=\u001b[0m \u001b[0mweak_wrapped_fn\u001b[0m\u001b[0;34m(\u001b[0m\u001b[0;34m)\u001b[0m\u001b[0;34m.\u001b[0m\u001b[0m__wrapped__\u001b[0m\u001b[0;34m(\u001b[0m\u001b[0;34m*\u001b[0m\u001b[0margs\u001b[0m\u001b[0;34m,\u001b[0m \u001b[0;34m**\u001b[0m\u001b[0mkwds\u001b[0m\u001b[0;34m)\u001b[0m\u001b[0;34m\u001b[0m\u001b[0;34m\u001b[0m\u001b[0m\n\u001b[0m\u001b[1;32m    635\u001b[0m         \u001b[0;32mreturn\u001b[0m \u001b[0mout\u001b[0m\u001b[0;34m\u001b[0m\u001b[0;34m\u001b[0m\u001b[0m\n\u001b[1;32m    636\u001b[0m \u001b[0;34m\u001b[0m\u001b[0m\n",
            "\u001b[0;32m/usr/local/lib/python3.6/dist-packages/tensorflow/python/framework/func_graph.py\u001b[0m in \u001b[0;36mwrapper\u001b[0;34m(*args, **kwargs)\u001b[0m\n\u001b[1;32m    975\u001b[0m           \u001b[0;32mexcept\u001b[0m \u001b[0mException\u001b[0m \u001b[0;32mas\u001b[0m \u001b[0me\u001b[0m\u001b[0;34m:\u001b[0m  \u001b[0;31m# pylint:disable=broad-except\u001b[0m\u001b[0;34m\u001b[0m\u001b[0;34m\u001b[0m\u001b[0m\n\u001b[1;32m    976\u001b[0m             \u001b[0;32mif\u001b[0m \u001b[0mhasattr\u001b[0m\u001b[0;34m(\u001b[0m\u001b[0me\u001b[0m\u001b[0;34m,\u001b[0m \u001b[0;34m\"ag_error_metadata\"\u001b[0m\u001b[0;34m)\u001b[0m\u001b[0;34m:\u001b[0m\u001b[0;34m\u001b[0m\u001b[0;34m\u001b[0m\u001b[0m\n\u001b[0;32m--> 977\u001b[0;31m               \u001b[0;32mraise\u001b[0m \u001b[0me\u001b[0m\u001b[0;34m.\u001b[0m\u001b[0mag_error_metadata\u001b[0m\u001b[0;34m.\u001b[0m\u001b[0mto_exception\u001b[0m\u001b[0;34m(\u001b[0m\u001b[0me\u001b[0m\u001b[0;34m)\u001b[0m\u001b[0;34m\u001b[0m\u001b[0;34m\u001b[0m\u001b[0m\n\u001b[0m\u001b[1;32m    978\u001b[0m             \u001b[0;32melse\u001b[0m\u001b[0;34m:\u001b[0m\u001b[0;34m\u001b[0m\u001b[0;34m\u001b[0m\u001b[0m\n\u001b[1;32m    979\u001b[0m               \u001b[0;32mraise\u001b[0m\u001b[0;34m\u001b[0m\u001b[0;34m\u001b[0m\u001b[0m\n",
            "\u001b[0;31mValueError\u001b[0m: in user code:\n\n    /usr/local/lib/python3.6/dist-packages/tensorflow/python/keras/engine/training.py:805 train_function  *\n        return step_function(self, iterator)\n    /usr/local/lib/python3.6/dist-packages/tensorflow/python/keras/engine/training.py:795 step_function  **\n        outputs = model.distribute_strategy.run(run_step, args=(data,))\n    /usr/local/lib/python3.6/dist-packages/tensorflow/python/distribute/distribute_lib.py:1259 run\n        return self._extended.call_for_each_replica(fn, args=args, kwargs=kwargs)\n    /usr/local/lib/python3.6/dist-packages/tensorflow/python/distribute/distribute_lib.py:2730 call_for_each_replica\n        return self._call_for_each_replica(fn, args, kwargs)\n    /usr/local/lib/python3.6/dist-packages/tensorflow/python/distribute/distribute_lib.py:3417 _call_for_each_replica\n        return fn(*args, **kwargs)\n    /usr/local/lib/python3.6/dist-packages/tensorflow/python/keras/engine/training.py:788 run_step  **\n        outputs = model.train_step(data)\n    /usr/local/lib/python3.6/dist-packages/tensorflow/python/keras/engine/training.py:756 train_step\n        y, y_pred, sample_weight, regularization_losses=self.losses)\n    /usr/local/lib/python3.6/dist-packages/tensorflow/python/keras/engine/compile_utils.py:203 __call__\n        loss_value = loss_obj(y_t, y_p, sample_weight=sw)\n    /usr/local/lib/python3.6/dist-packages/tensorflow/python/keras/losses.py:152 __call__\n        losses = call_fn(y_true, y_pred)\n    /usr/local/lib/python3.6/dist-packages/tensorflow/python/keras/losses.py:256 call  **\n        return ag_fn(y_true, y_pred, **self._fn_kwargs)\n    /usr/local/lib/python3.6/dist-packages/tensorflow/python/util/dispatch.py:201 wrapper\n        return target(*args, **kwargs)\n    /usr/local/lib/python3.6/dist-packages/tensorflow/python/keras/losses.py:1608 binary_crossentropy\n        K.binary_crossentropy(y_true, y_pred, from_logits=from_logits), axis=-1)\n    /usr/local/lib/python3.6/dist-packages/tensorflow/python/util/dispatch.py:201 wrapper\n        return target(*args, **kwargs)\n    /usr/local/lib/python3.6/dist-packages/tensorflow/python/keras/backend.py:4979 binary_crossentropy\n        return nn.sigmoid_cross_entropy_with_logits(labels=target, logits=output)\n    /usr/local/lib/python3.6/dist-packages/tensorflow/python/util/dispatch.py:201 wrapper\n        return target(*args, **kwargs)\n    /usr/local/lib/python3.6/dist-packages/tensorflow/python/ops/nn_impl.py:174 sigmoid_cross_entropy_with_logits\n        (logits.get_shape(), labels.get_shape()))\n\n    ValueError: logits and labels must have the same shape ((None, 2) vs (None, 1))\n"
          ]
        }
      ]
    },
    {
      "cell_type": "code",
      "metadata": {
        "id": "2GWLbC9UadE4"
      },
      "source": [
        ""
      ],
      "execution_count": null,
      "outputs": []
    },
    {
      "cell_type": "code",
      "metadata": {
        "colab": {
          "base_uri": "https://localhost:8080/"
        },
        "id": "fBqLm1kGONsG",
        "outputId": "fcbd71ee-4766-4bcb-bfab-100117169fb0"
      },
      "source": [
        "\n",
        "accuracyscore = model.evaluate([padded_test_sequences,padded_test_sequences, padded_test_sequences], Y_test)\n",
        "#accuracyscore = model.evaluate( padded_test_sequences, Y_test)\n",
        "\n",
        "print(accuracyscore * 100)\n",
        "print(\"Test loss:\", accuracyscore[0])\n",
        "print(\"Test accuracy:\", accuracyscore[1] * 100)\n"
      ],
      "execution_count": null,
      "outputs": [
        {
          "output_type": "stream",
          "text": [
            "436/436 [==============================] - 23s 53ms/step - loss: 0.9081 - accuracy: 0.8758\n",
            "[0.9080589413642883, 0.8758155703544617, 0.9080589413642883, 0.8758155703544617, 0.9080589413642883, 0.8758155703544617, 0.9080589413642883, 0.8758155703544617, 0.9080589413642883, 0.8758155703544617, 0.9080589413642883, 0.8758155703544617, 0.9080589413642883, 0.8758155703544617, 0.9080589413642883, 0.8758155703544617, 0.9080589413642883, 0.8758155703544617, 0.9080589413642883, 0.8758155703544617, 0.9080589413642883, 0.8758155703544617, 0.9080589413642883, 0.8758155703544617, 0.9080589413642883, 0.8758155703544617, 0.9080589413642883, 0.8758155703544617, 0.9080589413642883, 0.8758155703544617, 0.9080589413642883, 0.8758155703544617, 0.9080589413642883, 0.8758155703544617, 0.9080589413642883, 0.8758155703544617, 0.9080589413642883, 0.8758155703544617, 0.9080589413642883, 0.8758155703544617, 0.9080589413642883, 0.8758155703544617, 0.9080589413642883, 0.8758155703544617, 0.9080589413642883, 0.8758155703544617, 0.9080589413642883, 0.8758155703544617, 0.9080589413642883, 0.8758155703544617, 0.9080589413642883, 0.8758155703544617, 0.9080589413642883, 0.8758155703544617, 0.9080589413642883, 0.8758155703544617, 0.9080589413642883, 0.8758155703544617, 0.9080589413642883, 0.8758155703544617, 0.9080589413642883, 0.8758155703544617, 0.9080589413642883, 0.8758155703544617, 0.9080589413642883, 0.8758155703544617, 0.9080589413642883, 0.8758155703544617, 0.9080589413642883, 0.8758155703544617, 0.9080589413642883, 0.8758155703544617, 0.9080589413642883, 0.8758155703544617, 0.9080589413642883, 0.8758155703544617, 0.9080589413642883, 0.8758155703544617, 0.9080589413642883, 0.8758155703544617, 0.9080589413642883, 0.8758155703544617, 0.9080589413642883, 0.8758155703544617, 0.9080589413642883, 0.8758155703544617, 0.9080589413642883, 0.8758155703544617, 0.9080589413642883, 0.8758155703544617, 0.9080589413642883, 0.8758155703544617, 0.9080589413642883, 0.8758155703544617, 0.9080589413642883, 0.8758155703544617, 0.9080589413642883, 0.8758155703544617, 0.9080589413642883, 0.8758155703544617, 0.9080589413642883, 0.8758155703544617, 0.9080589413642883, 0.8758155703544617, 0.9080589413642883, 0.8758155703544617, 0.9080589413642883, 0.8758155703544617, 0.9080589413642883, 0.8758155703544617, 0.9080589413642883, 0.8758155703544617, 0.9080589413642883, 0.8758155703544617, 0.9080589413642883, 0.8758155703544617, 0.9080589413642883, 0.8758155703544617, 0.9080589413642883, 0.8758155703544617, 0.9080589413642883, 0.8758155703544617, 0.9080589413642883, 0.8758155703544617, 0.9080589413642883, 0.8758155703544617, 0.9080589413642883, 0.8758155703544617, 0.9080589413642883, 0.8758155703544617, 0.9080589413642883, 0.8758155703544617, 0.9080589413642883, 0.8758155703544617, 0.9080589413642883, 0.8758155703544617, 0.9080589413642883, 0.8758155703544617, 0.9080589413642883, 0.8758155703544617, 0.9080589413642883, 0.8758155703544617, 0.9080589413642883, 0.8758155703544617, 0.9080589413642883, 0.8758155703544617, 0.9080589413642883, 0.8758155703544617, 0.9080589413642883, 0.8758155703544617, 0.9080589413642883, 0.8758155703544617, 0.9080589413642883, 0.8758155703544617, 0.9080589413642883, 0.8758155703544617, 0.9080589413642883, 0.8758155703544617, 0.9080589413642883, 0.8758155703544617, 0.9080589413642883, 0.8758155703544617, 0.9080589413642883, 0.8758155703544617, 0.9080589413642883, 0.8758155703544617, 0.9080589413642883, 0.8758155703544617, 0.9080589413642883, 0.8758155703544617, 0.9080589413642883, 0.8758155703544617, 0.9080589413642883, 0.8758155703544617, 0.9080589413642883, 0.8758155703544617, 0.9080589413642883, 0.8758155703544617, 0.9080589413642883, 0.8758155703544617, 0.9080589413642883, 0.8758155703544617, 0.9080589413642883, 0.8758155703544617, 0.9080589413642883, 0.8758155703544617, 0.9080589413642883, 0.8758155703544617, 0.9080589413642883, 0.8758155703544617, 0.9080589413642883, 0.8758155703544617, 0.9080589413642883, 0.8758155703544617, 0.9080589413642883, 0.8758155703544617, 0.9080589413642883, 0.8758155703544617, 0.9080589413642883, 0.8758155703544617]\n",
            "Test loss: 0.9080589413642883\n",
            "Test accuracy: 87.58155703544617\n"
          ],
          "name": "stdout"
        }
      ]
    },
    {
      "cell_type": "code",
      "metadata": {
        "colab": {
          "base_uri": "https://localhost:8080/",
          "height": 673
        },
        "id": "tMN2FlmgWV-4",
        "outputId": "f103963d-74ce-44dc-8fd8-a272818c69aa"
      },
      "source": [
        "y_pred = model.predict([padded_test_sequences,padded_test_sequences,padded_test_sequences])\n"
      ],
      "execution_count": null,
      "outputs": [
        {
          "output_type": "error",
          "ename": "ValueError",
          "evalue": "ignored",
          "traceback": [
            "\u001b[0;31m---------------------------------------------------------------------------\u001b[0m",
            "\u001b[0;31mValueError\u001b[0m                                Traceback (most recent call last)",
            "\u001b[0;32m<ipython-input-24-b2819f224f1c>\u001b[0m in \u001b[0;36m<module>\u001b[0;34m()\u001b[0m\n\u001b[0;32m----> 1\u001b[0;31m \u001b[0my_pred\u001b[0m \u001b[0;34m=\u001b[0m \u001b[0mmodel\u001b[0m\u001b[0;34m.\u001b[0m\u001b[0mpredict\u001b[0m\u001b[0;34m(\u001b[0m\u001b[0;34m[\u001b[0m\u001b[0mpadded_test_sequences\u001b[0m\u001b[0;34m,\u001b[0m\u001b[0mpadded_test_sequences\u001b[0m\u001b[0;34m,\u001b[0m\u001b[0mpadded_test_sequences\u001b[0m\u001b[0;34m]\u001b[0m\u001b[0;34m)\u001b[0m\u001b[0;34m\u001b[0m\u001b[0;34m\u001b[0m\u001b[0m\n\u001b[0m",
            "\u001b[0;32m/usr/local/lib/python3.6/dist-packages/tensorflow/python/keras/engine/training.py\u001b[0m in \u001b[0;36mpredict\u001b[0;34m(self, x, batch_size, verbose, steps, callbacks, max_queue_size, workers, use_multiprocessing)\u001b[0m\n\u001b[1;32m   1627\u001b[0m           \u001b[0;32mfor\u001b[0m \u001b[0mstep\u001b[0m \u001b[0;32min\u001b[0m \u001b[0mdata_handler\u001b[0m\u001b[0;34m.\u001b[0m\u001b[0msteps\u001b[0m\u001b[0;34m(\u001b[0m\u001b[0;34m)\u001b[0m\u001b[0;34m:\u001b[0m\u001b[0;34m\u001b[0m\u001b[0;34m\u001b[0m\u001b[0m\n\u001b[1;32m   1628\u001b[0m             \u001b[0mcallbacks\u001b[0m\u001b[0;34m.\u001b[0m\u001b[0mon_predict_batch_begin\u001b[0m\u001b[0;34m(\u001b[0m\u001b[0mstep\u001b[0m\u001b[0;34m)\u001b[0m\u001b[0;34m\u001b[0m\u001b[0;34m\u001b[0m\u001b[0m\n\u001b[0;32m-> 1629\u001b[0;31m             \u001b[0mtmp_batch_outputs\u001b[0m \u001b[0;34m=\u001b[0m \u001b[0mself\u001b[0m\u001b[0;34m.\u001b[0m\u001b[0mpredict_function\u001b[0m\u001b[0;34m(\u001b[0m\u001b[0miterator\u001b[0m\u001b[0;34m)\u001b[0m\u001b[0;34m\u001b[0m\u001b[0;34m\u001b[0m\u001b[0m\n\u001b[0m\u001b[1;32m   1630\u001b[0m             \u001b[0;32mif\u001b[0m \u001b[0mdata_handler\u001b[0m\u001b[0;34m.\u001b[0m\u001b[0mshould_sync\u001b[0m\u001b[0;34m:\u001b[0m\u001b[0;34m\u001b[0m\u001b[0;34m\u001b[0m\u001b[0m\n\u001b[1;32m   1631\u001b[0m               \u001b[0mcontext\u001b[0m\u001b[0;34m.\u001b[0m\u001b[0masync_wait\u001b[0m\u001b[0;34m(\u001b[0m\u001b[0;34m)\u001b[0m\u001b[0;34m\u001b[0m\u001b[0;34m\u001b[0m\u001b[0m\n",
            "\u001b[0;32m/usr/local/lib/python3.6/dist-packages/tensorflow/python/eager/def_function.py\u001b[0m in \u001b[0;36m__call__\u001b[0;34m(self, *args, **kwds)\u001b[0m\n\u001b[1;32m    826\u001b[0m     \u001b[0mtracing_count\u001b[0m \u001b[0;34m=\u001b[0m \u001b[0mself\u001b[0m\u001b[0;34m.\u001b[0m\u001b[0mexperimental_get_tracing_count\u001b[0m\u001b[0;34m(\u001b[0m\u001b[0;34m)\u001b[0m\u001b[0;34m\u001b[0m\u001b[0;34m\u001b[0m\u001b[0m\n\u001b[1;32m    827\u001b[0m     \u001b[0;32mwith\u001b[0m \u001b[0mtrace\u001b[0m\u001b[0;34m.\u001b[0m\u001b[0mTrace\u001b[0m\u001b[0;34m(\u001b[0m\u001b[0mself\u001b[0m\u001b[0;34m.\u001b[0m\u001b[0m_name\u001b[0m\u001b[0;34m)\u001b[0m \u001b[0;32mas\u001b[0m \u001b[0mtm\u001b[0m\u001b[0;34m:\u001b[0m\u001b[0;34m\u001b[0m\u001b[0;34m\u001b[0m\u001b[0m\n\u001b[0;32m--> 828\u001b[0;31m       \u001b[0mresult\u001b[0m \u001b[0;34m=\u001b[0m \u001b[0mself\u001b[0m\u001b[0;34m.\u001b[0m\u001b[0m_call\u001b[0m\u001b[0;34m(\u001b[0m\u001b[0;34m*\u001b[0m\u001b[0margs\u001b[0m\u001b[0;34m,\u001b[0m \u001b[0;34m**\u001b[0m\u001b[0mkwds\u001b[0m\u001b[0;34m)\u001b[0m\u001b[0;34m\u001b[0m\u001b[0;34m\u001b[0m\u001b[0m\n\u001b[0m\u001b[1;32m    829\u001b[0m       \u001b[0mcompiler\u001b[0m \u001b[0;34m=\u001b[0m \u001b[0;34m\"xla\"\u001b[0m \u001b[0;32mif\u001b[0m \u001b[0mself\u001b[0m\u001b[0;34m.\u001b[0m\u001b[0m_experimental_compile\u001b[0m \u001b[0;32melse\u001b[0m \u001b[0;34m\"nonXla\"\u001b[0m\u001b[0;34m\u001b[0m\u001b[0;34m\u001b[0m\u001b[0m\n\u001b[1;32m    830\u001b[0m       \u001b[0mnew_tracing_count\u001b[0m \u001b[0;34m=\u001b[0m \u001b[0mself\u001b[0m\u001b[0;34m.\u001b[0m\u001b[0mexperimental_get_tracing_count\u001b[0m\u001b[0;34m(\u001b[0m\u001b[0;34m)\u001b[0m\u001b[0;34m\u001b[0m\u001b[0;34m\u001b[0m\u001b[0m\n",
            "\u001b[0;32m/usr/local/lib/python3.6/dist-packages/tensorflow/python/eager/def_function.py\u001b[0m in \u001b[0;36m_call\u001b[0;34m(self, *args, **kwds)\u001b[0m\n\u001b[1;32m    869\u001b[0m       \u001b[0;31m# This is the first call of __call__, so we have to initialize.\u001b[0m\u001b[0;34m\u001b[0m\u001b[0;34m\u001b[0m\u001b[0;34m\u001b[0m\u001b[0m\n\u001b[1;32m    870\u001b[0m       \u001b[0minitializers\u001b[0m \u001b[0;34m=\u001b[0m \u001b[0;34m[\u001b[0m\u001b[0;34m]\u001b[0m\u001b[0;34m\u001b[0m\u001b[0;34m\u001b[0m\u001b[0m\n\u001b[0;32m--> 871\u001b[0;31m       \u001b[0mself\u001b[0m\u001b[0;34m.\u001b[0m\u001b[0m_initialize\u001b[0m\u001b[0;34m(\u001b[0m\u001b[0margs\u001b[0m\u001b[0;34m,\u001b[0m \u001b[0mkwds\u001b[0m\u001b[0;34m,\u001b[0m \u001b[0madd_initializers_to\u001b[0m\u001b[0;34m=\u001b[0m\u001b[0minitializers\u001b[0m\u001b[0;34m)\u001b[0m\u001b[0;34m\u001b[0m\u001b[0;34m\u001b[0m\u001b[0m\n\u001b[0m\u001b[1;32m    872\u001b[0m     \u001b[0;32mfinally\u001b[0m\u001b[0;34m:\u001b[0m\u001b[0;34m\u001b[0m\u001b[0;34m\u001b[0m\u001b[0m\n\u001b[1;32m    873\u001b[0m       \u001b[0;31m# At this point we know that the initialization is complete (or less\u001b[0m\u001b[0;34m\u001b[0m\u001b[0;34m\u001b[0m\u001b[0;34m\u001b[0m\u001b[0m\n",
            "\u001b[0;32m/usr/local/lib/python3.6/dist-packages/tensorflow/python/eager/def_function.py\u001b[0m in \u001b[0;36m_initialize\u001b[0;34m(self, args, kwds, add_initializers_to)\u001b[0m\n\u001b[1;32m    724\u001b[0m     self._concrete_stateful_fn = (\n\u001b[1;32m    725\u001b[0m         self._stateful_fn._get_concrete_function_internal_garbage_collected(  # pylint: disable=protected-access\n\u001b[0;32m--> 726\u001b[0;31m             *args, **kwds))\n\u001b[0m\u001b[1;32m    727\u001b[0m \u001b[0;34m\u001b[0m\u001b[0m\n\u001b[1;32m    728\u001b[0m     \u001b[0;32mdef\u001b[0m \u001b[0minvalid_creator_scope\u001b[0m\u001b[0;34m(\u001b[0m\u001b[0;34m*\u001b[0m\u001b[0munused_args\u001b[0m\u001b[0;34m,\u001b[0m \u001b[0;34m**\u001b[0m\u001b[0munused_kwds\u001b[0m\u001b[0;34m)\u001b[0m\u001b[0;34m:\u001b[0m\u001b[0;34m\u001b[0m\u001b[0;34m\u001b[0m\u001b[0m\n",
            "\u001b[0;32m/usr/local/lib/python3.6/dist-packages/tensorflow/python/eager/function.py\u001b[0m in \u001b[0;36m_get_concrete_function_internal_garbage_collected\u001b[0;34m(self, *args, **kwargs)\u001b[0m\n\u001b[1;32m   2967\u001b[0m       \u001b[0margs\u001b[0m\u001b[0;34m,\u001b[0m \u001b[0mkwargs\u001b[0m \u001b[0;34m=\u001b[0m \u001b[0;32mNone\u001b[0m\u001b[0;34m,\u001b[0m \u001b[0;32mNone\u001b[0m\u001b[0;34m\u001b[0m\u001b[0;34m\u001b[0m\u001b[0m\n\u001b[1;32m   2968\u001b[0m     \u001b[0;32mwith\u001b[0m \u001b[0mself\u001b[0m\u001b[0;34m.\u001b[0m\u001b[0m_lock\u001b[0m\u001b[0;34m:\u001b[0m\u001b[0;34m\u001b[0m\u001b[0;34m\u001b[0m\u001b[0m\n\u001b[0;32m-> 2969\u001b[0;31m       \u001b[0mgraph_function\u001b[0m\u001b[0;34m,\u001b[0m \u001b[0m_\u001b[0m \u001b[0;34m=\u001b[0m \u001b[0mself\u001b[0m\u001b[0;34m.\u001b[0m\u001b[0m_maybe_define_function\u001b[0m\u001b[0;34m(\u001b[0m\u001b[0margs\u001b[0m\u001b[0;34m,\u001b[0m \u001b[0mkwargs\u001b[0m\u001b[0;34m)\u001b[0m\u001b[0;34m\u001b[0m\u001b[0;34m\u001b[0m\u001b[0m\n\u001b[0m\u001b[1;32m   2970\u001b[0m     \u001b[0;32mreturn\u001b[0m \u001b[0mgraph_function\u001b[0m\u001b[0;34m\u001b[0m\u001b[0;34m\u001b[0m\u001b[0m\n\u001b[1;32m   2971\u001b[0m \u001b[0;34m\u001b[0m\u001b[0m\n",
            "\u001b[0;32m/usr/local/lib/python3.6/dist-packages/tensorflow/python/eager/function.py\u001b[0m in \u001b[0;36m_maybe_define_function\u001b[0;34m(self, args, kwargs)\u001b[0m\n\u001b[1;32m   3359\u001b[0m \u001b[0;34m\u001b[0m\u001b[0m\n\u001b[1;32m   3360\u001b[0m           \u001b[0mself\u001b[0m\u001b[0;34m.\u001b[0m\u001b[0m_function_cache\u001b[0m\u001b[0;34m.\u001b[0m\u001b[0mmissed\u001b[0m\u001b[0;34m.\u001b[0m\u001b[0madd\u001b[0m\u001b[0;34m(\u001b[0m\u001b[0mcall_context_key\u001b[0m\u001b[0;34m)\u001b[0m\u001b[0;34m\u001b[0m\u001b[0;34m\u001b[0m\u001b[0m\n\u001b[0;32m-> 3361\u001b[0;31m           \u001b[0mgraph_function\u001b[0m \u001b[0;34m=\u001b[0m \u001b[0mself\u001b[0m\u001b[0;34m.\u001b[0m\u001b[0m_create_graph_function\u001b[0m\u001b[0;34m(\u001b[0m\u001b[0margs\u001b[0m\u001b[0;34m,\u001b[0m \u001b[0mkwargs\u001b[0m\u001b[0;34m)\u001b[0m\u001b[0;34m\u001b[0m\u001b[0;34m\u001b[0m\u001b[0m\n\u001b[0m\u001b[1;32m   3362\u001b[0m           \u001b[0mself\u001b[0m\u001b[0;34m.\u001b[0m\u001b[0m_function_cache\u001b[0m\u001b[0;34m.\u001b[0m\u001b[0mprimary\u001b[0m\u001b[0;34m[\u001b[0m\u001b[0mcache_key\u001b[0m\u001b[0;34m]\u001b[0m \u001b[0;34m=\u001b[0m \u001b[0mgraph_function\u001b[0m\u001b[0;34m\u001b[0m\u001b[0;34m\u001b[0m\u001b[0m\n\u001b[1;32m   3363\u001b[0m \u001b[0;34m\u001b[0m\u001b[0m\n",
            "\u001b[0;32m/usr/local/lib/python3.6/dist-packages/tensorflow/python/eager/function.py\u001b[0m in \u001b[0;36m_create_graph_function\u001b[0;34m(self, args, kwargs, override_flat_arg_shapes)\u001b[0m\n\u001b[1;32m   3204\u001b[0m             \u001b[0marg_names\u001b[0m\u001b[0;34m=\u001b[0m\u001b[0marg_names\u001b[0m\u001b[0;34m,\u001b[0m\u001b[0;34m\u001b[0m\u001b[0;34m\u001b[0m\u001b[0m\n\u001b[1;32m   3205\u001b[0m             \u001b[0moverride_flat_arg_shapes\u001b[0m\u001b[0;34m=\u001b[0m\u001b[0moverride_flat_arg_shapes\u001b[0m\u001b[0;34m,\u001b[0m\u001b[0;34m\u001b[0m\u001b[0;34m\u001b[0m\u001b[0m\n\u001b[0;32m-> 3206\u001b[0;31m             capture_by_value=self._capture_by_value),\n\u001b[0m\u001b[1;32m   3207\u001b[0m         \u001b[0mself\u001b[0m\u001b[0;34m.\u001b[0m\u001b[0m_function_attributes\u001b[0m\u001b[0;34m,\u001b[0m\u001b[0;34m\u001b[0m\u001b[0;34m\u001b[0m\u001b[0m\n\u001b[1;32m   3208\u001b[0m         \u001b[0mfunction_spec\u001b[0m\u001b[0;34m=\u001b[0m\u001b[0mself\u001b[0m\u001b[0;34m.\u001b[0m\u001b[0mfunction_spec\u001b[0m\u001b[0;34m,\u001b[0m\u001b[0;34m\u001b[0m\u001b[0;34m\u001b[0m\u001b[0m\n",
            "\u001b[0;32m/usr/local/lib/python3.6/dist-packages/tensorflow/python/framework/func_graph.py\u001b[0m in \u001b[0;36mfunc_graph_from_py_func\u001b[0;34m(name, python_func, args, kwargs, signature, func_graph, autograph, autograph_options, add_control_dependencies, arg_names, op_return_value, collections, capture_by_value, override_flat_arg_shapes)\u001b[0m\n\u001b[1;32m    988\u001b[0m         \u001b[0m_\u001b[0m\u001b[0;34m,\u001b[0m \u001b[0moriginal_func\u001b[0m \u001b[0;34m=\u001b[0m \u001b[0mtf_decorator\u001b[0m\u001b[0;34m.\u001b[0m\u001b[0munwrap\u001b[0m\u001b[0;34m(\u001b[0m\u001b[0mpython_func\u001b[0m\u001b[0;34m)\u001b[0m\u001b[0;34m\u001b[0m\u001b[0;34m\u001b[0m\u001b[0m\n\u001b[1;32m    989\u001b[0m \u001b[0;34m\u001b[0m\u001b[0m\n\u001b[0;32m--> 990\u001b[0;31m       \u001b[0mfunc_outputs\u001b[0m \u001b[0;34m=\u001b[0m \u001b[0mpython_func\u001b[0m\u001b[0;34m(\u001b[0m\u001b[0;34m*\u001b[0m\u001b[0mfunc_args\u001b[0m\u001b[0;34m,\u001b[0m \u001b[0;34m**\u001b[0m\u001b[0mfunc_kwargs\u001b[0m\u001b[0;34m)\u001b[0m\u001b[0;34m\u001b[0m\u001b[0;34m\u001b[0m\u001b[0m\n\u001b[0m\u001b[1;32m    991\u001b[0m \u001b[0;34m\u001b[0m\u001b[0m\n\u001b[1;32m    992\u001b[0m       \u001b[0;31m# invariant: `func_outputs` contains only Tensors, CompositeTensors,\u001b[0m\u001b[0;34m\u001b[0m\u001b[0;34m\u001b[0m\u001b[0;34m\u001b[0m\u001b[0m\n",
            "\u001b[0;32m/usr/local/lib/python3.6/dist-packages/tensorflow/python/eager/def_function.py\u001b[0m in \u001b[0;36mwrapped_fn\u001b[0;34m(*args, **kwds)\u001b[0m\n\u001b[1;32m    632\u001b[0m             \u001b[0mxla_context\u001b[0m\u001b[0;34m.\u001b[0m\u001b[0mExit\u001b[0m\u001b[0;34m(\u001b[0m\u001b[0;34m)\u001b[0m\u001b[0;34m\u001b[0m\u001b[0;34m\u001b[0m\u001b[0m\n\u001b[1;32m    633\u001b[0m         \u001b[0;32melse\u001b[0m\u001b[0;34m:\u001b[0m\u001b[0;34m\u001b[0m\u001b[0;34m\u001b[0m\u001b[0m\n\u001b[0;32m--> 634\u001b[0;31m           \u001b[0mout\u001b[0m \u001b[0;34m=\u001b[0m \u001b[0mweak_wrapped_fn\u001b[0m\u001b[0;34m(\u001b[0m\u001b[0;34m)\u001b[0m\u001b[0;34m.\u001b[0m\u001b[0m__wrapped__\u001b[0m\u001b[0;34m(\u001b[0m\u001b[0;34m*\u001b[0m\u001b[0margs\u001b[0m\u001b[0;34m,\u001b[0m \u001b[0;34m**\u001b[0m\u001b[0mkwds\u001b[0m\u001b[0;34m)\u001b[0m\u001b[0;34m\u001b[0m\u001b[0;34m\u001b[0m\u001b[0m\n\u001b[0m\u001b[1;32m    635\u001b[0m         \u001b[0;32mreturn\u001b[0m \u001b[0mout\u001b[0m\u001b[0;34m\u001b[0m\u001b[0;34m\u001b[0m\u001b[0m\n\u001b[1;32m    636\u001b[0m \u001b[0;34m\u001b[0m\u001b[0m\n",
            "\u001b[0;32m/usr/local/lib/python3.6/dist-packages/tensorflow/python/framework/func_graph.py\u001b[0m in \u001b[0;36mwrapper\u001b[0;34m(*args, **kwargs)\u001b[0m\n\u001b[1;32m    975\u001b[0m           \u001b[0;32mexcept\u001b[0m \u001b[0mException\u001b[0m \u001b[0;32mas\u001b[0m \u001b[0me\u001b[0m\u001b[0;34m:\u001b[0m  \u001b[0;31m# pylint:disable=broad-except\u001b[0m\u001b[0;34m\u001b[0m\u001b[0;34m\u001b[0m\u001b[0m\n\u001b[1;32m    976\u001b[0m             \u001b[0;32mif\u001b[0m \u001b[0mhasattr\u001b[0m\u001b[0;34m(\u001b[0m\u001b[0me\u001b[0m\u001b[0;34m,\u001b[0m \u001b[0;34m\"ag_error_metadata\"\u001b[0m\u001b[0;34m)\u001b[0m\u001b[0;34m:\u001b[0m\u001b[0;34m\u001b[0m\u001b[0;34m\u001b[0m\u001b[0m\n\u001b[0;32m--> 977\u001b[0;31m               \u001b[0;32mraise\u001b[0m \u001b[0me\u001b[0m\u001b[0;34m.\u001b[0m\u001b[0mag_error_metadata\u001b[0m\u001b[0;34m.\u001b[0m\u001b[0mto_exception\u001b[0m\u001b[0;34m(\u001b[0m\u001b[0me\u001b[0m\u001b[0;34m)\u001b[0m\u001b[0;34m\u001b[0m\u001b[0;34m\u001b[0m\u001b[0m\n\u001b[0m\u001b[1;32m    978\u001b[0m             \u001b[0;32melse\u001b[0m\u001b[0;34m:\u001b[0m\u001b[0;34m\u001b[0m\u001b[0;34m\u001b[0m\u001b[0m\n\u001b[1;32m    979\u001b[0m               \u001b[0;32mraise\u001b[0m\u001b[0;34m\u001b[0m\u001b[0;34m\u001b[0m\u001b[0m\n",
            "\u001b[0;31mValueError\u001b[0m: in user code:\n\n    /usr/local/lib/python3.6/dist-packages/tensorflow/python/keras/engine/training.py:1478 predict_function  *\n        return step_function(self, iterator)\n    /usr/local/lib/python3.6/dist-packages/tensorflow/python/keras/engine/training.py:1468 step_function  **\n        outputs = model.distribute_strategy.run(run_step, args=(data,))\n    /usr/local/lib/python3.6/dist-packages/tensorflow/python/distribute/distribute_lib.py:1259 run\n        return self._extended.call_for_each_replica(fn, args=args, kwargs=kwargs)\n    /usr/local/lib/python3.6/dist-packages/tensorflow/python/distribute/distribute_lib.py:2730 call_for_each_replica\n        return self._call_for_each_replica(fn, args, kwargs)\n    /usr/local/lib/python3.6/dist-packages/tensorflow/python/distribute/distribute_lib.py:3417 _call_for_each_replica\n        return fn(*args, **kwargs)\n    /usr/local/lib/python3.6/dist-packages/tensorflow/python/keras/engine/training.py:1461 run_step  **\n        outputs = model.predict_step(data)\n    /usr/local/lib/python3.6/dist-packages/tensorflow/python/keras/engine/training.py:1434 predict_step\n        return self(x, training=False)\n    /usr/local/lib/python3.6/dist-packages/tensorflow/python/keras/engine/base_layer.py:998 __call__\n        input_spec.assert_input_compatibility(self.input_spec, inputs, self.name)\n    /usr/local/lib/python3.6/dist-packages/tensorflow/python/keras/engine/input_spec.py:207 assert_input_compatibility\n        ' input tensors. Inputs received: ' + str(inputs))\n\n    ValueError: Layer model expects 2 input(s), but it received 3 input tensors. Inputs received: [<tf.Tensor 'IteratorGetNext:0' shape=(None, 210) dtype=int32>, <tf.Tensor 'IteratorGetNext:1' shape=(None, 210) dtype=int32>, <tf.Tensor 'IteratorGetNext:2' shape=(None, 210) dtype=int32>]\n"
          ]
        }
      ]
    },
    {
      "cell_type": "code",
      "metadata": {
        "colab": {
          "base_uri": "https://localhost:8080/",
          "height": 52
        },
        "id": "5JjaWecNWbMR",
        "outputId": "e8d3b831-2809-42c9-80e0-7dbd813b0054"
      },
      "source": [
        "from sklearn.metrics import confusion_matrix\n",
        "from sklearn import metrics\n",
        "\n",
        "matrix = confusion_matrix(Y_test.argmax(axis=1), y_pred.argmax(axis=1))\n",
        "\n",
        "print(matrix)\n"
      ],
      "execution_count": null,
      "outputs": [
        {
          "output_type": "stream",
          "text": [
            "[[2187  299]\n",
            " [ 337 4335]]\n"
          ],
          "name": "stdout"
        }
      ]
    },
    {
      "cell_type": "code",
      "metadata": {
        "colab": {
          "base_uri": "https://localhost:8080/",
          "height": 218
        },
        "id": "5350YAzTXNw_",
        "outputId": "89c8723d-ce57-4e7a-d973-5de645bf4da4"
      },
      "source": [
        "train_loss=history.history['loss']\n",
        "val_loss=history.history['val_loss']\n",
        "train_acc=history.history['acc']\n",
        "val_acc=history.history['val_acc']\n"
      ],
      "execution_count": null,
      "outputs": [
        {
          "output_type": "error",
          "ename": "NameError",
          "evalue": "ignored",
          "traceback": [
            "\u001b[0;31m---------------------------------------------------------------------------\u001b[0m",
            "\u001b[0;31mNameError\u001b[0m                                 Traceback (most recent call last)",
            "\u001b[0;32m<ipython-input-54-9971176eb3d4>\u001b[0m in \u001b[0;36m<module>\u001b[0;34m()\u001b[0m\n\u001b[0;32m----> 1\u001b[0;31m \u001b[0mtrain_loss\u001b[0m\u001b[0;34m=\u001b[0m\u001b[0mhistory\u001b[0m\u001b[0;34m.\u001b[0m\u001b[0mhistory\u001b[0m\u001b[0;34m[\u001b[0m\u001b[0;34m'loss'\u001b[0m\u001b[0;34m]\u001b[0m\u001b[0;34m\u001b[0m\u001b[0;34m\u001b[0m\u001b[0m\n\u001b[0m\u001b[1;32m      2\u001b[0m \u001b[0mval_loss\u001b[0m\u001b[0;34m=\u001b[0m\u001b[0mhistory\u001b[0m\u001b[0;34m.\u001b[0m\u001b[0mhistory\u001b[0m\u001b[0;34m[\u001b[0m\u001b[0;34m'val_loss'\u001b[0m\u001b[0;34m]\u001b[0m\u001b[0;34m\u001b[0m\u001b[0;34m\u001b[0m\u001b[0m\n\u001b[1;32m      3\u001b[0m \u001b[0mtrain_acc\u001b[0m\u001b[0;34m=\u001b[0m\u001b[0mhistory\u001b[0m\u001b[0;34m.\u001b[0m\u001b[0mhistory\u001b[0m\u001b[0;34m[\u001b[0m\u001b[0;34m'acc'\u001b[0m\u001b[0;34m]\u001b[0m\u001b[0;34m\u001b[0m\u001b[0;34m\u001b[0m\u001b[0m\n\u001b[1;32m      4\u001b[0m \u001b[0mval_acc\u001b[0m\u001b[0;34m=\u001b[0m\u001b[0mhistory\u001b[0m\u001b[0;34m.\u001b[0m\u001b[0mhistory\u001b[0m\u001b[0;34m[\u001b[0m\u001b[0;34m'val_acc'\u001b[0m\u001b[0;34m]\u001b[0m\u001b[0;34m\u001b[0m\u001b[0;34m\u001b[0m\u001b[0m\n",
            "\u001b[0;31mNameError\u001b[0m: name 'history' is not defined"
          ]
        }
      ]
    },
    {
      "cell_type": "code",
      "metadata": {
        "colab": {
          "base_uri": "https://localhost:8080/",
          "height": 1000
        },
        "id": "j-UHNgxDJTOb",
        "outputId": "4152ed4a-cd8f-4bc7-8dbc-515053d862ec"
      },
      "source": [
        "model.summary()"
      ],
      "execution_count": null,
      "outputs": [
        {
          "output_type": "stream",
          "text": [
            "Model: \"functional_17\"\n",
            "__________________________________________________________________________________________________\n",
            "Layer (type)                    Output Shape         Param #     Connected to                     \n",
            "==================================================================================================\n",
            "input_21 (InputLayer)           [(None, 150)]        0                                            \n",
            "__________________________________________________________________________________________________\n",
            "input_22 (InputLayer)           [(None, 150)]        0                                            \n",
            "__________________________________________________________________________________________________\n",
            "input_23 (InputLayer)           [(None, 150)]        0                                            \n",
            "__________________________________________________________________________________________________\n",
            "token_and_position_embedding_16 (None, 150, 32)      2564800     input_21[0][0]                   \n",
            "__________________________________________________________________________________________________\n",
            "token_and_position_embedding_17 (None, 150, 32)      2564800     input_22[0][0]                   \n",
            "__________________________________________________________________________________________________\n",
            "token_and_position_embedding_18 (None, 150, 32)      2564800     input_23[0][0]                   \n",
            "__________________________________________________________________________________________________\n",
            "transformer_block_16 (Transform (None, 150, 32)      6464        token_and_position_embedding_16[0\n",
            "__________________________________________________________________________________________________\n",
            "transformer_block_17 (Transform (None, 150, 32)      6464        token_and_position_embedding_17[0\n",
            "__________________________________________________________________________________________________\n",
            "transformer_block_18 (Transform (None, 150, 32)      6464        token_and_position_embedding_18[0\n",
            "__________________________________________________________________________________________________\n",
            "global_average_pooling1d_17 (Gl (None, 32)           0           transformer_block_16[0][0]       \n",
            "__________________________________________________________________________________________________\n",
            "global_average_pooling1d_18 (Gl (None, 32)           0           transformer_block_17[0][0]       \n",
            "__________________________________________________________________________________________________\n",
            "global_average_pooling1d_19 (Gl (None, 32)           0           transformer_block_18[0][0]       \n",
            "__________________________________________________________________________________________________\n",
            "dropout_69 (Dropout)            (None, 32)           0           global_average_pooling1d_17[0][0]\n",
            "__________________________________________________________________________________________________\n",
            "dropout_73 (Dropout)            (None, 32)           0           global_average_pooling1d_18[0][0]\n",
            "__________________________________________________________________________________________________\n",
            "dropout_77 (Dropout)            (None, 32)           0           global_average_pooling1d_19[0][0]\n",
            "__________________________________________________________________________________________________\n",
            "dense_132 (Dense)               (None, 200)          6600        dropout_69[0][0]                 \n",
            "__________________________________________________________________________________________________\n",
            "dense_139 (Dense)               (None, 200)          6600        dropout_73[0][0]                 \n",
            "__________________________________________________________________________________________________\n",
            "dense_146 (Dense)               (None, 200)          6600        dropout_77[0][0]                 \n",
            "__________________________________________________________________________________________________\n",
            "dropout_70 (Dropout)            (None, 200)          0           dense_132[0][0]                  \n",
            "__________________________________________________________________________________________________\n",
            "dropout_74 (Dropout)            (None, 200)          0           dense_139[0][0]                  \n",
            "__________________________________________________________________________________________________\n",
            "dropout_78 (Dropout)            (None, 200)          0           dense_146[0][0]                  \n",
            "__________________________________________________________________________________________________\n",
            "concatenate_7 (Concatenate)     (None, 600)          0           dropout_70[0][0]                 \n",
            "                                                                 dropout_74[0][0]                 \n",
            "                                                                 dropout_78[0][0]                 \n",
            "__________________________________________________________________________________________________\n",
            "dense_147 (Dense)               (None, 20)           12020       concatenate_7[0][0]              \n",
            "__________________________________________________________________________________________________\n",
            "dense_148 (Dense)               (None, 2)            42          dense_147[0][0]                  \n",
            "==================================================================================================\n",
            "Total params: 7,745,654\n",
            "Trainable params: 7,745,654\n",
            "Non-trainable params: 0\n",
            "__________________________________________________________________________________________________\n"
          ],
          "name": "stdout"
        }
      ]
    },
    {
      "cell_type": "code",
      "metadata": {
        "colab": {
          "base_uri": "https://localhost:8080/",
          "height": 1000
        },
        "id": "tJZ-XQ4MJmoA",
        "outputId": "609630a2-8af8-4bb7-d32f-b471789ce4a2"
      },
      "source": [
        "\t# channel 1\n",
        "embed_dim = 16  # Embedding size for each token\n",
        "num_heads = 4  # Number of attention heads\n",
        "ff_dim = 32  # Hidden layer size in feed forward network inside transformer\n",
        "maxlen = MAX_SEQUENCE_LENGTH\n",
        "vocab_size = vocab_size = len(tokenizer.word_index) + 1 #80000\n",
        "inputs1 = layers.Input(shape=(maxlen,))\n",
        "embedding_layer = TokenAndPositionEmbedding(maxlen, vocab_size, embed_dim)\n",
        "x1 = embedding_layer(inputs1)\n",
        "transformer_block = TransformerBlock(embed_dim, 2, ff_dim)\n",
        "x1 = transformer_block(x1)\n",
        "x1= layers.GlobalAveragePooling1D()(x1)\n",
        "x1 = layers.Dropout(0.1)(x1)\n",
        "x1 = layers.Dense(20, activation=\"relu\")(x1)\n",
        "outputs = layers.Dropout(0.1)(x1)\n",
        "model = Model(inputs=inputs1, outputs=outputs)\n",
        "\n",
        "model.compile(loss='binary_crossentropy', optimizer='adam', metrics=['accuracy'])\n",
        "  #model.fit([padded_train_sequences,padded_train_sequences,padded_train_sequences], y_train, epochs=3, batch_size=16)\n",
        "history = model.fit(x=padded_train_sequences, y=Y_train, \n",
        "                    #validation_data=(padded_test_sequences, Y_test), \n",
        "                    batch_size=batch_size, \n",
        "                    #callbacks=[checkpoint], \n",
        "                    epochs=30, \n",
        "                    verbose=1)\n"
      ],
      "execution_count": null,
      "outputs": [
        {
          "output_type": "stream",
          "text": [
            "Epoch 1/30\n"
          ],
          "name": "stdout"
        },
        {
          "output_type": "error",
          "ename": "ValueError",
          "evalue": "ignored",
          "traceback": [
            "\u001b[0;31m---------------------------------------------------------------------------\u001b[0m",
            "\u001b[0;31mValueError\u001b[0m                                Traceback (most recent call last)",
            "\u001b[0;32m<ipython-input-48-e0af3f494645>\u001b[0m in \u001b[0;36m<module>\u001b[0;34m()\u001b[0m\n\u001b[1;32m     23\u001b[0m                     \u001b[0;31m#callbacks=[checkpoint],\u001b[0m\u001b[0;34m\u001b[0m\u001b[0;34m\u001b[0m\u001b[0;34m\u001b[0m\u001b[0m\n\u001b[1;32m     24\u001b[0m                     \u001b[0mepochs\u001b[0m\u001b[0;34m=\u001b[0m\u001b[0;36m30\u001b[0m\u001b[0;34m,\u001b[0m\u001b[0;34m\u001b[0m\u001b[0;34m\u001b[0m\u001b[0m\n\u001b[0;32m---> 25\u001b[0;31m                     verbose=1)\n\u001b[0m",
            "\u001b[0;32m/usr/local/lib/python3.6/dist-packages/tensorflow/python/keras/engine/training.py\u001b[0m in \u001b[0;36m_method_wrapper\u001b[0;34m(self, *args, **kwargs)\u001b[0m\n\u001b[1;32m    106\u001b[0m   \u001b[0;32mdef\u001b[0m \u001b[0m_method_wrapper\u001b[0m\u001b[0;34m(\u001b[0m\u001b[0mself\u001b[0m\u001b[0;34m,\u001b[0m \u001b[0;34m*\u001b[0m\u001b[0margs\u001b[0m\u001b[0;34m,\u001b[0m \u001b[0;34m**\u001b[0m\u001b[0mkwargs\u001b[0m\u001b[0;34m)\u001b[0m\u001b[0;34m:\u001b[0m\u001b[0;34m\u001b[0m\u001b[0;34m\u001b[0m\u001b[0m\n\u001b[1;32m    107\u001b[0m     \u001b[0;32mif\u001b[0m \u001b[0;32mnot\u001b[0m \u001b[0mself\u001b[0m\u001b[0;34m.\u001b[0m\u001b[0m_in_multi_worker_mode\u001b[0m\u001b[0;34m(\u001b[0m\u001b[0;34m)\u001b[0m\u001b[0;34m:\u001b[0m  \u001b[0;31m# pylint: disable=protected-access\u001b[0m\u001b[0;34m\u001b[0m\u001b[0;34m\u001b[0m\u001b[0m\n\u001b[0;32m--> 108\u001b[0;31m       \u001b[0;32mreturn\u001b[0m \u001b[0mmethod\u001b[0m\u001b[0;34m(\u001b[0m\u001b[0mself\u001b[0m\u001b[0;34m,\u001b[0m \u001b[0;34m*\u001b[0m\u001b[0margs\u001b[0m\u001b[0;34m,\u001b[0m \u001b[0;34m**\u001b[0m\u001b[0mkwargs\u001b[0m\u001b[0;34m)\u001b[0m\u001b[0;34m\u001b[0m\u001b[0;34m\u001b[0m\u001b[0m\n\u001b[0m\u001b[1;32m    109\u001b[0m \u001b[0;34m\u001b[0m\u001b[0m\n\u001b[1;32m    110\u001b[0m     \u001b[0;31m# Running inside `run_distribute_coordinator` already.\u001b[0m\u001b[0;34m\u001b[0m\u001b[0;34m\u001b[0m\u001b[0;34m\u001b[0m\u001b[0m\n",
            "\u001b[0;32m/usr/local/lib/python3.6/dist-packages/tensorflow/python/keras/engine/training.py\u001b[0m in \u001b[0;36mfit\u001b[0;34m(self, x, y, batch_size, epochs, verbose, callbacks, validation_split, validation_data, shuffle, class_weight, sample_weight, initial_epoch, steps_per_epoch, validation_steps, validation_batch_size, validation_freq, max_queue_size, workers, use_multiprocessing)\u001b[0m\n\u001b[1;32m   1096\u001b[0m                 batch_size=batch_size):\n\u001b[1;32m   1097\u001b[0m               \u001b[0mcallbacks\u001b[0m\u001b[0;34m.\u001b[0m\u001b[0mon_train_batch_begin\u001b[0m\u001b[0;34m(\u001b[0m\u001b[0mstep\u001b[0m\u001b[0;34m)\u001b[0m\u001b[0;34m\u001b[0m\u001b[0;34m\u001b[0m\u001b[0m\n\u001b[0;32m-> 1098\u001b[0;31m               \u001b[0mtmp_logs\u001b[0m \u001b[0;34m=\u001b[0m \u001b[0mtrain_function\u001b[0m\u001b[0;34m(\u001b[0m\u001b[0miterator\u001b[0m\u001b[0;34m)\u001b[0m\u001b[0;34m\u001b[0m\u001b[0;34m\u001b[0m\u001b[0m\n\u001b[0m\u001b[1;32m   1099\u001b[0m               \u001b[0;32mif\u001b[0m \u001b[0mdata_handler\u001b[0m\u001b[0;34m.\u001b[0m\u001b[0mshould_sync\u001b[0m\u001b[0;34m:\u001b[0m\u001b[0;34m\u001b[0m\u001b[0;34m\u001b[0m\u001b[0m\n\u001b[1;32m   1100\u001b[0m                 \u001b[0mcontext\u001b[0m\u001b[0;34m.\u001b[0m\u001b[0masync_wait\u001b[0m\u001b[0;34m(\u001b[0m\u001b[0;34m)\u001b[0m\u001b[0;34m\u001b[0m\u001b[0;34m\u001b[0m\u001b[0m\n",
            "\u001b[0;32m/usr/local/lib/python3.6/dist-packages/tensorflow/python/eager/def_function.py\u001b[0m in \u001b[0;36m__call__\u001b[0;34m(self, *args, **kwds)\u001b[0m\n\u001b[1;32m    778\u001b[0m       \u001b[0;32melse\u001b[0m\u001b[0;34m:\u001b[0m\u001b[0;34m\u001b[0m\u001b[0;34m\u001b[0m\u001b[0m\n\u001b[1;32m    779\u001b[0m         \u001b[0mcompiler\u001b[0m \u001b[0;34m=\u001b[0m \u001b[0;34m\"nonXla\"\u001b[0m\u001b[0;34m\u001b[0m\u001b[0;34m\u001b[0m\u001b[0m\n\u001b[0;32m--> 780\u001b[0;31m         \u001b[0mresult\u001b[0m \u001b[0;34m=\u001b[0m \u001b[0mself\u001b[0m\u001b[0;34m.\u001b[0m\u001b[0m_call\u001b[0m\u001b[0;34m(\u001b[0m\u001b[0;34m*\u001b[0m\u001b[0margs\u001b[0m\u001b[0;34m,\u001b[0m \u001b[0;34m**\u001b[0m\u001b[0mkwds\u001b[0m\u001b[0;34m)\u001b[0m\u001b[0;34m\u001b[0m\u001b[0;34m\u001b[0m\u001b[0m\n\u001b[0m\u001b[1;32m    781\u001b[0m \u001b[0;34m\u001b[0m\u001b[0m\n\u001b[1;32m    782\u001b[0m       \u001b[0mnew_tracing_count\u001b[0m \u001b[0;34m=\u001b[0m \u001b[0mself\u001b[0m\u001b[0;34m.\u001b[0m\u001b[0m_get_tracing_count\u001b[0m\u001b[0;34m(\u001b[0m\u001b[0;34m)\u001b[0m\u001b[0;34m\u001b[0m\u001b[0;34m\u001b[0m\u001b[0m\n",
            "\u001b[0;32m/usr/local/lib/python3.6/dist-packages/tensorflow/python/eager/def_function.py\u001b[0m in \u001b[0;36m_call\u001b[0;34m(self, *args, **kwds)\u001b[0m\n\u001b[1;32m    821\u001b[0m       \u001b[0;31m# This is the first call of __call__, so we have to initialize.\u001b[0m\u001b[0;34m\u001b[0m\u001b[0;34m\u001b[0m\u001b[0;34m\u001b[0m\u001b[0m\n\u001b[1;32m    822\u001b[0m       \u001b[0minitializers\u001b[0m \u001b[0;34m=\u001b[0m \u001b[0;34m[\u001b[0m\u001b[0;34m]\u001b[0m\u001b[0;34m\u001b[0m\u001b[0;34m\u001b[0m\u001b[0m\n\u001b[0;32m--> 823\u001b[0;31m       \u001b[0mself\u001b[0m\u001b[0;34m.\u001b[0m\u001b[0m_initialize\u001b[0m\u001b[0;34m(\u001b[0m\u001b[0margs\u001b[0m\u001b[0;34m,\u001b[0m \u001b[0mkwds\u001b[0m\u001b[0;34m,\u001b[0m \u001b[0madd_initializers_to\u001b[0m\u001b[0;34m=\u001b[0m\u001b[0minitializers\u001b[0m\u001b[0;34m)\u001b[0m\u001b[0;34m\u001b[0m\u001b[0;34m\u001b[0m\u001b[0m\n\u001b[0m\u001b[1;32m    824\u001b[0m     \u001b[0;32mfinally\u001b[0m\u001b[0;34m:\u001b[0m\u001b[0;34m\u001b[0m\u001b[0;34m\u001b[0m\u001b[0m\n\u001b[1;32m    825\u001b[0m       \u001b[0;31m# At this point we know that the initialization is complete (or less\u001b[0m\u001b[0;34m\u001b[0m\u001b[0;34m\u001b[0m\u001b[0;34m\u001b[0m\u001b[0m\n",
            "\u001b[0;32m/usr/local/lib/python3.6/dist-packages/tensorflow/python/eager/def_function.py\u001b[0m in \u001b[0;36m_initialize\u001b[0;34m(self, args, kwds, add_initializers_to)\u001b[0m\n\u001b[1;32m    695\u001b[0m     self._concrete_stateful_fn = (\n\u001b[1;32m    696\u001b[0m         self._stateful_fn._get_concrete_function_internal_garbage_collected(  # pylint: disable=protected-access\n\u001b[0;32m--> 697\u001b[0;31m             *args, **kwds))\n\u001b[0m\u001b[1;32m    698\u001b[0m \u001b[0;34m\u001b[0m\u001b[0m\n\u001b[1;32m    699\u001b[0m     \u001b[0;32mdef\u001b[0m \u001b[0minvalid_creator_scope\u001b[0m\u001b[0;34m(\u001b[0m\u001b[0;34m*\u001b[0m\u001b[0munused_args\u001b[0m\u001b[0;34m,\u001b[0m \u001b[0;34m**\u001b[0m\u001b[0munused_kwds\u001b[0m\u001b[0;34m)\u001b[0m\u001b[0;34m:\u001b[0m\u001b[0;34m\u001b[0m\u001b[0;34m\u001b[0m\u001b[0m\n",
            "\u001b[0;32m/usr/local/lib/python3.6/dist-packages/tensorflow/python/eager/function.py\u001b[0m in \u001b[0;36m_get_concrete_function_internal_garbage_collected\u001b[0;34m(self, *args, **kwargs)\u001b[0m\n\u001b[1;32m   2853\u001b[0m       \u001b[0margs\u001b[0m\u001b[0;34m,\u001b[0m \u001b[0mkwargs\u001b[0m \u001b[0;34m=\u001b[0m \u001b[0;32mNone\u001b[0m\u001b[0;34m,\u001b[0m \u001b[0;32mNone\u001b[0m\u001b[0;34m\u001b[0m\u001b[0;34m\u001b[0m\u001b[0m\n\u001b[1;32m   2854\u001b[0m     \u001b[0;32mwith\u001b[0m \u001b[0mself\u001b[0m\u001b[0;34m.\u001b[0m\u001b[0m_lock\u001b[0m\u001b[0;34m:\u001b[0m\u001b[0;34m\u001b[0m\u001b[0;34m\u001b[0m\u001b[0m\n\u001b[0;32m-> 2855\u001b[0;31m       \u001b[0mgraph_function\u001b[0m\u001b[0;34m,\u001b[0m \u001b[0m_\u001b[0m\u001b[0;34m,\u001b[0m \u001b[0m_\u001b[0m \u001b[0;34m=\u001b[0m \u001b[0mself\u001b[0m\u001b[0;34m.\u001b[0m\u001b[0m_maybe_define_function\u001b[0m\u001b[0;34m(\u001b[0m\u001b[0margs\u001b[0m\u001b[0;34m,\u001b[0m \u001b[0mkwargs\u001b[0m\u001b[0;34m)\u001b[0m\u001b[0;34m\u001b[0m\u001b[0;34m\u001b[0m\u001b[0m\n\u001b[0m\u001b[1;32m   2856\u001b[0m     \u001b[0;32mreturn\u001b[0m \u001b[0mgraph_function\u001b[0m\u001b[0;34m\u001b[0m\u001b[0;34m\u001b[0m\u001b[0m\n\u001b[1;32m   2857\u001b[0m \u001b[0;34m\u001b[0m\u001b[0m\n",
            "\u001b[0;32m/usr/local/lib/python3.6/dist-packages/tensorflow/python/eager/function.py\u001b[0m in \u001b[0;36m_maybe_define_function\u001b[0;34m(self, args, kwargs)\u001b[0m\n\u001b[1;32m   3211\u001b[0m \u001b[0;34m\u001b[0m\u001b[0m\n\u001b[1;32m   3212\u001b[0m       \u001b[0mself\u001b[0m\u001b[0;34m.\u001b[0m\u001b[0m_function_cache\u001b[0m\u001b[0;34m.\u001b[0m\u001b[0mmissed\u001b[0m\u001b[0;34m.\u001b[0m\u001b[0madd\u001b[0m\u001b[0;34m(\u001b[0m\u001b[0mcall_context_key\u001b[0m\u001b[0;34m)\u001b[0m\u001b[0;34m\u001b[0m\u001b[0;34m\u001b[0m\u001b[0m\n\u001b[0;32m-> 3213\u001b[0;31m       \u001b[0mgraph_function\u001b[0m \u001b[0;34m=\u001b[0m \u001b[0mself\u001b[0m\u001b[0;34m.\u001b[0m\u001b[0m_create_graph_function\u001b[0m\u001b[0;34m(\u001b[0m\u001b[0margs\u001b[0m\u001b[0;34m,\u001b[0m \u001b[0mkwargs\u001b[0m\u001b[0;34m)\u001b[0m\u001b[0;34m\u001b[0m\u001b[0;34m\u001b[0m\u001b[0m\n\u001b[0m\u001b[1;32m   3214\u001b[0m       \u001b[0mself\u001b[0m\u001b[0;34m.\u001b[0m\u001b[0m_function_cache\u001b[0m\u001b[0;34m.\u001b[0m\u001b[0mprimary\u001b[0m\u001b[0;34m[\u001b[0m\u001b[0mcache_key\u001b[0m\u001b[0;34m]\u001b[0m \u001b[0;34m=\u001b[0m \u001b[0mgraph_function\u001b[0m\u001b[0;34m\u001b[0m\u001b[0;34m\u001b[0m\u001b[0m\n\u001b[1;32m   3215\u001b[0m       \u001b[0;32mreturn\u001b[0m \u001b[0mgraph_function\u001b[0m\u001b[0;34m,\u001b[0m \u001b[0margs\u001b[0m\u001b[0;34m,\u001b[0m \u001b[0mkwargs\u001b[0m\u001b[0;34m\u001b[0m\u001b[0;34m\u001b[0m\u001b[0m\n",
            "\u001b[0;32m/usr/local/lib/python3.6/dist-packages/tensorflow/python/eager/function.py\u001b[0m in \u001b[0;36m_create_graph_function\u001b[0;34m(self, args, kwargs, override_flat_arg_shapes)\u001b[0m\n\u001b[1;32m   3073\u001b[0m             \u001b[0marg_names\u001b[0m\u001b[0;34m=\u001b[0m\u001b[0marg_names\u001b[0m\u001b[0;34m,\u001b[0m\u001b[0;34m\u001b[0m\u001b[0;34m\u001b[0m\u001b[0m\n\u001b[1;32m   3074\u001b[0m             \u001b[0moverride_flat_arg_shapes\u001b[0m\u001b[0;34m=\u001b[0m\u001b[0moverride_flat_arg_shapes\u001b[0m\u001b[0;34m,\u001b[0m\u001b[0;34m\u001b[0m\u001b[0;34m\u001b[0m\u001b[0m\n\u001b[0;32m-> 3075\u001b[0;31m             capture_by_value=self._capture_by_value),\n\u001b[0m\u001b[1;32m   3076\u001b[0m         \u001b[0mself\u001b[0m\u001b[0;34m.\u001b[0m\u001b[0m_function_attributes\u001b[0m\u001b[0;34m,\u001b[0m\u001b[0;34m\u001b[0m\u001b[0;34m\u001b[0m\u001b[0m\n\u001b[1;32m   3077\u001b[0m         \u001b[0mfunction_spec\u001b[0m\u001b[0;34m=\u001b[0m\u001b[0mself\u001b[0m\u001b[0;34m.\u001b[0m\u001b[0mfunction_spec\u001b[0m\u001b[0;34m,\u001b[0m\u001b[0;34m\u001b[0m\u001b[0;34m\u001b[0m\u001b[0m\n",
            "\u001b[0;32m/usr/local/lib/python3.6/dist-packages/tensorflow/python/framework/func_graph.py\u001b[0m in \u001b[0;36mfunc_graph_from_py_func\u001b[0;34m(name, python_func, args, kwargs, signature, func_graph, autograph, autograph_options, add_control_dependencies, arg_names, op_return_value, collections, capture_by_value, override_flat_arg_shapes)\u001b[0m\n\u001b[1;32m    984\u001b[0m         \u001b[0m_\u001b[0m\u001b[0;34m,\u001b[0m \u001b[0moriginal_func\u001b[0m \u001b[0;34m=\u001b[0m \u001b[0mtf_decorator\u001b[0m\u001b[0;34m.\u001b[0m\u001b[0munwrap\u001b[0m\u001b[0;34m(\u001b[0m\u001b[0mpython_func\u001b[0m\u001b[0;34m)\u001b[0m\u001b[0;34m\u001b[0m\u001b[0;34m\u001b[0m\u001b[0m\n\u001b[1;32m    985\u001b[0m \u001b[0;34m\u001b[0m\u001b[0m\n\u001b[0;32m--> 986\u001b[0;31m       \u001b[0mfunc_outputs\u001b[0m \u001b[0;34m=\u001b[0m \u001b[0mpython_func\u001b[0m\u001b[0;34m(\u001b[0m\u001b[0;34m*\u001b[0m\u001b[0mfunc_args\u001b[0m\u001b[0;34m,\u001b[0m \u001b[0;34m**\u001b[0m\u001b[0mfunc_kwargs\u001b[0m\u001b[0;34m)\u001b[0m\u001b[0;34m\u001b[0m\u001b[0;34m\u001b[0m\u001b[0m\n\u001b[0m\u001b[1;32m    987\u001b[0m \u001b[0;34m\u001b[0m\u001b[0m\n\u001b[1;32m    988\u001b[0m       \u001b[0;31m# invariant: `func_outputs` contains only Tensors, CompositeTensors,\u001b[0m\u001b[0;34m\u001b[0m\u001b[0;34m\u001b[0m\u001b[0;34m\u001b[0m\u001b[0m\n",
            "\u001b[0;32m/usr/local/lib/python3.6/dist-packages/tensorflow/python/eager/def_function.py\u001b[0m in \u001b[0;36mwrapped_fn\u001b[0;34m(*args, **kwds)\u001b[0m\n\u001b[1;32m    598\u001b[0m         \u001b[0;31m# __wrapped__ allows AutoGraph to swap in a converted function. We give\u001b[0m\u001b[0;34m\u001b[0m\u001b[0;34m\u001b[0m\u001b[0;34m\u001b[0m\u001b[0m\n\u001b[1;32m    599\u001b[0m         \u001b[0;31m# the function a weak reference to itself to avoid a reference cycle.\u001b[0m\u001b[0;34m\u001b[0m\u001b[0;34m\u001b[0m\u001b[0;34m\u001b[0m\u001b[0m\n\u001b[0;32m--> 600\u001b[0;31m         \u001b[0;32mreturn\u001b[0m \u001b[0mweak_wrapped_fn\u001b[0m\u001b[0;34m(\u001b[0m\u001b[0;34m)\u001b[0m\u001b[0;34m.\u001b[0m\u001b[0m__wrapped__\u001b[0m\u001b[0;34m(\u001b[0m\u001b[0;34m*\u001b[0m\u001b[0margs\u001b[0m\u001b[0;34m,\u001b[0m \u001b[0;34m**\u001b[0m\u001b[0mkwds\u001b[0m\u001b[0;34m)\u001b[0m\u001b[0;34m\u001b[0m\u001b[0;34m\u001b[0m\u001b[0m\n\u001b[0m\u001b[1;32m    601\u001b[0m     \u001b[0mweak_wrapped_fn\u001b[0m \u001b[0;34m=\u001b[0m \u001b[0mweakref\u001b[0m\u001b[0;34m.\u001b[0m\u001b[0mref\u001b[0m\u001b[0;34m(\u001b[0m\u001b[0mwrapped_fn\u001b[0m\u001b[0;34m)\u001b[0m\u001b[0;34m\u001b[0m\u001b[0;34m\u001b[0m\u001b[0m\n\u001b[1;32m    602\u001b[0m \u001b[0;34m\u001b[0m\u001b[0m\n",
            "\u001b[0;32m/usr/local/lib/python3.6/dist-packages/tensorflow/python/framework/func_graph.py\u001b[0m in \u001b[0;36mwrapper\u001b[0;34m(*args, **kwargs)\u001b[0m\n\u001b[1;32m    971\u001b[0m           \u001b[0;32mexcept\u001b[0m \u001b[0mException\u001b[0m \u001b[0;32mas\u001b[0m \u001b[0me\u001b[0m\u001b[0;34m:\u001b[0m  \u001b[0;31m# pylint:disable=broad-except\u001b[0m\u001b[0;34m\u001b[0m\u001b[0;34m\u001b[0m\u001b[0m\n\u001b[1;32m    972\u001b[0m             \u001b[0;32mif\u001b[0m \u001b[0mhasattr\u001b[0m\u001b[0;34m(\u001b[0m\u001b[0me\u001b[0m\u001b[0;34m,\u001b[0m \u001b[0;34m\"ag_error_metadata\"\u001b[0m\u001b[0;34m)\u001b[0m\u001b[0;34m:\u001b[0m\u001b[0;34m\u001b[0m\u001b[0;34m\u001b[0m\u001b[0m\n\u001b[0;32m--> 973\u001b[0;31m               \u001b[0;32mraise\u001b[0m \u001b[0me\u001b[0m\u001b[0;34m.\u001b[0m\u001b[0mag_error_metadata\u001b[0m\u001b[0;34m.\u001b[0m\u001b[0mto_exception\u001b[0m\u001b[0;34m(\u001b[0m\u001b[0me\u001b[0m\u001b[0;34m)\u001b[0m\u001b[0;34m\u001b[0m\u001b[0;34m\u001b[0m\u001b[0m\n\u001b[0m\u001b[1;32m    974\u001b[0m             \u001b[0;32melse\u001b[0m\u001b[0;34m:\u001b[0m\u001b[0;34m\u001b[0m\u001b[0;34m\u001b[0m\u001b[0m\n\u001b[1;32m    975\u001b[0m               \u001b[0;32mraise\u001b[0m\u001b[0;34m\u001b[0m\u001b[0;34m\u001b[0m\u001b[0m\n",
            "\u001b[0;31mValueError\u001b[0m: in user code:\n\n    /usr/local/lib/python3.6/dist-packages/tensorflow/python/keras/engine/training.py:806 train_function  *\n        return step_function(self, iterator)\n    /usr/local/lib/python3.6/dist-packages/tensorflow/python/keras/engine/training.py:796 step_function  **\n        outputs = model.distribute_strategy.run(run_step, args=(data,))\n    /usr/local/lib/python3.6/dist-packages/tensorflow/python/distribute/distribute_lib.py:1211 run\n        return self._extended.call_for_each_replica(fn, args=args, kwargs=kwargs)\n    /usr/local/lib/python3.6/dist-packages/tensorflow/python/distribute/distribute_lib.py:2585 call_for_each_replica\n        return self._call_for_each_replica(fn, args, kwargs)\n    /usr/local/lib/python3.6/dist-packages/tensorflow/python/distribute/distribute_lib.py:2945 _call_for_each_replica\n        return fn(*args, **kwargs)\n    /usr/local/lib/python3.6/dist-packages/tensorflow/python/keras/engine/training.py:789 run_step  **\n        outputs = model.train_step(data)\n    /usr/local/lib/python3.6/dist-packages/tensorflow/python/keras/engine/training.py:749 train_step\n        y, y_pred, sample_weight, regularization_losses=self.losses)\n    /usr/local/lib/python3.6/dist-packages/tensorflow/python/keras/engine/compile_utils.py:204 __call__\n        loss_value = loss_obj(y_t, y_p, sample_weight=sw)\n    /usr/local/lib/python3.6/dist-packages/tensorflow/python/keras/losses.py:149 __call__\n        losses = ag_call(y_true, y_pred)\n    /usr/local/lib/python3.6/dist-packages/tensorflow/python/keras/losses.py:253 call  **\n        return ag_fn(y_true, y_pred, **self._fn_kwargs)\n    /usr/local/lib/python3.6/dist-packages/tensorflow/python/util/dispatch.py:201 wrapper\n        return target(*args, **kwargs)\n    /usr/local/lib/python3.6/dist-packages/tensorflow/python/keras/losses.py:1605 binary_crossentropy\n        K.binary_crossentropy(y_true, y_pred, from_logits=from_logits), axis=-1)\n    /usr/local/lib/python3.6/dist-packages/tensorflow/python/util/dispatch.py:201 wrapper\n        return target(*args, **kwargs)\n    /usr/local/lib/python3.6/dist-packages/tensorflow/python/keras/backend.py:4829 binary_crossentropy\n        bce = target * math_ops.log(output + epsilon())\n    /usr/local/lib/python3.6/dist-packages/tensorflow/python/ops/math_ops.py:1141 binary_op_wrapper\n        raise e\n    /usr/local/lib/python3.6/dist-packages/tensorflow/python/ops/math_ops.py:1125 binary_op_wrapper\n        return func(x, y, name=name)\n    /usr/local/lib/python3.6/dist-packages/tensorflow/python/ops/math_ops.py:1457 _mul_dispatch\n        return multiply(x, y, name=name)\n    /usr/local/lib/python3.6/dist-packages/tensorflow/python/util/dispatch.py:201 wrapper\n        return target(*args, **kwargs)\n    /usr/local/lib/python3.6/dist-packages/tensorflow/python/ops/math_ops.py:509 multiply\n        return gen_math_ops.mul(x, y, name)\n    /usr/local/lib/python3.6/dist-packages/tensorflow/python/ops/gen_math_ops.py:6176 mul\n        \"Mul\", x=x, y=y, name=name)\n    /usr/local/lib/python3.6/dist-packages/tensorflow/python/framework/op_def_library.py:744 _apply_op_helper\n        attrs=attr_protos, op_def=op_def)\n    /usr/local/lib/python3.6/dist-packages/tensorflow/python/framework/func_graph.py:593 _create_op_internal\n        compute_device)\n    /usr/local/lib/python3.6/dist-packages/tensorflow/python/framework/ops.py:3485 _create_op_internal\n        op_def=op_def)\n    /usr/local/lib/python3.6/dist-packages/tensorflow/python/framework/ops.py:1975 __init__\n        control_input_ops, op_def)\n    /usr/local/lib/python3.6/dist-packages/tensorflow/python/framework/ops.py:1815 _create_c_op\n        raise ValueError(str(e))\n\n    ValueError: Dimensions must be equal, but are 2 and 20 for '{{node binary_crossentropy/mul}} = Mul[T=DT_FLOAT](IteratorGetNext:1, binary_crossentropy/Log)' with input shapes: [?,2], [?,20].\n"
          ]
        }
      ]
    },
    {
      "cell_type": "code",
      "metadata": {
        "colab": {
          "base_uri": "https://localhost:8080/",
          "height": 530
        },
        "id": "jKlBpZvs3dpF",
        "outputId": "c393815e-c3f7-481e-ff4b-e4ae0f1d6355"
      },
      "source": [
        "embed_dim = 32  # Embedding size for each token\n",
        "num_heads = 2  # Number of attention heads\n",
        "ff_dim = 32  # Hidden layer size in feed forward network inside transformer\n",
        "\n",
        "maxlen = MAX_SEQUENCE_LENGTH\n",
        "\n",
        "\n",
        "inputs = layers.Input(shape=(maxlen,))\n",
        "embedding_layer = TokenAndPositionEmbedding(maxlen, vocab_size, embed_dim)\n",
        "x = embedding_layer(inputs)\n",
        "transformer_block = TransformerBlock(embed_dim, num_heads, ff_dim)\n",
        "x = transformer_block(x)\n",
        "x = layers.GlobalAveragePooling1D()(x)\n",
        "x = layers.Dropout(0.1)(x)\n",
        "x = layers.Dense(20, activation=\"relu\")(x)\n",
        "x = layers.Dropout(0.1)(x)\n",
        "outputs = layers.Dense(2, activation=\"softmax\")(x)\n",
        "\n",
        "model = keras.Model(inputs=inputs, outputs=outputs)\n",
        "\n",
        "model.compile(loss='binary_crossentropy', optimizer='adam', metrics=['accuracy'])\n",
        "  #model.fit([padded_train_sequences,padded_train_sequences,padded_train_sequences], y_train, epochs=3, batch_size=16)\n",
        "history = model.fit(x=padded_train_sequences, y=Y_train, \n",
        "                    #validation_data=(padded_test_sequences, Y_test), \n",
        "                    batch_size=batch_size, \n",
        "                    #callbacks=[checkpoint], \n",
        "                    epochs=30, \n",
        "                    verbose=1)\n"
      ],
      "execution_count": null,
      "outputs": [
        {
          "output_type": "stream",
          "text": [
            "Epoch 1/30\n"
          ],
          "name": "stdout"
        },
        {
          "output_type": "error",
          "ename": "InvalidArgumentError",
          "evalue": "ignored",
          "traceback": [
            "\u001b[0;31m---------------------------------------------------------------------------\u001b[0m",
            "\u001b[0;31mInvalidArgumentError\u001b[0m                      Traceback (most recent call last)",
            "\u001b[0;32m<ipython-input-44-d2395c230c82>\u001b[0m in \u001b[0;36m<module>\u001b[0;34m()\u001b[0m\n\u001b[1;32m     26\u001b[0m                     \u001b[0;31m#callbacks=[checkpoint],\u001b[0m\u001b[0;34m\u001b[0m\u001b[0;34m\u001b[0m\u001b[0;34m\u001b[0m\u001b[0m\n\u001b[1;32m     27\u001b[0m                     \u001b[0mepochs\u001b[0m\u001b[0;34m=\u001b[0m\u001b[0;36m30\u001b[0m\u001b[0;34m,\u001b[0m\u001b[0;34m\u001b[0m\u001b[0;34m\u001b[0m\u001b[0m\n\u001b[0;32m---> 28\u001b[0;31m                     verbose=1)\n\u001b[0m",
            "\u001b[0;32m/usr/local/lib/python3.6/dist-packages/tensorflow/python/keras/engine/training.py\u001b[0m in \u001b[0;36m_method_wrapper\u001b[0;34m(self, *args, **kwargs)\u001b[0m\n\u001b[1;32m    106\u001b[0m   \u001b[0;32mdef\u001b[0m \u001b[0m_method_wrapper\u001b[0m\u001b[0;34m(\u001b[0m\u001b[0mself\u001b[0m\u001b[0;34m,\u001b[0m \u001b[0;34m*\u001b[0m\u001b[0margs\u001b[0m\u001b[0;34m,\u001b[0m \u001b[0;34m**\u001b[0m\u001b[0mkwargs\u001b[0m\u001b[0;34m)\u001b[0m\u001b[0;34m:\u001b[0m\u001b[0;34m\u001b[0m\u001b[0;34m\u001b[0m\u001b[0m\n\u001b[1;32m    107\u001b[0m     \u001b[0;32mif\u001b[0m \u001b[0;32mnot\u001b[0m \u001b[0mself\u001b[0m\u001b[0;34m.\u001b[0m\u001b[0m_in_multi_worker_mode\u001b[0m\u001b[0;34m(\u001b[0m\u001b[0;34m)\u001b[0m\u001b[0;34m:\u001b[0m  \u001b[0;31m# pylint: disable=protected-access\u001b[0m\u001b[0;34m\u001b[0m\u001b[0;34m\u001b[0m\u001b[0m\n\u001b[0;32m--> 108\u001b[0;31m       \u001b[0;32mreturn\u001b[0m \u001b[0mmethod\u001b[0m\u001b[0;34m(\u001b[0m\u001b[0mself\u001b[0m\u001b[0;34m,\u001b[0m \u001b[0;34m*\u001b[0m\u001b[0margs\u001b[0m\u001b[0;34m,\u001b[0m \u001b[0;34m**\u001b[0m\u001b[0mkwargs\u001b[0m\u001b[0;34m)\u001b[0m\u001b[0;34m\u001b[0m\u001b[0;34m\u001b[0m\u001b[0m\n\u001b[0m\u001b[1;32m    109\u001b[0m \u001b[0;34m\u001b[0m\u001b[0m\n\u001b[1;32m    110\u001b[0m     \u001b[0;31m# Running inside `run_distribute_coordinator` already.\u001b[0m\u001b[0;34m\u001b[0m\u001b[0;34m\u001b[0m\u001b[0;34m\u001b[0m\u001b[0m\n",
            "\u001b[0;32m/usr/local/lib/python3.6/dist-packages/tensorflow/python/keras/engine/training.py\u001b[0m in \u001b[0;36mfit\u001b[0;34m(self, x, y, batch_size, epochs, verbose, callbacks, validation_split, validation_data, shuffle, class_weight, sample_weight, initial_epoch, steps_per_epoch, validation_steps, validation_batch_size, validation_freq, max_queue_size, workers, use_multiprocessing)\u001b[0m\n\u001b[1;32m   1096\u001b[0m                 batch_size=batch_size):\n\u001b[1;32m   1097\u001b[0m               \u001b[0mcallbacks\u001b[0m\u001b[0;34m.\u001b[0m\u001b[0mon_train_batch_begin\u001b[0m\u001b[0;34m(\u001b[0m\u001b[0mstep\u001b[0m\u001b[0;34m)\u001b[0m\u001b[0;34m\u001b[0m\u001b[0;34m\u001b[0m\u001b[0m\n\u001b[0;32m-> 1098\u001b[0;31m               \u001b[0mtmp_logs\u001b[0m \u001b[0;34m=\u001b[0m \u001b[0mtrain_function\u001b[0m\u001b[0;34m(\u001b[0m\u001b[0miterator\u001b[0m\u001b[0;34m)\u001b[0m\u001b[0;34m\u001b[0m\u001b[0;34m\u001b[0m\u001b[0m\n\u001b[0m\u001b[1;32m   1099\u001b[0m               \u001b[0;32mif\u001b[0m \u001b[0mdata_handler\u001b[0m\u001b[0;34m.\u001b[0m\u001b[0mshould_sync\u001b[0m\u001b[0;34m:\u001b[0m\u001b[0;34m\u001b[0m\u001b[0;34m\u001b[0m\u001b[0m\n\u001b[1;32m   1100\u001b[0m                 \u001b[0mcontext\u001b[0m\u001b[0;34m.\u001b[0m\u001b[0masync_wait\u001b[0m\u001b[0;34m(\u001b[0m\u001b[0;34m)\u001b[0m\u001b[0;34m\u001b[0m\u001b[0;34m\u001b[0m\u001b[0m\n",
            "\u001b[0;32m/usr/local/lib/python3.6/dist-packages/tensorflow/python/eager/def_function.py\u001b[0m in \u001b[0;36m__call__\u001b[0;34m(self, *args, **kwds)\u001b[0m\n\u001b[1;32m    778\u001b[0m       \u001b[0;32melse\u001b[0m\u001b[0;34m:\u001b[0m\u001b[0;34m\u001b[0m\u001b[0;34m\u001b[0m\u001b[0m\n\u001b[1;32m    779\u001b[0m         \u001b[0mcompiler\u001b[0m \u001b[0;34m=\u001b[0m \u001b[0;34m\"nonXla\"\u001b[0m\u001b[0;34m\u001b[0m\u001b[0;34m\u001b[0m\u001b[0m\n\u001b[0;32m--> 780\u001b[0;31m         \u001b[0mresult\u001b[0m \u001b[0;34m=\u001b[0m \u001b[0mself\u001b[0m\u001b[0;34m.\u001b[0m\u001b[0m_call\u001b[0m\u001b[0;34m(\u001b[0m\u001b[0;34m*\u001b[0m\u001b[0margs\u001b[0m\u001b[0;34m,\u001b[0m \u001b[0;34m**\u001b[0m\u001b[0mkwds\u001b[0m\u001b[0;34m)\u001b[0m\u001b[0;34m\u001b[0m\u001b[0;34m\u001b[0m\u001b[0m\n\u001b[0m\u001b[1;32m    781\u001b[0m \u001b[0;34m\u001b[0m\u001b[0m\n\u001b[1;32m    782\u001b[0m       \u001b[0mnew_tracing_count\u001b[0m \u001b[0;34m=\u001b[0m \u001b[0mself\u001b[0m\u001b[0;34m.\u001b[0m\u001b[0m_get_tracing_count\u001b[0m\u001b[0;34m(\u001b[0m\u001b[0;34m)\u001b[0m\u001b[0;34m\u001b[0m\u001b[0;34m\u001b[0m\u001b[0m\n",
            "\u001b[0;32m/usr/local/lib/python3.6/dist-packages/tensorflow/python/eager/def_function.py\u001b[0m in \u001b[0;36m_call\u001b[0;34m(self, *args, **kwds)\u001b[0m\n\u001b[1;32m    838\u001b[0m         \u001b[0;31m# Lifting succeeded, so variables are initialized and we can run the\u001b[0m\u001b[0;34m\u001b[0m\u001b[0;34m\u001b[0m\u001b[0;34m\u001b[0m\u001b[0m\n\u001b[1;32m    839\u001b[0m         \u001b[0;31m# stateless function.\u001b[0m\u001b[0;34m\u001b[0m\u001b[0;34m\u001b[0m\u001b[0;34m\u001b[0m\u001b[0m\n\u001b[0;32m--> 840\u001b[0;31m         \u001b[0;32mreturn\u001b[0m \u001b[0mself\u001b[0m\u001b[0;34m.\u001b[0m\u001b[0m_stateless_fn\u001b[0m\u001b[0;34m(\u001b[0m\u001b[0;34m*\u001b[0m\u001b[0margs\u001b[0m\u001b[0;34m,\u001b[0m \u001b[0;34m**\u001b[0m\u001b[0mkwds\u001b[0m\u001b[0;34m)\u001b[0m\u001b[0;34m\u001b[0m\u001b[0;34m\u001b[0m\u001b[0m\n\u001b[0m\u001b[1;32m    841\u001b[0m     \u001b[0;32melse\u001b[0m\u001b[0;34m:\u001b[0m\u001b[0;34m\u001b[0m\u001b[0;34m\u001b[0m\u001b[0m\n\u001b[1;32m    842\u001b[0m       \u001b[0mcanon_args\u001b[0m\u001b[0;34m,\u001b[0m \u001b[0mcanon_kwds\u001b[0m \u001b[0;34m=\u001b[0m\u001b[0;31m \u001b[0m\u001b[0;31m\\\u001b[0m\u001b[0;34m\u001b[0m\u001b[0;34m\u001b[0m\u001b[0m\n",
            "\u001b[0;32m/usr/local/lib/python3.6/dist-packages/tensorflow/python/eager/function.py\u001b[0m in \u001b[0;36m__call__\u001b[0;34m(self, *args, **kwargs)\u001b[0m\n\u001b[1;32m   2827\u001b[0m     \u001b[0;32mwith\u001b[0m \u001b[0mself\u001b[0m\u001b[0;34m.\u001b[0m\u001b[0m_lock\u001b[0m\u001b[0;34m:\u001b[0m\u001b[0;34m\u001b[0m\u001b[0;34m\u001b[0m\u001b[0m\n\u001b[1;32m   2828\u001b[0m       \u001b[0mgraph_function\u001b[0m\u001b[0;34m,\u001b[0m \u001b[0margs\u001b[0m\u001b[0;34m,\u001b[0m \u001b[0mkwargs\u001b[0m \u001b[0;34m=\u001b[0m \u001b[0mself\u001b[0m\u001b[0;34m.\u001b[0m\u001b[0m_maybe_define_function\u001b[0m\u001b[0;34m(\u001b[0m\u001b[0margs\u001b[0m\u001b[0;34m,\u001b[0m \u001b[0mkwargs\u001b[0m\u001b[0;34m)\u001b[0m\u001b[0;34m\u001b[0m\u001b[0;34m\u001b[0m\u001b[0m\n\u001b[0;32m-> 2829\u001b[0;31m     \u001b[0;32mreturn\u001b[0m \u001b[0mgraph_function\u001b[0m\u001b[0;34m.\u001b[0m\u001b[0m_filtered_call\u001b[0m\u001b[0;34m(\u001b[0m\u001b[0margs\u001b[0m\u001b[0;34m,\u001b[0m \u001b[0mkwargs\u001b[0m\u001b[0;34m)\u001b[0m  \u001b[0;31m# pylint: disable=protected-access\u001b[0m\u001b[0;34m\u001b[0m\u001b[0;34m\u001b[0m\u001b[0m\n\u001b[0m\u001b[1;32m   2830\u001b[0m \u001b[0;34m\u001b[0m\u001b[0m\n\u001b[1;32m   2831\u001b[0m   \u001b[0;34m@\u001b[0m\u001b[0mproperty\u001b[0m\u001b[0;34m\u001b[0m\u001b[0;34m\u001b[0m\u001b[0m\n",
            "\u001b[0;32m/usr/local/lib/python3.6/dist-packages/tensorflow/python/eager/function.py\u001b[0m in \u001b[0;36m_filtered_call\u001b[0;34m(self, args, kwargs, cancellation_manager)\u001b[0m\n\u001b[1;32m   1846\u001b[0m                            resource_variable_ops.BaseResourceVariable))],\n\u001b[1;32m   1847\u001b[0m         \u001b[0mcaptured_inputs\u001b[0m\u001b[0;34m=\u001b[0m\u001b[0mself\u001b[0m\u001b[0;34m.\u001b[0m\u001b[0mcaptured_inputs\u001b[0m\u001b[0;34m,\u001b[0m\u001b[0;34m\u001b[0m\u001b[0;34m\u001b[0m\u001b[0m\n\u001b[0;32m-> 1848\u001b[0;31m         cancellation_manager=cancellation_manager)\n\u001b[0m\u001b[1;32m   1849\u001b[0m \u001b[0;34m\u001b[0m\u001b[0m\n\u001b[1;32m   1850\u001b[0m   \u001b[0;32mdef\u001b[0m \u001b[0m_call_flat\u001b[0m\u001b[0;34m(\u001b[0m\u001b[0mself\u001b[0m\u001b[0;34m,\u001b[0m \u001b[0margs\u001b[0m\u001b[0;34m,\u001b[0m \u001b[0mcaptured_inputs\u001b[0m\u001b[0;34m,\u001b[0m \u001b[0mcancellation_manager\u001b[0m\u001b[0;34m=\u001b[0m\u001b[0;32mNone\u001b[0m\u001b[0;34m)\u001b[0m\u001b[0;34m:\u001b[0m\u001b[0;34m\u001b[0m\u001b[0;34m\u001b[0m\u001b[0m\n",
            "\u001b[0;32m/usr/local/lib/python3.6/dist-packages/tensorflow/python/eager/function.py\u001b[0m in \u001b[0;36m_call_flat\u001b[0;34m(self, args, captured_inputs, cancellation_manager)\u001b[0m\n\u001b[1;32m   1922\u001b[0m       \u001b[0;31m# No tape is watching; skip to running the function.\u001b[0m\u001b[0;34m\u001b[0m\u001b[0;34m\u001b[0m\u001b[0;34m\u001b[0m\u001b[0m\n\u001b[1;32m   1923\u001b[0m       return self._build_call_outputs(self._inference_function.call(\n\u001b[0;32m-> 1924\u001b[0;31m           ctx, args, cancellation_manager=cancellation_manager))\n\u001b[0m\u001b[1;32m   1925\u001b[0m     forward_backward = self._select_forward_and_backward_functions(\n\u001b[1;32m   1926\u001b[0m         \u001b[0margs\u001b[0m\u001b[0;34m,\u001b[0m\u001b[0;34m\u001b[0m\u001b[0;34m\u001b[0m\u001b[0m\n",
            "\u001b[0;32m/usr/local/lib/python3.6/dist-packages/tensorflow/python/eager/function.py\u001b[0m in \u001b[0;36mcall\u001b[0;34m(self, ctx, args, cancellation_manager)\u001b[0m\n\u001b[1;32m    548\u001b[0m               \u001b[0minputs\u001b[0m\u001b[0;34m=\u001b[0m\u001b[0margs\u001b[0m\u001b[0;34m,\u001b[0m\u001b[0;34m\u001b[0m\u001b[0;34m\u001b[0m\u001b[0m\n\u001b[1;32m    549\u001b[0m               \u001b[0mattrs\u001b[0m\u001b[0;34m=\u001b[0m\u001b[0mattrs\u001b[0m\u001b[0;34m,\u001b[0m\u001b[0;34m\u001b[0m\u001b[0;34m\u001b[0m\u001b[0m\n\u001b[0;32m--> 550\u001b[0;31m               ctx=ctx)\n\u001b[0m\u001b[1;32m    551\u001b[0m         \u001b[0;32melse\u001b[0m\u001b[0;34m:\u001b[0m\u001b[0;34m\u001b[0m\u001b[0;34m\u001b[0m\u001b[0m\n\u001b[1;32m    552\u001b[0m           outputs = execute.execute_with_cancellation(\n",
            "\u001b[0;32m/usr/local/lib/python3.6/dist-packages/tensorflow/python/eager/execute.py\u001b[0m in \u001b[0;36mquick_execute\u001b[0;34m(op_name, num_outputs, inputs, attrs, ctx, name)\u001b[0m\n\u001b[1;32m     58\u001b[0m     \u001b[0mctx\u001b[0m\u001b[0;34m.\u001b[0m\u001b[0mensure_initialized\u001b[0m\u001b[0;34m(\u001b[0m\u001b[0;34m)\u001b[0m\u001b[0;34m\u001b[0m\u001b[0;34m\u001b[0m\u001b[0m\n\u001b[1;32m     59\u001b[0m     tensors = pywrap_tfe.TFE_Py_Execute(ctx._handle, device_name, op_name,\n\u001b[0;32m---> 60\u001b[0;31m                                         inputs, attrs, num_outputs)\n\u001b[0m\u001b[1;32m     61\u001b[0m   \u001b[0;32mexcept\u001b[0m \u001b[0mcore\u001b[0m\u001b[0;34m.\u001b[0m\u001b[0m_NotOkStatusException\u001b[0m \u001b[0;32mas\u001b[0m \u001b[0me\u001b[0m\u001b[0;34m:\u001b[0m\u001b[0;34m\u001b[0m\u001b[0;34m\u001b[0m\u001b[0m\n\u001b[1;32m     62\u001b[0m     \u001b[0;32mif\u001b[0m \u001b[0mname\u001b[0m \u001b[0;32mis\u001b[0m \u001b[0;32mnot\u001b[0m \u001b[0;32mNone\u001b[0m\u001b[0;34m:\u001b[0m\u001b[0;34m\u001b[0m\u001b[0;34m\u001b[0m\u001b[0m\n",
            "\u001b[0;31mInvalidArgumentError\u001b[0m:  indices[21,335] = 11239 is not in [0, 8438)\n\t [[node functional_29/token_and_position_embedding_19/embedding_38/embedding_lookup (defined at <ipython-input-18-eb4e2f62143a>:95) ]] [Op:__inference_train_function_70245]\n\nErrors may have originated from an input operation.\nInput Source operations connected to node functional_29/token_and_position_embedding_19/embedding_38/embedding_lookup:\n functional_29/token_and_position_embedding_19/embedding_38/embedding_lookup/69239 (defined at /usr/lib/python3.6/contextlib.py:81)\n\nFunction call stack:\ntrain_function\n"
          ]
        }
      ]
    },
    {
      "cell_type": "code",
      "metadata": {
        "colab": {
          "base_uri": "https://localhost:8080/"
        },
        "id": "zZYQ_nFOZIu-",
        "outputId": "b3a904e8-56c0-4244-f8d5-8f8c758ef180"
      },
      "source": [
        "accuracyscore = model.evaluate(padded_test_sequences, Y_test)\n",
        "\n",
        "print(accuracyscore * 100)\n",
        "print(\"Test loss:\", accuracyscore[0])\n",
        "print(\"Test accuracy:\", accuracyscore[1] * 100)"
      ],
      "execution_count": null,
      "outputs": [
        {
          "output_type": "stream",
          "text": [
            "469/469 [==============================] - 6s 12ms/step - loss: 1.8011 - accuracy: 0.7212\n",
            "[1.8010724782943726, 0.7212185859680176, 1.8010724782943726, 0.7212185859680176, 1.8010724782943726, 0.7212185859680176, 1.8010724782943726, 0.7212185859680176, 1.8010724782943726, 0.7212185859680176, 1.8010724782943726, 0.7212185859680176, 1.8010724782943726, 0.7212185859680176, 1.8010724782943726, 0.7212185859680176, 1.8010724782943726, 0.7212185859680176, 1.8010724782943726, 0.7212185859680176, 1.8010724782943726, 0.7212185859680176, 1.8010724782943726, 0.7212185859680176, 1.8010724782943726, 0.7212185859680176, 1.8010724782943726, 0.7212185859680176, 1.8010724782943726, 0.7212185859680176, 1.8010724782943726, 0.7212185859680176, 1.8010724782943726, 0.7212185859680176, 1.8010724782943726, 0.7212185859680176, 1.8010724782943726, 0.7212185859680176, 1.8010724782943726, 0.7212185859680176, 1.8010724782943726, 0.7212185859680176, 1.8010724782943726, 0.7212185859680176, 1.8010724782943726, 0.7212185859680176, 1.8010724782943726, 0.7212185859680176, 1.8010724782943726, 0.7212185859680176, 1.8010724782943726, 0.7212185859680176, 1.8010724782943726, 0.7212185859680176, 1.8010724782943726, 0.7212185859680176, 1.8010724782943726, 0.7212185859680176, 1.8010724782943726, 0.7212185859680176, 1.8010724782943726, 0.7212185859680176, 1.8010724782943726, 0.7212185859680176, 1.8010724782943726, 0.7212185859680176, 1.8010724782943726, 0.7212185859680176, 1.8010724782943726, 0.7212185859680176, 1.8010724782943726, 0.7212185859680176, 1.8010724782943726, 0.7212185859680176, 1.8010724782943726, 0.7212185859680176, 1.8010724782943726, 0.7212185859680176, 1.8010724782943726, 0.7212185859680176, 1.8010724782943726, 0.7212185859680176, 1.8010724782943726, 0.7212185859680176, 1.8010724782943726, 0.7212185859680176, 1.8010724782943726, 0.7212185859680176, 1.8010724782943726, 0.7212185859680176, 1.8010724782943726, 0.7212185859680176, 1.8010724782943726, 0.7212185859680176, 1.8010724782943726, 0.7212185859680176, 1.8010724782943726, 0.7212185859680176, 1.8010724782943726, 0.7212185859680176, 1.8010724782943726, 0.7212185859680176, 1.8010724782943726, 0.7212185859680176, 1.8010724782943726, 0.7212185859680176, 1.8010724782943726, 0.7212185859680176, 1.8010724782943726, 0.7212185859680176, 1.8010724782943726, 0.7212185859680176, 1.8010724782943726, 0.7212185859680176, 1.8010724782943726, 0.7212185859680176, 1.8010724782943726, 0.7212185859680176, 1.8010724782943726, 0.7212185859680176, 1.8010724782943726, 0.7212185859680176, 1.8010724782943726, 0.7212185859680176, 1.8010724782943726, 0.7212185859680176, 1.8010724782943726, 0.7212185859680176, 1.8010724782943726, 0.7212185859680176, 1.8010724782943726, 0.7212185859680176, 1.8010724782943726, 0.7212185859680176, 1.8010724782943726, 0.7212185859680176, 1.8010724782943726, 0.7212185859680176, 1.8010724782943726, 0.7212185859680176, 1.8010724782943726, 0.7212185859680176, 1.8010724782943726, 0.7212185859680176, 1.8010724782943726, 0.7212185859680176, 1.8010724782943726, 0.7212185859680176, 1.8010724782943726, 0.7212185859680176, 1.8010724782943726, 0.7212185859680176, 1.8010724782943726, 0.7212185859680176, 1.8010724782943726, 0.7212185859680176, 1.8010724782943726, 0.7212185859680176, 1.8010724782943726, 0.7212185859680176, 1.8010724782943726, 0.7212185859680176, 1.8010724782943726, 0.7212185859680176, 1.8010724782943726, 0.7212185859680176, 1.8010724782943726, 0.7212185859680176, 1.8010724782943726, 0.7212185859680176, 1.8010724782943726, 0.7212185859680176, 1.8010724782943726, 0.7212185859680176, 1.8010724782943726, 0.7212185859680176, 1.8010724782943726, 0.7212185859680176, 1.8010724782943726, 0.7212185859680176, 1.8010724782943726, 0.7212185859680176, 1.8010724782943726, 0.7212185859680176, 1.8010724782943726, 0.7212185859680176, 1.8010724782943726, 0.7212185859680176, 1.8010724782943726, 0.7212185859680176, 1.8010724782943726, 0.7212185859680176, 1.8010724782943726, 0.7212185859680176, 1.8010724782943726, 0.7212185859680176, 1.8010724782943726, 0.7212185859680176, 1.8010724782943726, 0.7212185859680176]\n",
            "Test loss: 1.8010724782943726\n",
            "Test accuracy: 72.12185859680176\n"
          ],
          "name": "stdout"
        }
      ]
    },
    {
      "cell_type": "code",
      "metadata": {
        "id": "YRazpDElXVGX"
      },
      "source": [
        "from string import punctuation\n",
        "from os import listdir\n",
        "from collections import Counter\n",
        "from nltk.corpus import stopwords\n",
        "from keras.preprocessing.text import Tokenizer\n",
        "from keras.models import Sequential\n",
        "from keras.layers import Dense\n",
        "from keras.layers import Dropout\n",
        " \n",
        "# load doc into memory\n",
        "def load_doc(filename):\n",
        "\t# open the file as read only\n",
        "\tfile = open(filename, 'r')\n",
        "\t# read all text\n",
        "\ttext = file.read()\n",
        "\t# close the file\n",
        "\tfile.close()\n",
        "\treturn text\n",
        " \n",
        "# turn a doc into clean tokens\n",
        "def clean_doc(doc):\n",
        "\t# split into tokens by white space\n",
        "\ttokens = doc.split()\n",
        "\t# remove punctuation from each token\n",
        "\ttable = str.maketrans('', '', punctuation)\n",
        "\ttokens = [w.translate(table) for w in tokens]\n",
        "\t# remove remaining tokens that are not alphabetic\n",
        "\ttokens = [word for word in tokens if word.isalpha()]\n",
        "\t# filter out stop words\n",
        "\tstop_words = set(stopwords.words('english'))\n",
        "\ttokens = [w for w in tokens if not w in stop_words]\n",
        "\t# filter out short tokens\n",
        "\ttokens = [word for word in tokens if len(word) > 1]\n",
        "\treturn tokens\n",
        " \n",
        "# load doc, clean and return line of tokens\n",
        "def doc_to_line(filename, vocab):\n",
        "\t# load the doc\n",
        "\tdoc = load_doc(filename)\n",
        "\t# clean doc\n",
        "\ttokens = clean_doc(doc)\n",
        "\t# filter by vocab\n",
        "\ttokens = [w for w in tokens if w in vocab]\n",
        "\treturn ' '.join(tokens)\n",
        " \n",
        "# load all docs in a directory\n",
        "def process_docs(directory, vocab, is_trian):\n",
        "\tlines = list()\n",
        "\t# walk through all files in the folder\n",
        "\tfor filename in listdir(directory):\n",
        "\t\t# skip any reviews in the test set\n",
        "\t\tif is_trian and filename.startswith('cv9'):\n",
        "\t\t\tcontinue\n",
        "\t\tif not is_trian and not filename.startswith('cv9'):\n",
        "\t\t\tcontinue\n",
        "\t\t# create the full path of the file to open\n",
        "\t\tpath = directory + '/' + filename\n",
        "\t\t# load and clean the doc\n",
        "\t\tline = doc_to_line(path, vocab)\n",
        "\t\t# add to list\n",
        "\t\tlines.append(line)\n",
        "\treturn lines\n",
        " \n",
        "# load the vocabulary\n",
        "vocab_filename = 'vocab.txt'\n",
        "vocab = load_doc(vocab_filename)\n",
        "vocab = vocab.split()\n",
        "vocab = set(vocab)\n",
        "# load all training reviews\n",
        "positive_lines = process_docs('txt_sentoken/pos', vocab, True)\n",
        "# = process_docs('txt_sentoken/neg', vocab, True)\n",
        "# create the tokenizer\n",
        "tokenizer = Tokenizer()\n",
        "# fit the tokenizer on the documents\n",
        "docs = negative_lines + positive_lines\n",
        "tokenizer.fit_on_texts(docs)\n",
        "# encode training data set\n",
        "Xtrain = tokenizer.texts_to_matrix(docs, mode='freq')\n",
        "ytrain = array([0 for _ in range(900)] + [1 for _ in range(900)])\n",
        " \n",
        "# load all test reviews\n",
        "positive_lines = process_docs('txt_sentoken/pos', vocab, False)\n",
        "negative_lines = process_docs('txt_sentoken/neg', vocab, False)\n",
        "docs = negative_lines + positive_lines\n",
        "# encode training data set\n",
        "Xtest = tokenizer.texts_to_matrix(docs, mode='freq')\n",
        "ytest = array([0 for _ in range(100)] + [1 for _ in range(100)])\n",
        " \n",
        "n_words = Xtest.shape[1]\n",
        "# define network\n",
        "model = Sequential()\n",
        "model.add(Dense(50, input_shape=(n_words,), activation='relu'))\n",
        "model.add(Dense(1, activation='sigmoid'))\n",
        "# compile network\n",
        "model.compile(loss='binary_crossentropy', optimizer='adam', metrics=['accuracy'])\n",
        "# fit network\n",
        "model.fit(Xtrain, ytrain, epochs=50, verbose=2)\n",
        "# evaluate\n",
        "loss, acc = model.evaluate(Xtest, ytest, verbose=0)\n",
        "print('Test Accuracy: %f' % (acc*100))"
      ],
      "execution_count": null,
      "outputs": []
    },
    {
      "cell_type": "code",
      "metadata": {
        "id": "uEnmdOvlFex2",
        "colab": {
          "base_uri": "https://localhost:8080/"
        },
        "outputId": "0afe9e7b-81d0-4e41-86a4-f5a8b3857cfd"
      },
      "source": [
        "# define the model\r\n",
        "def define_Ch3model(padded_train_sequences, y_train):\r\n",
        "\t# channel 1\r\n",
        "  embed_dim = 40  # Embedding size for each token\r\n",
        "  num_heads = 4  # Number of attention heads\r\n",
        "  ff_dim = 32  # Hidden layer size in feed forward network inside transformer\r\n",
        "  maxlen = MAX_SEQUENCE_LENGTH\r\n",
        "  vocab_size = vocab_size = len(tokenizer.word_index) + 1 #80000\r\n",
        "  print(vocab_size)\r\n",
        "  inputs1 = layers.Input(shape=(maxlen,))\r\n",
        "  embedding_layer = TokenAndPositionEmbedding(maxlen, vocab_size, embed_dim)\r\n",
        "  x1 = embedding_layer(inputs1)\r\n",
        "  transformer_block = TransformerBlock(embed_dim, 2, ff_dim)\r\n",
        "  x1 = transformer_block(x1)\r\n",
        "  x1= layers.MaxPooling1D()(x1)\r\n",
        " # x1 = layers.Dropout(0.1)(x1)\r\n",
        "  x1 = layers.Dense(30, activation=\"relu\")(x1)\r\n",
        "  x1 = layers.Dropout(0.1)(x1)\r\n",
        "  x1 = Flatten()(x1)\r\n",
        "\t# channel 2\r\n",
        "\t# merge\r\n",
        " \r\n",
        "  #merged1 = Flatten()(merged1)\r\n",
        "\t# interpretation\r\n",
        "\r\n",
        "  #merged = Conv1D(filters=(3), kernel_size=(20), activation='relu')(merged1)\r\n",
        "  dense1 = Dense(40, activation='relu')(x1)\r\n",
        "  dense2 = Dense(20, activation='relu')(dense1)\r\n",
        "  outputs = Dense(2, activation='softmax')(dense2)\r\n",
        "  model = Model(inputs=inputs1, outputs=outputs)\r\n",
        "  \r\n",
        "\t# compile\r\n",
        "  model.compile(loss='binary_crossentropy', optimizer='adam', metrics=['accuracy'])\r\n",
        "  #model.fit([padded_train_sequences,padded_train_sequences,padded_train_sequences], y_train, epochs=3, batch_size=16)\r\n",
        "  history = model.fit(x=[padded_train_sequences ], y=Y_train, \r\n",
        "                    #validation_data=(padded_test_sequences, Y_test), \r\n",
        "                    batch_size=200, \r\n",
        "                    #callbacks=[checkpoint], \r\n",
        "                    epochs=15, \r\n",
        "                    verbose=1)\r\n",
        "  print(model.summary())\r\n",
        "  return model\r\n",
        "\r\n",
        "model = define_model3(padded_train_sequences, Y_train)"
      ],
      "execution_count": null,
      "outputs": [
        {
          "output_type": "stream",
          "text": [
            "Epoch 1/40\n",
            "210/210 [==============================] - 20s 91ms/step - loss: 0.5774 - accuracy: 0.6569\n",
            "Epoch 2/40\n",
            "210/210 [==============================] - 19s 88ms/step - loss: 0.2360 - accuracy: 0.9082\n",
            "Epoch 3/40\n",
            "210/210 [==============================] - 18s 86ms/step - loss: 0.1335 - accuracy: 0.9523\n",
            "Epoch 4/40\n",
            "210/210 [==============================] - 18s 87ms/step - loss: 0.0804 - accuracy: 0.9734\n",
            "Epoch 5/40\n",
            "210/210 [==============================] - 18s 88ms/step - loss: 0.0542 - accuracy: 0.9827\n",
            "Epoch 6/40\n",
            "210/210 [==============================] - 19s 92ms/step - loss: 0.0386 - accuracy: 0.9875\n",
            "Epoch 7/40\n",
            "210/210 [==============================] - 19s 90ms/step - loss: 0.0315 - accuracy: 0.9901\n",
            "Epoch 8/40\n",
            "210/210 [==============================] - 19s 91ms/step - loss: 0.0265 - accuracy: 0.9910\n",
            "Epoch 9/40\n",
            "210/210 [==============================] - 19s 90ms/step - loss: 0.0216 - accuracy: 0.9932\n",
            "Epoch 10/40\n",
            "210/210 [==============================] - 19s 91ms/step - loss: 0.0204 - accuracy: 0.9936\n",
            "Epoch 11/40\n",
            "210/210 [==============================] - 19s 89ms/step - loss: 0.0182 - accuracy: 0.9942\n",
            "Epoch 12/40\n",
            "210/210 [==============================] - 19s 90ms/step - loss: 0.0174 - accuracy: 0.9942\n",
            "Epoch 13/40\n",
            "210/210 [==============================] - 19s 91ms/step - loss: 0.0152 - accuracy: 0.9948\n",
            "Epoch 14/40\n",
            "210/210 [==============================] - 20s 94ms/step - loss: 0.0159 - accuracy: 0.9946\n",
            "Epoch 15/40\n",
            "210/210 [==============================] - 19s 90ms/step - loss: 0.0158 - accuracy: 0.9944\n",
            "Epoch 16/40\n",
            "210/210 [==============================] - 19s 91ms/step - loss: 0.0131 - accuracy: 0.9957\n",
            "Epoch 17/40\n",
            "210/210 [==============================] - 19s 90ms/step - loss: 0.0133 - accuracy: 0.9957\n",
            "Epoch 18/40\n",
            "210/210 [==============================] - 19s 89ms/step - loss: 0.0138 - accuracy: 0.9952\n",
            "Epoch 19/40\n",
            "210/210 [==============================] - 19s 88ms/step - loss: 0.0146 - accuracy: 0.9951\n",
            "Epoch 20/40\n",
            "210/210 [==============================] - 19s 89ms/step - loss: 0.0126 - accuracy: 0.9953\n",
            "Epoch 21/40\n",
            "210/210 [==============================] - 18s 88ms/step - loss: 0.0130 - accuracy: 0.9954\n",
            "Epoch 22/40\n",
            "210/210 [==============================] - 19s 92ms/step - loss: 0.0129 - accuracy: 0.9957\n",
            "Epoch 23/40\n",
            "210/210 [==============================] - 19s 90ms/step - loss: 0.0123 - accuracy: 0.9955\n",
            "Epoch 24/40\n",
            "210/210 [==============================] - 19s 89ms/step - loss: 0.0128 - accuracy: 0.9958\n",
            "Epoch 25/40\n",
            "210/210 [==============================] - 19s 91ms/step - loss: 0.0105 - accuracy: 0.9964\n",
            "Epoch 26/40\n",
            "210/210 [==============================] - 19s 92ms/step - loss: 0.0116 - accuracy: 0.9958\n",
            "Epoch 27/40\n",
            "210/210 [==============================] - 19s 90ms/step - loss: 0.0106 - accuracy: 0.9963\n",
            "Epoch 28/40\n",
            "210/210 [==============================] - 18s 88ms/step - loss: 0.0101 - accuracy: 0.9963\n",
            "Epoch 29/40\n",
            "210/210 [==============================] - 18s 84ms/step - loss: 0.0116 - accuracy: 0.9958\n",
            "Epoch 30/40\n",
            "210/210 [==============================] - 18s 85ms/step - loss: 0.0129 - accuracy: 0.9954\n",
            "Epoch 31/40\n",
            "210/210 [==============================] - 18s 87ms/step - loss: 0.0105 - accuracy: 0.9962\n",
            "Epoch 32/40\n",
            "210/210 [==============================] - 18s 86ms/step - loss: 0.0107 - accuracy: 0.9961\n",
            "Epoch 33/40\n",
            "210/210 [==============================] - 18s 85ms/step - loss: 0.0079 - accuracy: 0.9969\n",
            "Epoch 34/40\n",
            "210/210 [==============================] - 17s 82ms/step - loss: 0.0090 - accuracy: 0.9965\n",
            "Epoch 35/40\n",
            "210/210 [==============================] - 18s 83ms/step - loss: 0.0087 - accuracy: 0.9965\n",
            "Epoch 36/40\n",
            "210/210 [==============================] - 17s 79ms/step - loss: 0.0093 - accuracy: 0.9966\n",
            "Epoch 37/40\n",
            "210/210 [==============================] - 17s 79ms/step - loss: 0.0085 - accuracy: 0.9966\n",
            "Epoch 38/40\n",
            "210/210 [==============================] - 17s 79ms/step - loss: 0.0108 - accuracy: 0.9962\n",
            "Epoch 39/40\n",
            "210/210 [==============================] - 17s 81ms/step - loss: 0.0087 - accuracy: 0.9966\n",
            "Epoch 40/40\n",
            "210/210 [==============================] - 17s 81ms/step - loss: 0.0089 - accuracy: 0.9967\n"
          ],
          "name": "stdout"
        }
      ]
    },
    {
      "cell_type": "code",
      "metadata": {
        "colab": {
          "base_uri": "https://localhost:8080/"
        },
        "id": "sJU-wLZbVLF6",
        "outputId": "6f059eca-c91e-41cc-8637-5c26312baf29"
      },
      "source": [
        "# define the model\r\n",
        "def define_model3(padded_train_sequences, Y_train):\r\n",
        "\t# channel 1\r\n",
        "\tembedding_dim = 150\r\n",
        "\tinputs1 = Input(shape=(MAX_LENGTH,))\r\n",
        "\tembedding1 = Embedding(input_dim=MAX_NB_WORDS, output_dim=embedding_dim, input_length=MAX_LENGTH)(inputs1)\r\n",
        "\tconv1 = Conv1D(filters=32, kernel_size=4, activation='relu')(embedding1)\r\n",
        "\tdrop1 = Dropout(0.5)(conv1)\r\n",
        "\tpool1 = MaxPooling1D(pool_size=2)(drop1)\r\n",
        "\tflat1 = Flatten()(pool1)\r\n",
        "\t# channel 2\r\n",
        "\t#inputs2 = Input(shape=(MAX_LENGTH,))\r\n",
        "\t#embedding2 = Embedding(input_dim=MAX_NB_WORDS, output_dim=embedding_dim, input_length=MAX_LENGTH)(inputs2)\r\n",
        "\t#conv2 = Conv1D(filters=32, kernel_size=6, activation='relu')(embedding2)\r\n",
        "\t#drop2 = Dropout(0.5)(conv2)\r\n",
        "\t#pool2 = MaxPooling1D(pool_size=2)(drop2)\r\n",
        "\t#flat2 = Flatten()(pool2)\r\n",
        "\t# channel 3\r\n",
        "\t#inputs3 = Input(shape=(MAX_LENGTH,))\r\n",
        "\t#embedding3 = Embedding(input_dim=MAX_NB_WORDS, output_dim=embedding_dim, input_length=MAX_LENGTH)(inputs3)\r\n",
        "\t#conv3 = Conv1D(filters=32, kernel_size=8, activation='relu')(embedding3)\r\n",
        "\t#drop3 = Dropout(0.5)(conv3)\r\n",
        "\t#pool3 = MaxPooling1D(pool_size=2)(drop3)\r\n",
        "\t#flat3 = Flatten()(pool3)\r\n",
        "\t# merge\r\n",
        "\t#merged = concatenate([flat1, flat2, flat3])\r\n",
        "\t# interpretation\r\n",
        "\tdense1 = Dense(20, activation='relu')(flat1)\r\n",
        "\toutputs = Dense(2, activation='sigmoid')(dense1)\r\n",
        "\tmodel = Model(inputs=inputs1, outputs=outputs)\r\n",
        "\t# compile\r\n",
        "\tmodel.compile(loss='binary_crossentropy', optimizer='adam', metrics=['accuracy'])\r\n",
        "\tmodel.fit([padded_train_sequences], Y_train, epochs=40, batch_size=200)\r\n",
        "\r\n",
        "\t#print(model.summary())\r\n",
        "\treturn model\r\n",
        "\r\n",
        "model = define_model3(padded_train_sequences, Y_train)"
      ],
      "execution_count": null,
      "outputs": [
        {
          "output_type": "stream",
          "text": [
            "Epoch 1/40\n",
            "210/210 [==============================] - 21s 96ms/step - loss: 0.5661 - accuracy: 0.6628\n",
            "Epoch 2/40\n",
            "210/210 [==============================] - 19s 91ms/step - loss: 0.2393 - accuracy: 0.9071\n",
            "Epoch 3/40\n",
            "210/210 [==============================] - 19s 91ms/step - loss: 0.1452 - accuracy: 0.9475\n",
            "Epoch 4/40\n",
            "210/210 [==============================] - 20s 93ms/step - loss: 0.0934 - accuracy: 0.9680\n",
            "Epoch 5/40\n",
            "210/210 [==============================] - 19s 90ms/step - loss: 0.0605 - accuracy: 0.9800\n",
            "Epoch 6/40\n",
            "210/210 [==============================] - 19s 92ms/step - loss: 0.0407 - accuracy: 0.9862\n",
            "Epoch 7/40\n",
            "210/210 [==============================] - 19s 90ms/step - loss: 0.0343 - accuracy: 0.9886\n",
            "Epoch 8/40\n",
            "210/210 [==============================] - 19s 91ms/step - loss: 0.0296 - accuracy: 0.9901\n",
            "Epoch 9/40\n",
            "210/210 [==============================] - 18s 87ms/step - loss: 0.0233 - accuracy: 0.9919\n",
            "Epoch 10/40\n",
            "210/210 [==============================] - 19s 88ms/step - loss: 0.0235 - accuracy: 0.9922\n",
            "Epoch 11/40\n",
            "210/210 [==============================] - 18s 87ms/step - loss: 0.0195 - accuracy: 0.9932\n",
            "Epoch 12/40\n",
            "210/210 [==============================] - 19s 88ms/step - loss: 0.0199 - accuracy: 0.9933\n",
            "Epoch 13/40\n",
            "210/210 [==============================] - 18s 87ms/step - loss: 0.0187 - accuracy: 0.9939\n",
            "Epoch 14/40\n",
            "210/210 [==============================] - 18s 87ms/step - loss: 0.0184 - accuracy: 0.9930\n",
            "Epoch 15/40\n",
            "210/210 [==============================] - 18s 87ms/step - loss: 0.0169 - accuracy: 0.9939\n",
            "Epoch 16/40\n",
            "210/210 [==============================] - 19s 88ms/step - loss: 0.0163 - accuracy: 0.9945\n",
            "Epoch 17/40\n",
            "210/210 [==============================] - 19s 89ms/step - loss: 0.0137 - accuracy: 0.9954\n",
            "Epoch 18/40\n",
            "210/210 [==============================] - 20s 96ms/step - loss: 0.0143 - accuracy: 0.9948\n",
            "Epoch 19/40\n",
            "210/210 [==============================] - 19s 91ms/step - loss: 0.0134 - accuracy: 0.9953\n",
            "Epoch 20/40\n",
            "210/210 [==============================] - 19s 91ms/step - loss: 0.0149 - accuracy: 0.9944\n",
            "Epoch 21/40\n",
            "210/210 [==============================] - 19s 91ms/step - loss: 0.0155 - accuracy: 0.9946\n",
            "Epoch 22/40\n",
            "210/210 [==============================] - 19s 91ms/step - loss: 0.0155 - accuracy: 0.9947\n",
            "Epoch 23/40\n",
            "210/210 [==============================] - 20s 94ms/step - loss: 0.0139 - accuracy: 0.9945\n",
            "Epoch 24/40\n",
            "210/210 [==============================] - 20s 97ms/step - loss: 0.0117 - accuracy: 0.9958\n",
            "Epoch 25/40\n",
            "210/210 [==============================] - 19s 89ms/step - loss: 0.0116 - accuracy: 0.9956\n",
            "Epoch 26/40\n",
            "210/210 [==============================] - 19s 89ms/step - loss: 0.0123 - accuracy: 0.9957\n",
            "Epoch 27/40\n",
            "210/210 [==============================] - 19s 89ms/step - loss: 0.0103 - accuracy: 0.9961\n",
            "Epoch 28/40\n",
            "210/210 [==============================] - 18s 85ms/step - loss: 0.0096 - accuracy: 0.9961\n",
            "Epoch 29/40\n",
            "210/210 [==============================] - 19s 89ms/step - loss: 0.0099 - accuracy: 0.9960\n",
            "Epoch 30/40\n",
            "210/210 [==============================] - 18s 87ms/step - loss: 0.0122 - accuracy: 0.9955\n",
            "Epoch 31/40\n",
            "210/210 [==============================] - 18s 88ms/step - loss: 0.0112 - accuracy: 0.9956\n",
            "Epoch 32/40\n",
            "210/210 [==============================] - 18s 87ms/step - loss: 0.0092 - accuracy: 0.9965\n",
            "Epoch 33/40\n",
            "210/210 [==============================] - 19s 89ms/step - loss: 0.0112 - accuracy: 0.9967\n",
            "Epoch 34/40\n",
            "210/210 [==============================] - 21s 99ms/step - loss: 0.0095 - accuracy: 0.9965\n",
            "Epoch 35/40\n",
            "210/210 [==============================] - 19s 92ms/step - loss: 0.0089 - accuracy: 0.9961\n",
            "Epoch 36/40\n",
            "210/210 [==============================] - 19s 90ms/step - loss: 0.0082 - accuracy: 0.9968\n",
            "Epoch 37/40\n",
            "210/210 [==============================] - 19s 91ms/step - loss: 0.0085 - accuracy: 0.9968\n",
            "Epoch 38/40\n",
            "210/210 [==============================] - 20s 93ms/step - loss: 0.0098 - accuracy: 0.9965\n",
            "Epoch 39/40\n",
            "210/210 [==============================] - 19s 93ms/step - loss: 0.0090 - accuracy: 0.9965\n",
            "Epoch 40/40\n",
            "210/210 [==============================] - 19s 90ms/step - loss: 0.0102 - accuracy: 0.9957\n"
          ],
          "name": "stdout"
        }
      ]
    },
    {
      "cell_type": "code",
      "metadata": {
        "colab": {
          "base_uri": "https://localhost:8080/"
        },
        "id": "xeOOo0HgafAy",
        "outputId": "7a0152eb-3206-4a6a-ffbd-6c973a5553d2"
      },
      "source": [
        "\r\n",
        "#accuracyscore = model.evaluate([padded_test_sequences,padded_test_sequences, padded_test_sequences], Y_test)\r\n",
        "accuracyscore = model.evaluate( padded_test_sequences, Y_test)\r\n",
        "\r\n",
        "print(model.summary())\r\n",
        "\r\n",
        "\r\n",
        "print(accuracyscore * 100)\r\n",
        "print(\"Test loss:\", accuracyscore[0])\r\n",
        "print(\"Test accuracy:\", accuracyscore[1] * 100)\r\n",
        "\r\n",
        "y_pred = model.predict([padded_test_sequences])\r\n",
        "\r\n",
        "from sklearn.metrics import classification_report\r\n",
        "from sklearn.metrics import confusion_matrix\r\n",
        "print(confusion_matrix(y_test, np.argmax(y_pred, axis = 1)))\r\n",
        "print(classification_report(y_test, np.argmax(y_pred, axis = 1)))\r\n"
      ],
      "execution_count": null,
      "outputs": [
        {
          "output_type": "stream",
          "text": [
            "436/436 [==============================] - 2s 4ms/step - loss: 1.0764 - accuracy: 0.8728\n",
            "Model: \"model\"\n",
            "_________________________________________________________________\n",
            "Layer (type)                 Output Shape              Param #   \n",
            "=================================================================\n",
            "input_1 (InputLayer)         [(None, 343)]             0         \n",
            "_________________________________________________________________\n",
            "embedding (Embedding)        (None, 343, 150)          12000000  \n",
            "_________________________________________________________________\n",
            "conv1d (Conv1D)              (None, 340, 32)           19232     \n",
            "_________________________________________________________________\n",
            "dropout (Dropout)            (None, 340, 32)           0         \n",
            "_________________________________________________________________\n",
            "max_pooling1d (MaxPooling1D) (None, 170, 32)           0         \n",
            "_________________________________________________________________\n",
            "flatten (Flatten)            (None, 5440)              0         \n",
            "_________________________________________________________________\n",
            "dense (Dense)                (None, 20)                108820    \n",
            "_________________________________________________________________\n",
            "dense_1 (Dense)              (None, 2)                 42        \n",
            "=================================================================\n",
            "Total params: 12,128,094\n",
            "Trainable params: 12,128,094\n",
            "Non-trainable params: 0\n",
            "_________________________________________________________________\n",
            "None\n",
            "[1.0763790607452393, 0.8728041648864746, 1.0763790607452393, 0.8728041648864746, 1.0763790607452393, 0.8728041648864746, 1.0763790607452393, 0.8728041648864746, 1.0763790607452393, 0.8728041648864746, 1.0763790607452393, 0.8728041648864746, 1.0763790607452393, 0.8728041648864746, 1.0763790607452393, 0.8728041648864746, 1.0763790607452393, 0.8728041648864746, 1.0763790607452393, 0.8728041648864746, 1.0763790607452393, 0.8728041648864746, 1.0763790607452393, 0.8728041648864746, 1.0763790607452393, 0.8728041648864746, 1.0763790607452393, 0.8728041648864746, 1.0763790607452393, 0.8728041648864746, 1.0763790607452393, 0.8728041648864746, 1.0763790607452393, 0.8728041648864746, 1.0763790607452393, 0.8728041648864746, 1.0763790607452393, 0.8728041648864746, 1.0763790607452393, 0.8728041648864746, 1.0763790607452393, 0.8728041648864746, 1.0763790607452393, 0.8728041648864746, 1.0763790607452393, 0.8728041648864746, 1.0763790607452393, 0.8728041648864746, 1.0763790607452393, 0.8728041648864746, 1.0763790607452393, 0.8728041648864746, 1.0763790607452393, 0.8728041648864746, 1.0763790607452393, 0.8728041648864746, 1.0763790607452393, 0.8728041648864746, 1.0763790607452393, 0.8728041648864746, 1.0763790607452393, 0.8728041648864746, 1.0763790607452393, 0.8728041648864746, 1.0763790607452393, 0.8728041648864746, 1.0763790607452393, 0.8728041648864746, 1.0763790607452393, 0.8728041648864746, 1.0763790607452393, 0.8728041648864746, 1.0763790607452393, 0.8728041648864746, 1.0763790607452393, 0.8728041648864746, 1.0763790607452393, 0.8728041648864746, 1.0763790607452393, 0.8728041648864746, 1.0763790607452393, 0.8728041648864746, 1.0763790607452393, 0.8728041648864746, 1.0763790607452393, 0.8728041648864746, 1.0763790607452393, 0.8728041648864746, 1.0763790607452393, 0.8728041648864746, 1.0763790607452393, 0.8728041648864746, 1.0763790607452393, 0.8728041648864746, 1.0763790607452393, 0.8728041648864746, 1.0763790607452393, 0.8728041648864746, 1.0763790607452393, 0.8728041648864746, 1.0763790607452393, 0.8728041648864746, 1.0763790607452393, 0.8728041648864746, 1.0763790607452393, 0.8728041648864746, 1.0763790607452393, 0.8728041648864746, 1.0763790607452393, 0.8728041648864746, 1.0763790607452393, 0.8728041648864746, 1.0763790607452393, 0.8728041648864746, 1.0763790607452393, 0.8728041648864746, 1.0763790607452393, 0.8728041648864746, 1.0763790607452393, 0.8728041648864746, 1.0763790607452393, 0.8728041648864746, 1.0763790607452393, 0.8728041648864746, 1.0763790607452393, 0.8728041648864746, 1.0763790607452393, 0.8728041648864746, 1.0763790607452393, 0.8728041648864746, 1.0763790607452393, 0.8728041648864746, 1.0763790607452393, 0.8728041648864746, 1.0763790607452393, 0.8728041648864746, 1.0763790607452393, 0.8728041648864746, 1.0763790607452393, 0.8728041648864746, 1.0763790607452393, 0.8728041648864746, 1.0763790607452393, 0.8728041648864746, 1.0763790607452393, 0.8728041648864746, 1.0763790607452393, 0.8728041648864746, 1.0763790607452393, 0.8728041648864746, 1.0763790607452393, 0.8728041648864746, 1.0763790607452393, 0.8728041648864746, 1.0763790607452393, 0.8728041648864746, 1.0763790607452393, 0.8728041648864746, 1.0763790607452393, 0.8728041648864746, 1.0763790607452393, 0.8728041648864746, 1.0763790607452393, 0.8728041648864746, 1.0763790607452393, 0.8728041648864746, 1.0763790607452393, 0.8728041648864746, 1.0763790607452393, 0.8728041648864746, 1.0763790607452393, 0.8728041648864746, 1.0763790607452393, 0.8728041648864746, 1.0763790607452393, 0.8728041648864746, 1.0763790607452393, 0.8728041648864746, 1.0763790607452393, 0.8728041648864746, 1.0763790607452393, 0.8728041648864746, 1.0763790607452393, 0.8728041648864746, 1.0763790607452393, 0.8728041648864746, 1.0763790607452393, 0.8728041648864746, 1.0763790607452393, 0.8728041648864746, 1.0763790607452393, 0.8728041648864746, 1.0763790607452393, 0.8728041648864746, 1.0763790607452393, 0.8728041648864746, 1.0763790607452393, 0.8728041648864746, 1.0763790607452393, 0.8728041648864746]\n",
            "Test loss: 1.0763790607452393\n",
            "Test accuracy: 87.28041648864746\n",
            "[[5063 1069]\n",
            " [ 705 7110]]\n",
            "              precision    recall  f1-score   support\n",
            "\n",
            "           0       0.88      0.83      0.85      6132\n",
            "           1       0.87      0.91      0.89      7815\n",
            "\n",
            "    accuracy                           0.87     13947\n",
            "   macro avg       0.87      0.87      0.87     13947\n",
            "weighted avg       0.87      0.87      0.87     13947\n",
            "\n"
          ],
          "name": "stdout"
        }
      ]
    },
    {
      "cell_type": "code",
      "metadata": {
        "id": "_IcCMqSQfwJG"
      },
      "source": [
        ""
      ],
      "execution_count": null,
      "outputs": []
    },
    {
      "cell_type": "code",
      "metadata": {
        "colab": {
          "base_uri": "https://localhost:8080/"
        },
        "id": "8_mHxJZdb-TJ",
        "outputId": "41e3fcaa-7c95-4271-915e-998dc2cbe9d4"
      },
      "source": [
        "# define the model\r\n",
        "def define_Ch3model(padded_train_sequences, y_train):\r\n",
        "\t# channel 1\r\n",
        "  embed_dim = 40  # Embedding size for each token\r\n",
        "  num_heads = 4  # Number of attention heads\r\n",
        "  ff_dim = 32  # Hidden layer size in feed forward network inside transformer\r\n",
        "  maxlen = MAX_SEQUENCE_LENGTH\r\n",
        "  vocab_size = vocab_size = len(tokenizer.word_index) + 1 #80000\r\n",
        "  print(vocab_size)\r\n",
        "  inputs1 = Input(shape=(maxlen,))\r\n",
        "  embedding_layer = TokenAndPositionEmbedding(maxlen, vocab_size, embed_dim)\r\n",
        "  x1 = embedding_layer(inputs1)\r\n",
        "  transformer_block = TransformerBlock(embed_dim, 10, ff_dim)\r\n",
        "  x1 = transformer_block(x1)\r\n",
        "  x1=  MaxPooling1D()(x1)\r\n",
        "  x1 = Dense(30, activation=\"relu\")(x1)\r\n",
        "  x1 = Dropout(0.2)(x1)\r\n",
        "  x1 = Flatten()(x1)\r\n",
        "\t# channel 2\r\n",
        "  inputs2 = Input(shape=(MAX_LENGTH,))\r\n",
        "  embedding_layer = TokenAndPositionEmbedding(maxlen, vocab_size, embed_dim)\r\n",
        "  x2 = embedding_layer(inputs2)\r\n",
        "  transformer_block = TransformerBlock(embed_dim, 10, ff_dim)\r\n",
        "  x2 = transformer_block(x2)\r\n",
        "  x2= MaxPooling1D()(x2)\r\n",
        "  x2 = Dense(30, activation=\"relu\")(x2)\r\n",
        "  x2 = Dropout(0.2)(x2)\r\n",
        "  x2 = Flatten()(x2)\r\n",
        "\t# channel 3\r\n",
        "  #inputs3 = Input(shape=(MAX_LENGTH,))\r\n",
        "  #embedding_layer = TokenAndPositionEmbedding(maxlen, vocab_size, embed_dim)\r\n",
        "  #x3 = embedding_layer(inputs3)\r\n",
        "  #transformer_block = TransformerBlock(embed_dim, 10, ff_dim)\r\n",
        "  #x3 = transformer_block(x3)\r\n",
        "  #x3= MaxPooling1D()(x3)\r\n",
        "  #x3 = Dense(30, activation=\"relu\")(x3)\r\n",
        "  #x3 = Dropout(0.1)(x3)\r\n",
        "  #x3 = Flatten()(x3)\r\n",
        "  embedding_dim = 150\r\n",
        "  inputs3 = Input(shape=(MAX_LENGTH,))\r\n",
        "  embedding1 = Embedding(input_dim=MAX_NB_WORDS, output_dim=embedding_dim, input_length=MAX_LENGTH)(inputs3)\r\n",
        "  conv1 = Conv1D(filters=32, kernel_size=4, activation='relu')(embedding1)\r\n",
        "  drop1 = Dropout(0.5)(conv1)\r\n",
        "  pool1 = MaxPooling1D(pool_size=2)(drop1)\r\n",
        "  x3 = Flatten()(pool1)\r\n",
        "\t# merge\r\n",
        "  merged = concatenate([x1, x2, x3])\r\n",
        "  #merged1 = Flatten()(merged1)\r\n",
        "\t# interpretation\r\n",
        "\r\n",
        "  #merged = Conv1D(filters=(3), kernel_size=(20), activation='relu')(merged1)\r\n",
        "  dense1 = Dense(60, activation='relu')(merged)\r\n",
        "  dense2 = Dense(30, activation='relu')(dense1)\r\n",
        "  outputs = Dense(2, activation='softmax')(dense2)\r\n",
        "  model = Model(inputs=[inputs1, inputs2, inputs3], outputs=outputs)\r\n",
        "  \r\n",
        "\t# compile\r\n",
        "  model.compile(loss='binary_crossentropy', optimizer='adam', metrics=['accuracy'])\r\n",
        "  #model.fit([padded_train_sequences,padded_train_sequences,padded_train_sequences], y_train, epochs=3, batch_size=16)\r\n",
        "  history = model.fit(x=[padded_train_sequences,padded_train_sequences, padded_train_sequences], y=Y_train, \r\n",
        "                    #validation_data=(padded_test_sequences, Y_test), \r\n",
        "                    batch_size=200, \r\n",
        "                    #callbacks=[checkpoint], \r\n",
        "                    epochs=40, \r\n",
        "                    verbose=1)\r\n",
        "  print(model.summary())\r\n",
        "  return model\r\n",
        "\r\n",
        "\r\n",
        "model = define_Ch3model(padded_train_sequences, Y_train)\r\n",
        "#model = define_model3(padded_train_sequences, Y_train)\r\n",
        "#define_model3\r\n",
        "\r\n",
        "accuracyscore = model.evaluate([padded_test_sequences,padded_test_sequences, padded_test_sequences], Y_test)\r\n",
        "#accuracyscore = model.evaluate( padded_test_sequences, Y_test)\r\n",
        "\r\n",
        "print(accuracyscore * 100)\r\n",
        "print(\"Test loss:\", accuracyscore[0])\r\n",
        "print(\"Test accuracy:\", accuracyscore[1] * 100)\r\n",
        "\r\n",
        "from sklearn.metrics import classification_report\r\n",
        "from sklearn.metrics import confusion_matrix\r\n",
        "print(confusion_matrix(y_test, np.argmax(y_pred, axis = 1)))\r\n",
        "print(classification_report(y_test, np.argmax(y_pred, axis = 1)))"
      ],
      "execution_count": null,
      "outputs": [
        {
          "output_type": "stream",
          "text": [
            "46825\n",
            "Epoch 1/40\n",
            "210/210 [==============================] - 519s 2s/step - loss: 0.6080 - accuracy: 0.6466\n",
            "Epoch 2/40\n",
            "210/210 [==============================] - 472s 2s/step - loss: 0.2383 - accuracy: 0.9065\n",
            "Epoch 3/40\n",
            "210/210 [==============================] - 445s 2s/step - loss: 0.1071 - accuracy: 0.9640\n",
            "Epoch 4/40\n",
            "210/210 [==============================] - 430s 2s/step - loss: 0.0554 - accuracy: 0.9823\n",
            "Epoch 5/40\n",
            "210/210 [==============================] - 420s 2s/step - loss: 0.0345 - accuracy: 0.9898\n",
            "Epoch 6/40\n",
            "210/210 [==============================] - 439s 2s/step - loss: 0.0299 - accuracy: 0.9916\n",
            "Epoch 7/40\n",
            "210/210 [==============================] - 425s 2s/step - loss: 0.0227 - accuracy: 0.9932\n",
            "Epoch 8/40\n",
            "210/210 [==============================] - 419s 2s/step - loss: 0.0191 - accuracy: 0.9947\n",
            "Epoch 9/40\n",
            "210/210 [==============================] - 424s 2s/step - loss: 0.0165 - accuracy: 0.9950\n",
            "Epoch 10/40\n",
            "210/210 [==============================] - 438s 2s/step - loss: 0.0160 - accuracy: 0.9949\n",
            "Epoch 11/40\n",
            "210/210 [==============================] - 431s 2s/step - loss: 0.0135 - accuracy: 0.9954\n",
            "Epoch 12/40\n",
            "210/210 [==============================] - 385s 2s/step - loss: 0.0130 - accuracy: 0.9957\n",
            "Epoch 13/40\n",
            "210/210 [==============================] - 378s 2s/step - loss: 0.0114 - accuracy: 0.9960\n",
            "Epoch 14/40\n",
            "210/210 [==============================] - 384s 2s/step - loss: 0.0129 - accuracy: 0.9954\n",
            "Epoch 15/40\n",
            "210/210 [==============================] - 380s 2s/step - loss: 0.0113 - accuracy: 0.9960\n",
            "Epoch 16/40\n",
            "210/210 [==============================] - 374s 2s/step - loss: 0.0115 - accuracy: 0.9952\n",
            "Epoch 17/40\n",
            "210/210 [==============================] - 379s 2s/step - loss: 0.0093 - accuracy: 0.9963\n",
            "Epoch 18/40\n",
            "210/210 [==============================] - 374s 2s/step - loss: 0.0107 - accuracy: 0.9961\n",
            "Epoch 19/40\n",
            "210/210 [==============================] - 376s 2s/step - loss: 0.0096 - accuracy: 0.9963\n",
            "Epoch 20/40\n",
            "210/210 [==============================] - 379s 2s/step - loss: 0.0090 - accuracy: 0.9965\n",
            "Epoch 21/40\n",
            "210/210 [==============================] - 381s 2s/step - loss: 0.0086 - accuracy: 0.9962\n",
            "Epoch 22/40\n",
            "210/210 [==============================] - 379s 2s/step - loss: 0.0090 - accuracy: 0.9963\n",
            "Epoch 23/40\n",
            "210/210 [==============================] - 380s 2s/step - loss: 0.0098 - accuracy: 0.9958\n",
            "Epoch 24/40\n",
            "210/210 [==============================] - 380s 2s/step - loss: 0.0099 - accuracy: 0.9957\n",
            "Epoch 25/40\n",
            "210/210 [==============================] - 381s 2s/step - loss: 0.0105 - accuracy: 0.9961\n",
            "Epoch 26/40\n",
            "210/210 [==============================] - 375s 2s/step - loss: 0.0084 - accuracy: 0.9967\n",
            "Epoch 27/40\n",
            " 48/210 [=====>........................] - ETA: 4:52 - loss: 0.0064 - accuracy: 0.9972"
          ],
          "name": "stdout"
        }
      ]
    },
    {
      "cell_type": "code",
      "metadata": {
        "colab": {
          "base_uri": "https://localhost:8080/"
        },
        "id": "rhIGBejNdSwr",
        "outputId": "25086e23-203a-4cd7-fe88-3a98de5bf9a3"
      },
      "source": [
        "model.save('content/saved_model/model_last')\r\n"
      ],
      "execution_count": null,
      "outputs": [
        {
          "output_type": "stream",
          "text": [
            "WARNING:absl:Found untraced functions such as embedding_38_layer_call_fn, embedding_38_layer_call_and_return_conditional_losses, embedding_39_layer_call_fn, embedding_39_layer_call_and_return_conditional_losses, embedding_40_layer_call_fn while saving (showing 5 of 110). These functions will not be directly callable after loading.\n",
            "WARNING:absl:Found untraced functions such as embedding_38_layer_call_fn, embedding_38_layer_call_and_return_conditional_losses, embedding_39_layer_call_fn, embedding_39_layer_call_and_return_conditional_losses, embedding_40_layer_call_fn while saving (showing 5 of 110). These functions will not be directly callable after loading.\n"
          ],
          "name": "stderr"
        },
        {
          "output_type": "stream",
          "text": [
            "INFO:tensorflow:Assets written to: content/saved_model/model_last/assets\n"
          ],
          "name": "stdout"
        },
        {
          "output_type": "stream",
          "text": [
            "INFO:tensorflow:Assets written to: content/saved_model/model_last/assets\n"
          ],
          "name": "stderr"
        }
      ]
    },
    {
      "cell_type": "code",
      "metadata": {
        "id": "q5ISbxlEdjqC"
      },
      "source": [
        "from sklearn.metrics import classification_report"
      ],
      "execution_count": null,
      "outputs": []
    },
    {
      "cell_type": "code",
      "metadata": {
        "id": "4aWhN7BIeGrs"
      },
      "source": [
        ""
      ],
      "execution_count": null,
      "outputs": []
    },
    {
      "cell_type": "code",
      "metadata": {
        "id": "ZETHqYnleHv6"
      },
      "source": [
        "model.save_weights('content/saved_model/model_lastW') \r\n"
      ],
      "execution_count": null,
      "outputs": []
    },
    {
      "cell_type": "code",
      "metadata": {
        "id": "irZnXxg4fxSY"
      },
      "source": [
        "from sklearn.metrics import classification_report\r\n",
        "\r\n",
        "y_pred = model.predict([padded_test_sequences,padded_test_sequences, padded_test_sequences])\r\n",
        "\r\n",
        "\r\n"
      ],
      "execution_count": null,
      "outputs": []
    },
    {
      "cell_type": "code",
      "metadata": {
        "colab": {
          "base_uri": "https://localhost:8080/"
        },
        "id": "JtYeQcgSmdKx",
        "outputId": "5a045e83-5bbf-44c7-c68b-9ec92014b0a2"
      },
      "source": [
        "from sklearn.metrics import confusion_matrix\r\n",
        "\r\n",
        "print(confusion_matrix(y_test, np.argmax(y_pred, axis = 1)))\r\n"
      ],
      "execution_count": null,
      "outputs": [
        {
          "output_type": "stream",
          "text": [
            "[[8673  471]\n",
            " [1036 8768]]\n"
          ],
          "name": "stdout"
        }
      ]
    },
    {
      "cell_type": "code",
      "metadata": {
        "colab": {
          "base_uri": "https://localhost:8080/"
        },
        "id": "GXpQKWFYov8c",
        "outputId": "4a8e3dca-7067-48f1-fba9-7806074a3bbb"
      },
      "source": [
        "print(classification_report(y_test, np.argmax(y_pred, axis = 1)))"
      ],
      "execution_count": null,
      "outputs": [
        {
          "output_type": "stream",
          "text": [
            "              precision    recall  f1-score   support\n",
            "\n",
            "           0       0.89      0.95      0.92      9144\n",
            "           1       0.95      0.89      0.92      9804\n",
            "\n",
            "    accuracy                           0.92     18948\n",
            "   macro avg       0.92      0.92      0.92     18948\n",
            "weighted avg       0.92      0.92      0.92     18948\n",
            "\n"
          ],
          "name": "stdout"
        }
      ]
    },
    {
      "cell_type": "code",
      "metadata": {
        "colab": {
          "base_uri": "https://localhost:8080/"
        },
        "id": "sM42LYeWkX_R",
        "outputId": "6a51dfb7-a04c-469a-bdb2-9085eabd7676"
      },
      "source": [
        "y_pred"
      ],
      "execution_count": null,
      "outputs": [
        {
          "output_type": "execute_result",
          "data": {
            "text/plain": [
              "array([[9.9999952e-01, 4.5035904e-07],\n",
              "       [1.1805972e-21, 1.0000000e+00],\n",
              "       [1.0000000e+00, 1.4593946e-37],\n",
              "       ...,\n",
              "       [1.0000000e+00, 8.3060545e-24],\n",
              "       [8.8793976e-25, 1.0000000e+00],\n",
              "       [2.2954686e-14, 1.0000000e+00]], dtype=float32)"
            ]
          },
          "metadata": {
            "tags": []
          },
          "execution_count": 102
        }
      ]
    },
    {
      "cell_type": "code",
      "metadata": {
        "colab": {
          "base_uri": "https://localhost:8080/"
        },
        "id": "DX-jVLNqi6-M",
        "outputId": "23468a37-e835-4a73-8127-b63de71044e6"
      },
      "source": [
        "# define the model\r\n",
        "def define_Ch3model(padded_train_sequences, y_train):\r\n",
        "\t# channel 1\r\n",
        "  \r\n",
        "  embed_dim = 40  # Embedding size for each token\r\n",
        "  embedding_matrix = np.random.random((MAX_NB_WORDS, embed_dim))\r\n",
        "  num_heads = 4  # Number of attention heads\r\n",
        "  ff_dim = 32  # Hidden layer size in feed forward network inside transformer\r\n",
        "  \r\n",
        "  maxlen = MAX_SEQUENCE_LENGTH\r\n",
        "  vocab_size = vocab_size = len(tokenizer.word_index) + 1 #80000\r\n",
        "  print(vocab_size)\r\n",
        "  inputs1 = Input(shape=(maxlen,))\r\n",
        "  embedding_layer = TokenAndPositionEmbedding(maxlen, vocab_size, embed_dim)\r\n",
        "  x1 = embedding_layer(inputs1)\r\n",
        "  transformer_block = TransformerBlock(embed_dim, 10, ff_dim)\r\n",
        "  x1 = transformer_block(x1)\r\n",
        "  x1=  MaxPooling1D()(x1)\r\n",
        "  #x1 = Dense(30, activation=\"relu\")(x1)\r\n",
        "  x1 = Dropout(0.5)(x1)\r\n",
        "  x1 = Flatten()(x1)\r\n",
        "\t# channel 2\r\n",
        "  \r\n",
        "  inputs2 = Input(shape=(MAX_LENGTH, ))\r\n",
        "  x2 = Embedding(input_dim=MAX_NB_WORDS, output_dim=embed_dim, input_length=maxlen, \r\n",
        "                weights=[embedding_matrix], trainable=True)(inputs2)\r\n",
        "  x2 = SpatialDropout1D(0.1)(x2)\r\n",
        "  x2 = Bidirectional(GRU(10, return_sequences=True))(x2)\r\n",
        "  avg_pool = GlobalAveragePooling1D()(x2)\r\n",
        "  max_pool = GlobalMaxPooling1D()(x2)\r\n",
        "  x2 = concatenate([avg_pool, max_pool])\r\n",
        "\r\n",
        "\r\n",
        "  #inputs2 = Input(shape=(MAX_LENGTH,))\r\n",
        "  #embedding_layer = TokenAndPositionEmbedding(maxlen, vocab_size, embed_dim)\r\n",
        "  #x2 = embedding_layer(inputs2)\r\n",
        "  #transformer_block = TransformerBlock(embed_dim, 10, ff_dim)\r\n",
        "  #x2 = transformer_block(x2)\r\n",
        "  #x2= MaxPooling1D()(x2)\r\n",
        "  #x2 = Dense(30, activation=\"relu\")(x2)\r\n",
        "  #x2 = Dropout(0.2)(x2)\r\n",
        "  #x2 = Flatten()(x2)\r\n",
        "\t# channel 3\r\n",
        "  #inputs3 = Input(shape=(MAX_LENGTH,))\r\n",
        "  #embedding_layer = TokenAndPositionEmbedding(maxlen, vocab_size, embed_dim)\r\n",
        "  #x3 = embedding_layer(inputs3)\r\n",
        "  #transformer_block = TransformerBlock(embed_dim, 10, ff_dim)\r\n",
        "  #x3 = transformer_block(x3)\r\n",
        "  #x3= MaxPooling1D()(x3)\r\n",
        "  #x3 = Dense(30, activation=\"relu\")(x3)\r\n",
        "  #x3 = Dropout(0.1)(x3)\r\n",
        "  #x3 = Flatten()(x3)\r\n",
        "  embedding_dim = 150\r\n",
        "  inputs3 = Input(shape=(MAX_LENGTH,))\r\n",
        "  embedding1 = Embedding(input_dim=MAX_NB_WORDS, output_dim=embedding_dim, input_length=MAX_LENGTH)(inputs3)\r\n",
        "  conv1 = Conv1D(filters=32, kernel_size=4, activation='relu')(embedding1)\r\n",
        "  drop1 = Dropout(0.5)(conv1)\r\n",
        "  pool1 = MaxPooling1D(pool_size=2)(drop1)\r\n",
        "  x3 = Flatten()(pool1)\r\n",
        "\t# merge\r\n",
        "  merged = concatenate([x1, x2, x3])\r\n",
        "  #merged1 = Flatten()(merged1)\r\n",
        "\t# interpretation\r\n",
        "\r\n",
        "  #merged = Conv1D(filters=(3), kernel_size=(20), activation='relu')(merged1)\r\n",
        "  dense1 = Dense(60, activation='relu')(merged)\r\n",
        "  dense2 = Dense(30, activation='relu')(dense1)\r\n",
        "  outputs = Dense(2, activation='softmax')(dense2)\r\n",
        "  model = Model(inputs=[inputs1, inputs2, inputs3], outputs=outputs)\r\n",
        "  \r\n",
        "\t# compile\r\n",
        "  model.compile(loss='binary_crossentropy', optimizer='adam', metrics=['accuracy'])\r\n",
        "  #model.fit([padded_train_sequences,padded_train_sequences,padded_train_sequences], y_train, epochs=3, batch_size=16)\r\n",
        "  history = model.fit(x=[padded_train_sequences,padded_train_sequences, padded_train_sequences], y=Y_train, \r\n",
        "                    #validation_data=(padded_test_sequences, Y_test), \r\n",
        "                    batch_size=100, \r\n",
        "                    #callbacks=[checkpoint], \r\n",
        "                    epochs=50, \r\n",
        "                    verbose=1)\r\n",
        "  print(model.summary())\r\n",
        "  return model\r\n",
        "\r\n",
        "\r\n",
        "model = define_Ch3model(padded_train_sequences, Y_train)\r\n",
        "#model = define_model3(padded_train_sequences, Y_train)\r\n",
        "#define_model3\r\n",
        "\r\n",
        "accuracyscore = model.evaluate([padded_test_sequences,padded_test_sequences, padded_test_sequences], Y_test)\r\n",
        "#accuracyscore = model.evaluate( padded_test_sequences, Y_test)\r\n",
        "\r\n",
        "print(accuracyscore * 100)\r\n",
        "print(\"Test loss:\", accuracyscore[0])\r\n",
        "print(\"Test accuracy:\", accuracyscore[1] * 100)\r\n",
        "\r\n",
        "from sklearn.metrics import confusion_matrix\r\n",
        "from sklearn.metrics import classification_report\r\n",
        "\r\n",
        "y_pred = model.predict([padded_test_sequences,padded_test_sequences, padded_test_sequences])\r\n",
        "\r\n",
        "print(confusion_matrix(y_test, np.argmax(y_pred, axis = 1)))\r\n",
        "print(classification_report(y_test, np.argmax(y_pred, axis = 1)))"
      ],
      "execution_count": 27,
      "outputs": [
        {
          "output_type": "stream",
          "text": [
            "47036\n",
            "Epoch 1/50\n",
            "419/419 [==============================] - 376s 886ms/step - loss: 0.6011 - accuracy: 0.6551\n",
            "Epoch 2/50\n",
            "419/419 [==============================] - 404s 964ms/step - loss: 0.2495 - accuracy: 0.9011\n",
            "Epoch 3/50\n",
            "419/419 [==============================] - 393s 938ms/step - loss: 0.1500 - accuracy: 0.9446\n",
            "Epoch 4/50\n",
            "419/419 [==============================] - 403s 961ms/step - loss: 0.0862 - accuracy: 0.9682\n",
            "Epoch 5/50\n",
            "419/419 [==============================] - 394s 940ms/step - loss: 0.0593 - accuracy: 0.9809\n",
            "Epoch 6/50\n",
            "419/419 [==============================] - 379s 903ms/step - loss: 0.0427 - accuracy: 0.9859\n",
            "Epoch 7/50\n",
            "419/419 [==============================] - 393s 938ms/step - loss: 0.0371 - accuracy: 0.9878\n",
            "Epoch 8/50\n",
            "419/419 [==============================] - 391s 934ms/step - loss: 0.0291 - accuracy: 0.9902\n",
            "Epoch 9/50\n",
            "419/419 [==============================] - 414s 989ms/step - loss: 0.0237 - accuracy: 0.9920\n",
            "Epoch 10/50\n",
            "419/419 [==============================] - 369s 881ms/step - loss: 0.0218 - accuracy: 0.9928\n",
            "Epoch 11/50\n",
            "419/419 [==============================] - 370s 883ms/step - loss: 0.0186 - accuracy: 0.9936\n",
            "Epoch 12/50\n",
            "419/419 [==============================] - 370s 884ms/step - loss: 0.0165 - accuracy: 0.9946\n",
            "Epoch 13/50\n",
            "419/419 [==============================] - 366s 874ms/step - loss: 0.0156 - accuracy: 0.9953\n",
            "Epoch 14/50\n",
            "419/419 [==============================] - 376s 896ms/step - loss: 0.0147 - accuracy: 0.9947\n",
            "Epoch 15/50\n",
            "419/419 [==============================] - 370s 884ms/step - loss: 0.0161 - accuracy: 0.9944\n",
            "Epoch 16/50\n",
            "419/419 [==============================] - 373s 891ms/step - loss: 0.0151 - accuracy: 0.9950\n",
            "Epoch 17/50\n",
            "419/419 [==============================] - 379s 905ms/step - loss: 0.0143 - accuracy: 0.9949\n",
            "Epoch 18/50\n",
            "419/419 [==============================] - 378s 902ms/step - loss: 0.0125 - accuracy: 0.9957\n",
            "Epoch 19/50\n",
            "419/419 [==============================] - 367s 877ms/step - loss: 0.0121 - accuracy: 0.9961\n",
            "Epoch 20/50\n",
            "419/419 [==============================] - 370s 882ms/step - loss: 0.0114 - accuracy: 0.9961\n",
            "Epoch 21/50\n",
            "419/419 [==============================] - 368s 878ms/step - loss: 0.0108 - accuracy: 0.9961\n",
            "Epoch 22/50\n",
            "419/419 [==============================] - 367s 876ms/step - loss: 0.0098 - accuracy: 0.9966\n",
            "Epoch 23/50\n",
            "419/419 [==============================] - 368s 878ms/step - loss: 0.0102 - accuracy: 0.9966\n",
            "Epoch 24/50\n",
            "419/419 [==============================] - 380s 908ms/step - loss: 0.0090 - accuracy: 0.9968\n",
            "Epoch 25/50\n",
            "419/419 [==============================] - 379s 904ms/step - loss: 0.0134 - accuracy: 0.9959\n",
            "Epoch 26/50\n",
            "419/419 [==============================] - 385s 918ms/step - loss: 0.0096 - accuracy: 0.9965\n",
            "Epoch 27/50\n",
            "419/419 [==============================] - 367s 877ms/step - loss: 0.0075 - accuracy: 0.9972\n",
            "Epoch 28/50\n",
            "419/419 [==============================] - 373s 889ms/step - loss: 0.0090 - accuracy: 0.9974\n",
            "Epoch 29/50\n",
            "419/419 [==============================] - 368s 878ms/step - loss: 0.0088 - accuracy: 0.9968\n",
            "Epoch 30/50\n",
            "419/419 [==============================] - 365s 870ms/step - loss: 0.0078 - accuracy: 0.9973\n",
            "Epoch 31/50\n",
            "419/419 [==============================] - 365s 870ms/step - loss: 0.0085 - accuracy: 0.9967\n",
            "Epoch 32/50\n",
            "419/419 [==============================] - 385s 918ms/step - loss: 0.0077 - accuracy: 0.9972\n",
            "Epoch 33/50\n",
            "419/419 [==============================] - 381s 910ms/step - loss: 0.0079 - accuracy: 0.9973\n",
            "Epoch 34/50\n",
            "419/419 [==============================] - 385s 919ms/step - loss: 0.0085 - accuracy: 0.9971\n",
            "Epoch 35/50\n",
            "419/419 [==============================] - 394s 941ms/step - loss: 0.0076 - accuracy: 0.9970\n",
            "Epoch 36/50\n",
            "419/419 [==============================] - 389s 928ms/step - loss: 0.0069 - accuracy: 0.9975\n",
            "Epoch 37/50\n",
            "419/419 [==============================] - 392s 936ms/step - loss: 0.0067 - accuracy: 0.9972\n",
            "Epoch 38/50\n",
            "419/419 [==============================] - 401s 957ms/step - loss: 0.0072 - accuracy: 0.9971\n",
            "Epoch 39/50\n",
            "419/419 [==============================] - 407s 971ms/step - loss: 0.0075 - accuracy: 0.9967\n",
            "Epoch 40/50\n",
            "419/419 [==============================] - 407s 971ms/step - loss: 0.0071 - accuracy: 0.9970\n",
            "Epoch 41/50\n",
            "419/419 [==============================] - 400s 954ms/step - loss: 0.0073 - accuracy: 0.9969\n",
            "Epoch 42/50\n",
            "419/419 [==============================] - 392s 936ms/step - loss: 0.0073 - accuracy: 0.9969\n",
            "Epoch 43/50\n",
            "419/419 [==============================] - 382s 911ms/step - loss: 0.0073 - accuracy: 0.9971\n",
            "Epoch 44/50\n",
            "419/419 [==============================] - 364s 869ms/step - loss: 0.0061 - accuracy: 0.9975\n",
            "Epoch 45/50\n",
            "419/419 [==============================] - 365s 871ms/step - loss: 0.0070 - accuracy: 0.9968\n",
            "Epoch 46/50\n",
            "419/419 [==============================] - 365s 871ms/step - loss: 0.0058 - accuracy: 0.9977\n",
            "Epoch 47/50\n",
            "419/419 [==============================] - 365s 870ms/step - loss: 0.0057 - accuracy: 0.9976\n",
            "Epoch 48/50\n",
            "419/419 [==============================] - 363s 866ms/step - loss: 0.0058 - accuracy: 0.9977\n",
            "Epoch 49/50\n",
            "419/419 [==============================] - 364s 868ms/step - loss: 0.0058 - accuracy: 0.9979\n",
            "Epoch 50/50\n",
            "419/419 [==============================] - 366s 873ms/step - loss: 0.0058 - accuracy: 0.9975\n",
            "Model: \"model_1\"\n",
            "__________________________________________________________________________________________________\n",
            "Layer (type)                    Output Shape         Param #     Connected to                     \n",
            "==================================================================================================\n",
            "input_4 (InputLayer)            [(None, 343)]        0                                            \n",
            "__________________________________________________________________________________________________\n",
            "input_5 (InputLayer)            [(None, 343)]        0                                            \n",
            "__________________________________________________________________________________________________\n",
            "input_6 (InputLayer)            [(None, 343)]        0                                            \n",
            "__________________________________________________________________________________________________\n",
            "token_and_position_embedding_1  (None, 343, 40)      1895160     input_4[0][0]                    \n",
            "__________________________________________________________________________________________________\n",
            "embedding_6 (Embedding)         (None, 343, 40)      3200000     input_5[0][0]                    \n",
            "__________________________________________________________________________________________________\n",
            "embedding_7 (Embedding)         (None, 343, 150)     12000000    input_6[0][0]                    \n",
            "__________________________________________________________________________________________________\n",
            "transformer_block_1 (Transforme (None, 343, 40)      9352        token_and_position_embedding_1[0]\n",
            "__________________________________________________________________________________________________\n",
            "spatial_dropout1d_1 (SpatialDro (None, 343, 40)      0           embedding_6[0][0]                \n",
            "__________________________________________________________________________________________________\n",
            "conv1d_1 (Conv1D)               (None, 340, 32)      19232       embedding_7[0][0]                \n",
            "__________________________________________________________________________________________________\n",
            "max_pooling1d_2 (MaxPooling1D)  (None, 171, 40)      0           transformer_block_1[0][0]        \n",
            "__________________________________________________________________________________________________\n",
            "bidirectional_1 (Bidirectional) (None, 343, 20)      3120        spatial_dropout1d_1[0][0]        \n",
            "__________________________________________________________________________________________________\n",
            "dropout_7 (Dropout)             (None, 340, 32)      0           conv1d_1[0][0]                   \n",
            "__________________________________________________________________________________________________\n",
            "dropout_6 (Dropout)             (None, 171, 40)      0           max_pooling1d_2[0][0]            \n",
            "__________________________________________________________________________________________________\n",
            "global_average_pooling1d_1 (Glo (None, 20)           0           bidirectional_1[0][0]            \n",
            "__________________________________________________________________________________________________\n",
            "global_max_pooling1d_1 (GlobalM (None, 20)           0           bidirectional_1[0][0]            \n",
            "__________________________________________________________________________________________________\n",
            "max_pooling1d_3 (MaxPooling1D)  (None, 170, 32)      0           dropout_7[0][0]                  \n",
            "__________________________________________________________________________________________________\n",
            "flatten_2 (Flatten)             (None, 6840)         0           dropout_6[0][0]                  \n",
            "__________________________________________________________________________________________________\n",
            "concatenate_2 (Concatenate)     (None, 40)           0           global_average_pooling1d_1[0][0] \n",
            "                                                                 global_max_pooling1d_1[0][0]     \n",
            "__________________________________________________________________________________________________\n",
            "flatten_3 (Flatten)             (None, 5440)         0           max_pooling1d_3[0][0]            \n",
            "__________________________________________________________________________________________________\n",
            "concatenate_3 (Concatenate)     (None, 12320)        0           flatten_2[0][0]                  \n",
            "                                                                 concatenate_2[0][0]              \n",
            "                                                                 flatten_3[0][0]                  \n",
            "__________________________________________________________________________________________________\n",
            "dense_15 (Dense)                (None, 60)           739260      concatenate_3[0][0]              \n",
            "__________________________________________________________________________________________________\n",
            "dense_16 (Dense)                (None, 30)           1830        dense_15[0][0]                   \n",
            "__________________________________________________________________________________________________\n",
            "dense_17 (Dense)                (None, 2)            62          dense_16[0][0]                   \n",
            "==================================================================================================\n",
            "Total params: 17,868,016\n",
            "Trainable params: 17,868,016\n",
            "Non-trainable params: 0\n",
            "__________________________________________________________________________________________________\n",
            "None\n",
            "436/436 [==============================] - 44s 97ms/step - loss: 1.0210 - accuracy: 0.8800\n",
            "[1.0209559202194214, 0.8799741864204407, 1.0209559202194214, 0.8799741864204407, 1.0209559202194214, 0.8799741864204407, 1.0209559202194214, 0.8799741864204407, 1.0209559202194214, 0.8799741864204407, 1.0209559202194214, 0.8799741864204407, 1.0209559202194214, 0.8799741864204407, 1.0209559202194214, 0.8799741864204407, 1.0209559202194214, 0.8799741864204407, 1.0209559202194214, 0.8799741864204407, 1.0209559202194214, 0.8799741864204407, 1.0209559202194214, 0.8799741864204407, 1.0209559202194214, 0.8799741864204407, 1.0209559202194214, 0.8799741864204407, 1.0209559202194214, 0.8799741864204407, 1.0209559202194214, 0.8799741864204407, 1.0209559202194214, 0.8799741864204407, 1.0209559202194214, 0.8799741864204407, 1.0209559202194214, 0.8799741864204407, 1.0209559202194214, 0.8799741864204407, 1.0209559202194214, 0.8799741864204407, 1.0209559202194214, 0.8799741864204407, 1.0209559202194214, 0.8799741864204407, 1.0209559202194214, 0.8799741864204407, 1.0209559202194214, 0.8799741864204407, 1.0209559202194214, 0.8799741864204407, 1.0209559202194214, 0.8799741864204407, 1.0209559202194214, 0.8799741864204407, 1.0209559202194214, 0.8799741864204407, 1.0209559202194214, 0.8799741864204407, 1.0209559202194214, 0.8799741864204407, 1.0209559202194214, 0.8799741864204407, 1.0209559202194214, 0.8799741864204407, 1.0209559202194214, 0.8799741864204407, 1.0209559202194214, 0.8799741864204407, 1.0209559202194214, 0.8799741864204407, 1.0209559202194214, 0.8799741864204407, 1.0209559202194214, 0.8799741864204407, 1.0209559202194214, 0.8799741864204407, 1.0209559202194214, 0.8799741864204407, 1.0209559202194214, 0.8799741864204407, 1.0209559202194214, 0.8799741864204407, 1.0209559202194214, 0.8799741864204407, 1.0209559202194214, 0.8799741864204407, 1.0209559202194214, 0.8799741864204407, 1.0209559202194214, 0.8799741864204407, 1.0209559202194214, 0.8799741864204407, 1.0209559202194214, 0.8799741864204407, 1.0209559202194214, 0.8799741864204407, 1.0209559202194214, 0.8799741864204407, 1.0209559202194214, 0.8799741864204407, 1.0209559202194214, 0.8799741864204407, 1.0209559202194214, 0.8799741864204407, 1.0209559202194214, 0.8799741864204407, 1.0209559202194214, 0.8799741864204407, 1.0209559202194214, 0.8799741864204407, 1.0209559202194214, 0.8799741864204407, 1.0209559202194214, 0.8799741864204407, 1.0209559202194214, 0.8799741864204407, 1.0209559202194214, 0.8799741864204407, 1.0209559202194214, 0.8799741864204407, 1.0209559202194214, 0.8799741864204407, 1.0209559202194214, 0.8799741864204407, 1.0209559202194214, 0.8799741864204407, 1.0209559202194214, 0.8799741864204407, 1.0209559202194214, 0.8799741864204407, 1.0209559202194214, 0.8799741864204407, 1.0209559202194214, 0.8799741864204407, 1.0209559202194214, 0.8799741864204407, 1.0209559202194214, 0.8799741864204407, 1.0209559202194214, 0.8799741864204407, 1.0209559202194214, 0.8799741864204407, 1.0209559202194214, 0.8799741864204407, 1.0209559202194214, 0.8799741864204407, 1.0209559202194214, 0.8799741864204407, 1.0209559202194214, 0.8799741864204407, 1.0209559202194214, 0.8799741864204407, 1.0209559202194214, 0.8799741864204407, 1.0209559202194214, 0.8799741864204407, 1.0209559202194214, 0.8799741864204407, 1.0209559202194214, 0.8799741864204407, 1.0209559202194214, 0.8799741864204407, 1.0209559202194214, 0.8799741864204407, 1.0209559202194214, 0.8799741864204407, 1.0209559202194214, 0.8799741864204407, 1.0209559202194214, 0.8799741864204407, 1.0209559202194214, 0.8799741864204407, 1.0209559202194214, 0.8799741864204407, 1.0209559202194214, 0.8799741864204407, 1.0209559202194214, 0.8799741864204407, 1.0209559202194214, 0.8799741864204407, 1.0209559202194214, 0.8799741864204407, 1.0209559202194214, 0.8799741864204407, 1.0209559202194214, 0.8799741864204407, 1.0209559202194214, 0.8799741864204407, 1.0209559202194214, 0.8799741864204407, 1.0209559202194214, 0.8799741864204407, 1.0209559202194214, 0.8799741864204407, 1.0209559202194214, 0.8799741864204407, 1.0209559202194214, 0.8799741864204407]\n",
            "Test loss: 1.0209559202194214\n",
            "Test accuracy: 87.99741864204407\n",
            "[[5188  913]\n",
            " [ 761 7085]]\n",
            "              precision    recall  f1-score   support\n",
            "\n",
            "           0       0.87      0.85      0.86      6101\n",
            "           1       0.89      0.90      0.89      7846\n",
            "\n",
            "    accuracy                           0.88     13947\n",
            "   macro avg       0.88      0.88      0.88     13947\n",
            "weighted avg       0.88      0.88      0.88     13947\n",
            "\n"
          ],
          "name": "stdout"
        }
      ]
    },
    {
      "cell_type": "code",
      "metadata": {
        "id": "dh76_93BqHTi"
      },
      "source": [
        "Total params: 17,868,016\r\n",
        "Trainable params: 17,868,016\r\n",
        "Non-trainable params: 0\r\n",
        "__________________________________________________________________________________________________\r\n",
        "None\r\n",
        "436/436 [==============================] - 44s 97ms/step - loss: 1.0210 - accuracy: 0.8800\r\n",
        "[1.0209559202194214, 0.8799741864204407, 1.0209559202194214, 0.8799741864204407, 1.0209559202194214, 0.8799741864204407, 1.0209559202194214, 0.8799741864204407, 1.0209559202194214, 0.8799741864204407, 1.0209559202194214, 0.8799741864204407, 1.0209559202194214, 0.8799741864204407, 1.0209559202194214, 0.8799741864204407, 1.0209559202194214, 0.8799741864204407, 1.0209559202194214, 0.8799741864204407, 1.0209559202194214, 0.8799741864204407, 1.0209559202194214, 0.8799741864204407, 1.0209559202194214, 0.8799741864204407, 1.0209559202194214, 0.8799741864204407, 1.0209559202194214, 0.8799741864204407, 1.0209559202194214, 0.8799741864204407, 1.0209559202194214, 0.8799741864204407, 1.0209559202194214, 0.8799741864204407, 1.0209559202194214, 0.8799741864204407, 1.0209559202194214, 0.8799741864204407, 1.0209559202194214, 0.8799741864204407, 1.0209559202194214, 0.8799741864204407, 1.0209559202194214, 0.8799741864204407, 1.0209559202194214, 0.8799741864204407, 1.0209559202194214, 0.8799741864204407, 1.0209559202194214, 0.8799741864204407, 1.0209559202194214, 0.8799741864204407, 1.0209559202194214, 0.8799741864204407, 1.0209559202194214, 0.8799741864204407, 1.0209559202194214, 0.8799741864204407, 1.0209559202194214, 0.8799741864204407, 1.0209559202194214, 0.8799741864204407, 1.0209559202194214, 0.8799741864204407, 1.0209559202194214, 0.8799741864204407, 1.0209559202194214, 0.8799741864204407, 1.0209559202194214, 0.8799741864204407, 1.0209559202194214, 0.8799741864204407, 1.0209559202194214, 0.8799741864204407, 1.0209559202194214, 0.8799741864204407, 1.0209559202194214, 0.8799741864204407, 1.0209559202194214, 0.8799741864204407, 1.0209559202194214, 0.8799741864204407, 1.0209559202194214, 0.8799741864204407, 1.0209559202194214, 0.8799741864204407, 1.0209559202194214, 0.8799741864204407, 1.0209559202194214, 0.8799741864204407, 1.0209559202194214, 0.8799741864204407, 1.0209559202194214, 0.8799741864204407, 1.0209559202194214, 0.8799741864204407, 1.0209559202194214, 0.8799741864204407, 1.0209559202194214, 0.8799741864204407, 1.0209559202194214, 0.8799741864204407, 1.0209559202194214, 0.8799741864204407, 1.0209559202194214, 0.8799741864204407, 1.0209559202194214, 0.8799741864204407, 1.0209559202194214, 0.8799741864204407, 1.0209559202194214, 0.8799741864204407, 1.0209559202194214, 0.8799741864204407, 1.0209559202194214, 0.8799741864204407, 1.0209559202194214, 0.8799741864204407, 1.0209559202194214, 0.8799741864204407, 1.0209559202194214, 0.8799741864204407, 1.0209559202194214, 0.8799741864204407, 1.0209559202194214, 0.8799741864204407, 1.0209559202194214, 0.8799741864204407, 1.0209559202194214, 0.8799741864204407, 1.0209559202194214, 0.8799741864204407, 1.0209559202194214, 0.8799741864204407, 1.0209559202194214, 0.8799741864204407, 1.0209559202194214, 0.8799741864204407, 1.0209559202194214, 0.8799741864204407, 1.0209559202194214, 0.8799741864204407, 1.0209559202194214, 0.8799741864204407, 1.0209559202194214, 0.8799741864204407, 1.0209559202194214, 0.8799741864204407, 1.0209559202194214, 0.8799741864204407, 1.0209559202194214, 0.8799741864204407, 1.0209559202194214, 0.8799741864204407, 1.0209559202194214, 0.8799741864204407, 1.0209559202194214, 0.8799741864204407, 1.0209559202194214, 0.8799741864204407, 1.0209559202194214, 0.8799741864204407, 1.0209559202194214, 0.8799741864204407, 1.0209559202194214, 0.8799741864204407, 1.0209559202194214, 0.8799741864204407, 1.0209559202194214, 0.8799741864204407, 1.0209559202194214, 0.8799741864204407, 1.0209559202194214, 0.8799741864204407, 1.0209559202194214, 0.8799741864204407, 1.0209559202194214, 0.8799741864204407, 1.0209559202194214, 0.8799741864204407, 1.0209559202194214, 0.8799741864204407, 1.0209559202194214, 0.8799741864204407, 1.0209559202194214, 0.8799741864204407, 1.0209559202194214, 0.8799741864204407, 1.0209559202194214, 0.8799741864204407, 1.0209559202194214, 0.8799741864204407, 1.0209559202194214, 0.8799741864204407, 1.0209559202194214, 0.8799741864204407, 1.0209559202194214, 0.8799741864204407]\r\n",
        "Test loss: 1.0209559202194214\r\n",
        "Test accuracy: 87.99741864204407\r\n",
        "[[5188  913]\r\n",
        " [ 761 7085]]\r\n",
        "              precision    recall  f1-score   support\r\n",
        "\r\n",
        "           0       0.87      0.85      0.86      6101\r\n",
        "           1       0.89      0.90      0.89      7846\r\n",
        "\r\n",
        "    accuracy                           0.88     13947\r\n",
        "   macro avg       0.88      0.88      0.88     13947\r\n",
        "weighted avg       0.88      0.88      0.88     13947\r\n"
      ],
      "execution_count": null,
      "outputs": []
    },
    {
      "cell_type": "code",
      "metadata": {
        "id": "WCxDqWRPs3hi"
      },
      "source": [
        ""
      ],
      "execution_count": null,
      "outputs": []
    },
    {
      "cell_type": "code",
      "metadata": {
        "colab": {
          "base_uri": "https://localhost:8080/"
        },
        "id": "cEn9XDV3fkbS",
        "outputId": "14197df3-5ef5-42cd-caab-8d537976300f"
      },
      "source": [
        "from sklearn.metrics import confusion_matrix\r\n",
        "from sklearn.metrics import classification_report\r\n",
        "\r\n",
        "y_pred = model.predict([padded_test_sequences,padded_test_sequences, padded_test_sequences])\r\n",
        "\r\n",
        "print(confusion_matrix(y_test, np.argmax(y_pred, axis = 1)))"
      ],
      "execution_count": null,
      "outputs": [
        {
          "output_type": "stream",
          "text": [
            "[[14820  3520]\n",
            " [ 3983 19518]]\n"
          ],
          "name": "stdout"
        }
      ]
    },
    {
      "cell_type": "code",
      "metadata": {
        "colab": {
          "base_uri": "https://localhost:8080/"
        },
        "id": "FaZ566Ubg0Zh",
        "outputId": "3d2db394-d622-4fee-b453-612f427b9d7a"
      },
      "source": [
        "print(14820  + 3520)"
      ],
      "execution_count": null,
      "outputs": [
        {
          "output_type": "stream",
          "text": [
            "18340\n"
          ],
          "name": "stdout"
        }
      ]
    },
    {
      "cell_type": "code",
      "metadata": {
        "colab": {
          "base_uri": "https://localhost:8080/",
          "height": 370
        },
        "id": "3kGlcEITg8LN",
        "outputId": "6815521a-b5f3-4c88-f86f-4a56ac8f9fac"
      },
      "source": [
        "from collections import defaultdict\r\n",
        "\r\n",
        "from sklearn.feature_extraction.text import CountVectorizer\r\n",
        "\r\n",
        "from yellowbrick.text import FreqDistVisualizer\r\n",
        "#from yellowbrick.datasets import load_hobbies\r\n",
        "\r\n",
        "# Load the text data\r\n",
        "corpus = data\r\n",
        "\r\n",
        "# Create a dict to map target labels to documents of that category\r\n",
        "hobbies = defaultdict(list)\r\n",
        "for text, label in zip(data.full_text, data.label):\r\n",
        "    hobbies[label].append(text)\r\n",
        "\r\n",
        "vectorizer = CountVectorizer(stop_words='english')\r\n",
        "docs  = vectorizer.fit_transform(text for text in hobbies['gaming'])\r\n",
        "features  = vectorizer.get_feature_names()\r\n",
        "\r\n",
        "visualizer = FreqDistVisualizer(\r\n",
        "    features=features, size=(1080, 720)\r\n",
        ")\r\n",
        "visualizer.fit(docs)\r\n",
        "visualizer.show()"
      ],
      "execution_count": null,
      "outputs": [
        {
          "output_type": "error",
          "ename": "ValueError",
          "evalue": "ignored",
          "traceback": [
            "\u001b[0;31m---------------------------------------------------------------------------\u001b[0m",
            "\u001b[0;31mValueError\u001b[0m                                Traceback (most recent call last)",
            "\u001b[0;32m<ipython-input-16-a069437ed2f1>\u001b[0m in \u001b[0;36m<module>\u001b[0;34m()\u001b[0m\n\u001b[1;32m     15\u001b[0m \u001b[0;34m\u001b[0m\u001b[0m\n\u001b[1;32m     16\u001b[0m \u001b[0mvectorizer\u001b[0m \u001b[0;34m=\u001b[0m \u001b[0mCountVectorizer\u001b[0m\u001b[0;34m(\u001b[0m\u001b[0mstop_words\u001b[0m\u001b[0;34m=\u001b[0m\u001b[0;34m'english'\u001b[0m\u001b[0;34m)\u001b[0m\u001b[0;34m\u001b[0m\u001b[0;34m\u001b[0m\u001b[0m\n\u001b[0;32m---> 17\u001b[0;31m \u001b[0mdocs\u001b[0m  \u001b[0;34m=\u001b[0m \u001b[0mvectorizer\u001b[0m\u001b[0;34m.\u001b[0m\u001b[0mfit_transform\u001b[0m\u001b[0;34m(\u001b[0m\u001b[0mtext\u001b[0m \u001b[0;32mfor\u001b[0m \u001b[0mtext\u001b[0m \u001b[0;32min\u001b[0m \u001b[0mhobbies\u001b[0m\u001b[0;34m[\u001b[0m\u001b[0;34m'gaming'\u001b[0m\u001b[0;34m]\u001b[0m\u001b[0;34m)\u001b[0m\u001b[0;34m\u001b[0m\u001b[0;34m\u001b[0m\u001b[0m\n\u001b[0m\u001b[1;32m     18\u001b[0m \u001b[0mfeatures\u001b[0m  \u001b[0;34m=\u001b[0m \u001b[0mvectorizer\u001b[0m\u001b[0;34m.\u001b[0m\u001b[0mget_feature_names\u001b[0m\u001b[0;34m(\u001b[0m\u001b[0;34m)\u001b[0m\u001b[0;34m\u001b[0m\u001b[0;34m\u001b[0m\u001b[0m\n\u001b[1;32m     19\u001b[0m \u001b[0;34m\u001b[0m\u001b[0m\n",
            "\u001b[0;32m/usr/local/lib/python3.6/dist-packages/sklearn/feature_extraction/text.py\u001b[0m in \u001b[0;36mfit_transform\u001b[0;34m(self, raw_documents, y)\u001b[0m\n\u001b[1;32m   1218\u001b[0m \u001b[0;34m\u001b[0m\u001b[0m\n\u001b[1;32m   1219\u001b[0m         vocabulary, X = self._count_vocab(raw_documents,\n\u001b[0;32m-> 1220\u001b[0;31m                                           self.fixed_vocabulary_)\n\u001b[0m\u001b[1;32m   1221\u001b[0m \u001b[0;34m\u001b[0m\u001b[0m\n\u001b[1;32m   1222\u001b[0m         \u001b[0;32mif\u001b[0m \u001b[0mself\u001b[0m\u001b[0;34m.\u001b[0m\u001b[0mbinary\u001b[0m\u001b[0;34m:\u001b[0m\u001b[0;34m\u001b[0m\u001b[0;34m\u001b[0m\u001b[0m\n",
            "\u001b[0;32m/usr/local/lib/python3.6/dist-packages/sklearn/feature_extraction/text.py\u001b[0m in \u001b[0;36m_count_vocab\u001b[0;34m(self, raw_documents, fixed_vocab)\u001b[0m\n\u001b[1;32m   1148\u001b[0m             \u001b[0mvocabulary\u001b[0m \u001b[0;34m=\u001b[0m \u001b[0mdict\u001b[0m\u001b[0;34m(\u001b[0m\u001b[0mvocabulary\u001b[0m\u001b[0;34m)\u001b[0m\u001b[0;34m\u001b[0m\u001b[0;34m\u001b[0m\u001b[0m\n\u001b[1;32m   1149\u001b[0m             \u001b[0;32mif\u001b[0m \u001b[0;32mnot\u001b[0m \u001b[0mvocabulary\u001b[0m\u001b[0;34m:\u001b[0m\u001b[0;34m\u001b[0m\u001b[0;34m\u001b[0m\u001b[0m\n\u001b[0;32m-> 1150\u001b[0;31m                 raise ValueError(\"empty vocabulary; perhaps the documents only\"\n\u001b[0m\u001b[1;32m   1151\u001b[0m                                  \" contain stop words\")\n\u001b[1;32m   1152\u001b[0m \u001b[0;34m\u001b[0m\u001b[0m\n",
            "\u001b[0;31mValueError\u001b[0m: empty vocabulary; perhaps the documents only contain stop words"
          ]
        }
      ]
    },
    {
      "cell_type": "code",
      "metadata": {
        "id": "C1WSjYAPhKNF"
      },
      "source": [
        "def pipeline(learner_list, X_train, y_train, X_test, y_test): \r\n",
        "    '''\r\n",
        "    inputs:\r\n",
        "       - learner: the learning algorithm to be trained and predicted on\r\n",
        "       - X_train: features training set\r\n",
        "       - y_train: income training set\r\n",
        "       - X_test: features testing set\r\n",
        "       - y_test: income testing set\r\n",
        "    '''\r\n",
        "    \r\n",
        "    # Get length of Training Data:\r\n",
        "    size = len(y_train)\r\n",
        "    \r\n",
        "    results = {}\r\n",
        "    final_results = []\r\n",
        "    \r\n",
        "    for learner in learner_list:\r\n",
        "        \r\n",
        "        # Store the learner name:\r\n",
        "        results['Algorithm'] = learner.__class__.__name__\r\n",
        "\r\n",
        "        # Fit the learner:\r\n",
        "        start = time() # Get start time\r\n",
        "        print(\"Training {}\".format(learner.__class__.__name__))\r\n",
        "        learner = learner.fit(X_train, y_train)\r\n",
        "        end = time() # Get end time\r\n",
        "\r\n",
        "        # Store the training time\r\n",
        "        results['Training Time'] = end - start\r\n",
        "\r\n",
        "        start = time() # Get start time\r\n",
        "        predictions_test = learner.predict(X_test)\r\n",
        "        predictions_train = learner.predict(X_train)\r\n",
        "        end = time() # Get end time\r\n",
        "\r\n",
        "        # Store the prediction time\r\n",
        "        results['Prediction Time'] = end - start\r\n",
        "\r\n",
        "        # Compute the Accuracy on Test Set\r\n",
        "        results['Accuracy: Test'] = accuracy_score(y_test, predictions_test)\r\n",
        "        \r\n",
        "        # Compute the Accuracy on Training Set\r\n",
        "        results['Accuracy: Train'] = accuracy_score(y_train, predictions_train)\r\n",
        "\r\n",
        "        # Compute the F1 Score on Test Set\r\n",
        "        results['F1 Score: Test'] = f1_score(y_test, predictions_test)\r\n",
        "\r\n",
        "        # Compute the F1 Score on Training Set\r\n",
        "        results['F1 Score: Train'] = f1_score(y_train, predictions_train)\r\n",
        "\r\n",
        "        # Compute the Precision on Test Set\r\n",
        "        results['Precision: Test'] = precision_score(y_test, predictions_test)\r\n",
        "\r\n",
        "        # Compute the Precision on Training Set\r\n",
        "        results['Precision: Train'] = precision_score(y_train, predictions_train)\r\n",
        "\r\n",
        "        # Compute the Recall on Test Set\r\n",
        "        results['Recall: Test'] = recall_score(y_test, predictions_test)\r\n",
        "\r\n",
        "        # Compute the Recall on Training Set\r\n",
        "        results['Recall: Train'] = recall_score(y_train, predictions_train)\r\n",
        "\r\n",
        "        # Success\r\n",
        "        print(\"Training {} finished in {:.2f} sec\".format(learner.__class__.__name__, results['Training Time']))\r\n",
        "        print('----------------------------------------------------')\r\n",
        "        \r\n",
        "        final_results.append(results.copy())\r\n",
        "    # Return a dataframe of the results\r\n",
        "    return final_results"
      ],
      "execution_count": null,
      "outputs": []
    },
    {
      "cell_type": "code",
      "metadata": {
        "colab": {
          "base_uri": "https://localhost:8080/"
        },
        "id": "maVlDbsGvKmE",
        "outputId": "07e39b26-32e1-476a-bd4b-6d25e3e4b01d"
      },
      "source": [
        "# make a list of models\r\n",
        "models = [MultinomialNB(), DecisionTreeClassifier(), LinearSVC(), AdaBoostClassifier(), \r\n",
        "          RandomForestClassifier(), BaggingClassifier(),\r\n",
        "         LogisticRegression(), SGDClassifier(), KNeighborsClassifier(), ExtraTreesClassifier(), GradientBoostingClassifier()]\r\n",
        "\r\n",
        "\r\n",
        "re = pipeline(models, padded_train_sequences, y_train, padded_test_sequences, y_test)\r\n",
        "results = pd.DataFrame(re)\r\n",
        "results = results.reindex(columns = ['Algorithm', 'Accuracy: Test', 'Precision: Test', 'Recall: Test', 'F1 Score: Test', 'Prediction Time',\r\n",
        "                          'Accuracy: Train', 'Precision: Train', 'Recall: Train', 'F1 Score: Train', 'Training Time'])\r\n",
        "\r\n",
        "\r\n"
      ],
      "execution_count": null,
      "outputs": [
        {
          "output_type": "stream",
          "text": [
            "Training MultinomialNB\n",
            "Training MultinomialNB finished in 0.01 sec\n",
            "----------------------------------------------------\n",
            "Training DecisionTreeClassifier\n"
          ],
          "name": "stdout"
        },
        {
          "output_type": "stream",
          "text": [
            "/usr/local/lib/python3.6/dist-packages/sklearn/utils/validation.py:760: DataConversionWarning: A column-vector y was passed when a 1d array was expected. Please change the shape of y to (n_samples, ), for example using ravel().\n",
            "  y = column_or_1d(y, warn=True)\n"
          ],
          "name": "stderr"
        },
        {
          "output_type": "stream",
          "text": [
            "Training DecisionTreeClassifier finished in 15.72 sec\n",
            "----------------------------------------------------\n",
            "Training LinearSVC\n"
          ],
          "name": "stdout"
        },
        {
          "output_type": "stream",
          "text": [
            "/usr/local/lib/python3.6/dist-packages/sklearn/utils/validation.py:760: DataConversionWarning: A column-vector y was passed when a 1d array was expected. Please change the shape of y to (n_samples, ), for example using ravel().\n",
            "  y = column_or_1d(y, warn=True)\n",
            "/usr/local/lib/python3.6/dist-packages/sklearn/svm/_base.py:947: ConvergenceWarning: Liblinear failed to converge, increase the number of iterations.\n",
            "  \"the number of iterations.\", ConvergenceWarning)\n"
          ],
          "name": "stderr"
        },
        {
          "output_type": "stream",
          "text": [
            "Training LinearSVC finished in 2.89 sec\n",
            "----------------------------------------------------\n",
            "Training AdaBoostClassifier\n",
            "Training AdaBoostClassifier finished in 2.03 sec\n",
            "----------------------------------------------------\n",
            "Training RandomForestClassifier\n"
          ],
          "name": "stdout"
        },
        {
          "output_type": "stream",
          "text": [
            "/usr/local/lib/python3.6/dist-packages/ipykernel_launcher.py:25: DataConversionWarning: A column-vector y was passed when a 1d array was expected. Please change the shape of y to (n_samples,), for example using ravel().\n"
          ],
          "name": "stderr"
        },
        {
          "output_type": "stream",
          "text": [
            "Training RandomForestClassifier finished in 128.31 sec\n",
            "----------------------------------------------------\n",
            "Training BaggingClassifier\n"
          ],
          "name": "stdout"
        },
        {
          "output_type": "stream",
          "text": [
            "/usr/local/lib/python3.6/dist-packages/sklearn/ensemble/_bagging.py:645: DataConversionWarning: A column-vector y was passed when a 1d array was expected. Please change the shape of y to (n_samples, ), for example using ravel().\n",
            "  y = column_or_1d(y, warn=True)\n"
          ],
          "name": "stderr"
        },
        {
          "output_type": "stream",
          "text": [
            "Training BaggingClassifier finished in 107.87 sec\n",
            "----------------------------------------------------\n",
            "Training LogisticRegression\n"
          ],
          "name": "stdout"
        },
        {
          "output_type": "stream",
          "text": [
            "/usr/local/lib/python3.6/dist-packages/sklearn/utils/validation.py:760: DataConversionWarning: A column-vector y was passed when a 1d array was expected. Please change the shape of y to (n_samples, ), for example using ravel().\n",
            "  y = column_or_1d(y, warn=True)\n",
            "/usr/local/lib/python3.6/dist-packages/sklearn/linear_model/_logistic.py:940: ConvergenceWarning: lbfgs failed to converge (status=1):\n",
            "STOP: TOTAL NO. of ITERATIONS REACHED LIMIT.\n",
            "\n",
            "Increase the number of iterations (max_iter) or scale the data as shown in:\n",
            "    https://scikit-learn.org/stable/modules/preprocessing.html\n",
            "Please also refer to the documentation for alternative solver options:\n",
            "    https://scikit-learn.org/stable/modules/linear_model.html#logistic-regression\n",
            "  extra_warning_msg=_LOGISTIC_SOLVER_CONVERGENCE_MSG)\n",
            "/usr/local/lib/python3.6/dist-packages/sklearn/utils/validation.py:760: DataConversionWarning: A column-vector y was passed when a 1d array was expected. Please change the shape of y to (n_samples, ), for example using ravel().\n",
            "  y = column_or_1d(y, warn=True)\n"
          ],
          "name": "stderr"
        },
        {
          "output_type": "stream",
          "text": [
            "Training LogisticRegression finished in 2.51 sec\n",
            "----------------------------------------------------\n",
            "Training SGDClassifier\n",
            "Training SGDClassifier finished in 0.19 sec\n",
            "----------------------------------------------------\n",
            "Training KNeighborsClassifier\n"
          ],
          "name": "stdout"
        },
        {
          "output_type": "stream",
          "text": [
            "/usr/local/lib/python3.6/dist-packages/ipykernel_launcher.py:25: DataConversionWarning: A column-vector y was passed when a 1d array was expected. Please change the shape of y to (n_samples, ), for example using ravel().\n"
          ],
          "name": "stderr"
        },
        {
          "output_type": "stream",
          "text": [
            "Training KNeighborsClassifier finished in 0.01 sec\n",
            "----------------------------------------------------\n",
            "Training ExtraTreesClassifier\n"
          ],
          "name": "stdout"
        },
        {
          "output_type": "stream",
          "text": [
            "/usr/local/lib/python3.6/dist-packages/ipykernel_launcher.py:25: DataConversionWarning: A column-vector y was passed when a 1d array was expected. Please change the shape of y to (n_samples,), for example using ravel().\n"
          ],
          "name": "stderr"
        },
        {
          "output_type": "stream",
          "text": [
            "Training ExtraTreesClassifier finished in 197.45 sec\n",
            "----------------------------------------------------\n",
            "Training GradientBoostingClassifier\n"
          ],
          "name": "stdout"
        },
        {
          "output_type": "stream",
          "text": [
            "/usr/local/lib/python3.6/dist-packages/sklearn/ensemble/_gb.py:1454: DataConversionWarning: A column-vector y was passed when a 1d array was expected. Please change the shape of y to (n_samples, ), for example using ravel().\n",
            "  y = column_or_1d(y, warn=True)\n"
          ],
          "name": "stderr"
        },
        {
          "output_type": "stream",
          "text": [
            "Training GradientBoostingClassifier finished in 7.76 sec\n",
            "----------------------------------------------------\n"
          ],
          "name": "stdout"
        }
      ]
    },
    {
      "cell_type": "code",
      "metadata": {
        "colab": {
          "base_uri": "https://localhost:8080/",
          "height": 390
        },
        "id": "ZyzIESMA2i70",
        "outputId": "c37db7b0-f68b-4c1c-fcad-eab914fe45a6"
      },
      "source": [
        "\r\n",
        "results = results.reindex(columns = ['Algorithm', 'Accuracy: Test', 'Precision: Test', 'Recall: Test', 'F1 Score: Test', 'Prediction Time',\r\n",
        "                          'Accuracy: Train', 'Precision: Train', 'Recall: Train', 'F1 Score: Train', 'Training Time'])\r\n",
        "\r\n",
        "results.sort_values(by = 'Accuracy: Test', inplace = True, ascending = False)\r\n",
        "\r\n",
        "results.reset_index(drop = True)\r\n"
      ],
      "execution_count": null,
      "outputs": [
        {
          "output_type": "execute_result",
          "data": {
            "text/html": [
              "<div>\n",
              "<style scoped>\n",
              "    .dataframe tbody tr th:only-of-type {\n",
              "        vertical-align: middle;\n",
              "    }\n",
              "\n",
              "    .dataframe tbody tr th {\n",
              "        vertical-align: top;\n",
              "    }\n",
              "\n",
              "    .dataframe thead th {\n",
              "        text-align: right;\n",
              "    }\n",
              "</style>\n",
              "<table border=\"1\" class=\"dataframe\">\n",
              "  <thead>\n",
              "    <tr style=\"text-align: right;\">\n",
              "      <th></th>\n",
              "      <th>Algorithm</th>\n",
              "      <th>Accuracy: Test</th>\n",
              "      <th>Precision: Test</th>\n",
              "      <th>Recall: Test</th>\n",
              "      <th>F1 Score: Test</th>\n",
              "      <th>Prediction Time</th>\n",
              "      <th>Accuracy: Train</th>\n",
              "      <th>Precision: Train</th>\n",
              "      <th>Recall: Train</th>\n",
              "      <th>F1 Score: Train</th>\n",
              "      <th>Training Time</th>\n",
              "    </tr>\n",
              "  </thead>\n",
              "  <tbody>\n",
              "    <tr>\n",
              "      <th>0</th>\n",
              "      <td>ExtraTreesClassifier</td>\n",
              "      <td>0.894458</td>\n",
              "      <td>0.890049</td>\n",
              "      <td>0.926234</td>\n",
              "      <td>0.907781</td>\n",
              "      <td>11.289893</td>\n",
              "      <td>0.996511</td>\n",
              "      <td>0.996560</td>\n",
              "      <td>0.997238</td>\n",
              "      <td>0.996899</td>\n",
              "      <td>197.451664</td>\n",
              "    </tr>\n",
              "    <tr>\n",
              "      <th>1</th>\n",
              "      <td>RandomForestClassifier</td>\n",
              "      <td>0.887431</td>\n",
              "      <td>0.876083</td>\n",
              "      <td>0.930964</td>\n",
              "      <td>0.902690</td>\n",
              "      <td>8.354014</td>\n",
              "      <td>0.996511</td>\n",
              "      <td>0.996139</td>\n",
              "      <td>0.997663</td>\n",
              "      <td>0.996900</td>\n",
              "      <td>128.313214</td>\n",
              "    </tr>\n",
              "    <tr>\n",
              "      <th>2</th>\n",
              "      <td>LogisticRegression</td>\n",
              "      <td>0.886857</td>\n",
              "      <td>0.905034</td>\n",
              "      <td>0.891844</td>\n",
              "      <td>0.898390</td>\n",
              "      <td>0.004939</td>\n",
              "      <td>0.944910</td>\n",
              "      <td>0.958881</td>\n",
              "      <td>0.942459</td>\n",
              "      <td>0.950599</td>\n",
              "      <td>2.514970</td>\n",
              "    </tr>\n",
              "    <tr>\n",
              "      <th>3</th>\n",
              "      <td>BaggingClassifier</td>\n",
              "      <td>0.881265</td>\n",
              "      <td>0.875701</td>\n",
              "      <td>0.918691</td>\n",
              "      <td>0.896681</td>\n",
              "      <td>0.668664</td>\n",
              "      <td>0.987070</td>\n",
              "      <td>0.989899</td>\n",
              "      <td>0.987081</td>\n",
              "      <td>0.988488</td>\n",
              "      <td>107.867803</td>\n",
              "    </tr>\n",
              "    <tr>\n",
              "      <th>4</th>\n",
              "      <td>LinearSVC</td>\n",
              "      <td>0.880691</td>\n",
              "      <td>0.882010</td>\n",
              "      <td>0.908847</td>\n",
              "      <td>0.895227</td>\n",
              "      <td>0.003598</td>\n",
              "      <td>0.979589</td>\n",
              "      <td>0.983745</td>\n",
              "      <td>0.979899</td>\n",
              "      <td>0.981818</td>\n",
              "      <td>2.894645</td>\n",
              "    </tr>\n",
              "    <tr>\n",
              "      <th>5</th>\n",
              "      <td>SGDClassifier</td>\n",
              "      <td>0.880619</td>\n",
              "      <td>0.904480</td>\n",
              "      <td>0.880082</td>\n",
              "      <td>0.892114</td>\n",
              "      <td>0.002780</td>\n",
              "      <td>0.933271</td>\n",
              "      <td>0.952678</td>\n",
              "      <td>0.927415</td>\n",
              "      <td>0.939877</td>\n",
              "      <td>0.185338</td>\n",
              "    </tr>\n",
              "    <tr>\n",
              "      <th>6</th>\n",
              "      <td>DecisionTreeClassifier</td>\n",
              "      <td>0.877608</td>\n",
              "      <td>0.867886</td>\n",
              "      <td>0.922143</td>\n",
              "      <td>0.894192</td>\n",
              "      <td>0.076271</td>\n",
              "      <td>0.996511</td>\n",
              "      <td>0.996560</td>\n",
              "      <td>0.997238</td>\n",
              "      <td>0.996899</td>\n",
              "      <td>15.717125</td>\n",
              "    </tr>\n",
              "    <tr>\n",
              "      <th>7</th>\n",
              "      <td>MultinomialNB</td>\n",
              "      <td>0.825554</td>\n",
              "      <td>0.824131</td>\n",
              "      <td>0.875863</td>\n",
              "      <td>0.849210</td>\n",
              "      <td>0.006705</td>\n",
              "      <td>0.888005</td>\n",
              "      <td>0.892392</td>\n",
              "      <td>0.910671</td>\n",
              "      <td>0.901439</td>\n",
              "      <td>0.014950</td>\n",
              "    </tr>\n",
              "    <tr>\n",
              "      <th>8</th>\n",
              "      <td>AdaBoostClassifier</td>\n",
              "      <td>0.823905</td>\n",
              "      <td>0.927093</td>\n",
              "      <td>0.744567</td>\n",
              "      <td>0.825865</td>\n",
              "      <td>0.526008</td>\n",
              "      <td>0.823068</td>\n",
              "      <td>0.926802</td>\n",
              "      <td>0.744167</td>\n",
              "      <td>0.825504</td>\n",
              "      <td>2.031092</td>\n",
              "    </tr>\n",
              "    <tr>\n",
              "      <th>9</th>\n",
              "      <td>GradientBoostingClassifier</td>\n",
              "      <td>0.821969</td>\n",
              "      <td>0.924741</td>\n",
              "      <td>0.743032</td>\n",
              "      <td>0.823988</td>\n",
              "      <td>0.080037</td>\n",
              "      <td>0.825554</td>\n",
              "      <td>0.928511</td>\n",
              "      <td>0.747355</td>\n",
              "      <td>0.828142</td>\n",
              "      <td>7.757308</td>\n",
              "    </tr>\n",
              "    <tr>\n",
              "      <th>10</th>\n",
              "      <td>KNeighborsClassifier</td>\n",
              "      <td>0.753065</td>\n",
              "      <td>0.822481</td>\n",
              "      <td>0.713756</td>\n",
              "      <td>0.764271</td>\n",
              "      <td>43.173280</td>\n",
              "      <td>0.817500</td>\n",
              "      <td>0.871535</td>\n",
              "      <td>0.792274</td>\n",
              "      <td>0.830016</td>\n",
              "      <td>0.005148</td>\n",
              "    </tr>\n",
              "  </tbody>\n",
              "</table>\n",
              "</div>"
            ],
            "text/plain": [
              "                     Algorithm  Accuracy: Test  ...  F1 Score: Train  Training Time\n",
              "0         ExtraTreesClassifier        0.894458  ...         0.996899     197.451664\n",
              "1       RandomForestClassifier        0.887431  ...         0.996900     128.313214\n",
              "2           LogisticRegression        0.886857  ...         0.950599       2.514970\n",
              "3            BaggingClassifier        0.881265  ...         0.988488     107.867803\n",
              "4                    LinearSVC        0.880691  ...         0.981818       2.894645\n",
              "5                SGDClassifier        0.880619  ...         0.939877       0.185338\n",
              "6       DecisionTreeClassifier        0.877608  ...         0.996899      15.717125\n",
              "7                MultinomialNB        0.825554  ...         0.901439       0.014950\n",
              "8           AdaBoostClassifier        0.823905  ...         0.825504       2.031092\n",
              "9   GradientBoostingClassifier        0.821969  ...         0.828142       7.757308\n",
              "10        KNeighborsClassifier        0.753065  ...         0.830016       0.005148\n",
              "\n",
              "[11 rows x 11 columns]"
            ]
          },
          "metadata": {
            "tags": []
          },
          "execution_count": 21
        }
      ]
    }
  ]
}